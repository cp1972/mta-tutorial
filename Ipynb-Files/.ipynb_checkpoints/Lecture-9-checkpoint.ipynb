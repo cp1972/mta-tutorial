{
 "cells": [
  {
   "cell_type": "markdown",
   "metadata": {
    "extensions": {
     "jupyter_dashboards": {
      "activeView": "grid_default",
      "views": {
       "grid_default": {
        "col": null,
        "height": 2,
        "hidden": true,
        "row": null,
        "width": 2
       }
      }
     }
    },
    "tags": []
   },
   "source": [
    "## Dashboards\n",
    "\n",
    "In our previous lecture (lecture 8), we have seen how to add some interactivity to your table and your plots. Now, imagine that you are working on your project, and that you already have some preliminary results that you want to share with a team of colleagues working on the same project, or with an institution/an organisation supporting your project, or even to address non-technical readers. For this, you can use a simple dashboard in which you sum up the essential results of your preliminary work. \n",
    "\n",
    "In order to deploy such a dashboard, you will need to install the following utilities: \n",
    "\n",
    "  1. a jupyter lab server, which is serving notebooks (like this one) on your own workspace: "
   ]
  },
  {
   "cell_type": "code",
   "execution_count": 1,
   "metadata": {
    "extensions": {
     "jupyter_dashboards": {
      "activeView": "grid_default",
      "views": {
       "grid_default": {
        "col": null,
        "height": 2,
        "hidden": true,
        "row": null,
        "width": 2
       }
      }
     }
    }
   },
   "outputs": [],
   "source": [
    "#pip3 install jupyterlab"
   ]
  },
  {
   "cell_type": "markdown",
   "metadata": {
    "extensions": {
     "jupyter_dashboards": {
      "activeView": "grid_default",
      "views": {
       "grid_default": {
        "col": null,
        "height": 2,
        "hidden": true,
        "row": null,
        "width": 2
       }
      }
     }
    }
   },
   "source": [
    "  2. an application for your dashboard -- in this example, we are using the simple _voila_ dashboard utility because it is simple to setup and it offers basic dashboard functionalities:"
   ]
  },
  {
   "cell_type": "code",
   "execution_count": 2,
   "metadata": {
    "extensions": {
     "jupyter_dashboards": {
      "activeView": "grid_default",
      "views": {
       "grid_default": {
        "col": null,
        "height": 2,
        "hidden": true,
        "row": null,
        "width": 2
       }
      }
     }
    }
   },
   "outputs": [],
   "source": [
    "#pip3 install voila"
   ]
  },
  {
   "cell_type": "markdown",
   "metadata": {
    "extensions": {
     "jupyter_dashboards": {
      "activeView": "grid_default",
      "views": {
       "grid_default": {
        "col": null,
        "height": 2,
        "hidden": true,
        "row": null,
        "width": 2
       }
      }
     }
    }
   },
   "source": [
    "  3. in order to have a better layout for our voila-dashboard, we install also the gridstack and the voila-vuetify templates like this:"
   ]
  },
  {
   "cell_type": "code",
   "execution_count": 3,
   "metadata": {
    "extensions": {
     "jupyter_dashboards": {
      "activeView": "grid_default",
      "views": {
       "grid_default": {
        "col": null,
        "height": 2,
        "hidden": true,
        "row": null,
        "width": 2
       }
      }
     }
    }
   },
   "outputs": [],
   "source": [
    "#pip3 install voila-gridstack voila-vuetify"
   ]
  },
  {
   "cell_type": "markdown",
   "metadata": {
    "extensions": {
     "jupyter_dashboards": {
      "activeView": "grid_default",
      "views": {
       "grid_default": {
        "col": null,
        "height": 2,
        "hidden": true,
        "row": null,
        "width": 2
       }
      }
     }
    }
   },
   "source": [
    "  4. finally, to enable conversions of your dashboard into other formats (like PDF f.ex.), you can also install the nbconvert utility like this: "
   ]
  },
  {
   "cell_type": "code",
   "execution_count": 4,
   "metadata": {
    "extensions": {
     "jupyter_dashboards": {
      "activeView": "grid_default",
      "views": {
       "grid_default": {
        "col": null,
        "height": 2,
        "hidden": true,
        "row": null,
        "width": 2
       }
      }
     }
    }
   },
   "outputs": [],
   "source": [
    "#pip3 install nbconvert"
   ]
  },
  {
   "cell_type": "markdown",
   "metadata": {
    "extensions": {
     "jupyter_dashboards": {
      "activeView": "grid_default",
      "views": {
       "grid_default": {
        "col": null,
        "height": 2,
        "hidden": true,
        "row": null,
        "width": 2
       }
      }
     }
    }
   },
   "source": [
    "  5. troubleshooting possible old packages -- as _voila_ develop at quick pace, it is possible that you encounter errors by installing it, coming from dependencies that are too old. In order to update voila and its dependencies, you can run the following: "
   ]
  },
  {
   "cell_type": "code",
   "execution_count": 5,
   "metadata": {
    "extensions": {
     "jupyter_dashboards": {
      "activeView": "grid_default",
      "views": {
       "grid_default": {
        "col": null,
        "height": 2,
        "hidden": true,
        "row": null,
        "width": 2
       }
      }
     }
    }
   },
   "outputs": [],
   "source": [
    "#pip3 install jupyter-book myst-nb nbclient voila nbinteract nbformat --upgrade"
   ]
  },
  {
   "cell_type": "markdown",
   "metadata": {
    "extensions": {
     "jupyter_dashboards": {
      "activeView": "grid_default",
      "views": {
       "grid_default": {
        "col": null,
        "height": 2,
        "hidden": true,
        "row": null,
        "width": 2
       }
      }
     }
    }
   },
   "source": [
    "Now, you can run jupyter lab as a standalone server on your computer by typing:"
   ]
  },
  {
   "cell_type": "code",
   "execution_count": 6,
   "metadata": {
    "extensions": {
     "jupyter_dashboards": {
      "activeView": "grid_default",
      "views": {
       "grid_default": {
        "col": null,
        "height": 2,
        "hidden": true,
        "row": null,
        "width": 2
       }
      }
     }
    }
   },
   "outputs": [],
   "source": [
    "#jupyter lab"
   ]
  },
  {
   "cell_type": "markdown",
   "metadata": {
    "extensions": {
     "jupyter_dashboards": {
      "activeView": "grid_default",
      "views": {
       "grid_default": {
        "col": null,
        "height": 2,
        "hidden": true,
        "row": null,
        "width": 2
       }
      }
     }
    }
   },
   "source": [
    "in a terminal or a windows cmd window. Your Internet-browser will be opened at the start page of jupyter lab, and you will have the possibility to create an ipynb notebook file which will be your dashboard. Let us create an example dashboard from the data that we have used in our lecture 8: \n",
    "\n",
    "  1. go to 'File', 'New' and select 'Notebook'\n",
    "  2. at the pop-up window, be sure to select python3\n",
    "  3. an 'Untitled.ipynb' notebook file is created -- in our example, we rename it to 'Dash9.ipynb'. \n",
    "  \n",
    "While opening your new notebook in jupyter lab, you will see a taskbar with on the left an icon to save your work, then a plus isgn, etc., and on the extreme right of the taskbar a square icon with darkgrey squares in it -- this is the gridstack editor which we will use to create our dashboard. You can click on it in your notebook, and we will place some of the information taken from our lecture 8 in order to construct our dashboard (see our example 'Dash9.ipynb')."
   ]
  },
  {
   "cell_type": "markdown",
   "metadata": {
    "extensions": {
     "jupyter_dashboards": {
      "activeView": "grid_default",
      "views": {
       "grid_default": {
        "col": null,
        "height": 2,
        "hidden": true,
        "row": null,
        "width": 2
       }
      }
     }
    }
   },
   "source": [
    "### First import the libraries\n",
    "\n",
    "First, we import into our dashboard the libraries that we need to construct our tables and plots. We import the libraries for the static plots and tables, and also the one needed to implement some interactivity. In 'Dash9.ipynb', we make two cells in order to render the differences between these libraries, but you could paste them into one cell, too. \n",
    "\n",
    "The second step is to customize our file 'Dominant_Topics_ENG_2.csv', in order to have a table with more explicit content and appropriate sort keys. Run all cells in your notebook in order to be sure that you have the appropriate table. Now, we have everything needed to make our dashboard."
   ]
  },
  {
   "cell_type": "markdown",
   "metadata": {
    "extensions": {
     "jupyter_dashboards": {
      "activeView": "grid_default",
      "views": {
       "grid_default": {
        "col": null,
        "height": 2,
        "hidden": true,
        "row": null,
        "width": 2
       }
      }
     }
    }
   },
   "source": [
    "### Table -- Show your dataframe\n",
    "\n",
    "The first element we would like to show in our dashboard is our dataframe, and we would like to enable the audience to sort it by the value of the topics. In our lecture 8, we have some code for that presentation, so let us take it into our dashboard. This were the following lines of code: "
   ]
  },
  {
   "cell_type": "code",
   "execution_count": 7,
   "metadata": {
    "extensions": {
     "jupyter_dashboards": {
      "activeView": "grid_default",
      "views": {
       "grid_default": {
        "col": null,
        "height": 2,
        "hidden": true,
        "row": null,
        "width": 2
       }
      }
     }
    }
   },
   "outputs": [],
   "source": [
    "# Widget to filter table by topic value\n",
    "#@interact\n",
    "#def show_articles(column=['Topic_0', 'Topic_1', 'Topic_2', 'Topic_3', 'Topic_4'], value=(0, 1, 0.05)):\n",
    "#    return df_eng.loc[df_eng[column] > value]"
   ]
  },
  {
   "cell_type": "markdown",
   "metadata": {
    "extensions": {
     "jupyter_dashboards": {
      "activeView": "grid_default",
      "views": {
       "grid_default": {
        "col": null,
        "height": 2,
        "hidden": true,
        "row": null,
        "width": 2
       }
      }
     }
    }
   },
   "source": [
    "Let us paste them into our 'Dash9.ipynb' file -- take the cell with the mouse, and drag-drop it to the gridstack editor. Write a title in another (Markdown) cell, and paste it above your table. Now you see a title and after that, your table with the interactive properties that we have coded in our lecture 8. You as well as the audience using your dashboard will be able to change the topic or / and the value of them to filter your dataset. Let us do the same with a plot. "
   ]
  },
  {
   "cell_type": "markdown",
   "metadata": {
    "extensions": {
     "jupyter_dashboards": {
      "activeView": "grid_default",
      "views": {
       "grid_default": {
        "col": null,
        "height": 2,
        "hidden": true,
        "row": null,
        "width": 2
       }
      }
     }
    }
   },
   "source": [
    "### Plot -- Show first results\n",
    "\n",
    "We want to show a plot in which the values are aggregated, letting the audience see the multiple factors of our dataset, and letting it interact with them. For this, we use the code or our cell 11 in our lecture 8, to which we add the following line from our cell 10 in order to display the years correctly, and we add it just after the call to the plotly express library (see our file 'Dash9.ipynb'):"
   ]
  },
  {
   "cell_type": "code",
   "execution_count": 8,
   "metadata": {
    "extensions": {
     "jupyter_dashboards": {
      "activeView": "grid_default",
      "views": {
       "grid_default": {
        "col": null,
        "height": 2,
        "hidden": true,
        "row": null,
        "width": 2
       }
      }
     }
    }
   },
   "outputs": [],
   "source": [
    "#df_eng2[\"Year\"] = df_eng2[\"Year\"].astype(int)"
   ]
  },
  {
   "cell_type": "markdown",
   "metadata": {
    "extensions": {
     "jupyter_dashboards": {
      "activeView": "grid_default",
      "views": {
       "grid_default": {
        "col": null,
        "height": 2,
        "hidden": true,
        "row": null,
        "width": 2
       }
      }
     }
    }
   },
   "source": [
    "We now can drag and drop this cell to our dashboard. We first write a title for this plot in a cell, drag-drop this title to the dashboard, then drag-drop the cell with the code of our plot. "
   ]
  },
  {
   "cell_type": "markdown",
   "metadata": {},
   "source": [
    "### Troubles with voila and gridstack\n",
    "\n",
    "Depending on the version of the widgets, you can quickly get into troubles using the voila gridstack template, f.ex. at the time of writing, plotly plots won't be shown at all in the dashboard. A workaround is to use the voila rendering without the gridstack template, by clicking on the blue-yellow circle icon which is the on the right of the drop-down menu where you can select the formatting of your cells (Markdown, Code or Raw). "
   ]
  },
  {
   "cell_type": "markdown",
   "metadata": {},
   "source": [
    "### Web-app\n",
    "\n",
    "Another solution to avoid hunting bugs in the interplay between jupyter lab, the voila application and the widgets and jupyter extensions, you simply could use a free public service like f.ex. mybinder.org which target the notebook in which you have written your presentation.\n",
    "\n",
    "For that, you first need to edit a file called 'requirements.txt' -- you can find mine in this repository. In this file, you have to list down all the libraries that your notebook is needed in order to be properly reconstructed by binder. If you look at mine, I have the name of the library, two equal signs, and finally the version of my library. In order to find your installed libraries in python with the version number, you can type in a terminal window (cmd window in windows) the following: "
   ]
  },
  {
   "cell_type": "code",
   "execution_count": 9,
   "metadata": {},
   "outputs": [],
   "source": [
    "#pip3 list"
   ]
  },
  {
   "cell_type": "markdown",
   "metadata": {},
   "source": [
    "This code output all packages installed in your python with their version number. You have to read the list and pick up the libraries and its version numbers corresponding to the ones which you are using in your dashboard.\n",
    "\n",
    "Another requirement is to have a github, a gitlab or another account in relation to mybinder in order for binder to scan the files in this account -- or optionally one of the file (your dashboard in our example) in this account. Then, you just have to make your account 'public' (and not 'private'), for example just for the time you want to share your dashboard, making it 'private' again after this time.\n",
    "\n",
    "Having all these elements, you can go to mybinder.org, input the path to your online account and give the name of your dashboard, and it will be published online, for other people to see what you have achieved. You will be given an URL of your dashboard online that you can distribute to others.\n",
    "\n",
    "Such web-apps are also an interesting way to turn your dashboard into a presentation, f.ex. if you have to give a talk at a conference and don't want to carry everything with you. \n",
    "\n",
    "#### Web-app -- Streamlit as alternative to voila\n",
    "\n",
    "Another interesting way to build a Web-app is to use the python library streamlit. You can install this library -- here for python3 -- using the following command:"
   ]
  },
  {
   "cell_type": "code",
   "execution_count": null,
   "metadata": {},
   "outputs": [],
   "source": [
    "#pip3 install streamlit"
   ]
  },
  {
   "cell_type": "markdown",
   "metadata": {},
   "source": [
    "Streamlit is an easy way to display nice boards at low cost as an application. I have saved my demos of a streamlit basic app (capp.py) and a streamlit multipage app (mcapp.py) with comments in order for you to understand the basics -- how to layout your app, and how to display several elements such as the table of your data, different graphical representation of the data as well as some comments (all in German -- don't be afraid, I shall translate the content of the app for you in our course). \n",
    "\n",
    "Combine with the cloud service of streamlit and your own github repository, you can link streamlit to your repository in order to publish your app (even if your repository on github is a private one) to the world. You will get an Internet link that you can distribute to others in order to show your first results. Don't forget the requirements text file that streamlit needs in order to build your container with your app -- this is exactly the same file that you need for binder, so you don't have to write several files for your app if you just want to publish a voila notebook on mybinder or if you want to publish a streamlit app. \n",
    "\n",
    "Streamlit has a lot of possibilities, from single page apps to multipage apps, and it can be used not only for apps, but also f.ex. to turn tutorials into apps and distribute them on the streamlit cloud. It could be a good replacement for notebooks for example, adding interactivity to your projects. \n",
    "\n",
    "To run one of the two apps with streamlit on your computer, just type the following in a terminal window on the command line:"
   ]
  },
  {
   "cell_type": "code",
   "execution_count": null,
   "metadata": {},
   "outputs": [],
   "source": [
    "#streamlit run capp.py"
   ]
  },
  {
   "cell_type": "markdown",
   "metadata": {},
   "source": [
    "capp.py will be opened in your favorite browser and you can see the result of this tiny demo as it were online.\n",
    "\n",
    "**Your turn***: if you run capp.py, you will see a problem -- what is the problem in question and how would you solve it?"
   ]
  },
  {
   "cell_type": "markdown",
   "metadata": {},
   "source": [
    "## Network of topics\n",
    "\n",
    "To make a useful presentation of your topic analysis, you can also opt for a network graph, introducing to the relationships between your topics and your case. Let us come back to our data 'Dominant_Topics_ENG_2.csv', and to our table in the form of a pandas dataframe 'df_eng2'."
   ]
  },
  {
   "cell_type": "code",
   "execution_count": 37,
   "metadata": {},
   "outputs": [
    {
     "data": {
      "text/html": [
       "<div>\n",
       "<style scoped>\n",
       "    .dataframe tbody tr th:only-of-type {\n",
       "        vertical-align: middle;\n",
       "    }\n",
       "\n",
       "    .dataframe tbody tr th {\n",
       "        vertical-align: top;\n",
       "    }\n",
       "\n",
       "    .dataframe thead th {\n",
       "        text-align: right;\n",
       "    }\n",
       "</style>\n",
       "<table border=\"1\" class=\"dataframe\">\n",
       "  <thead>\n",
       "    <tr style=\"text-align: right;\">\n",
       "      <th></th>\n",
       "      <th>Articles</th>\n",
       "      <th>Topic_0</th>\n",
       "      <th>Topic_1</th>\n",
       "      <th>Topic_2</th>\n",
       "      <th>Topic_3</th>\n",
       "      <th>Topic_4</th>\n",
       "      <th>Year</th>\n",
       "      <th>Newspaper</th>\n",
       "    </tr>\n",
       "  </thead>\n",
       "  <tbody>\n",
       "    <tr>\n",
       "      <th>0</th>\n",
       "      <td>2002-03-1-MajAustr-1-67-61.txt</td>\n",
       "      <td>0.734406</td>\n",
       "      <td>0.031050</td>\n",
       "      <td>0.052941</td>\n",
       "      <td>0.121928</td>\n",
       "      <td>0.059674</td>\n",
       "      <td>2002</td>\n",
       "      <td>ajA</td>\n",
       "    </tr>\n",
       "    <tr>\n",
       "      <th>76</th>\n",
       "      <td>2003-07-01-NYTimes-1-7-4.txt</td>\n",
       "      <td>0.759704</td>\n",
       "      <td>0.001919</td>\n",
       "      <td>0.067554</td>\n",
       "      <td>0.170823</td>\n",
       "      <td>0.000000</td>\n",
       "      <td>2003</td>\n",
       "      <td>NYT</td>\n",
       "    </tr>\n",
       "    <tr>\n",
       "      <th>75</th>\n",
       "      <td>2004-03-15-MajAustr-1-67-30.txt</td>\n",
       "      <td>0.749237</td>\n",
       "      <td>0.000306</td>\n",
       "      <td>0.125060</td>\n",
       "      <td>0.091593</td>\n",
       "      <td>0.033804</td>\n",
       "      <td>2004</td>\n",
       "      <td>Maj</td>\n",
       "    </tr>\n",
       "    <tr>\n",
       "      <th>74</th>\n",
       "      <td>2004-10-11-TorontoS-1-5-3.txt</td>\n",
       "      <td>0.652717</td>\n",
       "      <td>0.105692</td>\n",
       "      <td>0.149433</td>\n",
       "      <td>0.092158</td>\n",
       "      <td>0.000000</td>\n",
       "      <td>2004</td>\n",
       "      <td>Tor</td>\n",
       "    </tr>\n",
       "    <tr>\n",
       "      <th>73</th>\n",
       "      <td>2004-12-22-Independent-1-9-5.txt</td>\n",
       "      <td>0.344901</td>\n",
       "      <td>0.118249</td>\n",
       "      <td>0.104265</td>\n",
       "      <td>0.128737</td>\n",
       "      <td>0.303847</td>\n",
       "      <td>2004</td>\n",
       "      <td>Ind</td>\n",
       "    </tr>\n",
       "  </tbody>\n",
       "</table>\n",
       "</div>"
      ],
      "text/plain": [
       "                            Articles   Topic_0   Topic_1   Topic_2   Topic_3  \\\n",
       "0     2002-03-1-MajAustr-1-67-61.txt  0.734406  0.031050  0.052941  0.121928   \n",
       "76      2003-07-01-NYTimes-1-7-4.txt  0.759704  0.001919  0.067554  0.170823   \n",
       "75   2004-03-15-MajAustr-1-67-30.txt  0.749237  0.000306  0.125060  0.091593   \n",
       "74     2004-10-11-TorontoS-1-5-3.txt  0.652717  0.105692  0.149433  0.092158   \n",
       "73  2004-12-22-Independent-1-9-5.txt  0.344901  0.118249  0.104265  0.128737   \n",
       "\n",
       "     Topic_4  Year Newspaper  \n",
       "0   0.059674  2002       ajA  \n",
       "76  0.000000  2003       NYT  \n",
       "75  0.033804  2004       Maj  \n",
       "74  0.000000  2004       Tor  \n",
       "73  0.303847  2004       Ind  "
      ]
     },
     "execution_count": 37,
     "metadata": {},
     "output_type": "execute_result"
    }
   ],
   "source": [
    "from matplotlib import pyplot as plt\n",
    "plt.rcParams[\"figure.figsize\"] = [10, 6]\n",
    "# Set up with a higher resolution screen (useful on Mac)\n",
    "%config InlineBackend.figure_format = 'retina'\n",
    "import pandas as pd\n",
    "df_eng = pd.read_csv('Dominant_Topics_ENG_2.csv')\n",
    "# First step -- rename columns\n",
    "df_eng.rename(columns={ df_eng.columns[0]: \"Articles\" }, inplace = True)\n",
    "df_eng.rename(columns={ df_eng.columns[1]: \"Topic_0\" }, inplace = True)\n",
    "df_eng.rename(columns={ df_eng.columns[2]: \"Topic_1\" }, inplace = True)\n",
    "df_eng.rename(columns={ df_eng.columns[3]: \"Topic_2\" }, inplace = True)\n",
    "df_eng.rename(columns={ df_eng.columns[4]: \"Topic_3\" }, inplace = True)\n",
    "df_eng.rename(columns={ df_eng.columns[5]: \"Topic_4\" }, inplace = True)\n",
    "# Second step -- drop the column of the dominant topics\n",
    "df_eng.drop('Dominant_Topic_NMF', axis=1, inplace=True)\n",
    "# Third step -- create separate columns for title of newspapers and year of publication\n",
    "df_eng['Year'] = df_eng['Articles']\n",
    "df_eng['Newspaper'] = df_eng['Articles']\n",
    "# Fourth step -- set years of publication as int variables\n",
    "df_eng['Year']= df_eng['Year'].map(lambda x: str(x)[0:4])\n",
    "df_eng['Year'].astype(int)\n",
    "# Fifth step -- shorten the newspapers' names in the newspaper column\n",
    "df_eng['Newspaper']= df_eng['Newspaper'].map(lambda x: str(x)[11:14])\n",
    "# Sixth step -- sort years \n",
    "df_eng2 = df_eng.sort_values(by='Year',ascending=True)\n",
    "# Display our reworked table\n",
    "df_eng2.head()"
   ]
  },
  {
   "cell_type": "markdown",
   "metadata": {},
   "source": [
    "We can take this data as a base for our network graph. A network graph is basically a graph of the relationships (or edges) between entities (or nodes). In our example, we want to understand the relationships between: \n",
    "\n",
    "  1. newspapers' articles and topics\n",
    "  3. newspapers' articles\n",
    "  \n",
    "We can then rework our 'df_eng2' data in order to get the needed data for the network graph, and because we shall use two software in order to plot our data, we will create files that we can use with both of them. Let us first tailor our 'df_eng2' data with the needed information for our network graph. Here, we will: \n",
    "\n",
    "  1. fusion our columns 'Newspaper' and 'Year' into a new column 'News' to have short names of cases \n",
    "  2. drop the columns 'Year' and 'Newspaper' that we added in the frame of our lecture 8, in order to have more keys to sort our data\n",
    "  3. drop the column 'Articles' which will be replaced by the column 'News'\n",
    "  4. shift the column 'News' to the first column\n",
    "  5. save the result to a . csv file (here a file called 'gephi-data.csv', because we will use it with the gephi software afterwards)"
   ]
  },
  {
   "cell_type": "code",
   "execution_count": 38,
   "metadata": {},
   "outputs": [],
   "source": [
    "df_eng2[\"News\"] = df_eng2[\"Year\"].astype(str) + '-' + df_eng2[\"Newspaper\"]\n",
    "df_eng2 = df_eng2.drop('Articles', 1)\n",
    "df_eng2 = df_eng2.drop('Year', 1)\n",
    "df_eng2 = df_eng2.drop('Newspaper', 1)\n",
    "first_column = df_eng2.pop('News')\n",
    "df_eng2.insert(0, 'News', first_column)\n",
    "df_eng2.head()\n",
    "df_eng2.to_csv('gephi-data.csv', index=False)"
   ]
  },
  {
   "cell_type": "markdown",
   "metadata": {},
   "source": [
    "### Parsing the 'gephi-data.csv' file\n",
    "\n",
    "We parse the 'gephi-data.csv' file in order to get a file that our networking graph application can read. We are using first low-level programming tools in order to extract every relationships in our 'gephi-data.csv' file and to put them comma separated on one line. \n",
    "\n",
    "We then use a python script to save in the file 'texttopic.txt' the relationships between texts in the 'News' column and the topics.\n",
    "\n",
    "Finally, we use low-level programming tools to make out of texttopic.txt an edge file, as well as a node file. Let us go to the code and explain it."
   ]
  },
  {
   "cell_type": "code",
   "execution_count": 41,
   "metadata": {},
   "outputs": [
    {
     "name": "stdout",
     "output_type": "stream",
     "text": [
      "2002-ajA,Topic_0,0.7344061409198571\n",
      "2002-ajA,Topic_1,0.03105022279223588\n",
      "2002-ajA,Topic_2,0.05294135142493017\n",
      "2002-ajA,Topic_3,0.12192783896948806\n",
      "2002-ajA,Topic_4,0.059674445893488824\n",
      "2003-NYT,Topic_0,0.7597036666329167\n",
      "2003-NYT,Topic_1,0.0019191491553409992\n",
      "2003-NYT,Topic_2,0.0675543861992488\n",
      "2003-NYT,Topic_3,0.1708227980124935\n",
      "2003-NYT,Topic_4,0.0\n",
      "2004-Maj,Topic_0,0.7492368149093654\n",
      "2004-Maj,Topic_1,0.00030562822033936097\n",
      "2004-Maj,Topic_2,0.12505992431114354\n",
      "2004-Maj,Topic_3,0.09159313365130108\n",
      "2004-Maj,Topic_4,0.03380449890785056\n",
      "2004-Tor,Topic_0,0.6527171523621804\n",
      "2004-Tor,Topic_1,0.10569243204891517\n",
      "2004-Tor,Topic_2,0.14943266573121586\n",
      "2004-Tor,Topic_3,0.09215774985768864\n",
      "2004-Tor,Topic_4,0.0\n",
      "2004-Ind,Topic_0,0.34490149872463755\n",
      "2004-Ind,Topic_1,0.1182492384763448\n",
      "2004-Ind,Topic_2,0.10426520037227748\n",
      "2004-Ind,Topic_3,0.12873697750721125\n",
      "2004-Ind,Topic_4,0.3038470849195289\n",
      "2005-Ind,Topic_0,0.0\n",
      "2005-Ind,Topic_1,0.01889579651163253\n",
      "2005-Ind,Topic_2,0.9811042034883676\n",
      "2005-Ind,Topic_3,0.0\n",
      "2005-Ind,Topic_4,0.0\n",
      "2005-Tor,Topic_0,0.9008021778597286\n",
      "2005-Tor,Topic_1,0.0057570007156965705\n",
      "2005-Tor,Topic_2,0.03747730429906946\n",
      "2005-Tor,Topic_3,0.01744095027428771\n",
      "2005-Tor,Topic_4,0.03852256685121764\n",
      "2006-ajA,Topic_0,0.899488597435661\n",
      "2006-ajA,Topic_1,0.02320809280545096\n",
      "2006-ajA,Topic_2,0.0\n",
      "2006-ajA,Topic_3,0.07730330975888805\n",
      "2006-ajA,Topic_4,0.0\n",
      "2006-Maj,Topic_0,1.0\n",
      "2006-Maj,Topic_1,0.0\n",
      "2006-Maj,Topic_2,0.0\n",
      "2006-Maj,Topic_3,0.0\n",
      "2006-Maj,Topic_4,0.0\n",
      "2006-Maj,Topic_0,0.9996504027463158\n",
      "2006-Maj,Topic_1,0.0\n",
      "2006-Maj,Topic_2,0.0003495972536842358\n",
      "2006-Maj,Topic_3,0.0\n",
      "2006-Maj,Topic_4,0.0\n",
      "2006-Tim,Topic_0,1.0\n",
      "2006-Tim,Topic_1,0.0\n",
      "2006-Tim,Topic_2,0.0\n",
      "2006-Tim,Topic_3,0.0\n",
      "2006-Tim,Topic_4,0.0\n",
      "2007-Maj,Topic_0,0.9738614587047658\n",
      "2007-Maj,Topic_1,0.0\n",
      "2007-Maj,Topic_2,0.0\n",
      "2007-Maj,Topic_3,0.0\n",
      "2007-Maj,Topic_4,0.026138541295234168\n",
      "2007-Maj,Topic_0,0.10629255975187656\n",
      "2007-Maj,Topic_1,0.4087312424393585\n",
      "2007-Maj,Topic_2,0.14871472442108816\n",
      "2007-Maj,Topic_3,0.12854042082644876\n",
      "2007-Maj,Topic_4,0.20772105256122805\n",
      "2007-NYT,Topic_0,1.0\n",
      "2007-NYT,Topic_1,0.0\n",
      "2007-NYT,Topic_2,0.0\n",
      "2007-NYT,Topic_3,0.0\n",
      "2007-NYT,Topic_4,0.0\n",
      "2007-Maj,Topic_0,1.0\n",
      "2007-Maj,Topic_1,0.0\n",
      "2007-Maj,Topic_2,0.0\n",
      "2007-Maj,Topic_3,0.0\n",
      "2007-Maj,Topic_4,0.0\n",
      "2007-Maj,Topic_0,0.9521310247604018\n",
      "2007-Maj,Topic_1,0.0\n",
      "2007-Maj,Topic_2,0.04786897523959824\n",
      "2007-Maj,Topic_3,0.0\n",
      "2007-Maj,Topic_4,0.0\n",
      "2007-Maj,Topic_0,0.8565135569983355\n",
      "2007-Maj,Topic_1,0.03991487343722898\n",
      "2007-Maj,Topic_2,0.047406831522049615\n",
      "2007-Maj,Topic_3,0.05616473804238578\n",
      "2007-Maj,Topic_4,0.0\n",
      "2007-Tor,Topic_0,0.3920245807179755\n",
      "2007-Tor,Topic_1,0.2662477521758326\n",
      "2007-Tor,Topic_2,0.2283310943507553\n",
      "2007-Tor,Topic_3,0.0\n",
      "2007-Tor,Topic_4,0.11339657275543664\n",
      "2007-Maj,Topic_0,0.5300874798687131\n",
      "2007-Maj,Topic_1,0.3581144360442721\n",
      "2007-Maj,Topic_2,0.0\n",
      "2007-Maj,Topic_3,0.05829934043620502\n",
      "2007-Maj,Topic_4,0.053498743650809866\n",
      "2007-Dai,Topic_0,0.7113588987991732\n",
      "2007-Dai,Topic_1,0.09862678009467284\n",
      "2007-Dai,Topic_2,0.0\n",
      "2007-Dai,Topic_3,0.06685698079949041\n",
      "2007-Dai,Topic_4,0.12315734030666355\n",
      "2008-Ind,Topic_0,0.14396416486552166\n",
      "2008-Ind,Topic_1,0.4184063125595472\n",
      "2008-Ind,Topic_2,0.03484136453645628\n",
      "2008-Ind,Topic_3,0.056062336322893036\n",
      "2008-Ind,Topic_4,0.3467258217155817\n",
      "2008-Maj,Topic_0,1.0\n",
      "2008-Maj,Topic_1,0.0\n",
      "2008-Maj,Topic_2,0.0\n",
      "2008-Maj,Topic_3,0.0\n",
      "2008-Maj,Topic_4,0.0\n",
      "2008-Maj,Topic_0,0.6110042490550418\n",
      "2008-Maj,Topic_1,0.2303136282317632\n",
      "2008-Maj,Topic_2,0.0175762694606487\n",
      "2008-Maj,Topic_3,0.0747164077660846\n",
      "2008-Maj,Topic_4,0.06638944548646171\n",
      "2008-Maj,Topic_0,0.3935387981171423\n",
      "2008-Maj,Topic_1,0.5697837495123684\n",
      "2008-Maj,Topic_2,0.036677452370489264\n",
      "2008-Maj,Topic_3,0.0\n",
      "2008-Maj,Topic_4,0.0\n",
      "2009-Tim,Topic_0,0.0\n",
      "2009-Tim,Topic_1,0.0\n",
      "2009-Tim,Topic_2,0.0020547720140557868\n",
      "2009-Tim,Topic_3,0.9979452279859442\n",
      "2009-Tim,Topic_4,0.0\n",
      "2009-NYT,Topic_0,0.3577030599844152\n",
      "2009-NYT,Topic_1,0.009084588467123029\n",
      "2009-NYT,Topic_2,0.047627217444776784\n",
      "2009-NYT,Topic_3,0.3115519053112812\n",
      "2009-NYT,Topic_4,0.2740332287924037\n",
      "2010-Maj,Topic_0,0.8442883769581547\n",
      "2010-Maj,Topic_1,0.021923304441641804\n",
      "2010-Maj,Topic_2,0.024119324616106937\n",
      "2010-Maj,Topic_3,0.10966899398409652\n",
      "2010-Maj,Topic_4,0.0\n",
      "2010-Maj,Topic_0,0.6256817168302639\n",
      "2010-Maj,Topic_1,0.11066738841967057\n",
      "2010-Maj,Topic_2,0.03322376705536752\n",
      "2010-Maj,Topic_3,0.23042712769469784\n",
      "2010-Maj,Topic_4,0.0\n",
      "2010-Tim,Topic_0,0.6214155508842455\n",
      "2010-Tim,Topic_1,0.0\n",
      "2010-Tim,Topic_2,0.14665702962888286\n",
      "2010-Tim,Topic_3,0.04411907209200987\n",
      "2010-Tim,Topic_4,0.18780834739486196\n",
      "2010-Tor,Topic_0,0.6343020017396273\n",
      "2010-Tor,Topic_1,0.2504544749428355\n",
      "2010-Tor,Topic_2,0.005076286564841896\n",
      "2010-Tor,Topic_3,0.06001054068424998\n",
      "2010-Tor,Topic_4,0.050156696068445375\n",
      "2010-Maj,Topic_0,0.9433091653017932\n",
      "2010-Maj,Topic_1,0.0\n",
      "2010-Maj,Topic_2,0.0\n",
      "2010-Maj,Topic_3,0.056690834698206925\n",
      "2010-Maj,Topic_4,0.0\n",
      "2011-Maj,Topic_0,1.0\n",
      "2011-Maj,Topic_1,0.0\n",
      "2011-Maj,Topic_2,0.0\n",
      "2011-Maj,Topic_3,0.0\n",
      "2011-Maj,Topic_4,0.0\n",
      "2011-Maj,Topic_0,0.9896180486940988\n",
      "2011-Maj,Topic_1,0.0\n",
      "2011-Maj,Topic_2,0.010381951305901204\n",
      "2011-Maj,Topic_3,0.0\n",
      "2011-Maj,Topic_4,0.0\n",
      "2011-Maj,Topic_0,0.17636685644087302\n",
      "2011-Maj,Topic_1,0.34724623672664584\n",
      "2011-Maj,Topic_2,0.08660569845140227\n",
      "2011-Maj,Topic_3,0.13624535201306914\n",
      "2011-Maj,Topic_4,0.2535358563680097\n",
      "2011-Maj,Topic_0,1.0\n",
      "2011-Maj,Topic_1,0.0\n",
      "2011-Maj,Topic_2,0.0\n",
      "2011-Maj,Topic_3,0.0\n",
      "2011-Maj,Topic_4,0.0\n",
      "2011-ajA,Topic_0,0.0\n",
      "2011-ajA,Topic_1,0.0\n",
      "2011-ajA,Topic_2,1.0\n",
      "2011-ajA,Topic_3,0.0\n",
      "2011-ajA,Topic_4,0.0\n",
      "2011-ajA,Topic_0,0.8027734048987042\n",
      "2011-ajA,Topic_1,0.0\n",
      "2011-ajA,Topic_2,0.09537712898753582\n",
      "2011-ajA,Topic_3,0.0\n",
      "2011-ajA,Topic_4,0.10184946611376\n",
      "2011-ajA,Topic_0,0.3763106454601789\n",
      "2011-ajA,Topic_1,0.0\n",
      "2011-ajA,Topic_2,0.1098457980435244\n",
      "2011-ajA,Topic_3,0.4537470496049054\n",
      "2011-ajA,Topic_4,0.060096506891391364\n",
      "2011-Gua,Topic_0,0.4907685926764458\n",
      "2011-Gua,Topic_1,0.17293084785189425\n",
      "2011-Gua,Topic_2,0.026878553140184728\n",
      "2011-Gua,Topic_3,0.1375189743572118\n",
      "2011-Gua,Topic_4,0.17190303197426346\n",
      "2012-Bus,Topic_0,1.0\n",
      "2012-Bus,Topic_1,0.0\n",
      "2012-Bus,Topic_2,0.0\n",
      "2012-Bus,Topic_3,0.0\n",
      "2012-Bus,Topic_4,0.0\n",
      "2012-Tim,Topic_0,0.14922695939718655\n",
      "2012-Tim,Topic_1,0.5874774052195281\n",
      "2012-Tim,Topic_2,0.06604814562483198\n",
      "2012-Tim,Topic_3,0.13772889546826125\n",
      "2012-Tim,Topic_4,0.05951859429019221\n",
      "2012-Maj,Topic_0,0.7479775539121593\n",
      "2012-Maj,Topic_1,0.00594061613293449\n",
      "2012-Maj,Topic_2,0.052821869758013\n",
      "2012-Maj,Topic_3,0.1932599601968933\n",
      "2012-Maj,Topic_4,0.0\n",
      "2012-Maj,Topic_0,0.4225963532187188\n",
      "2012-Maj,Topic_1,0.0\n",
      "2012-Maj,Topic_2,0.1840576889209568\n",
      "2012-Maj,Topic_3,0.3733419356938261\n",
      "2012-Maj,Topic_4,0.020004022166498273\n",
      "2012-Gua,Topic_0,0.3627835308615009\n",
      "2012-Gua,Topic_1,0.005711682368112438\n",
      "2012-Gua,Topic_2,0.28358563241974605\n",
      "2012-Gua,Topic_3,0.16030988262316875\n",
      "2012-Gua,Topic_4,0.18760927172747188\n",
      "2012-Gua,Topic_0,0.7597036666329167\n",
      "2012-Gua,Topic_1,0.0019191491553409992\n",
      "2012-Gua,Topic_2,0.0675543861992488\n",
      "2012-Gua,Topic_3,0.1708227980124935\n",
      "2012-Gua,Topic_4,0.0\n",
      "2012-Gua,Topic_0,0.9065173879772662\n",
      "2012-Gua,Topic_1,0.0\n",
      "2012-Gua,Topic_2,0.0\n",
      "2012-Gua,Topic_3,0.09348261202273378\n",
      "2012-Gua,Topic_4,0.0\n",
      "2012-Bus,Topic_0,0.0\n",
      "2012-Bus,Topic_1,0.0\n",
      "2012-Bus,Topic_2,0.9982868504141456\n",
      "2012-Bus,Topic_3,0.0017131495858544769\n",
      "2012-Bus,Topic_4,0.0\n",
      "2013-Gua,Topic_0,1.0\n",
      "2013-Gua,Topic_1,0.0\n",
      "2013-Gua,Topic_2,0.0\n",
      "2013-Gua,Topic_3,0.0\n",
      "2013-Gua,Topic_4,0.0\n",
      "2013-Gua,Topic_0,0.5198285480881698\n",
      "2013-Gua,Topic_1,0.1245941660723866\n",
      "2013-Gua,Topic_2,0.1029772303128562\n",
      "2013-Gua,Topic_3,0.11920173054502213\n",
      "2013-Gua,Topic_4,0.13339832498156526\n",
      "2013-NYT,Topic_0,0.8493560193089246\n",
      "2013-NYT,Topic_1,0.00529662287703621\n",
      "2013-NYT,Topic_2,0.08977067493763881\n",
      "2013-NYT,Topic_3,0.05082317480265961\n",
      "2013-NYT,Topic_4,0.004753508073740765\n",
      "2013-Gua,Topic_0,1.0\n",
      "2013-Gua,Topic_1,0.0\n",
      "2013-Gua,Topic_2,0.0\n",
      "2013-Gua,Topic_3,0.0\n",
      "2013-Gua,Topic_4,0.0\n",
      "2013-Maj,Topic_0,0.443391134820662\n",
      "2013-Maj,Topic_1,0.011357673463211615\n",
      "2013-Maj,Topic_2,0.06930008168189424\n",
      "2013-Maj,Topic_3,0.13232742729592292\n",
      "2013-Maj,Topic_4,0.34362368273830923\n",
      "2013-NYT,Topic_0,0.0\n",
      "2013-NYT,Topic_1,1.0\n",
      "2013-NYT,Topic_2,0.0\n",
      "2013-NYT,Topic_3,0.0\n",
      "2013-NYT,Topic_4,0.0\n",
      "2014-ajA,Topic_0,0.6988648702796134\n",
      "2014-ajA,Topic_1,0.06194998157561645\n",
      "2014-ajA,Topic_2,0.1099460921213972\n",
      "2014-ajA,Topic_3,0.05769638670364021\n",
      "2014-ajA,Topic_4,0.07154266931973273\n",
      "2014-ail,Topic_0,0.5744721265680484\n",
      "2014-ail,Topic_1,0.09489301738361976\n",
      "2014-ail,Topic_2,0.0\n",
      "2014-ail,Topic_3,0.32171574168523875\n",
      "2014-ail,Topic_4,0.008919114363093129\n",
      "2014-Dai,Topic_0,0.3604403462344056\n",
      "2014-Dai,Topic_1,0.13754432414679515\n",
      "2014-Dai,Topic_2,0.14668111547805707\n",
      "2014-Dai,Topic_3,0.2022231328713558\n",
      "2014-Dai,Topic_4,0.15311108126938638\n",
      "2014-CDa,Topic_0,0.3690464031633646\n",
      "2014-CDa,Topic_1,0.0\n",
      "2014-CDa,Topic_2,0.15653459624726124\n",
      "2014-CDa,Topic_3,0.37846931541489176\n",
      "2014-CDa,Topic_4,0.09594968517448227\n",
      "2014-Ind,Topic_0,0.9252767879536472\n",
      "2014-Ind,Topic_1,0.0\n",
      "2014-Ind,Topic_2,0.0\n",
      "2014-Ind,Topic_3,0.055611025032243834\n",
      "2014-Ind,Topic_4,0.01911218701410897\n",
      "2014-Gua,Topic_0,0.0\n",
      "2014-Gua,Topic_1,0.0\n",
      "2014-Gua,Topic_2,1.0\n",
      "2014-Gua,Topic_3,0.0\n",
      "2014-Gua,Topic_4,0.0\n",
      "2014-CDa,Topic_0,0.7450331131401344\n",
      "2014-CDa,Topic_1,0.1803100243027563\n",
      "2014-CDa,Topic_2,0.0\n",
      "2014-CDa,Topic_3,0.0\n",
      "2014-CDa,Topic_4,0.07465686255710915\n",
      "2014-Maj,Topic_0,0.10629255975187656\n",
      "2014-Maj,Topic_1,0.4087312424393585\n",
      "2014-Maj,Topic_2,0.14871472442108816\n",
      "2014-Maj,Topic_3,0.12854042082644876\n",
      "2014-Maj,Topic_4,0.20772105256122805\n",
      "2014-CDa,Topic_0,0.4236393119472482\n",
      "2014-CDa,Topic_1,0.3788444955273407\n",
      "2014-CDa,Topic_2,0.0\n",
      "2014-CDa,Topic_3,0.09012936173233327\n",
      "2014-CDa,Topic_4,0.10738683079307776\n",
      "2014-Gua,Topic_0,0.9979731324601794\n",
      "2014-Gua,Topic_1,0.0\n",
      "2014-Gua,Topic_2,0.002026867539820636\n",
      "2014-Gua,Topic_3,0.0\n",
      "2014-Gua,Topic_4,0.0\n",
      "2014-CDa,Topic_0,0.4623128674167203\n",
      "2014-CDa,Topic_1,0.2206482691230537\n",
      "2014-CDa,Topic_2,0.007075572671409303\n",
      "2014-CDa,Topic_3,0.11208797832237437\n",
      "2014-CDa,Topic_4,0.1978753124664424\n",
      "2015-Ind,Topic_0,0.0\n",
      "2015-Ind,Topic_1,0.007039771060490116\n",
      "2015-Ind,Topic_2,0.0\n",
      "2015-Ind,Topic_3,0.99296022893951\n",
      "2015-Ind,Topic_4,0.0\n",
      "2015-Maj,Topic_0,0.0\n",
      "2015-Maj,Topic_1,1.0\n",
      "2015-Maj,Topic_2,0.0\n",
      "2015-Maj,Topic_3,0.0\n",
      "2015-Maj,Topic_4,0.0\n",
      "2015-Gua,Topic_0,0.0\n",
      "2015-Gua,Topic_1,1.0\n",
      "2015-Gua,Topic_2,0.0\n",
      "2015-Gua,Topic_3,0.0\n",
      "2015-Gua,Topic_4,0.0\n",
      "2015-Dai,Topic_0,1.0\n",
      "2015-Dai,Topic_1,0.0\n",
      "2015-Dai,Topic_2,0.0\n",
      "2015-Dai,Topic_3,0.0\n",
      "2015-Dai,Topic_4,0.0\n",
      "2015-Dai,Topic_0,0.8358829253168585\n",
      "2015-Dai,Topic_1,0.0\n",
      "2015-Dai,Topic_2,0.035432392238410215\n",
      "2015-Dai,Topic_3,0.12529063813952848\n",
      "2015-Dai,Topic_4,0.003394044305202844\n",
      "2015-Tim,Topic_0,0.9870341176429888\n",
      "2015-Tim,Topic_1,0.012965882357011346\n",
      "2015-Tim,Topic_2,0.0\n",
      "2015-Tim,Topic_3,0.0\n",
      "2015-Tim,Topic_4,0.0\n",
      "2015-Maj,Topic_0,0.8960593281181176\n",
      "2015-Maj,Topic_1,0.07849466631548152\n",
      "2015-Maj,Topic_2,0.0\n",
      "2015-Maj,Topic_3,0.0\n",
      "2015-Maj,Topic_4,0.02544600556640085\n",
      "2015-ajA,Topic_0,1.0\n",
      "2015-ajA,Topic_1,0.0\n",
      "2015-ajA,Topic_2,0.0\n",
      "2015-ajA,Topic_3,0.0\n",
      "2015-ajA,Topic_4,0.0\n",
      "2015-Maj,Topic_0,0.0\n",
      "2015-Maj,Topic_1,0.0\n",
      "2015-Maj,Topic_2,0.0\n",
      "2015-Maj,Topic_3,0.0\n",
      "2015-Maj,Topic_4,1.0\n",
      "2015-Maj,Topic_0,0.5184134928674476\n",
      "2015-Maj,Topic_1,0.09082156013512438\n",
      "2015-Maj,Topic_2,0.0794668300626824\n",
      "2015-Maj,Topic_3,0.0591406881171901\n",
      "2015-Maj,Topic_4,0.2521574288175555\n",
      "2016-ajA,Topic_0,0.24034847789903635\n",
      "2016-ajA,Topic_1,0.3945699922355552\n",
      "2016-ajA,Topic_2,0.04568898238533959\n",
      "2016-ajA,Topic_3,0.14298717545872192\n",
      "2016-ajA,Topic_4,0.17640537202134696\n",
      "2016-Maj,Topic_0,0.3981045809887095\n",
      "2016-Maj,Topic_1,0.038284878217852265\n",
      "2016-Maj,Topic_2,0.40646132461653056\n",
      "2016-Maj,Topic_3,0.05757098529358936\n",
      "2016-Maj,Topic_4,0.09957823088331844\n",
      "2016-Tim,Topic_0,0.9241018040150836\n",
      "2016-Tim,Topic_1,0.0\n",
      "2016-Tim,Topic_2,0.07589819598491655\n",
      "2016-Tim,Topic_3,0.0\n",
      "2016-Tim,Topic_4,0.0\n",
      "2016-ajA,Topic_0,0.8630301494459149\n",
      "2016-ajA,Topic_1,0.0\n",
      "2016-ajA,Topic_2,0.0\n",
      "2016-ajA,Topic_3,0.04629017750167934\n",
      "2016-ajA,Topic_4,0.09067967305240578\n",
      "2016-NYT,Topic_0,0.4377120668318998\n",
      "2016-NYT,Topic_1,0.17827524568976366\n",
      "2016-NYT,Topic_2,0.08995050307943935\n",
      "2016-NYT,Topic_3,0.09603541448275638\n",
      "2016-NYT,Topic_4,0.19802676991614104\n",
      "2016-ail,Topic_0,0.9885073455216824\n",
      "2016-ail,Topic_1,0.0\n",
      "2016-ail,Topic_2,0.011492654478317696\n",
      "2016-ail,Topic_3,0.0\n",
      "2016-ail,Topic_4,0.0\n",
      "2016-ajA,Topic_0,0.4804504627800655\n",
      "2016-ajA,Topic_1,0.07510481626210924\n",
      "2016-ajA,Topic_2,0.10213482432044477\n",
      "2016-ajA,Topic_3,0.2426682389673354\n",
      "2016-ajA,Topic_4,0.09964165767004504\n",
      "2016-Tim,Topic_0,0.9223320688883648\n",
      "2016-Tim,Topic_1,0.0\n",
      "2016-Tim,Topic_2,0.07466718225133552\n",
      "2016-Tim,Topic_3,0.0\n",
      "2016-Tim,Topic_4,0.003000748860299605\n",
      "2016-Maj,Topic_0,0.2719736874868897\n",
      "2016-Maj,Topic_1,0.15455666275907526\n",
      "2016-Maj,Topic_2,0.1340243866046119\n",
      "2016-Maj,Topic_3,0.10094194543515712\n",
      "2016-Maj,Topic_4,0.33850331771426595\n",
      "2016-ajA,Topic_0,0.3744570392533345\n",
      "2016-ajA,Topic_1,0.008094935199630462\n",
      "2016-ajA,Topic_2,0.23275347593225565\n",
      "2016-ajA,Topic_3,0.1816429318144068\n",
      "2016-ajA,Topic_4,0.20305161780037248\n",
      "2017-Tim,Topic_0,0.8741718135891964\n",
      "2017-Tim,Topic_1,0.0\n",
      "2017-Tim,Topic_2,0.12582818641080354\n",
      "2017-Tim,Topic_3,0.0\n",
      "2017-Tim,Topic_4,0.0\n",
      "2017-Ind,Topic_0,0.0\n",
      "2017-Ind,Topic_1,0.0\n",
      "2017-Ind,Topic_2,0.0\n",
      "2017-Ind,Topic_3,1.0\n",
      "2017-Ind,Topic_4,0.0\n",
      "2017-CDa,Topic_0,0.0\n",
      "2017-CDa,Topic_1,0.0\n",
      "2017-CDa,Topic_2,0.0\n",
      "2017-CDa,Topic_3,0.0\n",
      "2017-CDa,Topic_4,1.0\n",
      "2017-Ind,Topic_0,0.9443913830340503\n",
      "2017-Ind,Topic_1,0.0\n",
      "2017-Ind,Topic_2,0.0\n",
      "2017-Ind,Topic_3,0.05560861696594962\n",
      "2017-Ind,Topic_4,0.0\n",
      "2018-Maj,Topic_0,0.762287427375555\n",
      "2018-Maj,Topic_1,0.05823312284306214\n",
      "2018-Maj,Topic_2,0.024054985123919157\n",
      "2018-Maj,Topic_3,0.15443538511740568\n",
      "2018-Maj,Topic_4,0.000989079540058069\n",
      "2018-Maj,Topic_0,0.9906129766746704\n",
      "2018-Maj,Topic_1,0.0\n",
      "2018-Maj,Topic_2,0.009387023325329456\n",
      "2018-Maj,Topic_3,0.0\n",
      "2018-Maj,Topic_4,0.0\n",
      "2018-Maj,Topic_0,0.6278734790418946\n",
      "2018-Maj,Topic_1,0.004257352124509418\n",
      "2018-Maj,Topic_2,0.18371497699387604\n",
      "2018-Maj,Topic_3,0.12561835641806696\n",
      "2018-Maj,Topic_4,0.058535835421653075\n",
      "2018-ajA,Topic_0,0.8051865469762669\n",
      "2018-ajA,Topic_1,0.0\n",
      "2018-ajA,Topic_2,0.0944668089250697\n",
      "2018-ajA,Topic_3,0.0\n",
      "2018-ajA,Topic_4,0.10034664409866352\n",
      "2018-Maj,Topic_0,0.8943126169662886\n",
      "2018-Maj,Topic_1,0.09132331801834973\n",
      "2018-Maj,Topic_2,0.0053683996471806175\n",
      "2018-Maj,Topic_3,0.0\n",
      "2018-Maj,Topic_4,0.008995665368181218\n",
      "2018-ail,Topic_0,0.3700570908442475\n",
      "2018-ail,Topic_1,0.08134826531681386\n",
      "2018-ail,Topic_2,0.2651987519190492\n",
      "2018-ail,Topic_3,0.14145579059476646\n",
      "2018-ail,Topic_4,0.14194010132512286\n",
      "2018-Maj,Topic_0,0.785358033348883\n",
      "2018-Maj,Topic_1,0.0\n",
      "2018-Maj,Topic_2,0.08537769062577907\n",
      "2018-Maj,Topic_3,0.0987326762199662\n",
      "2018-Maj,Topic_4,0.030531599805371817\n",
      "2018-Maj,Topic_0,1.0\n",
      "2018-Maj,Topic_1,0.0\n",
      "2018-Maj,Topic_2,0.0\n",
      "2018-Maj,Topic_3,0.0\n",
      "2018-Maj,Topic_4,0.0\n",
      "2019-ajA,Topic_0,1.0\n",
      "2019-ajA,Topic_1,0.0\n",
      "2019-ajA,Topic_2,0.0\n",
      "2019-ajA,Topic_3,0.0\n",
      "2019-ajA,Topic_4,0.0\n",
      "2019-Maj,Topic_0,0.0\n",
      "2019-Maj,Topic_1,0.0\n",
      "2019-Maj,Topic_2,0.0\n",
      "2019-Maj,Topic_3,1.0\n",
      "2019-Maj,Topic_4,0.0\n",
      "2019-ajA,Topic_0,0.543227892428469\n",
      "2019-ajA,Topic_1,0.16884376452425864\n",
      "2019-ajA,Topic_2,0.02994868815612985\n",
      "2019-ajA,Topic_3,0.16637266849055452\n",
      "2019-ajA,Topic_4,0.09160698640058806\n",
      "2019-Maj,Topic_0,0.6310253039203255\n",
      "2019-Maj,Topic_1,0.014342314937011384\n",
      "2019-Maj,Topic_2,0.1285989538571551\n",
      "2019-Maj,Topic_3,0.17213282917966424\n",
      "2019-Maj,Topic_4,0.05390059810584392\n",
      "2019-Maj,Topic_0,0.4198808026618197\n",
      "2019-Maj,Topic_1,0.08202524887705116\n",
      "2019-Maj,Topic_2,0.1614661079963458\n",
      "2019-Maj,Topic_3,0.0996403114393378\n",
      "2019-Maj,Topic_4,0.2369875290254457\n",
      "2019-Tor,Topic_0,0.5838631453142531\n",
      "2019-Tor,Topic_1,0.03570550500745435\n",
      "2019-Tor,Topic_2,0.040393546459775664\n",
      "2019-Tor,Topic_3,0.10674980739093394\n",
      "2019-Tor,Topic_4,0.2332879958275831\n",
      "2019-CDa,Topic_0,0.9913063075291496\n",
      "2019-CDa,Topic_1,0.008693692470850464\n",
      "2019-CDa,Topic_2,0.0\n",
      "2019-CDa,Topic_3,0.0\n",
      "2019-CDa,Topic_4,0.0\n",
      "2020-Maj,Topic_0,0.3023065120096851\n",
      "2020-Maj,Topic_1,0.21370632331408876\n",
      "2020-Maj,Topic_2,0.10655402149039682\n",
      "2020-Maj,Topic_3,0.249368742017798\n",
      "2020-Maj,Topic_4,0.12806440116803136\n",
      "2020-Maj,Topic_0,1.0\n",
      "2020-Maj,Topic_1,0.0\n",
      "2020-Maj,Topic_2,0.0\n",
      "2020-Maj,Topic_3,0.0\n",
      "2020-Maj,Topic_4,0.0\n",
      "2020-Maj,Topic_0,0.4123877095256173\n",
      "2020-Maj,Topic_1,0.008401027097939395\n",
      "2020-Maj,Topic_2,0.043430223741494405\n",
      "2020-Maj,Topic_3,0.2643009053916114\n",
      "2020-Maj,Topic_4,0.27148013424333745\n",
      "2020-Maj,Topic_0,1.0\n",
      "2020-Maj,Topic_1,0.0\n",
      "2020-Maj,Topic_2,0.0\n",
      "2020-Maj,Topic_3,0.0\n",
      "2020-Maj,Topic_4,0.0\n",
      "2020-ajA,Topic_0,0.2774525822691715\n",
      "2020-ajA,Topic_1,0.15118046353868106\n",
      "2020-ajA,Topic_2,0.07092604748794422\n",
      "2020-ajA,Topic_3,0.16549252424417668\n",
      "2020-ajA,Topic_4,0.3349483824600265\n",
      "2020-ajA,Topic_0,0.5188051172739666\n",
      "2020-ajA,Topic_1,0.153521496440337\n",
      "2020-ajA,Topic_2,0.05488100877611106\n",
      "2020-ajA,Topic_3,0.13227396787413084\n",
      "2020-ajA,Topic_4,0.14051840963545442\n",
      "2020-Bus,Topic_0,0.9415597162092296\n",
      "2020-Bus,Topic_1,0.006096488830799877\n",
      "2020-Bus,Topic_2,0.05234379495997045\n",
      "2020-Bus,Topic_3,0.0\n",
      "2020-Bus,Topic_4,0.0\n",
      "2020-Maj,Topic_0,0.0\n",
      "2020-Maj,Topic_1,0.0\n",
      "2020-Maj,Topic_2,1.0\n",
      "2020-Maj,Topic_3,0.0\n",
      "2020-Maj,Topic_4,0.0\n",
      "2020-ajA,Topic_0,0.6139981152290693\n",
      "2020-ajA,Topic_1,0.0\n",
      "2020-ajA,Topic_2,0.13674532048188168\n",
      "2020-ajA,Topic_3,0.0480630335217421\n",
      "2020-ajA,Topic_4,0.2011935307673069\n",
      "2020-Maj,Topic_0,0.454757620510433\n",
      "2020-Maj,Topic_1,0.22804169039191585\n",
      "2020-Maj,Topic_2,0.052046131437958935\n",
      "2020-Maj,Topic_3,0.10371201256369234\n",
      "2020-Maj,Topic_4,0.1614425450959999\n",
      "2020-Maj,Topic_0,1.0\n",
      "2020-Maj,Topic_1,0.0\n",
      "2020-Maj,Topic_2,0.0\n",
      "2020-Maj,Topic_3,0.0\n",
      "2020-Maj,Topic_4,0.0\n",
      "2020-Maj,Topic_0,0.9659987611128702\n",
      "2020-Maj,Topic_1,0.0\n",
      "2020-Maj,Topic_2,0.0340012388871298\n",
      "2020-Maj,Topic_3,0.0\n",
      "2020-Maj,Topic_4,0.0\n",
      "2020-Maj,Topic_0,0.9673783352960788\n",
      "2020-Maj,Topic_1,0.0\n",
      "2020-Maj,Topic_2,0.03262166470392122\n",
      "2020-Maj,Topic_3,0.0\n",
      "2020-Maj,Topic_4,0.0\n",
      "2020-ajA,Topic_0,1.0\n",
      "2020-ajA,Topic_1,0.0\n",
      "2020-ajA,Topic_2,0.0\n",
      "2020-ajA,Topic_3,0.0\n",
      "2020-ajA,Topic_4,0.0\n",
      "2020-Maj,Topic_0,0.9561677366763291\n",
      "2020-Maj,Topic_1,0.0\n",
      "2020-Maj,Topic_2,0.0\n",
      "2020-Maj,Topic_3,0.0\n",
      "2020-Maj,Topic_4,0.0438322633236708\n",
      "2020-Maj,Topic_0,0.0\n",
      "2020-Maj,Topic_1,0.0\n",
      "2020-Maj,Topic_2,0.0\n",
      "2020-Maj,Topic_3,0.0\n",
      "2020-Maj,Topic_4,1.0\n",
      "2021-Ind,Topic_0,1.0\n",
      "2021-Ind,Topic_1,0.0\n",
      "2021-Ind,Topic_2,0.0\n",
      "2021-Ind,Topic_3,0.0\n",
      "2021-Ind,Topic_4,0.0\n",
      "2021-Ind,Topic_0,0.6946825994538436\n",
      "2021-Ind,Topic_1,0.04981433075371651\n",
      "2021-Ind,Topic_2,0.09397378412506682\n",
      "2021-Ind,Topic_3,0.05125789832906481\n",
      "2021-Ind,Topic_4,0.11027138733830834\n"
     ]
    }
   ],
   "source": [
    "# Python script\n",
    "\n",
    "csv = open(\"gephi-data.csv\") # open the gephi-data.csv file\n",
    "columns = csv.readline().strip().split(',')[1:] # read each line and split it at each comma, save the result in a variable columns\n",
    "file=open(\"texttopic.txt\", \"w\") # open a file texttopic.txt for writing\n",
    "for line in csv: # iterate over each line and make a variable tokens and a variable row\n",
    "    tokens = line.strip().split(',')\n",
    "    row = tokens[0] \n",
    "    for column, cell in zip(columns,tokens[1:]): # iterate for each column and cell over columns and the second elements of tokens\n",
    "        print ('{},{},{}'.format(row,column,cell)) # formate the result\n",
    "        s = str('{},{},{}'.format(row,column,cell)) # save the result into a variable s\n",
    "        file.write(s + \"\\n\") # write the variable s to the file texttopic.txt, jump to next line for each iteration\n",
    "file.close() # close the file texttopic.txt\n",
    "\n",
    "# Create nodes and edges from texttopic.txt\n",
    "\n",
    "!sed '/,0.0/d' texttopic.txt > ttedge_list.txt # use sed to delete null entries, and save the results as ttedge_list.txt\n",
    "!awk -F',' ' { print $1 \",\" $1 } ' texttopic.txt | sort | uniq | sed 's/\\.txt//' | awk -F',' ' {print $2 \",\" $1} ' > ttnode_list.txt # make a sorted list of node using the first column of texttopic.txt and save the nodes as ttnode_list.txt\n",
    "!echo \"id,Label\" | cat - ttnode_list.txt > ttnode_list.csv # Add the line id,label as first line of the ttnode_list.txt file\n",
    "!echo \"Topic_0,Topic_0\" >> ttnode_list.csv # add the topics to the node list -- here for Topic_0, and below for the other topics\n",
    "!echo \"Topic_1,Topic_1\" >> ttnode_list.csv\n",
    "!echo \"Topic_2,Topic_2\" >> ttnode_list.csv\n",
    "!echo \"Topic_3,Topic_3\" >> ttnode_list.csv\n",
    "!echo \"Topic_4,Topic_4\" >> ttnode_list.csv\n",
    "!echo \"Source,Target,Weight\" | cat - ttedge_list.txt > ttedge_list.csv # Same as above with other labels added to ttedge_list.csv file"
   ]
  },
  {
   "cell_type": "markdown",
   "metadata": {},
   "source": [
    "## Making our network graph in python\n",
    "\n",
    "Now that we have our nodes and edges files, we can do a network graph with python and within this notebook, which is useful for a presentation from the notebook directly. In order to do this, we are using pyvis and also networkx in the background of pyvis, which enable us do display nice graphs -- in my view nicer than using networkx alone. If you don't have pyvis and networkx installed, you can install them with pip, like this: \n",
    "\n",
    "pip3 install pyvis networkx"
   ]
  },
  {
   "cell_type": "code",
   "execution_count": 40,
   "metadata": {},
   "outputs": [
    {
     "data": {
      "text/html": [
       "\n",
       "        <iframe\n",
       "            width=\"75%\"\n",
       "            height=\"750px\"\n",
       "            src=\"med.html\"\n",
       "            frameborder=\"0\"\n",
       "            allowfullscreen\n",
       "        ></iframe>\n",
       "        "
      ],
      "text/plain": [
       "<IPython.lib.display.IFrame at 0x7f894a918668>"
      ]
     },
     "execution_count": 40,
     "metadata": {},
     "output_type": "execute_result"
    }
   ],
   "source": [
    "from pyvis.network import Network as net\n",
    "import networkx as nx\n",
    "\n",
    "med_net = net(height='750px', width='75%', bgcolor='#222222', font_color='white', notebook = True, directed=False) # give some cosmetic parameters for the graph\n",
    "med_net.barnes_hut() # use an algorythm for the shape of the graph\n",
    "med_data = pd.read_csv('ttedge_list.csv') # take our ttedge_list.csv file to plot the graph\n",
    "\n",
    "# Define the variables corresponding to the columns of the ttedge_list.csv file\n",
    "\n",
    "sources = med_data['Source']\n",
    "targets = med_data['Target']\n",
    "weights = med_data['Weight']\n",
    "\n",
    "# Zip the three variables above into a adge_data variable\n",
    "\n",
    "edge_data = zip(sources, targets, weights)\n",
    "\n",
    "# Iterate over the edge_data variable in order to plot the departure nodes (src), the arrival nodes (dst) and the edge between them (w); add them to the graph (med_net)\n",
    "\n",
    "for e in edge_data:\n",
    "    src = e[0]\n",
    "    dst = e[1]\n",
    "    w = e[2]\n",
    "\n",
    "    med_net.add_node(src, src, title=src)\n",
    "    med_net.add_node(dst, dst, title=dst)\n",
    "    med_net.add_edge(src, dst, value=w)\n",
    "\n",
    "neighbor_map = med_net.get_adj_list() # get a map of the neighbor -- the nodes which are near from oneanother\n",
    "\n",
    "# add neighbor data to node on hover -- when you move the mouse on the node, you will see the nodes related to it\n",
    "for node in med_net.nodes:\n",
    "    node['title'] += ' Neighbors:<br>' + '<br>'.join(neighbor_map[node['id']])\n",
    "    node['value'] = len(neighbor_map[node['id']])\n",
    "\n",
    "#med_net.show_buttons(filter_=True) # if you want to use the buttons enabling to modify the parameters of the graph\n",
    "med_net.show('med.html')"
   ]
  },
  {
   "cell_type": "markdown",
   "metadata": {},
   "source": [
    "Now, you have a network graph of your topic model analysis, and it is an interactive one that you can personalize, and which have been saved as an independent html file (med.html). \n",
    "\n",
    "**Please note**: we are not using other facilities of network graphs analysis, since we are not performing a network analysis in the proper sense of this expression. We are using such tools in order to display a weighted view of our results all together, directly using the results of our topic analysis. So, in our case, network software are used in order to better our presentation of the results, and not as an analytical tool in itself."
   ]
  },
  {
   "cell_type": "markdown",
   "metadata": {},
   "source": [
    "## Gephi -- standalone solution\n",
    "\n",
    "Gephi is unfortunately no more actively developed, but there are plans to develop it further. In the meantime, you can download the [free gephi](https://gephi.org/users/download/) software which gives a standalone solution to plot beautiful network graphs -- at least in my view -- based on the files that we have generated from our texttopic.txt file. How do you do that? This is what I want to show you in our course, and do it with you in presence, instead of in this notebook. "
   ]
  },
  {
   "cell_type": "markdown",
   "metadata": {},
   "source": [
    "## Other alternatives\n",
    "\n",
    "You are not forced to use the software mentioned in this notebook, as there are other ones that could better suit your need taken into account that you provide the skills in order to run these other software. For example, instead of using voila for your dashboard, you could also use [dash plotly](https://dash.plotly.com/) which is a python software enabling you to output interactive graphs based on python and html. Provided that you master some html scheme, this could be a better choice for your dashboarding tasks.\n",
    "\n",
    "The same applies to network graphs utilities. If you want impressive aesthetic graphs, Gephi provides a nice interface which is less involving for the user -- you don't need specific knowledge in network graphs in order to quickly make nice graphs. Pyvis is a bit more demanding, as is [cytoscape](https://cytoscape.org/) which is more tailored to natural sciences. In the same register, you could also use the [graphia](https://graphia.app/) application which is fast and offers 3D views of your network of topics, even if its layout and export capabilities are limited at the moment."
   ]
  }
 ],
 "metadata": {
  "extensions": {
   "jupyter_dashboards": {
    "activeView": "grid_default",
    "version": 1,
    "views": {
     "grid_default": {
      "cellMargin": 2,
      "defaultCellHeight": 60,
      "maxColumns": 12,
      "name": "grid",
      "type": "grid"
     }
    }
   }
  },
  "kernelspec": {
   "display_name": "Python 3 (ipykernel)",
   "language": "python",
   "name": "python3"
  },
  "language_info": {
   "codemirror_mode": {
    "name": "ipython",
    "version": 3
   },
   "file_extension": ".py",
   "mimetype": "text/x-python",
   "name": "python",
   "nbconvert_exporter": "python",
   "pygments_lexer": "ipython3",
   "version": "3.8.10"
  },
  "widgets": {
   "application/vnd.jupyter.widget-state+json": {
    "state": {},
    "version_major": 2,
    "version_minor": 0
   }
  }
 },
 "nbformat": 4,
 "nbformat_minor": 4
}
