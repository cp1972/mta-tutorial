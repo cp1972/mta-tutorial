{
 "cells": [
  {
   "cell_type": "code",
   "execution_count": 1,
   "id": "f8b06cac-8933-4aee-bd25-ee236eb95567",
   "metadata": {
    "extensions": {
     "jupyter_dashboards": {
      "activeView": "grid_default",
      "views": {
       "grid_default": {
        "col": null,
        "height": 2,
        "hidden": true,
        "row": null,
        "width": 2
       }
      }
     }
    },
    "tags": []
   },
   "outputs": [],
   "source": [
    "# Libraries for static plots and table\n",
    "\n",
    "import matplotlib.pyplot as plt\n",
    "import matplotlib.patches as mpatches\n",
    "import seaborn as sns\n",
    "import numpy as np\n",
    "import pandas as pd\n",
    "import csv\n",
    "%matplotlib inline\n",
    "plt.rcParams['figure.figsize'] = [12, 8]"
   ]
  },
  {
   "cell_type": "code",
   "execution_count": 2,
   "id": "f9911fcd-35a8-45b4-be3c-d48b9266ee77",
   "metadata": {
    "extensions": {
     "jupyter_dashboards": {
      "activeView": "grid_default",
      "views": {
       "grid_default": {
        "col": null,
        "height": 2,
        "hidden": true,
        "row": null,
        "width": 2
       }
      }
     }
    }
   },
   "outputs": [
    {
     "data": {
      "text/html": [
       "        <script type=\"text/javascript\">\n",
       "        window.PlotlyConfig = {MathJaxConfig: 'local'};\n",
       "        if (window.MathJax) {MathJax.Hub.Config({SVG: {font: \"STIX-Web\"}});}\n",
       "        if (typeof require !== 'undefined') {\n",
       "        require.undef(\"plotly\");\n",
       "        requirejs.config({\n",
       "            paths: {\n",
       "                'plotly': ['https://cdn.plot.ly/plotly-2.8.3.min']\n",
       "            }\n",
       "        });\n",
       "        require(['plotly'], function(Plotly) {\n",
       "            window._Plotly = Plotly;\n",
       "        });\n",
       "        }\n",
       "        </script>\n",
       "        "
      ]
     },
     "metadata": {},
     "output_type": "display_data"
    },
    {
     "data": {
      "text/html": [
       "        <script type=\"text/javascript\">\n",
       "        window.PlotlyConfig = {MathJaxConfig: 'local'};\n",
       "        if (window.MathJax) {MathJax.Hub.Config({SVG: {font: \"STIX-Web\"}});}\n",
       "        if (typeof require !== 'undefined') {\n",
       "        require.undef(\"plotly\");\n",
       "        requirejs.config({\n",
       "            paths: {\n",
       "                'plotly': ['https://cdn.plot.ly/plotly-2.8.3.min']\n",
       "            }\n",
       "        });\n",
       "        require(['plotly'], function(Plotly) {\n",
       "            window._Plotly = Plotly;\n",
       "        });\n",
       "        }\n",
       "        </script>\n",
       "        "
      ]
     },
     "metadata": {},
     "output_type": "display_data"
    }
   ],
   "source": [
    "# Libraries for interactive utilities\n",
    "\n",
    "from IPython.display import display, clear_output\n",
    "import ipywidgets as widgets \n",
    "from ipywidgets import interact, Layout, interactive, fixed, interact_manual, IntSlider\n",
    "\n",
    "import chart_studio.plotly as py\n",
    "import plotly.graph_objs as go\n",
    "from plotly.offline import iplot, init_notebook_mode\n",
    "init_notebook_mode(connected=True)\n",
    "\n",
    "import cufflinks as cf\n",
    "cf.go_offline(connected=True)\n",
    "cf.set_config_file(colorscale='plotly', world_readable=True)\n",
    "\n",
    "# Extra options\n",
    "pd.options.display.max_rows = 30\n",
    "pd.options.display.max_columns = 25"
   ]
  },
  {
   "cell_type": "code",
   "execution_count": 3,
   "id": "10ca395f-f0c1-43dc-9b2f-b6db15367a1c",
   "metadata": {
    "extensions": {
     "jupyter_dashboards": {
      "activeView": "grid_default",
      "views": {
       "grid_default": {
        "col": null,
        "height": 2,
        "hidden": true,
        "row": null,
        "width": 2
       }
      }
     }
    }
   },
   "outputs": [
    {
     "data": {
      "text/html": [
       "<div>\n",
       "<style scoped>\n",
       "    .dataframe tbody tr th:only-of-type {\n",
       "        vertical-align: middle;\n",
       "    }\n",
       "\n",
       "    .dataframe tbody tr th {\n",
       "        vertical-align: top;\n",
       "    }\n",
       "\n",
       "    .dataframe thead th {\n",
       "        text-align: right;\n",
       "    }\n",
       "</style>\n",
       "<table border=\"1\" class=\"dataframe\">\n",
       "  <thead>\n",
       "    <tr style=\"text-align: right;\">\n",
       "      <th></th>\n",
       "      <th>Articles</th>\n",
       "      <th>Topic_0</th>\n",
       "      <th>Topic_1</th>\n",
       "      <th>Topic_2</th>\n",
       "      <th>Topic_3</th>\n",
       "      <th>Topic_4</th>\n",
       "      <th>Year</th>\n",
       "      <th>Newspaper</th>\n",
       "    </tr>\n",
       "  </thead>\n",
       "  <tbody>\n",
       "    <tr>\n",
       "      <th>0</th>\n",
       "      <td>2002-03-1-MajAustr-1-67-61.txt</td>\n",
       "      <td>0.734406</td>\n",
       "      <td>0.031050</td>\n",
       "      <td>0.052941</td>\n",
       "      <td>0.121928</td>\n",
       "      <td>0.059674</td>\n",
       "      <td>2002</td>\n",
       "      <td>ajA</td>\n",
       "    </tr>\n",
       "    <tr>\n",
       "      <th>76</th>\n",
       "      <td>2003-07-01-NYTimes-1-7-4.txt</td>\n",
       "      <td>0.759704</td>\n",
       "      <td>0.001919</td>\n",
       "      <td>0.067554</td>\n",
       "      <td>0.170823</td>\n",
       "      <td>0.000000</td>\n",
       "      <td>2003</td>\n",
       "      <td>NYT</td>\n",
       "    </tr>\n",
       "    <tr>\n",
       "      <th>75</th>\n",
       "      <td>2004-03-15-MajAustr-1-67-30.txt</td>\n",
       "      <td>0.749237</td>\n",
       "      <td>0.000306</td>\n",
       "      <td>0.125060</td>\n",
       "      <td>0.091593</td>\n",
       "      <td>0.033804</td>\n",
       "      <td>2004</td>\n",
       "      <td>Maj</td>\n",
       "    </tr>\n",
       "    <tr>\n",
       "      <th>74</th>\n",
       "      <td>2004-10-11-TorontoS-1-5-3.txt</td>\n",
       "      <td>0.652717</td>\n",
       "      <td>0.105692</td>\n",
       "      <td>0.149433</td>\n",
       "      <td>0.092158</td>\n",
       "      <td>0.000000</td>\n",
       "      <td>2004</td>\n",
       "      <td>Tor</td>\n",
       "    </tr>\n",
       "    <tr>\n",
       "      <th>73</th>\n",
       "      <td>2004-12-22-Independent-1-9-5.txt</td>\n",
       "      <td>0.344901</td>\n",
       "      <td>0.118249</td>\n",
       "      <td>0.104265</td>\n",
       "      <td>0.128737</td>\n",
       "      <td>0.303847</td>\n",
       "      <td>2004</td>\n",
       "      <td>Ind</td>\n",
       "    </tr>\n",
       "  </tbody>\n",
       "</table>\n",
       "</div>"
      ],
      "text/plain": [
       "                            Articles   Topic_0   Topic_1   Topic_2   Topic_3  \\\n",
       "0     2002-03-1-MajAustr-1-67-61.txt  0.734406  0.031050  0.052941  0.121928   \n",
       "76      2003-07-01-NYTimes-1-7-4.txt  0.759704  0.001919  0.067554  0.170823   \n",
       "75   2004-03-15-MajAustr-1-67-30.txt  0.749237  0.000306  0.125060  0.091593   \n",
       "74     2004-10-11-TorontoS-1-5-3.txt  0.652717  0.105692  0.149433  0.092158   \n",
       "73  2004-12-22-Independent-1-9-5.txt  0.344901  0.118249  0.104265  0.128737   \n",
       "\n",
       "     Topic_4  Year Newspaper  \n",
       "0   0.059674  2002       ajA  \n",
       "76  0.000000  2003       NYT  \n",
       "75  0.033804  2004       Maj  \n",
       "74  0.000000  2004       Tor  \n",
       "73  0.303847  2004       Ind  "
      ]
     },
     "execution_count": 3,
     "metadata": {},
     "output_type": "execute_result"
    }
   ],
   "source": [
    "# Take the csv files with our results\n",
    "df_eng = pd.read_csv('Dominant_Topics_ENG_2.csv')\n",
    "# First step -- rename columns\n",
    "df_eng.rename(columns={ df_eng.columns[0]: \"Articles\" }, inplace = True)\n",
    "df_eng.rename(columns={ df_eng.columns[1]: \"Topic_0\" }, inplace = True)\n",
    "df_eng.rename(columns={ df_eng.columns[2]: \"Topic_1\" }, inplace = True)\n",
    "df_eng.rename(columns={ df_eng.columns[3]: \"Topic_2\" }, inplace = True)\n",
    "df_eng.rename(columns={ df_eng.columns[4]: \"Topic_3\" }, inplace = True)\n",
    "df_eng.rename(columns={ df_eng.columns[5]: \"Topic_4\" }, inplace = True)\n",
    "# Second step -- drop the column of the dominant topics\n",
    "df_eng.drop('Dominant_Topic_NMF', axis=1, inplace=True)\n",
    "# Third step -- create separate columns for title of newspapers and year of publication\n",
    "df_eng['Year'] = df_eng['Articles']\n",
    "df_eng['Newspaper'] = df_eng['Articles']\n",
    "# Fourth step -- set years of publication as int variables\n",
    "df_eng['Year']= df_eng['Year'].map(lambda x: str(x)[0:4])\n",
    "df_eng['Year'].astype(int)\n",
    "# Fifth step -- shorten the newspapers' names in the newspaper column\n",
    "df_eng['Newspaper']= df_eng['Newspaper'].map(lambda x: str(x)[11:14])\n",
    "# Sixth step -- sort years \n",
    "df_eng2 = df_eng.sort_values(by='Year',ascending=True)\n",
    "# Display our reworked table\n",
    "df_eng2.head()"
   ]
  },
  {
   "cell_type": "code",
   "execution_count": 4,
   "id": "c05cc1e2-85d6-4457-a68e-50b497b2860d",
   "metadata": {
    "extensions": {
     "jupyter_dashboards": {
      "activeView": "grid_default",
      "views": {
       "grid_default": {
        "col": 0,
        "height": 8,
        "hidden": false,
        "row": 2,
        "width": 12
       }
      }
     }
    }
   },
   "outputs": [
    {
     "data": {
      "application/vnd.jupyter.widget-view+json": {
       "model_id": "685108b44c584babafb1aaa817a790ab",
       "version_major": 2,
       "version_minor": 0
      },
      "text/plain": [
       "interactive(children=(Dropdown(description='column', options=('Topic_0', 'Topic_1', 'Topic_2', 'Topic_3', 'Top…"
      ]
     },
     "metadata": {},
     "output_type": "display_data"
    }
   ],
   "source": [
    "# Widget to filter table by topic value\n",
    "\n",
    "@interact\n",
    "def show_articles(column=['Topic_0', 'Topic_1', 'Topic_2', 'Topic_3', 'Topic_4'], value=(0, 1, 0.05)):\n",
    "    return df_eng.loc[df_eng[column] > value]"
   ]
  },
  {
   "cell_type": "markdown",
   "id": "41a499cf-8c37-48d5-994c-4c90f0bfaf51",
   "metadata": {
    "extensions": {
     "jupyter_dashboards": {
      "activeView": "grid_default",
      "views": {
       "grid_default": {
        "col": 0,
        "height": 2,
        "hidden": false,
        "row": 0,
        "width": 12
       }
      }
     }
    }
   },
   "source": [
    "## Our dataset "
   ]
  },
  {
   "cell_type": "code",
   "execution_count": 6,
   "id": "4dc8d286-01fd-4916-b2dd-6356288ece27",
   "metadata": {
    "extensions": {
     "jupyter_dashboards": {
      "activeView": "grid_default",
      "views": {
       "grid_default": {
        "col": 0,
        "height": 9,
        "hidden": false,
        "row": 12,
        "width": 12
       }
      }
     }
    }
   },
   "outputs": [
    {
     "name": "stdout",
     "output_type": "stream",
     "text": [
      "['ajA' 'NYT' 'Maj' 'Tor' 'Ind' 'Tim' 'Dai' 'Gua' 'Bus' 'ail' 'CDa']\n"
     ]
    },
    {
     "data": {
      "application/vnd.jupyter.widget-view+json": {
       "model_id": "e1a1598e028e4464a73a4110c66a1945",
       "version_major": 2,
       "version_minor": 0
      },
      "text/plain": [
       "interactive(children=(Dropdown(description='x', options=('Year',), value='Year'), Dropdown(description='y', op…"
      ]
     },
     "metadata": {},
     "output_type": "display_data"
    }
   ],
   "source": [
    "import plotly.express as px\n",
    "df_eng2[\"Year\"] = df_eng2[\"Year\"].astype(int)\n",
    "print(df_eng2[\"Newspaper\"].unique())\n",
    "# Define color discrete map for the newspapers' categories (hex code for colors)\n",
    "color_discrete_map = {'ajA': '#002b36', 'NYT': '#586e75', 'Maj': '#657b83', 'Tor': '#839496', 'Ind': '#93a1a1', 'Tim': '#fdf6e3', 'Dai': '#b58900', 'Gua': '#cb4b16', 'Bus': '#d30102', 'ail': '#d33682', 'CDa': '#268bd2'}\n",
    "\n",
    "@interact\n",
    "# with year only\n",
    "def scatter_plot(x=list(df_eng2.select_dtypes('number').columns[5:]), \n",
    "                 y=list(df_eng2.select_dtypes('number').columns[0:4])):\n",
    "                #theme=list(cf.themes.THEMES.keys()), \n",
    "                 #colorscale=list(cf.colors._scales_names.keys())):\n",
    "\n",
    "# with all integer categories in 'x' and 'y'\n",
    "#def scatter_plot(x=list(df_eng2.select_dtypes('number').columns), \n",
    "#                 y=list(df_eng2.select_dtypes('number').columns),\n",
    "#                 theme=list(cf.themes.THEMES.keys()), \n",
    "#                 colorscale=list(cf.colors._scales_names.keys())):\n",
    "    \n",
    "    \n",
    "    fig=px.scatter(df_eng2, x=x, y=y, color=\"Newspaper\", \n",
    "             opacity=0.5,\n",
    "             #trendline=\"rolling\",\n",
    "             #trendline_options=dict(window=2),\n",
    "             color_discrete_map=color_discrete_map)\n",
    "    fig.update_traces(marker=dict(size=15))\n",
    "    fig.show()"
   ]
  },
  {
   "cell_type": "markdown",
   "id": "9089fb52-636e-4a71-9441-12b967b07003",
   "metadata": {
    "extensions": {
     "jupyter_dashboards": {
      "activeView": "grid_default",
      "views": {
       "grid_default": {
        "col": 0,
        "height": 2,
        "hidden": false,
        "row": 10,
        "width": 12
       }
      }
     }
    }
   },
   "source": [
    "## Our plot"
   ]
  }
 ],
 "metadata": {
  "extensions": {
   "jupyter_dashboards": {
    "activeView": "grid_default",
    "version": 1,
    "views": {
     "grid_default": {
      "cellMargin": 2,
      "defaultCellHeight": 60,
      "maxColumns": 12,
      "name": "grid",
      "type": "grid"
     }
    }
   }
  },
  "kernelspec": {
   "display_name": "Python 3",
   "language": "python",
   "name": "python3"
  },
  "language_info": {
   "codemirror_mode": {
    "name": "ipython",
    "version": 3
   },
   "file_extension": ".py",
   "mimetype": "text/x-python",
   "name": "python",
   "nbconvert_exporter": "python",
   "pygments_lexer": "ipython3",
   "version": "3.6.9"
  },
  "widgets": {
   "application/vnd.jupyter.widget-state+json": {
    "state": {
     "06cd6d2667714737b106dfd3761dfabf": {
      "model_module": "@jupyter-widgets/base",
      "model_module_version": "1.2.0",
      "model_name": "LayoutModel",
      "state": {}
     },
     "0c3fe4953e1c455c829ab609415cac84": {
      "model_module": "@jupyter-widgets/controls",
      "model_module_version": "1.5.0",
      "model_name": "DropdownModel",
      "state": {
       "description": "x",
       "index": null,
       "layout": "IPY_MODEL_837aeceebecc4e2496eb87da6dffc829",
       "style": "IPY_MODEL_dc59e5311d96465daa5420b4158f896f"
      }
     },
     "128ab3f9df43496b98e727be99484a51": {
      "model_module": "@jupyter-widgets/base",
      "model_module_version": "1.2.0",
      "model_name": "LayoutModel",
      "state": {}
     },
     "18550f1451824b24bc91abe8f4becab0": {
      "model_module": "@jupyter-widgets/base",
      "model_module_version": "1.2.0",
      "model_name": "LayoutModel",
      "state": {}
     },
     "2fa520248ea847d0a82931fcd8c3e99b": {
      "model_module": "@jupyter-widgets/output",
      "model_module_version": "1.0.0",
      "model_name": "OutputModel",
      "state": {
       "layout": "IPY_MODEL_06cd6d2667714737b106dfd3761dfabf",
       "outputs": [
        {
         "data": {
          "text/html": "<div>\n<style scoped>\n    .dataframe tbody tr th:only-of-type {\n        vertical-align: middle;\n    }\n\n    .dataframe tbody tr th {\n        vertical-align: top;\n    }\n\n    .dataframe thead th {\n        text-align: right;\n    }\n</style>\n<table border=\"1\" class=\"dataframe\">\n  <thead>\n    <tr style=\"text-align: right;\">\n      <th></th>\n      <th>Articles</th>\n      <th>Topic_0</th>\n      <th>Topic_1</th>\n      <th>Topic_2</th>\n      <th>Topic_3</th>\n      <th>Topic_4</th>\n      <th>Year</th>\n      <th>Newspaper</th>\n    </tr>\n  </thead>\n  <tbody>\n    <tr>\n      <th>0</th>\n      <td>2002-03-1-MajAustr-1-67-61.txt</td>\n      <td>0.734406</td>\n      <td>0.031050</td>\n      <td>0.052941</td>\n      <td>0.121928</td>\n      <td>0.059674</td>\n      <td>2002</td>\n      <td>ajA</td>\n    </tr>\n    <tr>\n      <th>1</th>\n      <td>2018-01-24-MajAustr-1-67-2.txt</td>\n      <td>0.627873</td>\n      <td>0.004257</td>\n      <td>0.183715</td>\n      <td>0.125618</td>\n      <td>0.058536</td>\n      <td>2018</td>\n      <td>Maj</td>\n    </tr>\n    <tr>\n      <th>2</th>\n      <td>2017-11-22-Independent-1-9-4.txt</td>\n      <td>0.944391</td>\n      <td>0.000000</td>\n      <td>0.000000</td>\n      <td>0.055609</td>\n      <td>0.000000</td>\n      <td>2017</td>\n      <td>Ind</td>\n    </tr>\n    <tr>\n      <th>3</th>\n      <td>2017-09-27-Times-1-9-4.txt</td>\n      <td>0.874172</td>\n      <td>0.000000</td>\n      <td>0.125828</td>\n      <td>0.000000</td>\n      <td>0.000000</td>\n      <td>2017</td>\n      <td>Tim</td>\n    </tr>\n    <tr>\n      <th>4</th>\n      <td>2016-08-7-MajAustr-1-67-26.txt</td>\n      <td>0.374457</td>\n      <td>0.008095</td>\n      <td>0.232753</td>\n      <td>0.181643</td>\n      <td>0.203052</td>\n      <td>2016</td>\n      <td>ajA</td>\n    </tr>\n    <tr>\n      <th>...</th>\n      <td>...</td>\n      <td>...</td>\n      <td>...</td>\n      <td>...</td>\n      <td>...</td>\n      <td>...</td>\n      <td>...</td>\n      <td>...</td>\n    </tr>\n    <tr>\n      <th>106</th>\n      <td>2016-02-18-MajAustr-1-67-1.txt</td>\n      <td>0.398105</td>\n      <td>0.038285</td>\n      <td>0.406461</td>\n      <td>0.057571</td>\n      <td>0.099578</td>\n      <td>2016</td>\n      <td>Maj</td>\n    </tr>\n    <tr>\n      <th>112</th>\n      <td>2014-09-08-CDaily-1-10-9.txt</td>\n      <td>0.369046</td>\n      <td>0.000000</td>\n      <td>0.156535</td>\n      <td>0.378469</td>\n      <td>0.095950</td>\n      <td>2014</td>\n      <td>CDa</td>\n    </tr>\n    <tr>\n      <th>115</th>\n      <td>2011-08-2-MajAustr-1-67-60.txt</td>\n      <td>0.376311</td>\n      <td>0.000000</td>\n      <td>0.109846</td>\n      <td>0.453747</td>\n      <td>0.060097</td>\n      <td>2011</td>\n      <td>ajA</td>\n    </tr>\n    <tr>\n      <th>116</th>\n      <td>2020-08-8-MajAustr-1-67-3.txt</td>\n      <td>0.277453</td>\n      <td>0.151180</td>\n      <td>0.070926</td>\n      <td>0.165493</td>\n      <td>0.334948</td>\n      <td>2020</td>\n      <td>ajA</td>\n    </tr>\n    <tr>\n      <th>119</th>\n      <td>2016-09-14-MajAustr-1-67-25.txt</td>\n      <td>0.271974</td>\n      <td>0.154557</td>\n      <td>0.134024</td>\n      <td>0.100942</td>\n      <td>0.338503</td>\n      <td>2016</td>\n      <td>Maj</td>\n    </tr>\n  </tbody>\n</table>\n<p>106 rows × 8 columns</p>\n</div>",
          "text/plain": "                             Articles   Topic_0   Topic_1   Topic_2   Topic_3  \\\n0      2002-03-1-MajAustr-1-67-61.txt  0.734406  0.031050  0.052941  0.121928   \n1      2018-01-24-MajAustr-1-67-2.txt  0.627873  0.004257  0.183715  0.125618   \n2    2017-11-22-Independent-1-9-4.txt  0.944391  0.000000  0.000000  0.055609   \n3          2017-09-27-Times-1-9-4.txt  0.874172  0.000000  0.125828  0.000000   \n4      2016-08-7-MajAustr-1-67-26.txt  0.374457  0.008095  0.232753  0.181643   \n..                                ...       ...       ...       ...       ...   \n106    2016-02-18-MajAustr-1-67-1.txt  0.398105  0.038285  0.406461  0.057571   \n112      2014-09-08-CDaily-1-10-9.txt  0.369046  0.000000  0.156535  0.378469   \n115    2011-08-2-MajAustr-1-67-60.txt  0.376311  0.000000  0.109846  0.453747   \n116     2020-08-8-MajAustr-1-67-3.txt  0.277453  0.151180  0.070926  0.165493   \n119   2016-09-14-MajAustr-1-67-25.txt  0.271974  0.154557  0.134024  0.100942   \n\n      Topic_4  Year Newspaper  \n0    0.059674  2002       ajA  \n1    0.058536  2018       Maj  \n2    0.000000  2017       Ind  \n3    0.000000  2017       Tim  \n4    0.203052  2016       ajA  \n..        ...   ...       ...  \n106  0.099578  2016       Maj  \n112  0.095950  2014       CDa  \n115  0.060097  2011       ajA  \n116  0.334948  2020       ajA  \n119  0.338503  2016       Maj  \n\n[106 rows x 8 columns]"
         },
         "metadata": {},
         "output_type": "display_data"
        }
       ]
      }
     },
     "312fdd180f8a41abaad2117f0927c6a4": {
      "model_module": "@jupyter-widgets/controls",
      "model_module_version": "1.5.0",
      "model_name": "DescriptionStyleModel",
      "state": {
       "description_width": ""
      }
     },
     "4004b40083524b4caacc6a587316a3d2": {
      "model_module": "@jupyter-widgets/base",
      "model_module_version": "1.2.0",
      "model_name": "LayoutModel",
      "state": {}
     },
     "45293392f2014eeab7a0402de9f8283d": {
      "model_module": "@jupyter-widgets/base",
      "model_module_version": "1.2.0",
      "model_name": "LayoutModel",
      "state": {}
     },
     "47fdae8527294ef8a6be6f93e817d395": {
      "model_module": "@jupyter-widgets/controls",
      "model_module_version": "1.5.0",
      "model_name": "DropdownModel",
      "state": {
       "_options_labels": [
        "Year"
       ],
       "description": "x",
       "index": 0,
       "layout": "IPY_MODEL_4004b40083524b4caacc6a587316a3d2",
       "style": "IPY_MODEL_312fdd180f8a41abaad2117f0927c6a4"
      }
     },
     "609a112a796b414da1962a52888f2551": {
      "model_module": "@jupyter-widgets/controls",
      "model_module_version": "1.5.0",
      "model_name": "DescriptionStyleModel",
      "state": {
       "description_width": ""
      }
     },
     "685108b44c584babafb1aaa817a790ab": {
      "model_module": "@jupyter-widgets/controls",
      "model_module_version": "1.5.0",
      "model_name": "VBoxModel",
      "state": {
       "_dom_classes": [
        "widget-interact"
       ],
       "children": [
        "IPY_MODEL_6bbcddf9aae146e0bcc535970fd64438",
        "IPY_MODEL_c129316add7d48b1a11ebeade3b1e51d",
        "IPY_MODEL_2fa520248ea847d0a82931fcd8c3e99b"
       ],
       "layout": "IPY_MODEL_6c845d31000c423c8d1b7a6779c5f1ea"
      }
     },
     "6bbcddf9aae146e0bcc535970fd64438": {
      "model_module": "@jupyter-widgets/controls",
      "model_module_version": "1.5.0",
      "model_name": "DropdownModel",
      "state": {
       "_options_labels": [
        "Topic_0",
        "Topic_1",
        "Topic_2",
        "Topic_3",
        "Topic_4"
       ],
       "description": "column",
       "index": 0,
       "layout": "IPY_MODEL_932d40cf489447928fa9427228de5189",
       "style": "IPY_MODEL_609a112a796b414da1962a52888f2551"
      }
     },
     "6bee104b1f0742738b8867c2d9c474fb": {
      "model_module": "@jupyter-widgets/controls",
      "model_module_version": "1.5.0",
      "model_name": "VBoxModel",
      "state": {
       "_dom_classes": [
        "widget-interact"
       ],
       "children": [
        "IPY_MODEL_0c3fe4953e1c455c829ab609415cac84",
        "IPY_MODEL_ff994a25c09c45b5933d9c823d70f4a3",
        "IPY_MODEL_b3177be32f2b4a2387d344f9829c53b5"
       ],
       "layout": "IPY_MODEL_45293392f2014eeab7a0402de9f8283d"
      }
     },
     "6c845d31000c423c8d1b7a6779c5f1ea": {
      "model_module": "@jupyter-widgets/base",
      "model_module_version": "1.2.0",
      "model_name": "LayoutModel",
      "state": {}
     },
     "837aeceebecc4e2496eb87da6dffc829": {
      "model_module": "@jupyter-widgets/base",
      "model_module_version": "1.2.0",
      "model_name": "LayoutModel",
      "state": {}
     },
     "932d40cf489447928fa9427228de5189": {
      "model_module": "@jupyter-widgets/base",
      "model_module_version": "1.2.0",
      "model_name": "LayoutModel",
      "state": {}
     },
     "afeca2ac4947410d829f7ada06b6f3b7": {
      "model_module": "@jupyter-widgets/output",
      "model_module_version": "1.0.0",
      "model_name": "OutputModel",
      "state": {
       "layout": "IPY_MODEL_128ab3f9df43496b98e727be99484a51",
       "outputs": [
        {
         "data": {
          "application/vnd.plotly.v1+json": {
           "config": {
            "plotlyServerURL": "https://plot.ly"
           },
           "data": [
            {
             "hovertemplate": "Newspaper=ajA<br>Year=%{x}<br>Topic_2=%{y}<extra></extra>",
             "legendgroup": "ajA",
             "marker": {
              "color": "#002b36",
              "opacity": 0.5,
              "size": 15,
              "symbol": "circle"
             },
             "mode": "markers",
             "name": "ajA",
             "orientation": "v",
             "showlegend": true,
             "type": "scatter",
             "x": [
              2002,
              2006,
              2011,
              2011,
              2011,
              2014,
              2015,
              2016,
              2016,
              2016,
              2016,
              2018,
              2019,
              2019,
              2020,
              2020,
              2020,
              2020
             ],
             "xaxis": "x",
             "y": [
              0.05294135142493017,
              0,
              1,
              0.09537712898753582,
              0.1098457980435244,
              0.1099460921213972,
              0,
              0.04568898238533959,
              0,
              0.10213482432044477,
              0.23275347593225565,
              0.0944668089250697,
              0,
              0.02994868815612985,
              0.07092604748794422,
              0.05488100877611106,
              0.13674532048188168,
              0
             ],
             "yaxis": "y"
            },
            {
             "hovertemplate": "Newspaper=NYT<br>Year=%{x}<br>Topic_2=%{y}<extra></extra>",
             "legendgroup": "NYT",
             "marker": {
              "color": "#586e75",
              "opacity": 0.5,
              "size": 15,
              "symbol": "circle"
             },
             "mode": "markers",
             "name": "NYT",
             "orientation": "v",
             "showlegend": true,
             "type": "scatter",
             "x": [
              2003,
              2007,
              2009,
              2013,
              2013,
              2016
             ],
             "xaxis": "x",
             "y": [
              0.0675543861992488,
              0,
              0.047627217444776784,
              0.08977067493763881,
              0,
              0.08995050307943935
             ],
             "yaxis": "y"
            },
            {
             "hovertemplate": "Newspaper=Maj<br>Year=%{x}<br>Topic_2=%{y}<extra></extra>",
             "legendgroup": "Maj",
             "marker": {
              "color": "#657b83",
              "opacity": 0.5,
              "size": 15,
              "symbol": "circle"
             },
             "mode": "markers",
             "name": "Maj",
             "orientation": "v",
             "showlegend": true,
             "type": "scatter",
             "x": [
              2004,
              2006,
              2006,
              2007,
              2007,
              2007,
              2007,
              2007,
              2007,
              2008,
              2008,
              2008,
              2010,
              2010,
              2010,
              2011,
              2011,
              2011,
              2011,
              2012,
              2012,
              2013,
              2014,
              2015,
              2015,
              2015,
              2015,
              2016,
              2016,
              2018,
              2018,
              2018,
              2018,
              2018,
              2018,
              2019,
              2019,
              2019,
              2020,
              2020,
              2020,
              2020,
              2020,
              2020,
              2020,
              2020,
              2020,
              2020,
              2020
             ],
             "xaxis": "x",
             "y": [
              0.12505992431114354,
              0,
              0.0003495972536842358,
              0,
              0.14871472442108816,
              0,
              0.04786897523959824,
              0.047406831522049615,
              0,
              0,
              0.0175762694606487,
              0.036677452370489264,
              0.024119324616106937,
              0.03322376705536752,
              0,
              0,
              0.010381951305901204,
              0.08660569845140227,
              0,
              0.052821869758013,
              0.1840576889209568,
              0.06930008168189424,
              0.14871472442108816,
              0,
              0,
              0,
              0.0794668300626824,
              0.40646132461653056,
              0.1340243866046119,
              0.024054985123919157,
              0.009387023325329456,
              0.18371497699387604,
              0.0053683996471806175,
              0.08537769062577907,
              0,
              0,
              0.1285989538571551,
              0.1614661079963458,
              0.10655402149039682,
              0,
              0.043430223741494405,
              0,
              1,
              0.052046131437958935,
              0,
              0.0340012388871298,
              0.03262166470392122,
              0,
              0
             ],
             "yaxis": "y"
            },
            {
             "hovertemplate": "Newspaper=Tor<br>Year=%{x}<br>Topic_2=%{y}<extra></extra>",
             "legendgroup": "Tor",
             "marker": {
              "color": "#839496",
              "opacity": 0.5,
              "size": 15,
              "symbol": "circle"
             },
             "mode": "markers",
             "name": "Tor",
             "orientation": "v",
             "showlegend": true,
             "type": "scatter",
             "x": [
              2004,
              2005,
              2007,
              2010,
              2019
             ],
             "xaxis": "x",
             "y": [
              0.14943266573121586,
              0.03747730429906946,
              0.2283310943507553,
              0.005076286564841896,
              0.040393546459775664
             ],
             "yaxis": "y"
            },
            {
             "hovertemplate": "Newspaper=Ind<br>Year=%{x}<br>Topic_2=%{y}<extra></extra>",
             "legendgroup": "Ind",
             "marker": {
              "color": "#93a1a1",
              "opacity": 0.5,
              "size": 15,
              "symbol": "circle"
             },
             "mode": "markers",
             "name": "Ind",
             "orientation": "v",
             "showlegend": true,
             "type": "scatter",
             "x": [
              2004,
              2005,
              2008,
              2014,
              2015,
              2017,
              2017,
              2021,
              2021
             ],
             "xaxis": "x",
             "y": [
              0.10426520037227748,
              0.9811042034883676,
              0.03484136453645628,
              0,
              0,
              0,
              0,
              0,
              0.09397378412506682
             ],
             "yaxis": "y"
            },
            {
             "hovertemplate": "Newspaper=Tim<br>Year=%{x}<br>Topic_2=%{y}<extra></extra>",
             "legendgroup": "Tim",
             "marker": {
              "color": "#fdf6e3",
              "opacity": 0.5,
              "size": 15,
              "symbol": "circle"
             },
             "mode": "markers",
             "name": "Tim",
             "orientation": "v",
             "showlegend": true,
             "type": "scatter",
             "x": [
              2006,
              2009,
              2010,
              2012,
              2015,
              2016,
              2016,
              2017
             ],
             "xaxis": "x",
             "y": [
              0,
              0.0020547720140557868,
              0.14665702962888286,
              0.06604814562483198,
              0,
              0.07589819598491655,
              0.07466718225133552,
              0.12582818641080354
             ],
             "yaxis": "y"
            },
            {
             "hovertemplate": "Newspaper=Dai<br>Year=%{x}<br>Topic_2=%{y}<extra></extra>",
             "legendgroup": "Dai",
             "marker": {
              "color": "#b58900",
              "opacity": 0.5,
              "size": 15,
              "symbol": "circle"
             },
             "mode": "markers",
             "name": "Dai",
             "orientation": "v",
             "showlegend": true,
             "type": "scatter",
             "x": [
              2007,
              2014,
              2015,
              2015
             ],
             "xaxis": "x",
             "y": [
              0,
              0.14668111547805707,
              0,
              0.035432392238410215
             ],
             "yaxis": "y"
            },
            {
             "hovertemplate": "Newspaper=Gua<br>Year=%{x}<br>Topic_2=%{y}<extra></extra>",
             "legendgroup": "Gua",
             "marker": {
              "color": "#cb4b16",
              "opacity": 0.5,
              "size": 15,
              "symbol": "circle"
             },
             "mode": "markers",
             "name": "Gua",
             "orientation": "v",
             "showlegend": true,
             "type": "scatter",
             "x": [
              2011,
              2012,
              2012,
              2012,
              2013,
              2013,
              2013,
              2014,
              2014,
              2015
             ],
             "xaxis": "x",
             "y": [
              0.026878553140184728,
              0.28358563241974605,
              0.0675543861992488,
              0,
              0,
              0.1029772303128562,
              0,
              1,
              0.002026867539820636,
              0
             ],
             "yaxis": "y"
            },
            {
             "hovertemplate": "Newspaper=Bus<br>Year=%{x}<br>Topic_2=%{y}<extra></extra>",
             "legendgroup": "Bus",
             "marker": {
              "color": "#d30102",
              "opacity": 0.5,
              "size": 15,
              "symbol": "circle"
             },
             "mode": "markers",
             "name": "Bus",
             "orientation": "v",
             "showlegend": true,
             "type": "scatter",
             "x": [
              2012,
              2012,
              2020
             ],
             "xaxis": "x",
             "y": [
              0,
              0.9982868504141456,
              0.05234379495997045
             ],
             "yaxis": "y"
            },
            {
             "hovertemplate": "Newspaper=ail<br>Year=%{x}<br>Topic_2=%{y}<extra></extra>",
             "legendgroup": "ail",
             "marker": {
              "color": "#d33682",
              "opacity": 0.5,
              "size": 15,
              "symbol": "circle"
             },
             "mode": "markers",
             "name": "ail",
             "orientation": "v",
             "showlegend": true,
             "type": "scatter",
             "x": [
              2014,
              2016,
              2018
             ],
             "xaxis": "x",
             "y": [
              0,
              0.011492654478317696,
              0.2651987519190492
             ],
             "yaxis": "y"
            },
            {
             "hovertemplate": "Newspaper=CDa<br>Year=%{x}<br>Topic_2=%{y}<extra></extra>",
             "legendgroup": "CDa",
             "marker": {
              "color": "#268bd2",
              "opacity": 0.5,
              "size": 15,
              "symbol": "circle"
             },
             "mode": "markers",
             "name": "CDa",
             "orientation": "v",
             "showlegend": true,
             "type": "scatter",
             "x": [
              2014,
              2014,
              2014,
              2014,
              2017,
              2019
             ],
             "xaxis": "x",
             "y": [
              0.15653459624726124,
              0,
              0,
              0.007075572671409303,
              0,
              0
             ],
             "yaxis": "y"
            }
           ],
           "layout": {
            "autosize": true,
            "legend": {
             "title": {
              "text": "Newspaper"
             },
             "tracegroupgap": 0
            },
            "margin": {
             "t": 60
            },
            "template": {
             "data": {
              "bar": [
               {
                "error_x": {
                 "color": "#2a3f5f"
                },
                "error_y": {
                 "color": "#2a3f5f"
                },
                "marker": {
                 "line": {
                  "color": "#E5ECF6",
                  "width": 0.5
                 },
                 "pattern": {
                  "fillmode": "overlay",
                  "size": 10,
                  "solidity": 0.2
                 }
                },
                "type": "bar"
               }
              ],
              "barpolar": [
               {
                "marker": {
                 "line": {
                  "color": "#E5ECF6",
                  "width": 0.5
                 },
                 "pattern": {
                  "fillmode": "overlay",
                  "size": 10,
                  "solidity": 0.2
                 }
                },
                "type": "barpolar"
               }
              ],
              "carpet": [
               {
                "aaxis": {
                 "endlinecolor": "#2a3f5f",
                 "gridcolor": "white",
                 "linecolor": "white",
                 "minorgridcolor": "white",
                 "startlinecolor": "#2a3f5f"
                },
                "baxis": {
                 "endlinecolor": "#2a3f5f",
                 "gridcolor": "white",
                 "linecolor": "white",
                 "minorgridcolor": "white",
                 "startlinecolor": "#2a3f5f"
                },
                "type": "carpet"
               }
              ],
              "choropleth": [
               {
                "colorbar": {
                 "outlinewidth": 0,
                 "ticks": ""
                },
                "type": "choropleth"
               }
              ],
              "contour": [
               {
                "colorbar": {
                 "outlinewidth": 0,
                 "ticks": ""
                },
                "colorscale": [
                 [
                  0,
                  "#0d0887"
                 ],
                 [
                  0.1111111111111111,
                  "#46039f"
                 ],
                 [
                  0.2222222222222222,
                  "#7201a8"
                 ],
                 [
                  0.3333333333333333,
                  "#9c179e"
                 ],
                 [
                  0.4444444444444444,
                  "#bd3786"
                 ],
                 [
                  0.5555555555555556,
                  "#d8576b"
                 ],
                 [
                  0.6666666666666666,
                  "#ed7953"
                 ],
                 [
                  0.7777777777777778,
                  "#fb9f3a"
                 ],
                 [
                  0.8888888888888888,
                  "#fdca26"
                 ],
                 [
                  1,
                  "#f0f921"
                 ]
                ],
                "type": "contour"
               }
              ],
              "contourcarpet": [
               {
                "colorbar": {
                 "outlinewidth": 0,
                 "ticks": ""
                },
                "type": "contourcarpet"
               }
              ],
              "heatmap": [
               {
                "colorbar": {
                 "outlinewidth": 0,
                 "ticks": ""
                },
                "colorscale": [
                 [
                  0,
                  "#0d0887"
                 ],
                 [
                  0.1111111111111111,
                  "#46039f"
                 ],
                 [
                  0.2222222222222222,
                  "#7201a8"
                 ],
                 [
                  0.3333333333333333,
                  "#9c179e"
                 ],
                 [
                  0.4444444444444444,
                  "#bd3786"
                 ],
                 [
                  0.5555555555555556,
                  "#d8576b"
                 ],
                 [
                  0.6666666666666666,
                  "#ed7953"
                 ],
                 [
                  0.7777777777777778,
                  "#fb9f3a"
                 ],
                 [
                  0.8888888888888888,
                  "#fdca26"
                 ],
                 [
                  1,
                  "#f0f921"
                 ]
                ],
                "type": "heatmap"
               }
              ],
              "heatmapgl": [
               {
                "colorbar": {
                 "outlinewidth": 0,
                 "ticks": ""
                },
                "colorscale": [
                 [
                  0,
                  "#0d0887"
                 ],
                 [
                  0.1111111111111111,
                  "#46039f"
                 ],
                 [
                  0.2222222222222222,
                  "#7201a8"
                 ],
                 [
                  0.3333333333333333,
                  "#9c179e"
                 ],
                 [
                  0.4444444444444444,
                  "#bd3786"
                 ],
                 [
                  0.5555555555555556,
                  "#d8576b"
                 ],
                 [
                  0.6666666666666666,
                  "#ed7953"
                 ],
                 [
                  0.7777777777777778,
                  "#fb9f3a"
                 ],
                 [
                  0.8888888888888888,
                  "#fdca26"
                 ],
                 [
                  1,
                  "#f0f921"
                 ]
                ],
                "type": "heatmapgl"
               }
              ],
              "histogram": [
               {
                "marker": {
                 "pattern": {
                  "fillmode": "overlay",
                  "size": 10,
                  "solidity": 0.2
                 }
                },
                "type": "histogram"
               }
              ],
              "histogram2d": [
               {
                "colorbar": {
                 "outlinewidth": 0,
                 "ticks": ""
                },
                "colorscale": [
                 [
                  0,
                  "#0d0887"
                 ],
                 [
                  0.1111111111111111,
                  "#46039f"
                 ],
                 [
                  0.2222222222222222,
                  "#7201a8"
                 ],
                 [
                  0.3333333333333333,
                  "#9c179e"
                 ],
                 [
                  0.4444444444444444,
                  "#bd3786"
                 ],
                 [
                  0.5555555555555556,
                  "#d8576b"
                 ],
                 [
                  0.6666666666666666,
                  "#ed7953"
                 ],
                 [
                  0.7777777777777778,
                  "#fb9f3a"
                 ],
                 [
                  0.8888888888888888,
                  "#fdca26"
                 ],
                 [
                  1,
                  "#f0f921"
                 ]
                ],
                "type": "histogram2d"
               }
              ],
              "histogram2dcontour": [
               {
                "colorbar": {
                 "outlinewidth": 0,
                 "ticks": ""
                },
                "colorscale": [
                 [
                  0,
                  "#0d0887"
                 ],
                 [
                  0.1111111111111111,
                  "#46039f"
                 ],
                 [
                  0.2222222222222222,
                  "#7201a8"
                 ],
                 [
                  0.3333333333333333,
                  "#9c179e"
                 ],
                 [
                  0.4444444444444444,
                  "#bd3786"
                 ],
                 [
                  0.5555555555555556,
                  "#d8576b"
                 ],
                 [
                  0.6666666666666666,
                  "#ed7953"
                 ],
                 [
                  0.7777777777777778,
                  "#fb9f3a"
                 ],
                 [
                  0.8888888888888888,
                  "#fdca26"
                 ],
                 [
                  1,
                  "#f0f921"
                 ]
                ],
                "type": "histogram2dcontour"
               }
              ],
              "mesh3d": [
               {
                "colorbar": {
                 "outlinewidth": 0,
                 "ticks": ""
                },
                "type": "mesh3d"
               }
              ],
              "parcoords": [
               {
                "line": {
                 "colorbar": {
                  "outlinewidth": 0,
                  "ticks": ""
                 }
                },
                "type": "parcoords"
               }
              ],
              "pie": [
               {
                "automargin": true,
                "type": "pie"
               }
              ],
              "scatter": [
               {
                "marker": {
                 "colorbar": {
                  "outlinewidth": 0,
                  "ticks": ""
                 }
                },
                "type": "scatter"
               }
              ],
              "scatter3d": [
               {
                "line": {
                 "colorbar": {
                  "outlinewidth": 0,
                  "ticks": ""
                 }
                },
                "marker": {
                 "colorbar": {
                  "outlinewidth": 0,
                  "ticks": ""
                 }
                },
                "type": "scatter3d"
               }
              ],
              "scattercarpet": [
               {
                "marker": {
                 "colorbar": {
                  "outlinewidth": 0,
                  "ticks": ""
                 }
                },
                "type": "scattercarpet"
               }
              ],
              "scattergeo": [
               {
                "marker": {
                 "colorbar": {
                  "outlinewidth": 0,
                  "ticks": ""
                 }
                },
                "type": "scattergeo"
               }
              ],
              "scattergl": [
               {
                "marker": {
                 "colorbar": {
                  "outlinewidth": 0,
                  "ticks": ""
                 }
                },
                "type": "scattergl"
               }
              ],
              "scattermapbox": [
               {
                "marker": {
                 "colorbar": {
                  "outlinewidth": 0,
                  "ticks": ""
                 }
                },
                "type": "scattermapbox"
               }
              ],
              "scatterpolar": [
               {
                "marker": {
                 "colorbar": {
                  "outlinewidth": 0,
                  "ticks": ""
                 }
                },
                "type": "scatterpolar"
               }
              ],
              "scatterpolargl": [
               {
                "marker": {
                 "colorbar": {
                  "outlinewidth": 0,
                  "ticks": ""
                 }
                },
                "type": "scatterpolargl"
               }
              ],
              "scatterternary": [
               {
                "marker": {
                 "colorbar": {
                  "outlinewidth": 0,
                  "ticks": ""
                 }
                },
                "type": "scatterternary"
               }
              ],
              "surface": [
               {
                "colorbar": {
                 "outlinewidth": 0,
                 "ticks": ""
                },
                "colorscale": [
                 [
                  0,
                  "#0d0887"
                 ],
                 [
                  0.1111111111111111,
                  "#46039f"
                 ],
                 [
                  0.2222222222222222,
                  "#7201a8"
                 ],
                 [
                  0.3333333333333333,
                  "#9c179e"
                 ],
                 [
                  0.4444444444444444,
                  "#bd3786"
                 ],
                 [
                  0.5555555555555556,
                  "#d8576b"
                 ],
                 [
                  0.6666666666666666,
                  "#ed7953"
                 ],
                 [
                  0.7777777777777778,
                  "#fb9f3a"
                 ],
                 [
                  0.8888888888888888,
                  "#fdca26"
                 ],
                 [
                  1,
                  "#f0f921"
                 ]
                ],
                "type": "surface"
               }
              ],
              "table": [
               {
                "cells": {
                 "fill": {
                  "color": "#EBF0F8"
                 },
                 "line": {
                  "color": "white"
                 }
                },
                "header": {
                 "fill": {
                  "color": "#C8D4E3"
                 },
                 "line": {
                  "color": "white"
                 }
                },
                "type": "table"
               }
              ]
             },
             "layout": {
              "annotationdefaults": {
               "arrowcolor": "#2a3f5f",
               "arrowhead": 0,
               "arrowwidth": 1
              },
              "autotypenumbers": "strict",
              "coloraxis": {
               "colorbar": {
                "outlinewidth": 0,
                "ticks": ""
               }
              },
              "colorscale": {
               "diverging": [
                [
                 0,
                 "#8e0152"
                ],
                [
                 0.1,
                 "#c51b7d"
                ],
                [
                 0.2,
                 "#de77ae"
                ],
                [
                 0.3,
                 "#f1b6da"
                ],
                [
                 0.4,
                 "#fde0ef"
                ],
                [
                 0.5,
                 "#f7f7f7"
                ],
                [
                 0.6,
                 "#e6f5d0"
                ],
                [
                 0.7,
                 "#b8e186"
                ],
                [
                 0.8,
                 "#7fbc41"
                ],
                [
                 0.9,
                 "#4d9221"
                ],
                [
                 1,
                 "#276419"
                ]
               ],
               "sequential": [
                [
                 0,
                 "#0d0887"
                ],
                [
                 0.1111111111111111,
                 "#46039f"
                ],
                [
                 0.2222222222222222,
                 "#7201a8"
                ],
                [
                 0.3333333333333333,
                 "#9c179e"
                ],
                [
                 0.4444444444444444,
                 "#bd3786"
                ],
                [
                 0.5555555555555556,
                 "#d8576b"
                ],
                [
                 0.6666666666666666,
                 "#ed7953"
                ],
                [
                 0.7777777777777778,
                 "#fb9f3a"
                ],
                [
                 0.8888888888888888,
                 "#fdca26"
                ],
                [
                 1,
                 "#f0f921"
                ]
               ],
               "sequentialminus": [
                [
                 0,
                 "#0d0887"
                ],
                [
                 0.1111111111111111,
                 "#46039f"
                ],
                [
                 0.2222222222222222,
                 "#7201a8"
                ],
                [
                 0.3333333333333333,
                 "#9c179e"
                ],
                [
                 0.4444444444444444,
                 "#bd3786"
                ],
                [
                 0.5555555555555556,
                 "#d8576b"
                ],
                [
                 0.6666666666666666,
                 "#ed7953"
                ],
                [
                 0.7777777777777778,
                 "#fb9f3a"
                ],
                [
                 0.8888888888888888,
                 "#fdca26"
                ],
                [
                 1,
                 "#f0f921"
                ]
               ]
              },
              "colorway": [
               "#636efa",
               "#EF553B",
               "#00cc96",
               "#ab63fa",
               "#FFA15A",
               "#19d3f3",
               "#FF6692",
               "#B6E880",
               "#FF97FF",
               "#FECB52"
              ],
              "font": {
               "color": "#2a3f5f"
              },
              "geo": {
               "bgcolor": "white",
               "lakecolor": "white",
               "landcolor": "#E5ECF6",
               "showlakes": true,
               "showland": true,
               "subunitcolor": "white"
              },
              "hoverlabel": {
               "align": "left"
              },
              "hovermode": "closest",
              "mapbox": {
               "style": "light"
              },
              "paper_bgcolor": "white",
              "plot_bgcolor": "#E5ECF6",
              "polar": {
               "angularaxis": {
                "gridcolor": "white",
                "linecolor": "white",
                "ticks": ""
               },
               "bgcolor": "#E5ECF6",
               "radialaxis": {
                "gridcolor": "white",
                "linecolor": "white",
                "ticks": ""
               }
              },
              "scene": {
               "xaxis": {
                "backgroundcolor": "#E5ECF6",
                "gridcolor": "white",
                "gridwidth": 2,
                "linecolor": "white",
                "showbackground": true,
                "ticks": "",
                "zerolinecolor": "white"
               },
               "yaxis": {
                "backgroundcolor": "#E5ECF6",
                "gridcolor": "white",
                "gridwidth": 2,
                "linecolor": "white",
                "showbackground": true,
                "ticks": "",
                "zerolinecolor": "white"
               },
               "zaxis": {
                "backgroundcolor": "#E5ECF6",
                "gridcolor": "white",
                "gridwidth": 2,
                "linecolor": "white",
                "showbackground": true,
                "ticks": "",
                "zerolinecolor": "white"
               }
              },
              "shapedefaults": {
               "line": {
                "color": "#2a3f5f"
               }
              },
              "ternary": {
               "aaxis": {
                "gridcolor": "white",
                "linecolor": "white",
                "ticks": ""
               },
               "baxis": {
                "gridcolor": "white",
                "linecolor": "white",
                "ticks": ""
               },
               "bgcolor": "#E5ECF6",
               "caxis": {
                "gridcolor": "white",
                "linecolor": "white",
                "ticks": ""
               }
              },
              "title": {
               "x": 0.05
              },
              "xaxis": {
               "automargin": true,
               "gridcolor": "white",
               "linecolor": "white",
               "ticks": "",
               "title": {
                "standoff": 15
               },
               "zerolinecolor": "white",
               "zerolinewidth": 2
              },
              "yaxis": {
               "automargin": true,
               "gridcolor": "white",
               "linecolor": "white",
               "ticks": "",
               "title": {
                "standoff": 15
               },
               "zerolinecolor": "white",
               "zerolinewidth": 2
              }
             }
            },
            "xaxis": {
             "anchor": "y",
             "autorange": true,
             "domain": [
              0,
              1
             ],
             "range": [
              2000.1943339018383,
              2022.8056660981617
             ],
             "title": {
              "text": "Year"
             },
             "type": "linear"
            },
            "yaxis": {
             "anchor": "x",
             "autorange": true,
             "domain": [
              0,
              1
             ],
             "range": [
              -0.11366806136680613,
              1.1136680613668062
             ],
             "title": {
              "text": "Topic_2"
             },
             "type": "linear"
            }
           }
          },
          "text/html": "<div>                            <div id=\"1058f08d-0a27-4965-a1a3-a60de796af7f\" class=\"plotly-graph-div\" style=\"height:525px; width:100%;\"></div>            <script type=\"text/javascript\">                require([\"plotly\"], function(Plotly) {                    window.PLOTLYENV=window.PLOTLYENV || {};                                    if (document.getElementById(\"1058f08d-0a27-4965-a1a3-a60de796af7f\")) {                    Plotly.newPlot(                        \"1058f08d-0a27-4965-a1a3-a60de796af7f\",                        [{\"hovertemplate\":\"Newspaper=ajA<br>Year=%{x}<br>Topic_2=%{y}<extra></extra>\",\"legendgroup\":\"ajA\",\"marker\":{\"color\":\"#002b36\",\"opacity\":0.5,\"symbol\":\"circle\",\"size\":15},\"mode\":\"markers\",\"name\":\"ajA\",\"orientation\":\"v\",\"showlegend\":true,\"x\":[2002,2006,2011,2011,2011,2014,2015,2016,2016,2016,2016,2018,2019,2019,2020,2020,2020,2020],\"xaxis\":\"x\",\"y\":[0.05294135142493017,0.0,1.0,0.09537712898753582,0.1098457980435244,0.1099460921213972,0.0,0.04568898238533959,0.0,0.10213482432044477,0.23275347593225565,0.0944668089250697,0.0,0.02994868815612985,0.07092604748794422,0.05488100877611106,0.13674532048188168,0.0],\"yaxis\":\"y\",\"type\":\"scatter\"},{\"hovertemplate\":\"Newspaper=NYT<br>Year=%{x}<br>Topic_2=%{y}<extra></extra>\",\"legendgroup\":\"NYT\",\"marker\":{\"color\":\"#586e75\",\"opacity\":0.5,\"symbol\":\"circle\",\"size\":15},\"mode\":\"markers\",\"name\":\"NYT\",\"orientation\":\"v\",\"showlegend\":true,\"x\":[2003,2007,2009,2013,2013,2016],\"xaxis\":\"x\",\"y\":[0.0675543861992488,0.0,0.047627217444776784,0.08977067493763881,0.0,0.08995050307943935],\"yaxis\":\"y\",\"type\":\"scatter\"},{\"hovertemplate\":\"Newspaper=Maj<br>Year=%{x}<br>Topic_2=%{y}<extra></extra>\",\"legendgroup\":\"Maj\",\"marker\":{\"color\":\"#657b83\",\"opacity\":0.5,\"symbol\":\"circle\",\"size\":15},\"mode\":\"markers\",\"name\":\"Maj\",\"orientation\":\"v\",\"showlegend\":true,\"x\":[2004,2006,2006,2007,2007,2007,2007,2007,2007,2008,2008,2008,2010,2010,2010,2011,2011,2011,2011,2012,2012,2013,2014,2015,2015,2015,2015,2016,2016,2018,2018,2018,2018,2018,2018,2019,2019,2019,2020,2020,2020,2020,2020,2020,2020,2020,2020,2020,2020],\"xaxis\":\"x\",\"y\":[0.12505992431114354,0.0,0.0003495972536842358,0.0,0.14871472442108816,0.0,0.04786897523959824,0.047406831522049615,0.0,0.0,0.0175762694606487,0.036677452370489264,0.024119324616106937,0.03322376705536752,0.0,0.0,0.010381951305901204,0.08660569845140227,0.0,0.052821869758013,0.1840576889209568,0.06930008168189424,0.14871472442108816,0.0,0.0,0.0,0.0794668300626824,0.40646132461653056,0.1340243866046119,0.024054985123919157,0.009387023325329456,0.18371497699387604,0.0053683996471806175,0.08537769062577907,0.0,0.0,0.1285989538571551,0.1614661079963458,0.10655402149039682,0.0,0.043430223741494405,0.0,1.0,0.052046131437958935,0.0,0.0340012388871298,0.03262166470392122,0.0,0.0],\"yaxis\":\"y\",\"type\":\"scatter\"},{\"hovertemplate\":\"Newspaper=Tor<br>Year=%{x}<br>Topic_2=%{y}<extra></extra>\",\"legendgroup\":\"Tor\",\"marker\":{\"color\":\"#839496\",\"opacity\":0.5,\"symbol\":\"circle\",\"size\":15},\"mode\":\"markers\",\"name\":\"Tor\",\"orientation\":\"v\",\"showlegend\":true,\"x\":[2004,2005,2007,2010,2019],\"xaxis\":\"x\",\"y\":[0.14943266573121586,0.03747730429906946,0.2283310943507553,0.005076286564841896,0.040393546459775664],\"yaxis\":\"y\",\"type\":\"scatter\"},{\"hovertemplate\":\"Newspaper=Ind<br>Year=%{x}<br>Topic_2=%{y}<extra></extra>\",\"legendgroup\":\"Ind\",\"marker\":{\"color\":\"#93a1a1\",\"opacity\":0.5,\"symbol\":\"circle\",\"size\":15},\"mode\":\"markers\",\"name\":\"Ind\",\"orientation\":\"v\",\"showlegend\":true,\"x\":[2004,2005,2008,2014,2015,2017,2017,2021,2021],\"xaxis\":\"x\",\"y\":[0.10426520037227748,0.9811042034883676,0.03484136453645628,0.0,0.0,0.0,0.0,0.0,0.09397378412506682],\"yaxis\":\"y\",\"type\":\"scatter\"},{\"hovertemplate\":\"Newspaper=Tim<br>Year=%{x}<br>Topic_2=%{y}<extra></extra>\",\"legendgroup\":\"Tim\",\"marker\":{\"color\":\"#fdf6e3\",\"opacity\":0.5,\"symbol\":\"circle\",\"size\":15},\"mode\":\"markers\",\"name\":\"Tim\",\"orientation\":\"v\",\"showlegend\":true,\"x\":[2006,2009,2010,2012,2015,2016,2016,2017],\"xaxis\":\"x\",\"y\":[0.0,0.0020547720140557868,0.14665702962888286,0.06604814562483198,0.0,0.07589819598491655,0.07466718225133552,0.12582818641080354],\"yaxis\":\"y\",\"type\":\"scatter\"},{\"hovertemplate\":\"Newspaper=Dai<br>Year=%{x}<br>Topic_2=%{y}<extra></extra>\",\"legendgroup\":\"Dai\",\"marker\":{\"color\":\"#b58900\",\"opacity\":0.5,\"symbol\":\"circle\",\"size\":15},\"mode\":\"markers\",\"name\":\"Dai\",\"orientation\":\"v\",\"showlegend\":true,\"x\":[2007,2014,2015,2015],\"xaxis\":\"x\",\"y\":[0.0,0.14668111547805707,0.0,0.035432392238410215],\"yaxis\":\"y\",\"type\":\"scatter\"},{\"hovertemplate\":\"Newspaper=Gua<br>Year=%{x}<br>Topic_2=%{y}<extra></extra>\",\"legendgroup\":\"Gua\",\"marker\":{\"color\":\"#cb4b16\",\"opacity\":0.5,\"symbol\":\"circle\",\"size\":15},\"mode\":\"markers\",\"name\":\"Gua\",\"orientation\":\"v\",\"showlegend\":true,\"x\":[2011,2012,2012,2012,2013,2013,2013,2014,2014,2015],\"xaxis\":\"x\",\"y\":[0.026878553140184728,0.28358563241974605,0.0675543861992488,0.0,0.0,0.1029772303128562,0.0,1.0,0.002026867539820636,0.0],\"yaxis\":\"y\",\"type\":\"scatter\"},{\"hovertemplate\":\"Newspaper=Bus<br>Year=%{x}<br>Topic_2=%{y}<extra></extra>\",\"legendgroup\":\"Bus\",\"marker\":{\"color\":\"#d30102\",\"opacity\":0.5,\"symbol\":\"circle\",\"size\":15},\"mode\":\"markers\",\"name\":\"Bus\",\"orientation\":\"v\",\"showlegend\":true,\"x\":[2012,2012,2020],\"xaxis\":\"x\",\"y\":[0.0,0.9982868504141456,0.05234379495997045],\"yaxis\":\"y\",\"type\":\"scatter\"},{\"hovertemplate\":\"Newspaper=ail<br>Year=%{x}<br>Topic_2=%{y}<extra></extra>\",\"legendgroup\":\"ail\",\"marker\":{\"color\":\"#d33682\",\"opacity\":0.5,\"symbol\":\"circle\",\"size\":15},\"mode\":\"markers\",\"name\":\"ail\",\"orientation\":\"v\",\"showlegend\":true,\"x\":[2014,2016,2018],\"xaxis\":\"x\",\"y\":[0.0,0.011492654478317696,0.2651987519190492],\"yaxis\":\"y\",\"type\":\"scatter\"},{\"hovertemplate\":\"Newspaper=CDa<br>Year=%{x}<br>Topic_2=%{y}<extra></extra>\",\"legendgroup\":\"CDa\",\"marker\":{\"color\":\"#268bd2\",\"opacity\":0.5,\"symbol\":\"circle\",\"size\":15},\"mode\":\"markers\",\"name\":\"CDa\",\"orientation\":\"v\",\"showlegend\":true,\"x\":[2014,2014,2014,2014,2017,2019],\"xaxis\":\"x\",\"y\":[0.15653459624726124,0.0,0.0,0.007075572671409303,0.0,0.0],\"yaxis\":\"y\",\"type\":\"scatter\"}],                        {\"template\":{\"data\":{\"bar\":[{\"error_x\":{\"color\":\"#2a3f5f\"},\"error_y\":{\"color\":\"#2a3f5f\"},\"marker\":{\"line\":{\"color\":\"#E5ECF6\",\"width\":0.5},\"pattern\":{\"fillmode\":\"overlay\",\"size\":10,\"solidity\":0.2}},\"type\":\"bar\"}],\"barpolar\":[{\"marker\":{\"line\":{\"color\":\"#E5ECF6\",\"width\":0.5},\"pattern\":{\"fillmode\":\"overlay\",\"size\":10,\"solidity\":0.2}},\"type\":\"barpolar\"}],\"carpet\":[{\"aaxis\":{\"endlinecolor\":\"#2a3f5f\",\"gridcolor\":\"white\",\"linecolor\":\"white\",\"minorgridcolor\":\"white\",\"startlinecolor\":\"#2a3f5f\"},\"baxis\":{\"endlinecolor\":\"#2a3f5f\",\"gridcolor\":\"white\",\"linecolor\":\"white\",\"minorgridcolor\":\"white\",\"startlinecolor\":\"#2a3f5f\"},\"type\":\"carpet\"}],\"choropleth\":[{\"colorbar\":{\"outlinewidth\":0,\"ticks\":\"\"},\"type\":\"choropleth\"}],\"contour\":[{\"colorbar\":{\"outlinewidth\":0,\"ticks\":\"\"},\"colorscale\":[[0.0,\"#0d0887\"],[0.1111111111111111,\"#46039f\"],[0.2222222222222222,\"#7201a8\"],[0.3333333333333333,\"#9c179e\"],[0.4444444444444444,\"#bd3786\"],[0.5555555555555556,\"#d8576b\"],[0.6666666666666666,\"#ed7953\"],[0.7777777777777778,\"#fb9f3a\"],[0.8888888888888888,\"#fdca26\"],[1.0,\"#f0f921\"]],\"type\":\"contour\"}],\"contourcarpet\":[{\"colorbar\":{\"outlinewidth\":0,\"ticks\":\"\"},\"type\":\"contourcarpet\"}],\"heatmap\":[{\"colorbar\":{\"outlinewidth\":0,\"ticks\":\"\"},\"colorscale\":[[0.0,\"#0d0887\"],[0.1111111111111111,\"#46039f\"],[0.2222222222222222,\"#7201a8\"],[0.3333333333333333,\"#9c179e\"],[0.4444444444444444,\"#bd3786\"],[0.5555555555555556,\"#d8576b\"],[0.6666666666666666,\"#ed7953\"],[0.7777777777777778,\"#fb9f3a\"],[0.8888888888888888,\"#fdca26\"],[1.0,\"#f0f921\"]],\"type\":\"heatmap\"}],\"heatmapgl\":[{\"colorbar\":{\"outlinewidth\":0,\"ticks\":\"\"},\"colorscale\":[[0.0,\"#0d0887\"],[0.1111111111111111,\"#46039f\"],[0.2222222222222222,\"#7201a8\"],[0.3333333333333333,\"#9c179e\"],[0.4444444444444444,\"#bd3786\"],[0.5555555555555556,\"#d8576b\"],[0.6666666666666666,\"#ed7953\"],[0.7777777777777778,\"#fb9f3a\"],[0.8888888888888888,\"#fdca26\"],[1.0,\"#f0f921\"]],\"type\":\"heatmapgl\"}],\"histogram\":[{\"marker\":{\"pattern\":{\"fillmode\":\"overlay\",\"size\":10,\"solidity\":0.2}},\"type\":\"histogram\"}],\"histogram2d\":[{\"colorbar\":{\"outlinewidth\":0,\"ticks\":\"\"},\"colorscale\":[[0.0,\"#0d0887\"],[0.1111111111111111,\"#46039f\"],[0.2222222222222222,\"#7201a8\"],[0.3333333333333333,\"#9c179e\"],[0.4444444444444444,\"#bd3786\"],[0.5555555555555556,\"#d8576b\"],[0.6666666666666666,\"#ed7953\"],[0.7777777777777778,\"#fb9f3a\"],[0.8888888888888888,\"#fdca26\"],[1.0,\"#f0f921\"]],\"type\":\"histogram2d\"}],\"histogram2dcontour\":[{\"colorbar\":{\"outlinewidth\":0,\"ticks\":\"\"},\"colorscale\":[[0.0,\"#0d0887\"],[0.1111111111111111,\"#46039f\"],[0.2222222222222222,\"#7201a8\"],[0.3333333333333333,\"#9c179e\"],[0.4444444444444444,\"#bd3786\"],[0.5555555555555556,\"#d8576b\"],[0.6666666666666666,\"#ed7953\"],[0.7777777777777778,\"#fb9f3a\"],[0.8888888888888888,\"#fdca26\"],[1.0,\"#f0f921\"]],\"type\":\"histogram2dcontour\"}],\"mesh3d\":[{\"colorbar\":{\"outlinewidth\":0,\"ticks\":\"\"},\"type\":\"mesh3d\"}],\"parcoords\":[{\"line\":{\"colorbar\":{\"outlinewidth\":0,\"ticks\":\"\"}},\"type\":\"parcoords\"}],\"pie\":[{\"automargin\":true,\"type\":\"pie\"}],\"scatter\":[{\"marker\":{\"colorbar\":{\"outlinewidth\":0,\"ticks\":\"\"}},\"type\":\"scatter\"}],\"scatter3d\":[{\"line\":{\"colorbar\":{\"outlinewidth\":0,\"ticks\":\"\"}},\"marker\":{\"colorbar\":{\"outlinewidth\":0,\"ticks\":\"\"}},\"type\":\"scatter3d\"}],\"scattercarpet\":[{\"marker\":{\"colorbar\":{\"outlinewidth\":0,\"ticks\":\"\"}},\"type\":\"scattercarpet\"}],\"scattergeo\":[{\"marker\":{\"colorbar\":{\"outlinewidth\":0,\"ticks\":\"\"}},\"type\":\"scattergeo\"}],\"scattergl\":[{\"marker\":{\"colorbar\":{\"outlinewidth\":0,\"ticks\":\"\"}},\"type\":\"scattergl\"}],\"scattermapbox\":[{\"marker\":{\"colorbar\":{\"outlinewidth\":0,\"ticks\":\"\"}},\"type\":\"scattermapbox\"}],\"scatterpolar\":[{\"marker\":{\"colorbar\":{\"outlinewidth\":0,\"ticks\":\"\"}},\"type\":\"scatterpolar\"}],\"scatterpolargl\":[{\"marker\":{\"colorbar\":{\"outlinewidth\":0,\"ticks\":\"\"}},\"type\":\"scatterpolargl\"}],\"scatterternary\":[{\"marker\":{\"colorbar\":{\"outlinewidth\":0,\"ticks\":\"\"}},\"type\":\"scatterternary\"}],\"surface\":[{\"colorbar\":{\"outlinewidth\":0,\"ticks\":\"\"},\"colorscale\":[[0.0,\"#0d0887\"],[0.1111111111111111,\"#46039f\"],[0.2222222222222222,\"#7201a8\"],[0.3333333333333333,\"#9c179e\"],[0.4444444444444444,\"#bd3786\"],[0.5555555555555556,\"#d8576b\"],[0.6666666666666666,\"#ed7953\"],[0.7777777777777778,\"#fb9f3a\"],[0.8888888888888888,\"#fdca26\"],[1.0,\"#f0f921\"]],\"type\":\"surface\"}],\"table\":[{\"cells\":{\"fill\":{\"color\":\"#EBF0F8\"},\"line\":{\"color\":\"white\"}},\"header\":{\"fill\":{\"color\":\"#C8D4E3\"},\"line\":{\"color\":\"white\"}},\"type\":\"table\"}]},\"layout\":{\"annotationdefaults\":{\"arrowcolor\":\"#2a3f5f\",\"arrowhead\":0,\"arrowwidth\":1},\"autotypenumbers\":\"strict\",\"coloraxis\":{\"colorbar\":{\"outlinewidth\":0,\"ticks\":\"\"}},\"colorscale\":{\"diverging\":[[0,\"#8e0152\"],[0.1,\"#c51b7d\"],[0.2,\"#de77ae\"],[0.3,\"#f1b6da\"],[0.4,\"#fde0ef\"],[0.5,\"#f7f7f7\"],[0.6,\"#e6f5d0\"],[0.7,\"#b8e186\"],[0.8,\"#7fbc41\"],[0.9,\"#4d9221\"],[1,\"#276419\"]],\"sequential\":[[0.0,\"#0d0887\"],[0.1111111111111111,\"#46039f\"],[0.2222222222222222,\"#7201a8\"],[0.3333333333333333,\"#9c179e\"],[0.4444444444444444,\"#bd3786\"],[0.5555555555555556,\"#d8576b\"],[0.6666666666666666,\"#ed7953\"],[0.7777777777777778,\"#fb9f3a\"],[0.8888888888888888,\"#fdca26\"],[1.0,\"#f0f921\"]],\"sequentialminus\":[[0.0,\"#0d0887\"],[0.1111111111111111,\"#46039f\"],[0.2222222222222222,\"#7201a8\"],[0.3333333333333333,\"#9c179e\"],[0.4444444444444444,\"#bd3786\"],[0.5555555555555556,\"#d8576b\"],[0.6666666666666666,\"#ed7953\"],[0.7777777777777778,\"#fb9f3a\"],[0.8888888888888888,\"#fdca26\"],[1.0,\"#f0f921\"]]},\"colorway\":[\"#636efa\",\"#EF553B\",\"#00cc96\",\"#ab63fa\",\"#FFA15A\",\"#19d3f3\",\"#FF6692\",\"#B6E880\",\"#FF97FF\",\"#FECB52\"],\"font\":{\"color\":\"#2a3f5f\"},\"geo\":{\"bgcolor\":\"white\",\"lakecolor\":\"white\",\"landcolor\":\"#E5ECF6\",\"showlakes\":true,\"showland\":true,\"subunitcolor\":\"white\"},\"hoverlabel\":{\"align\":\"left\"},\"hovermode\":\"closest\",\"mapbox\":{\"style\":\"light\"},\"paper_bgcolor\":\"white\",\"plot_bgcolor\":\"#E5ECF6\",\"polar\":{\"angularaxis\":{\"gridcolor\":\"white\",\"linecolor\":\"white\",\"ticks\":\"\"},\"bgcolor\":\"#E5ECF6\",\"radialaxis\":{\"gridcolor\":\"white\",\"linecolor\":\"white\",\"ticks\":\"\"}},\"scene\":{\"xaxis\":{\"backgroundcolor\":\"#E5ECF6\",\"gridcolor\":\"white\",\"gridwidth\":2,\"linecolor\":\"white\",\"showbackground\":true,\"ticks\":\"\",\"zerolinecolor\":\"white\"},\"yaxis\":{\"backgroundcolor\":\"#E5ECF6\",\"gridcolor\":\"white\",\"gridwidth\":2,\"linecolor\":\"white\",\"showbackground\":true,\"ticks\":\"\",\"zerolinecolor\":\"white\"},\"zaxis\":{\"backgroundcolor\":\"#E5ECF6\",\"gridcolor\":\"white\",\"gridwidth\":2,\"linecolor\":\"white\",\"showbackground\":true,\"ticks\":\"\",\"zerolinecolor\":\"white\"}},\"shapedefaults\":{\"line\":{\"color\":\"#2a3f5f\"}},\"ternary\":{\"aaxis\":{\"gridcolor\":\"white\",\"linecolor\":\"white\",\"ticks\":\"\"},\"baxis\":{\"gridcolor\":\"white\",\"linecolor\":\"white\",\"ticks\":\"\"},\"bgcolor\":\"#E5ECF6\",\"caxis\":{\"gridcolor\":\"white\",\"linecolor\":\"white\",\"ticks\":\"\"}},\"title\":{\"x\":0.05},\"xaxis\":{\"automargin\":true,\"gridcolor\":\"white\",\"linecolor\":\"white\",\"ticks\":\"\",\"title\":{\"standoff\":15},\"zerolinecolor\":\"white\",\"zerolinewidth\":2},\"yaxis\":{\"automargin\":true,\"gridcolor\":\"white\",\"linecolor\":\"white\",\"ticks\":\"\",\"title\":{\"standoff\":15},\"zerolinecolor\":\"white\",\"zerolinewidth\":2}}},\"xaxis\":{\"anchor\":\"y\",\"domain\":[0.0,1.0],\"title\":{\"text\":\"Year\"}},\"yaxis\":{\"anchor\":\"x\",\"domain\":[0.0,1.0],\"title\":{\"text\":\"Topic_2\"}},\"legend\":{\"title\":{\"text\":\"Newspaper\"},\"tracegroupgap\":0},\"margin\":{\"t\":60}},                        {\"responsive\": true}                    ).then(function(){\n                            \nvar gd = document.getElementById('1058f08d-0a27-4965-a1a3-a60de796af7f');\nvar x = new MutationObserver(function (mutations, observer) {{\n        var display = window.getComputedStyle(gd).display;\n        if (!display || display === 'none') {{\n            console.log([gd, 'removed!']);\n            Plotly.purge(gd);\n            observer.disconnect();\n        }}\n}});\n\n// Listen for the removal of the full notebook cells\nvar notebookContainer = gd.closest('#notebook-container');\nif (notebookContainer) {{\n    x.observe(notebookContainer, {childList: true});\n}}\n\n// Listen for the clearing of the current output cell\nvar outputEl = gd.closest('.output');\nif (outputEl) {{\n    x.observe(outputEl, {childList: true});\n}}\n\n                        })                };                });            </script>        </div>"
         },
         "metadata": {},
         "output_type": "display_data"
        }
       ]
      }
     },
     "b3177be32f2b4a2387d344f9829c53b5": {
      "model_module": "@jupyter-widgets/output",
      "model_module_version": "1.0.0",
      "model_name": "OutputModel",
      "state": {
       "layout": "IPY_MODEL_18550f1451824b24bc91abe8f4becab0",
       "outputs": [
        {
         "data": {
          "application/vnd.plotly.v1+json": {
           "config": {
            "plotlyServerURL": "https://plot.ly"
           },
           "data": [
            {
             "hovertemplate": "Newspaper=ajA<br>index=%{x}<br>Topic_0=%{y}<extra></extra>",
             "legendgroup": "ajA",
             "marker": {
              "color": "#002b36",
              "opacity": 0.5,
              "size": 15,
              "symbol": "circle"
             },
             "mode": "markers",
             "name": "ajA",
             "orientation": "v",
             "showlegend": true,
             "type": "scatter",
             "x": [
              0,
              68,
              108,
              86,
              115,
              21,
              12,
              97,
              5,
              8,
              4,
              25,
              45,
              44,
              116,
              39,
              33,
              49
             ],
             "xaxis": "x",
             "y": [
              0.7344061409198571,
              0.899488597435661,
              0,
              0.8027734048987042,
              0.3763106454601789,
              0.6988648702796134,
              1,
              0.24034847789903635,
              0.8630301494459149,
              0.4804504627800655,
              0.3744570392533345,
              0.8051865469762669,
              1,
              0.543227892428469,
              0.2774525822691715,
              0.5188051172739666,
              0.6139981152290693,
              1
             ],
             "yaxis": "y"
            },
            {
             "hovertemplate": "Newspaper=NYT<br>index=%{x}<br>Topic_0=%{y}<extra></extra>",
             "legendgroup": "NYT",
             "marker": {
              "color": "#586e75",
              "opacity": 0.5,
              "size": 15,
              "symbol": "circle"
             },
             "mode": "markers",
             "name": "NYT",
             "orientation": "v",
             "showlegend": true,
             "type": "scatter",
             "x": [
              76,
              67,
              57,
              90,
              102,
              6
             ],
             "xaxis": "x",
             "y": [
              0.7597036666329167,
              1,
              0.3577030599844152,
              0.8493560193089246,
              0,
              0.4377120668318998
             ],
             "yaxis": "y"
            },
            {
             "hovertemplate": "Newspaper=Maj<br>index=%{x}<br>Topic_0=%{y}<extra></extra>",
             "legendgroup": "Maj",
             "marker": {
              "color": "#657b83",
              "opacity": 0.5,
              "size": 15,
              "symbol": "circle"
             },
             "mode": "markers",
             "name": "Maj",
             "orientation": "v",
             "showlegend": true,
             "type": "scatter",
             "x": [
              75,
              69,
              70,
              77,
              96,
              66,
              65,
              63,
              61,
              59,
              58,
              103,
              52,
              53,
              64,
              78,
              92,
              100,
              80,
              83,
              93,
              88,
              94,
              99,
              13,
              118,
              23,
              106,
              119,
              37,
              26,
              1,
              11,
              47,
              48,
              113,
              41,
              42,
              30,
              27,
              28,
              29,
              105,
              34,
              35,
              36,
              38,
              31,
              120
             ],
             "xaxis": "x",
             "y": [
              0.7492368149093654,
              1,
              0.9996504027463158,
              0.9738614587047658,
              0.10629255975187656,
              1,
              0.9521310247604018,
              0.8565135569983355,
              0.5300874798687131,
              1,
              0.6110042490550418,
              0.3935387981171423,
              0.8442883769581547,
              0.6256817168302639,
              0.9433091653017932,
              1,
              0.9896180486940988,
              0.17636685644087302,
              1,
              0.7479775539121593,
              0.4225963532187188,
              0.443391134820662,
              0.10629255975187656,
              0,
              0.8960593281181176,
              0,
              0.5184134928674476,
              0.3981045809887095,
              0.2719736874868897,
              0.762287427375555,
              0.9906129766746704,
              0.6278734790418946,
              0.8943126169662886,
              0.785358033348883,
              1,
              0,
              0.6310253039203255,
              0.4198808026618197,
              0.3023065120096851,
              1,
              0.4123877095256173,
              1,
              0,
              0.454757620510433,
              1,
              0.9659987611128702,
              0.9673783352960788,
              0.9561677366763291,
              0
             ],
             "yaxis": "y"
            },
            {
             "hovertemplate": "Newspaper=Tor<br>index=%{x}<br>Topic_0=%{y}<extra></extra>",
             "legendgroup": "Tor",
             "marker": {
              "color": "#839496",
              "opacity": 0.5,
              "size": 15,
              "symbol": "circle"
             },
             "mode": "markers",
             "name": "Tor",
             "orientation": "v",
             "showlegend": true,
             "type": "scatter",
             "x": [
              74,
              72,
              62,
              56,
              43
             ],
             "xaxis": "x",
             "y": [
              0.6527171523621804,
              0.9008021778597286,
              0.3920245807179755,
              0.6343020017396273,
              0.5838631453142531
             ],
             "yaxis": "y"
            },
            {
             "hovertemplate": "Newspaper=Ind<br>index=%{x}<br>Topic_0=%{y}<extra></extra>",
             "legendgroup": "Ind",
             "marker": {
              "color": "#93a1a1",
              "opacity": 0.5,
              "size": 15,
              "symbol": "circle"
             },
             "mode": "markers",
             "name": "Ind",
             "orientation": "v",
             "showlegend": true,
             "type": "scatter",
             "x": [
              73,
              107,
              101,
              18,
              110,
              114,
              2,
              19,
              79
             ],
             "xaxis": "x",
             "y": [
              0.34490149872463755,
              0,
              0.14396416486552166,
              0.9252767879536472,
              0,
              0,
              0.9443913830340503,
              1,
              0.6946825994538436
             ],
             "yaxis": "y"
            },
            {
             "hovertemplate": "Newspaper=Tim<br>index=%{x}<br>Topic_0=%{y}<extra></extra>",
             "legendgroup": "Tim",
             "marker": {
              "color": "#fdf6e3",
              "opacity": 0.5,
              "size": 15,
              "symbol": "circle"
             },
             "mode": "markers",
             "name": "Tim",
             "orientation": "v",
             "showlegend": true,
             "type": "scatter",
             "x": [
              71,
              111,
              55,
              95,
              14,
              10,
              9,
              3
             ],
             "xaxis": "x",
             "y": [
              1,
              0,
              0.6214155508842455,
              0.14922695939718655,
              0.9870341176429888,
              0.9241018040150836,
              0.9223320688883648,
              0.8741718135891964
             ],
             "yaxis": "y"
            },
            {
             "hovertemplate": "Newspaper=Dai<br>index=%{x}<br>Topic_0=%{y}<extra></extra>",
             "legendgroup": "Dai",
             "marker": {
              "color": "#b58900",
              "opacity": 0.5,
              "size": 15,
              "symbol": "circle"
             },
             "mode": "markers",
             "name": "Dai",
             "orientation": "v",
             "showlegend": true,
             "type": "scatter",
             "x": [
              60,
              24,
              16,
              15
             ],
             "xaxis": "x",
             "y": [
              0.7113588987991732,
              0.3604403462344056,
              1,
              0.8358829253168585
             ],
             "yaxis": "y"
            },
            {
             "hovertemplate": "Newspaper=Gua<br>index=%{x}<br>Topic_0=%{y}<extra></extra>",
             "legendgroup": "Gua",
             "marker": {
              "color": "#cb4b16",
              "opacity": 0.5,
              "size": 15,
              "symbol": "circle"
             },
             "mode": "markers",
             "name": "Gua",
             "orientation": "v",
             "showlegend": true,
             "type": "scatter",
             "x": [
              85,
              82,
              81,
              87,
              54,
              89,
              91,
              109,
              50,
              98
             ],
             "xaxis": "x",
             "y": [
              0.4907685926764458,
              0.3627835308615009,
              0.7597036666329167,
              0.9065173879772662,
              1,
              0.5198285480881698,
              1,
              0,
              0.9979731324601794,
              0
             ],
             "yaxis": "y"
            },
            {
             "hovertemplate": "Newspaper=Bus<br>index=%{x}<br>Topic_0=%{y}<extra></extra>",
             "legendgroup": "Bus",
             "marker": {
              "color": "#d30102",
              "opacity": 0.5,
              "size": 15,
              "symbol": "circle"
             },
             "mode": "markers",
             "name": "Bus",
             "orientation": "v",
             "showlegend": true,
             "type": "scatter",
             "x": [
              84,
              104,
              32
             ],
             "xaxis": "x",
             "y": [
              1,
              0,
              0.9415597162092296
             ],
             "yaxis": "y"
            },
            {
             "hovertemplate": "Newspaper=ail<br>index=%{x}<br>Topic_0=%{y}<extra></extra>",
             "legendgroup": "ail",
             "marker": {
              "color": "#d33682",
              "opacity": 0.5,
              "size": 15,
              "symbol": "circle"
             },
             "mode": "markers",
             "name": "ail",
             "orientation": "v",
             "showlegend": true,
             "type": "scatter",
             "x": [
              22,
              7,
              46
             ],
             "xaxis": "x",
             "y": [
              0.5744721265680484,
              0.9885073455216824,
              0.3700570908442475
             ],
             "yaxis": "y"
            },
            {
             "hovertemplate": "Newspaper=CDa<br>index=%{x}<br>Topic_0=%{y}<extra></extra>",
             "legendgroup": "CDa",
             "marker": {
              "color": "#268bd2",
              "opacity": 0.5,
              "size": 15,
              "symbol": "circle"
             },
             "mode": "markers",
             "name": "CDa",
             "orientation": "v",
             "showlegend": true,
             "type": "scatter",
             "x": [
              112,
              17,
              51,
              20,
              117,
              40
             ],
             "xaxis": "x",
             "y": [
              0.3690464031633646,
              0.7450331131401344,
              0.4236393119472482,
              0.4623128674167203,
              0,
              0.9913063075291496
             ],
             "yaxis": "y"
            }
           ],
           "layout": {
            "autosize": true,
            "legend": {
             "title": {
              "text": "Newspaper"
             },
             "tracegroupgap": 0
            },
            "margin": {
             "t": 60
            },
            "template": {
             "data": {
              "bar": [
               {
                "error_x": {
                 "color": "#2a3f5f"
                },
                "error_y": {
                 "color": "#2a3f5f"
                },
                "marker": {
                 "line": {
                  "color": "#E5ECF6",
                  "width": 0.5
                 },
                 "pattern": {
                  "fillmode": "overlay",
                  "size": 10,
                  "solidity": 0.2
                 }
                },
                "type": "bar"
               }
              ],
              "barpolar": [
               {
                "marker": {
                 "line": {
                  "color": "#E5ECF6",
                  "width": 0.5
                 },
                 "pattern": {
                  "fillmode": "overlay",
                  "size": 10,
                  "solidity": 0.2
                 }
                },
                "type": "barpolar"
               }
              ],
              "carpet": [
               {
                "aaxis": {
                 "endlinecolor": "#2a3f5f",
                 "gridcolor": "white",
                 "linecolor": "white",
                 "minorgridcolor": "white",
                 "startlinecolor": "#2a3f5f"
                },
                "baxis": {
                 "endlinecolor": "#2a3f5f",
                 "gridcolor": "white",
                 "linecolor": "white",
                 "minorgridcolor": "white",
                 "startlinecolor": "#2a3f5f"
                },
                "type": "carpet"
               }
              ],
              "choropleth": [
               {
                "colorbar": {
                 "outlinewidth": 0,
                 "ticks": ""
                },
                "type": "choropleth"
               }
              ],
              "contour": [
               {
                "colorbar": {
                 "outlinewidth": 0,
                 "ticks": ""
                },
                "colorscale": [
                 [
                  0,
                  "#0d0887"
                 ],
                 [
                  0.1111111111111111,
                  "#46039f"
                 ],
                 [
                  0.2222222222222222,
                  "#7201a8"
                 ],
                 [
                  0.3333333333333333,
                  "#9c179e"
                 ],
                 [
                  0.4444444444444444,
                  "#bd3786"
                 ],
                 [
                  0.5555555555555556,
                  "#d8576b"
                 ],
                 [
                  0.6666666666666666,
                  "#ed7953"
                 ],
                 [
                  0.7777777777777778,
                  "#fb9f3a"
                 ],
                 [
                  0.8888888888888888,
                  "#fdca26"
                 ],
                 [
                  1,
                  "#f0f921"
                 ]
                ],
                "type": "contour"
               }
              ],
              "contourcarpet": [
               {
                "colorbar": {
                 "outlinewidth": 0,
                 "ticks": ""
                },
                "type": "contourcarpet"
               }
              ],
              "heatmap": [
               {
                "colorbar": {
                 "outlinewidth": 0,
                 "ticks": ""
                },
                "colorscale": [
                 [
                  0,
                  "#0d0887"
                 ],
                 [
                  0.1111111111111111,
                  "#46039f"
                 ],
                 [
                  0.2222222222222222,
                  "#7201a8"
                 ],
                 [
                  0.3333333333333333,
                  "#9c179e"
                 ],
                 [
                  0.4444444444444444,
                  "#bd3786"
                 ],
                 [
                  0.5555555555555556,
                  "#d8576b"
                 ],
                 [
                  0.6666666666666666,
                  "#ed7953"
                 ],
                 [
                  0.7777777777777778,
                  "#fb9f3a"
                 ],
                 [
                  0.8888888888888888,
                  "#fdca26"
                 ],
                 [
                  1,
                  "#f0f921"
                 ]
                ],
                "type": "heatmap"
               }
              ],
              "heatmapgl": [
               {
                "colorbar": {
                 "outlinewidth": 0,
                 "ticks": ""
                },
                "colorscale": [
                 [
                  0,
                  "#0d0887"
                 ],
                 [
                  0.1111111111111111,
                  "#46039f"
                 ],
                 [
                  0.2222222222222222,
                  "#7201a8"
                 ],
                 [
                  0.3333333333333333,
                  "#9c179e"
                 ],
                 [
                  0.4444444444444444,
                  "#bd3786"
                 ],
                 [
                  0.5555555555555556,
                  "#d8576b"
                 ],
                 [
                  0.6666666666666666,
                  "#ed7953"
                 ],
                 [
                  0.7777777777777778,
                  "#fb9f3a"
                 ],
                 [
                  0.8888888888888888,
                  "#fdca26"
                 ],
                 [
                  1,
                  "#f0f921"
                 ]
                ],
                "type": "heatmapgl"
               }
              ],
              "histogram": [
               {
                "marker": {
                 "pattern": {
                  "fillmode": "overlay",
                  "size": 10,
                  "solidity": 0.2
                 }
                },
                "type": "histogram"
               }
              ],
              "histogram2d": [
               {
                "colorbar": {
                 "outlinewidth": 0,
                 "ticks": ""
                },
                "colorscale": [
                 [
                  0,
                  "#0d0887"
                 ],
                 [
                  0.1111111111111111,
                  "#46039f"
                 ],
                 [
                  0.2222222222222222,
                  "#7201a8"
                 ],
                 [
                  0.3333333333333333,
                  "#9c179e"
                 ],
                 [
                  0.4444444444444444,
                  "#bd3786"
                 ],
                 [
                  0.5555555555555556,
                  "#d8576b"
                 ],
                 [
                  0.6666666666666666,
                  "#ed7953"
                 ],
                 [
                  0.7777777777777778,
                  "#fb9f3a"
                 ],
                 [
                  0.8888888888888888,
                  "#fdca26"
                 ],
                 [
                  1,
                  "#f0f921"
                 ]
                ],
                "type": "histogram2d"
               }
              ],
              "histogram2dcontour": [
               {
                "colorbar": {
                 "outlinewidth": 0,
                 "ticks": ""
                },
                "colorscale": [
                 [
                  0,
                  "#0d0887"
                 ],
                 [
                  0.1111111111111111,
                  "#46039f"
                 ],
                 [
                  0.2222222222222222,
                  "#7201a8"
                 ],
                 [
                  0.3333333333333333,
                  "#9c179e"
                 ],
                 [
                  0.4444444444444444,
                  "#bd3786"
                 ],
                 [
                  0.5555555555555556,
                  "#d8576b"
                 ],
                 [
                  0.6666666666666666,
                  "#ed7953"
                 ],
                 [
                  0.7777777777777778,
                  "#fb9f3a"
                 ],
                 [
                  0.8888888888888888,
                  "#fdca26"
                 ],
                 [
                  1,
                  "#f0f921"
                 ]
                ],
                "type": "histogram2dcontour"
               }
              ],
              "mesh3d": [
               {
                "colorbar": {
                 "outlinewidth": 0,
                 "ticks": ""
                },
                "type": "mesh3d"
               }
              ],
              "parcoords": [
               {
                "line": {
                 "colorbar": {
                  "outlinewidth": 0,
                  "ticks": ""
                 }
                },
                "type": "parcoords"
               }
              ],
              "pie": [
               {
                "automargin": true,
                "type": "pie"
               }
              ],
              "scatter": [
               {
                "marker": {
                 "colorbar": {
                  "outlinewidth": 0,
                  "ticks": ""
                 }
                },
                "type": "scatter"
               }
              ],
              "scatter3d": [
               {
                "line": {
                 "colorbar": {
                  "outlinewidth": 0,
                  "ticks": ""
                 }
                },
                "marker": {
                 "colorbar": {
                  "outlinewidth": 0,
                  "ticks": ""
                 }
                },
                "type": "scatter3d"
               }
              ],
              "scattercarpet": [
               {
                "marker": {
                 "colorbar": {
                  "outlinewidth": 0,
                  "ticks": ""
                 }
                },
                "type": "scattercarpet"
               }
              ],
              "scattergeo": [
               {
                "marker": {
                 "colorbar": {
                  "outlinewidth": 0,
                  "ticks": ""
                 }
                },
                "type": "scattergeo"
               }
              ],
              "scattergl": [
               {
                "marker": {
                 "colorbar": {
                  "outlinewidth": 0,
                  "ticks": ""
                 }
                },
                "type": "scattergl"
               }
              ],
              "scattermapbox": [
               {
                "marker": {
                 "colorbar": {
                  "outlinewidth": 0,
                  "ticks": ""
                 }
                },
                "type": "scattermapbox"
               }
              ],
              "scatterpolar": [
               {
                "marker": {
                 "colorbar": {
                  "outlinewidth": 0,
                  "ticks": ""
                 }
                },
                "type": "scatterpolar"
               }
              ],
              "scatterpolargl": [
               {
                "marker": {
                 "colorbar": {
                  "outlinewidth": 0,
                  "ticks": ""
                 }
                },
                "type": "scatterpolargl"
               }
              ],
              "scatterternary": [
               {
                "marker": {
                 "colorbar": {
                  "outlinewidth": 0,
                  "ticks": ""
                 }
                },
                "type": "scatterternary"
               }
              ],
              "surface": [
               {
                "colorbar": {
                 "outlinewidth": 0,
                 "ticks": ""
                },
                "colorscale": [
                 [
                  0,
                  "#0d0887"
                 ],
                 [
                  0.1111111111111111,
                  "#46039f"
                 ],
                 [
                  0.2222222222222222,
                  "#7201a8"
                 ],
                 [
                  0.3333333333333333,
                  "#9c179e"
                 ],
                 [
                  0.4444444444444444,
                  "#bd3786"
                 ],
                 [
                  0.5555555555555556,
                  "#d8576b"
                 ],
                 [
                  0.6666666666666666,
                  "#ed7953"
                 ],
                 [
                  0.7777777777777778,
                  "#fb9f3a"
                 ],
                 [
                  0.8888888888888888,
                  "#fdca26"
                 ],
                 [
                  1,
                  "#f0f921"
                 ]
                ],
                "type": "surface"
               }
              ],
              "table": [
               {
                "cells": {
                 "fill": {
                  "color": "#EBF0F8"
                 },
                 "line": {
                  "color": "white"
                 }
                },
                "header": {
                 "fill": {
                  "color": "#C8D4E3"
                 },
                 "line": {
                  "color": "white"
                 }
                },
                "type": "table"
               }
              ]
             },
             "layout": {
              "annotationdefaults": {
               "arrowcolor": "#2a3f5f",
               "arrowhead": 0,
               "arrowwidth": 1
              },
              "autotypenumbers": "strict",
              "coloraxis": {
               "colorbar": {
                "outlinewidth": 0,
                "ticks": ""
               }
              },
              "colorscale": {
               "diverging": [
                [
                 0,
                 "#8e0152"
                ],
                [
                 0.1,
                 "#c51b7d"
                ],
                [
                 0.2,
                 "#de77ae"
                ],
                [
                 0.3,
                 "#f1b6da"
                ],
                [
                 0.4,
                 "#fde0ef"
                ],
                [
                 0.5,
                 "#f7f7f7"
                ],
                [
                 0.6,
                 "#e6f5d0"
                ],
                [
                 0.7,
                 "#b8e186"
                ],
                [
                 0.8,
                 "#7fbc41"
                ],
                [
                 0.9,
                 "#4d9221"
                ],
                [
                 1,
                 "#276419"
                ]
               ],
               "sequential": [
                [
                 0,
                 "#0d0887"
                ],
                [
                 0.1111111111111111,
                 "#46039f"
                ],
                [
                 0.2222222222222222,
                 "#7201a8"
                ],
                [
                 0.3333333333333333,
                 "#9c179e"
                ],
                [
                 0.4444444444444444,
                 "#bd3786"
                ],
                [
                 0.5555555555555556,
                 "#d8576b"
                ],
                [
                 0.6666666666666666,
                 "#ed7953"
                ],
                [
                 0.7777777777777778,
                 "#fb9f3a"
                ],
                [
                 0.8888888888888888,
                 "#fdca26"
                ],
                [
                 1,
                 "#f0f921"
                ]
               ],
               "sequentialminus": [
                [
                 0,
                 "#0d0887"
                ],
                [
                 0.1111111111111111,
                 "#46039f"
                ],
                [
                 0.2222222222222222,
                 "#7201a8"
                ],
                [
                 0.3333333333333333,
                 "#9c179e"
                ],
                [
                 0.4444444444444444,
                 "#bd3786"
                ],
                [
                 0.5555555555555556,
                 "#d8576b"
                ],
                [
                 0.6666666666666666,
                 "#ed7953"
                ],
                [
                 0.7777777777777778,
                 "#fb9f3a"
                ],
                [
                 0.8888888888888888,
                 "#fdca26"
                ],
                [
                 1,
                 "#f0f921"
                ]
               ]
              },
              "colorway": [
               "#636efa",
               "#EF553B",
               "#00cc96",
               "#ab63fa",
               "#FFA15A",
               "#19d3f3",
               "#FF6692",
               "#B6E880",
               "#FF97FF",
               "#FECB52"
              ],
              "font": {
               "color": "#2a3f5f"
              },
              "geo": {
               "bgcolor": "white",
               "lakecolor": "white",
               "landcolor": "#E5ECF6",
               "showlakes": true,
               "showland": true,
               "subunitcolor": "white"
              },
              "hoverlabel": {
               "align": "left"
              },
              "hovermode": "closest",
              "mapbox": {
               "style": "light"
              },
              "paper_bgcolor": "white",
              "plot_bgcolor": "#E5ECF6",
              "polar": {
               "angularaxis": {
                "gridcolor": "white",
                "linecolor": "white",
                "ticks": ""
               },
               "bgcolor": "#E5ECF6",
               "radialaxis": {
                "gridcolor": "white",
                "linecolor": "white",
                "ticks": ""
               }
              },
              "scene": {
               "xaxis": {
                "backgroundcolor": "#E5ECF6",
                "gridcolor": "white",
                "gridwidth": 2,
                "linecolor": "white",
                "showbackground": true,
                "ticks": "",
                "zerolinecolor": "white"
               },
               "yaxis": {
                "backgroundcolor": "#E5ECF6",
                "gridcolor": "white",
                "gridwidth": 2,
                "linecolor": "white",
                "showbackground": true,
                "ticks": "",
                "zerolinecolor": "white"
               },
               "zaxis": {
                "backgroundcolor": "#E5ECF6",
                "gridcolor": "white",
                "gridwidth": 2,
                "linecolor": "white",
                "showbackground": true,
                "ticks": "",
                "zerolinecolor": "white"
               }
              },
              "shapedefaults": {
               "line": {
                "color": "#2a3f5f"
               }
              },
              "ternary": {
               "aaxis": {
                "gridcolor": "white",
                "linecolor": "white",
                "ticks": ""
               },
               "baxis": {
                "gridcolor": "white",
                "linecolor": "white",
                "ticks": ""
               },
               "bgcolor": "#E5ECF6",
               "caxis": {
                "gridcolor": "white",
                "linecolor": "white",
                "ticks": ""
               }
              },
              "title": {
               "x": 0.05
              },
              "xaxis": {
               "automargin": true,
               "gridcolor": "white",
               "linecolor": "white",
               "ticks": "",
               "title": {
                "standoff": 15
               },
               "zerolinecolor": "white",
               "zerolinewidth": 2
              },
              "yaxis": {
               "automargin": true,
               "gridcolor": "white",
               "linecolor": "white",
               "ticks": "",
               "title": {
                "standoff": 15
               },
               "zerolinecolor": "white",
               "zerolinewidth": 2
              }
             }
            },
            "xaxis": {
             "anchor": "y",
             "autorange": true,
             "domain": [
              0,
              1
             ],
             "range": [
              -11.404206935758953,
              131.40420693575896
             ],
             "title": {
              "text": "index"
             },
             "type": "linear"
            },
            "yaxis": {
             "anchor": "x",
             "autorange": true,
             "domain": [
              0,
              1
             ],
             "range": [
              -0.11366806136680613,
              1.1136680613668062
             ],
             "title": {
              "text": "Topic_0"
             },
             "type": "linear"
            }
           }
          },
          "text/html": "<div>                            <div id=\"5117f637-e143-4d15-92b9-73f2abf42fed\" class=\"plotly-graph-div\" style=\"height:525px; width:100%;\"></div>            <script type=\"text/javascript\">                require([\"plotly\"], function(Plotly) {                    window.PLOTLYENV=window.PLOTLYENV || {};                                    if (document.getElementById(\"5117f637-e143-4d15-92b9-73f2abf42fed\")) {                    Plotly.newPlot(                        \"5117f637-e143-4d15-92b9-73f2abf42fed\",                        [{\"hovertemplate\":\"Newspaper=ajA<br>index=%{x}<br>Topic_0=%{y}<extra></extra>\",\"legendgroup\":\"ajA\",\"marker\":{\"color\":\"#002b36\",\"opacity\":0.5,\"symbol\":\"circle\",\"size\":15},\"mode\":\"markers\",\"name\":\"ajA\",\"orientation\":\"v\",\"showlegend\":true,\"x\":[0,68,108,86,115,21,12,97,5,8,4,25,45,44,116,39,33,49],\"xaxis\":\"x\",\"y\":[0.7344061409198571,0.899488597435661,0.0,0.8027734048987042,0.3763106454601789,0.6988648702796134,1.0,0.24034847789903635,0.8630301494459149,0.4804504627800655,0.3744570392533345,0.8051865469762669,1.0,0.543227892428469,0.2774525822691715,0.5188051172739666,0.6139981152290693,1.0],\"yaxis\":\"y\",\"type\":\"scatter\"},{\"hovertemplate\":\"Newspaper=NYT<br>index=%{x}<br>Topic_0=%{y}<extra></extra>\",\"legendgroup\":\"NYT\",\"marker\":{\"color\":\"#586e75\",\"opacity\":0.5,\"symbol\":\"circle\",\"size\":15},\"mode\":\"markers\",\"name\":\"NYT\",\"orientation\":\"v\",\"showlegend\":true,\"x\":[76,67,57,90,102,6],\"xaxis\":\"x\",\"y\":[0.7597036666329167,1.0,0.3577030599844152,0.8493560193089246,0.0,0.4377120668318998],\"yaxis\":\"y\",\"type\":\"scatter\"},{\"hovertemplate\":\"Newspaper=Maj<br>index=%{x}<br>Topic_0=%{y}<extra></extra>\",\"legendgroup\":\"Maj\",\"marker\":{\"color\":\"#657b83\",\"opacity\":0.5,\"symbol\":\"circle\",\"size\":15},\"mode\":\"markers\",\"name\":\"Maj\",\"orientation\":\"v\",\"showlegend\":true,\"x\":[75,69,70,77,96,66,65,63,61,59,58,103,52,53,64,78,92,100,80,83,93,88,94,99,13,118,23,106,119,37,26,1,11,47,48,113,41,42,30,27,28,29,105,34,35,36,38,31,120],\"xaxis\":\"x\",\"y\":[0.7492368149093654,1.0,0.9996504027463158,0.9738614587047658,0.10629255975187656,1.0,0.9521310247604018,0.8565135569983355,0.5300874798687131,1.0,0.6110042490550418,0.3935387981171423,0.8442883769581547,0.6256817168302639,0.9433091653017932,1.0,0.9896180486940988,0.17636685644087302,1.0,0.7479775539121593,0.4225963532187188,0.443391134820662,0.10629255975187656,0.0,0.8960593281181176,0.0,0.5184134928674476,0.3981045809887095,0.2719736874868897,0.762287427375555,0.9906129766746704,0.6278734790418946,0.8943126169662886,0.785358033348883,1.0,0.0,0.6310253039203255,0.4198808026618197,0.3023065120096851,1.0,0.4123877095256173,1.0,0.0,0.454757620510433,1.0,0.9659987611128702,0.9673783352960788,0.9561677366763291,0.0],\"yaxis\":\"y\",\"type\":\"scatter\"},{\"hovertemplate\":\"Newspaper=Tor<br>index=%{x}<br>Topic_0=%{y}<extra></extra>\",\"legendgroup\":\"Tor\",\"marker\":{\"color\":\"#839496\",\"opacity\":0.5,\"symbol\":\"circle\",\"size\":15},\"mode\":\"markers\",\"name\":\"Tor\",\"orientation\":\"v\",\"showlegend\":true,\"x\":[74,72,62,56,43],\"xaxis\":\"x\",\"y\":[0.6527171523621804,0.9008021778597286,0.3920245807179755,0.6343020017396273,0.5838631453142531],\"yaxis\":\"y\",\"type\":\"scatter\"},{\"hovertemplate\":\"Newspaper=Ind<br>index=%{x}<br>Topic_0=%{y}<extra></extra>\",\"legendgroup\":\"Ind\",\"marker\":{\"color\":\"#93a1a1\",\"opacity\":0.5,\"symbol\":\"circle\",\"size\":15},\"mode\":\"markers\",\"name\":\"Ind\",\"orientation\":\"v\",\"showlegend\":true,\"x\":[73,107,101,18,110,114,2,19,79],\"xaxis\":\"x\",\"y\":[0.34490149872463755,0.0,0.14396416486552166,0.9252767879536472,0.0,0.0,0.9443913830340503,1.0,0.6946825994538436],\"yaxis\":\"y\",\"type\":\"scatter\"},{\"hovertemplate\":\"Newspaper=Tim<br>index=%{x}<br>Topic_0=%{y}<extra></extra>\",\"legendgroup\":\"Tim\",\"marker\":{\"color\":\"#fdf6e3\",\"opacity\":0.5,\"symbol\":\"circle\",\"size\":15},\"mode\":\"markers\",\"name\":\"Tim\",\"orientation\":\"v\",\"showlegend\":true,\"x\":[71,111,55,95,14,10,9,3],\"xaxis\":\"x\",\"y\":[1.0,0.0,0.6214155508842455,0.14922695939718655,0.9870341176429888,0.9241018040150836,0.9223320688883648,0.8741718135891964],\"yaxis\":\"y\",\"type\":\"scatter\"},{\"hovertemplate\":\"Newspaper=Dai<br>index=%{x}<br>Topic_0=%{y}<extra></extra>\",\"legendgroup\":\"Dai\",\"marker\":{\"color\":\"#b58900\",\"opacity\":0.5,\"symbol\":\"circle\",\"size\":15},\"mode\":\"markers\",\"name\":\"Dai\",\"orientation\":\"v\",\"showlegend\":true,\"x\":[60,24,16,15],\"xaxis\":\"x\",\"y\":[0.7113588987991732,0.3604403462344056,1.0,0.8358829253168585],\"yaxis\":\"y\",\"type\":\"scatter\"},{\"hovertemplate\":\"Newspaper=Gua<br>index=%{x}<br>Topic_0=%{y}<extra></extra>\",\"legendgroup\":\"Gua\",\"marker\":{\"color\":\"#cb4b16\",\"opacity\":0.5,\"symbol\":\"circle\",\"size\":15},\"mode\":\"markers\",\"name\":\"Gua\",\"orientation\":\"v\",\"showlegend\":true,\"x\":[85,82,81,87,54,89,91,109,50,98],\"xaxis\":\"x\",\"y\":[0.4907685926764458,0.3627835308615009,0.7597036666329167,0.9065173879772662,1.0,0.5198285480881698,1.0,0.0,0.9979731324601794,0.0],\"yaxis\":\"y\",\"type\":\"scatter\"},{\"hovertemplate\":\"Newspaper=Bus<br>index=%{x}<br>Topic_0=%{y}<extra></extra>\",\"legendgroup\":\"Bus\",\"marker\":{\"color\":\"#d30102\",\"opacity\":0.5,\"symbol\":\"circle\",\"size\":15},\"mode\":\"markers\",\"name\":\"Bus\",\"orientation\":\"v\",\"showlegend\":true,\"x\":[84,104,32],\"xaxis\":\"x\",\"y\":[1.0,0.0,0.9415597162092296],\"yaxis\":\"y\",\"type\":\"scatter\"},{\"hovertemplate\":\"Newspaper=ail<br>index=%{x}<br>Topic_0=%{y}<extra></extra>\",\"legendgroup\":\"ail\",\"marker\":{\"color\":\"#d33682\",\"opacity\":0.5,\"symbol\":\"circle\",\"size\":15},\"mode\":\"markers\",\"name\":\"ail\",\"orientation\":\"v\",\"showlegend\":true,\"x\":[22,7,46],\"xaxis\":\"x\",\"y\":[0.5744721265680484,0.9885073455216824,0.3700570908442475],\"yaxis\":\"y\",\"type\":\"scatter\"},{\"hovertemplate\":\"Newspaper=CDa<br>index=%{x}<br>Topic_0=%{y}<extra></extra>\",\"legendgroup\":\"CDa\",\"marker\":{\"color\":\"#268bd2\",\"opacity\":0.5,\"symbol\":\"circle\",\"size\":15},\"mode\":\"markers\",\"name\":\"CDa\",\"orientation\":\"v\",\"showlegend\":true,\"x\":[112,17,51,20,117,40],\"xaxis\":\"x\",\"y\":[0.3690464031633646,0.7450331131401344,0.4236393119472482,0.4623128674167203,0.0,0.9913063075291496],\"yaxis\":\"y\",\"type\":\"scatter\"}],                        {\"template\":{\"data\":{\"bar\":[{\"error_x\":{\"color\":\"#2a3f5f\"},\"error_y\":{\"color\":\"#2a3f5f\"},\"marker\":{\"line\":{\"color\":\"#E5ECF6\",\"width\":0.5},\"pattern\":{\"fillmode\":\"overlay\",\"size\":10,\"solidity\":0.2}},\"type\":\"bar\"}],\"barpolar\":[{\"marker\":{\"line\":{\"color\":\"#E5ECF6\",\"width\":0.5},\"pattern\":{\"fillmode\":\"overlay\",\"size\":10,\"solidity\":0.2}},\"type\":\"barpolar\"}],\"carpet\":[{\"aaxis\":{\"endlinecolor\":\"#2a3f5f\",\"gridcolor\":\"white\",\"linecolor\":\"white\",\"minorgridcolor\":\"white\",\"startlinecolor\":\"#2a3f5f\"},\"baxis\":{\"endlinecolor\":\"#2a3f5f\",\"gridcolor\":\"white\",\"linecolor\":\"white\",\"minorgridcolor\":\"white\",\"startlinecolor\":\"#2a3f5f\"},\"type\":\"carpet\"}],\"choropleth\":[{\"colorbar\":{\"outlinewidth\":0,\"ticks\":\"\"},\"type\":\"choropleth\"}],\"contour\":[{\"colorbar\":{\"outlinewidth\":0,\"ticks\":\"\"},\"colorscale\":[[0.0,\"#0d0887\"],[0.1111111111111111,\"#46039f\"],[0.2222222222222222,\"#7201a8\"],[0.3333333333333333,\"#9c179e\"],[0.4444444444444444,\"#bd3786\"],[0.5555555555555556,\"#d8576b\"],[0.6666666666666666,\"#ed7953\"],[0.7777777777777778,\"#fb9f3a\"],[0.8888888888888888,\"#fdca26\"],[1.0,\"#f0f921\"]],\"type\":\"contour\"}],\"contourcarpet\":[{\"colorbar\":{\"outlinewidth\":0,\"ticks\":\"\"},\"type\":\"contourcarpet\"}],\"heatmap\":[{\"colorbar\":{\"outlinewidth\":0,\"ticks\":\"\"},\"colorscale\":[[0.0,\"#0d0887\"],[0.1111111111111111,\"#46039f\"],[0.2222222222222222,\"#7201a8\"],[0.3333333333333333,\"#9c179e\"],[0.4444444444444444,\"#bd3786\"],[0.5555555555555556,\"#d8576b\"],[0.6666666666666666,\"#ed7953\"],[0.7777777777777778,\"#fb9f3a\"],[0.8888888888888888,\"#fdca26\"],[1.0,\"#f0f921\"]],\"type\":\"heatmap\"}],\"heatmapgl\":[{\"colorbar\":{\"outlinewidth\":0,\"ticks\":\"\"},\"colorscale\":[[0.0,\"#0d0887\"],[0.1111111111111111,\"#46039f\"],[0.2222222222222222,\"#7201a8\"],[0.3333333333333333,\"#9c179e\"],[0.4444444444444444,\"#bd3786\"],[0.5555555555555556,\"#d8576b\"],[0.6666666666666666,\"#ed7953\"],[0.7777777777777778,\"#fb9f3a\"],[0.8888888888888888,\"#fdca26\"],[1.0,\"#f0f921\"]],\"type\":\"heatmapgl\"}],\"histogram\":[{\"marker\":{\"pattern\":{\"fillmode\":\"overlay\",\"size\":10,\"solidity\":0.2}},\"type\":\"histogram\"}],\"histogram2d\":[{\"colorbar\":{\"outlinewidth\":0,\"ticks\":\"\"},\"colorscale\":[[0.0,\"#0d0887\"],[0.1111111111111111,\"#46039f\"],[0.2222222222222222,\"#7201a8\"],[0.3333333333333333,\"#9c179e\"],[0.4444444444444444,\"#bd3786\"],[0.5555555555555556,\"#d8576b\"],[0.6666666666666666,\"#ed7953\"],[0.7777777777777778,\"#fb9f3a\"],[0.8888888888888888,\"#fdca26\"],[1.0,\"#f0f921\"]],\"type\":\"histogram2d\"}],\"histogram2dcontour\":[{\"colorbar\":{\"outlinewidth\":0,\"ticks\":\"\"},\"colorscale\":[[0.0,\"#0d0887\"],[0.1111111111111111,\"#46039f\"],[0.2222222222222222,\"#7201a8\"],[0.3333333333333333,\"#9c179e\"],[0.4444444444444444,\"#bd3786\"],[0.5555555555555556,\"#d8576b\"],[0.6666666666666666,\"#ed7953\"],[0.7777777777777778,\"#fb9f3a\"],[0.8888888888888888,\"#fdca26\"],[1.0,\"#f0f921\"]],\"type\":\"histogram2dcontour\"}],\"mesh3d\":[{\"colorbar\":{\"outlinewidth\":0,\"ticks\":\"\"},\"type\":\"mesh3d\"}],\"parcoords\":[{\"line\":{\"colorbar\":{\"outlinewidth\":0,\"ticks\":\"\"}},\"type\":\"parcoords\"}],\"pie\":[{\"automargin\":true,\"type\":\"pie\"}],\"scatter\":[{\"marker\":{\"colorbar\":{\"outlinewidth\":0,\"ticks\":\"\"}},\"type\":\"scatter\"}],\"scatter3d\":[{\"line\":{\"colorbar\":{\"outlinewidth\":0,\"ticks\":\"\"}},\"marker\":{\"colorbar\":{\"outlinewidth\":0,\"ticks\":\"\"}},\"type\":\"scatter3d\"}],\"scattercarpet\":[{\"marker\":{\"colorbar\":{\"outlinewidth\":0,\"ticks\":\"\"}},\"type\":\"scattercarpet\"}],\"scattergeo\":[{\"marker\":{\"colorbar\":{\"outlinewidth\":0,\"ticks\":\"\"}},\"type\":\"scattergeo\"}],\"scattergl\":[{\"marker\":{\"colorbar\":{\"outlinewidth\":0,\"ticks\":\"\"}},\"type\":\"scattergl\"}],\"scattermapbox\":[{\"marker\":{\"colorbar\":{\"outlinewidth\":0,\"ticks\":\"\"}},\"type\":\"scattermapbox\"}],\"scatterpolar\":[{\"marker\":{\"colorbar\":{\"outlinewidth\":0,\"ticks\":\"\"}},\"type\":\"scatterpolar\"}],\"scatterpolargl\":[{\"marker\":{\"colorbar\":{\"outlinewidth\":0,\"ticks\":\"\"}},\"type\":\"scatterpolargl\"}],\"scatterternary\":[{\"marker\":{\"colorbar\":{\"outlinewidth\":0,\"ticks\":\"\"}},\"type\":\"scatterternary\"}],\"surface\":[{\"colorbar\":{\"outlinewidth\":0,\"ticks\":\"\"},\"colorscale\":[[0.0,\"#0d0887\"],[0.1111111111111111,\"#46039f\"],[0.2222222222222222,\"#7201a8\"],[0.3333333333333333,\"#9c179e\"],[0.4444444444444444,\"#bd3786\"],[0.5555555555555556,\"#d8576b\"],[0.6666666666666666,\"#ed7953\"],[0.7777777777777778,\"#fb9f3a\"],[0.8888888888888888,\"#fdca26\"],[1.0,\"#f0f921\"]],\"type\":\"surface\"}],\"table\":[{\"cells\":{\"fill\":{\"color\":\"#EBF0F8\"},\"line\":{\"color\":\"white\"}},\"header\":{\"fill\":{\"color\":\"#C8D4E3\"},\"line\":{\"color\":\"white\"}},\"type\":\"table\"}]},\"layout\":{\"annotationdefaults\":{\"arrowcolor\":\"#2a3f5f\",\"arrowhead\":0,\"arrowwidth\":1},\"autotypenumbers\":\"strict\",\"coloraxis\":{\"colorbar\":{\"outlinewidth\":0,\"ticks\":\"\"}},\"colorscale\":{\"diverging\":[[0,\"#8e0152\"],[0.1,\"#c51b7d\"],[0.2,\"#de77ae\"],[0.3,\"#f1b6da\"],[0.4,\"#fde0ef\"],[0.5,\"#f7f7f7\"],[0.6,\"#e6f5d0\"],[0.7,\"#b8e186\"],[0.8,\"#7fbc41\"],[0.9,\"#4d9221\"],[1,\"#276419\"]],\"sequential\":[[0.0,\"#0d0887\"],[0.1111111111111111,\"#46039f\"],[0.2222222222222222,\"#7201a8\"],[0.3333333333333333,\"#9c179e\"],[0.4444444444444444,\"#bd3786\"],[0.5555555555555556,\"#d8576b\"],[0.6666666666666666,\"#ed7953\"],[0.7777777777777778,\"#fb9f3a\"],[0.8888888888888888,\"#fdca26\"],[1.0,\"#f0f921\"]],\"sequentialminus\":[[0.0,\"#0d0887\"],[0.1111111111111111,\"#46039f\"],[0.2222222222222222,\"#7201a8\"],[0.3333333333333333,\"#9c179e\"],[0.4444444444444444,\"#bd3786\"],[0.5555555555555556,\"#d8576b\"],[0.6666666666666666,\"#ed7953\"],[0.7777777777777778,\"#fb9f3a\"],[0.8888888888888888,\"#fdca26\"],[1.0,\"#f0f921\"]]},\"colorway\":[\"#636efa\",\"#EF553B\",\"#00cc96\",\"#ab63fa\",\"#FFA15A\",\"#19d3f3\",\"#FF6692\",\"#B6E880\",\"#FF97FF\",\"#FECB52\"],\"font\":{\"color\":\"#2a3f5f\"},\"geo\":{\"bgcolor\":\"white\",\"lakecolor\":\"white\",\"landcolor\":\"#E5ECF6\",\"showlakes\":true,\"showland\":true,\"subunitcolor\":\"white\"},\"hoverlabel\":{\"align\":\"left\"},\"hovermode\":\"closest\",\"mapbox\":{\"style\":\"light\"},\"paper_bgcolor\":\"white\",\"plot_bgcolor\":\"#E5ECF6\",\"polar\":{\"angularaxis\":{\"gridcolor\":\"white\",\"linecolor\":\"white\",\"ticks\":\"\"},\"bgcolor\":\"#E5ECF6\",\"radialaxis\":{\"gridcolor\":\"white\",\"linecolor\":\"white\",\"ticks\":\"\"}},\"scene\":{\"xaxis\":{\"backgroundcolor\":\"#E5ECF6\",\"gridcolor\":\"white\",\"gridwidth\":2,\"linecolor\":\"white\",\"showbackground\":true,\"ticks\":\"\",\"zerolinecolor\":\"white\"},\"yaxis\":{\"backgroundcolor\":\"#E5ECF6\",\"gridcolor\":\"white\",\"gridwidth\":2,\"linecolor\":\"white\",\"showbackground\":true,\"ticks\":\"\",\"zerolinecolor\":\"white\"},\"zaxis\":{\"backgroundcolor\":\"#E5ECF6\",\"gridcolor\":\"white\",\"gridwidth\":2,\"linecolor\":\"white\",\"showbackground\":true,\"ticks\":\"\",\"zerolinecolor\":\"white\"}},\"shapedefaults\":{\"line\":{\"color\":\"#2a3f5f\"}},\"ternary\":{\"aaxis\":{\"gridcolor\":\"white\",\"linecolor\":\"white\",\"ticks\":\"\"},\"baxis\":{\"gridcolor\":\"white\",\"linecolor\":\"white\",\"ticks\":\"\"},\"bgcolor\":\"#E5ECF6\",\"caxis\":{\"gridcolor\":\"white\",\"linecolor\":\"white\",\"ticks\":\"\"}},\"title\":{\"x\":0.05},\"xaxis\":{\"automargin\":true,\"gridcolor\":\"white\",\"linecolor\":\"white\",\"ticks\":\"\",\"title\":{\"standoff\":15},\"zerolinecolor\":\"white\",\"zerolinewidth\":2},\"yaxis\":{\"automargin\":true,\"gridcolor\":\"white\",\"linecolor\":\"white\",\"ticks\":\"\",\"title\":{\"standoff\":15},\"zerolinecolor\":\"white\",\"zerolinewidth\":2}}},\"xaxis\":{\"anchor\":\"y\",\"domain\":[0.0,1.0],\"title\":{\"text\":\"index\"}},\"yaxis\":{\"anchor\":\"x\",\"domain\":[0.0,1.0],\"title\":{\"text\":\"Topic_0\"}},\"legend\":{\"title\":{\"text\":\"Newspaper\"},\"tracegroupgap\":0},\"margin\":{\"t\":60}},                        {\"responsive\": true}                    ).then(function(){\n                            \nvar gd = document.getElementById('5117f637-e143-4d15-92b9-73f2abf42fed');\nvar x = new MutationObserver(function (mutations, observer) {{\n        var display = window.getComputedStyle(gd).display;\n        if (!display || display === 'none') {{\n            console.log([gd, 'removed!']);\n            Plotly.purge(gd);\n            observer.disconnect();\n        }}\n}});\n\n// Listen for the removal of the full notebook cells\nvar notebookContainer = gd.closest('#notebook-container');\nif (notebookContainer) {{\n    x.observe(notebookContainer, {childList: true});\n}}\n\n// Listen for the clearing of the current output cell\nvar outputEl = gd.closest('.output');\nif (outputEl) {{\n    x.observe(outputEl, {childList: true});\n}}\n\n                        })                };                });            </script>        </div>"
         },
         "metadata": {},
         "output_type": "display_data"
        }
       ]
      }
     },
     "b5c0ed56343a49d5a4b0aee1316a2c3f": {
      "model_module": "@jupyter-widgets/base",
      "model_module_version": "1.2.0",
      "model_name": "LayoutModel",
      "state": {}
     },
     "bbfba6c554814b2eb99ed08cbbab7ad6": {
      "model_module": "@jupyter-widgets/base",
      "model_module_version": "1.2.0",
      "model_name": "LayoutModel",
      "state": {}
     },
     "c129316add7d48b1a11ebeade3b1e51d": {
      "model_module": "@jupyter-widgets/controls",
      "model_module_version": "1.5.0",
      "model_name": "FloatSliderModel",
      "state": {
       "description": "value",
       "layout": "IPY_MODEL_e64221318cf3494386f6de787f56e9df",
       "max": 1,
       "step": 0.05,
       "style": "IPY_MODEL_ff2f1d4287d24612b7b302cd448aa058",
       "value": 0.05
      }
     },
     "dc59e5311d96465daa5420b4158f896f": {
      "model_module": "@jupyter-widgets/controls",
      "model_module_version": "1.5.0",
      "model_name": "DescriptionStyleModel",
      "state": {
       "description_width": ""
      }
     },
     "e1a1598e028e4464a73a4110c66a1945": {
      "model_module": "@jupyter-widgets/controls",
      "model_module_version": "1.5.0",
      "model_name": "VBoxModel",
      "state": {
       "_dom_classes": [
        "widget-interact"
       ],
       "children": [
        "IPY_MODEL_47fdae8527294ef8a6be6f93e817d395",
        "IPY_MODEL_e680f6a1df414bf3953fc2b209b9d8ab",
        "IPY_MODEL_afeca2ac4947410d829f7ada06b6f3b7"
       ],
       "layout": "IPY_MODEL_bbfba6c554814b2eb99ed08cbbab7ad6"
      }
     },
     "e401a87d226c4e57b88ddad3c2e11848": {
      "model_module": "@jupyter-widgets/controls",
      "model_module_version": "1.5.0",
      "model_name": "DescriptionStyleModel",
      "state": {
       "description_width": ""
      }
     },
     "e64221318cf3494386f6de787f56e9df": {
      "model_module": "@jupyter-widgets/base",
      "model_module_version": "1.2.0",
      "model_name": "LayoutModel",
      "state": {}
     },
     "e680f6a1df414bf3953fc2b209b9d8ab": {
      "model_module": "@jupyter-widgets/controls",
      "model_module_version": "1.5.0",
      "model_name": "DropdownModel",
      "state": {
       "_options_labels": [
        "Topic_0",
        "Topic_1",
        "Topic_2",
        "Topic_3"
       ],
       "description": "y",
       "index": 2,
       "layout": "IPY_MODEL_ffee0801acb2429092c77a0446416617",
       "style": "IPY_MODEL_e401a87d226c4e57b88ddad3c2e11848"
      }
     },
     "fb422d8a10ed44e6830b73138fa98d02": {
      "model_module": "@jupyter-widgets/controls",
      "model_module_version": "1.5.0",
      "model_name": "DescriptionStyleModel",
      "state": {
       "description_width": ""
      }
     },
     "ff2f1d4287d24612b7b302cd448aa058": {
      "model_module": "@jupyter-widgets/controls",
      "model_module_version": "1.5.0",
      "model_name": "SliderStyleModel",
      "state": {
       "description_width": ""
      }
     },
     "ff994a25c09c45b5933d9c823d70f4a3": {
      "model_module": "@jupyter-widgets/controls",
      "model_module_version": "1.5.0",
      "model_name": "DropdownModel",
      "state": {
       "_options_labels": [
        "Topic_0",
        "Topic_1",
        "Topic_2",
        "Topic_3"
       ],
       "description": "y",
       "index": 0,
       "layout": "IPY_MODEL_b5c0ed56343a49d5a4b0aee1316a2c3f",
       "style": "IPY_MODEL_fb422d8a10ed44e6830b73138fa98d02"
      }
     },
     "ffee0801acb2429092c77a0446416617": {
      "model_module": "@jupyter-widgets/base",
      "model_module_version": "1.2.0",
      "model_name": "LayoutModel",
      "state": {}
     }
    },
    "version_major": 2,
    "version_minor": 0
   }
  }
 },
 "nbformat": 4,
 "nbformat_minor": 5
}
