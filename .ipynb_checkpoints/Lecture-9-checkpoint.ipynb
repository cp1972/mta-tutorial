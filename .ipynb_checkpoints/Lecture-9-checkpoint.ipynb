{
 "cells": [
  {
   "cell_type": "markdown",
   "metadata": {
    "extensions": {
     "jupyter_dashboards": {
      "activeView": "grid_default",
      "views": {
       "grid_default": {
        "col": null,
        "height": 2,
        "hidden": true,
        "row": null,
        "width": 2
       }
      }
     }
    },
    "tags": []
   },
   "source": [
    "## Dashboards and Graphs\n",
    "\n",
    "In our previous lecture (lecture 8), we have seen how to add some interactivity to your table and your plots. Now, imagine that you are working on your project, and that you already have some preliminary results that you want to share with a team of colleagues working on the same project, or with an institution/an organisation supporting your project, or even to address non-technical readers. For this, you can use a simple dashboard in which you sum up the essential results of your preliminary work. \n",
    "\n",
    "In order to deploy such a dashboard, you will need to install the following utilities: \n",
    "\n",
    "  1. a jupyter lab server, which is serving notebooks (like this one) on your own workspace: "
   ]
  },
  {
   "cell_type": "code",
   "execution_count": null,
   "metadata": {
    "extensions": {
     "jupyter_dashboards": {
      "activeView": "grid_default",
      "views": {
       "grid_default": {
        "col": null,
        "height": 2,
        "hidden": true,
        "row": null,
        "width": 2
       }
      }
     }
    }
   },
   "outputs": [],
   "source": [
    "#pip3 install jupyterlab"
   ]
  },
  {
   "cell_type": "markdown",
   "metadata": {
    "extensions": {
     "jupyter_dashboards": {
      "activeView": "grid_default",
      "views": {
       "grid_default": {
        "col": null,
        "height": 2,
        "hidden": true,
        "row": null,
        "width": 2
       }
      }
     }
    }
   },
   "source": [
    "  2. an application for your dashboard -- in this example, we are using the simple _voila_ dashboard utility because it is simple to setup and it offers basic dashboard functionalities:"
   ]
  },
  {
   "cell_type": "code",
   "execution_count": null,
   "metadata": {
    "extensions": {
     "jupyter_dashboards": {
      "activeView": "grid_default",
      "views": {
       "grid_default": {
        "col": null,
        "height": 2,
        "hidden": true,
        "row": null,
        "width": 2
       }
      }
     }
    }
   },
   "outputs": [],
   "source": [
    "#pip3 install voila"
   ]
  },
  {
   "cell_type": "markdown",
   "metadata": {
    "extensions": {
     "jupyter_dashboards": {
      "activeView": "grid_default",
      "views": {
       "grid_default": {
        "col": null,
        "height": 2,
        "hidden": true,
        "row": null,
        "width": 2
       }
      }
     }
    }
   },
   "source": [
    "  3. in order to have a better layout for our voila-dashboard, we install also the gridstack and the voila-vuetify templates like this:"
   ]
  },
  {
   "cell_type": "code",
   "execution_count": null,
   "metadata": {
    "extensions": {
     "jupyter_dashboards": {
      "activeView": "grid_default",
      "views": {
       "grid_default": {
        "col": null,
        "height": 2,
        "hidden": true,
        "row": null,
        "width": 2
       }
      }
     }
    }
   },
   "outputs": [],
   "source": [
    "#pip3 install voila-gridstack voila-vuetify"
   ]
  },
  {
   "cell_type": "markdown",
   "metadata": {
    "extensions": {
     "jupyter_dashboards": {
      "activeView": "grid_default",
      "views": {
       "grid_default": {
        "col": null,
        "height": 2,
        "hidden": true,
        "row": null,
        "width": 2
       }
      }
     }
    }
   },
   "source": [
    "  4. finally, to enable conversions of your dashboard into other formats (like PDF f.ex.), you can also install the nbconvert utility like this: "
   ]
  },
  {
   "cell_type": "code",
   "execution_count": null,
   "metadata": {
    "extensions": {
     "jupyter_dashboards": {
      "activeView": "grid_default",
      "views": {
       "grid_default": {
        "col": null,
        "height": 2,
        "hidden": true,
        "row": null,
        "width": 2
       }
      }
     }
    }
   },
   "outputs": [],
   "source": [
    "#pip3 install nbconvert"
   ]
  },
  {
   "cell_type": "markdown",
   "metadata": {
    "extensions": {
     "jupyter_dashboards": {
      "activeView": "grid_default",
      "views": {
       "grid_default": {
        "col": null,
        "height": 2,
        "hidden": true,
        "row": null,
        "width": 2
       }
      }
     }
    }
   },
   "source": [
    "  5. troubleshooting possible old packages -- as _voila_ develop at quick pace, it is possible that you encounter errors by installing it, coming from dependencies that are too old. In order to update voila and its dependencies, you can run the following: "
   ]
  },
  {
   "cell_type": "code",
   "execution_count": null,
   "metadata": {
    "extensions": {
     "jupyter_dashboards": {
      "activeView": "grid_default",
      "views": {
       "grid_default": {
        "col": null,
        "height": 2,
        "hidden": true,
        "row": null,
        "width": 2
       }
      }
     }
    }
   },
   "outputs": [],
   "source": [
    "#pip3 install jupyter-book myst-nb nbclient voila nbinteract nbformat --upgrade"
   ]
  },
  {
   "cell_type": "markdown",
   "metadata": {
    "extensions": {
     "jupyter_dashboards": {
      "activeView": "grid_default",
      "views": {
       "grid_default": {
        "col": null,
        "height": 2,
        "hidden": true,
        "row": null,
        "width": 2
       }
      }
     }
    }
   },
   "source": [
    "Now, you can run jupyter lab as a standalone server on your computer by typing:"
   ]
  },
  {
   "cell_type": "code",
   "execution_count": null,
   "metadata": {
    "extensions": {
     "jupyter_dashboards": {
      "activeView": "grid_default",
      "views": {
       "grid_default": {
        "col": null,
        "height": 2,
        "hidden": true,
        "row": null,
        "width": 2
       }
      }
     }
    }
   },
   "outputs": [],
   "source": [
    "#jupyter lab"
   ]
  },
  {
   "cell_type": "markdown",
   "metadata": {
    "extensions": {
     "jupyter_dashboards": {
      "activeView": "grid_default",
      "views": {
       "grid_default": {
        "col": null,
        "height": 2,
        "hidden": true,
        "row": null,
        "width": 2
       }
      }
     }
    }
   },
   "source": [
    "in a terminal or a windows cmd window. Your Internet-browser will be opened at the start page of jupyter lab, and you will have the possibility to create an ipynb notebook file which will be your dashboard. Let us create an example dashboard from the data that we have used in our lecture 8: \n",
    "\n",
    "  1. go to 'File', 'New' and select 'Notebook'\n",
    "  2. at the pop-up window, be sure to select python3\n",
    "  3. an 'Untitled.ipynb' notebook file is created -- in our example, we rename it to 'Dash9.ipynb'. \n",
    "  \n",
    "While opening your new notebook in jupyter lab, you will see a taskbar with on the left an icon to save your work, then a plus isgn, etc., and on the extreme right of the taskbar a square icon with darkgrey squares in it -- this is the gridstack editor which we will use to create our dashboard. You can click on it in your notebook, and we will place some of the information taken from our lecture 8 in order to construct our dashboard (see our example 'Dash9.ipynb')."
   ]
  },
  {
   "cell_type": "markdown",
   "metadata": {
    "extensions": {
     "jupyter_dashboards": {
      "activeView": "grid_default",
      "views": {
       "grid_default": {
        "col": null,
        "height": 2,
        "hidden": true,
        "row": null,
        "width": 2
       }
      }
     }
    }
   },
   "source": [
    "## First import the libraries\n",
    "\n",
    "First, we import into our dashboard the libraries that we need to construct our tables and plots. We import the libraries for the static plots and tables, and also the one needed to implement some interactivity. In 'Dash9.ipynb', we make two cells in order to render the differences between these libraries, but you could paste them into one cell, too. \n",
    "\n",
    "The second step is to customize our file 'Dominant_Topics_ENG_2.csv', in order to have a table with more explicit content and appropriate sort keys. Run all cells in your notebook in order to be sure that you have the appropriate table. Now, we have everything needed to make our dashboard."
   ]
  },
  {
   "cell_type": "markdown",
   "metadata": {
    "extensions": {
     "jupyter_dashboards": {
      "activeView": "grid_default",
      "views": {
       "grid_default": {
        "col": null,
        "height": 2,
        "hidden": true,
        "row": null,
        "width": 2
       }
      }
     }
    }
   },
   "source": [
    "### Table -- Show your dataframe\n",
    "\n",
    "The first element we would like to show in our dashboard is our dataframe, and we would like to enable the audience to sort it by the value of the topics. In our lecture 8, we have some code for that presentation, so let us take it into our dashboard. This were the following lines of code: "
   ]
  },
  {
   "cell_type": "code",
   "execution_count": null,
   "metadata": {
    "extensions": {
     "jupyter_dashboards": {
      "activeView": "grid_default",
      "views": {
       "grid_default": {
        "col": null,
        "height": 2,
        "hidden": true,
        "row": null,
        "width": 2
       }
      }
     }
    }
   },
   "outputs": [],
   "source": [
    "# Widget to filter table by topic value\n",
    "#@interact\n",
    "#def show_articles(column=['Topic_0', 'Topic_1', 'Topic_2', 'Topic_3', 'Topic_4'], value=(0, 1, 0.05)):\n",
    "#    return df_eng.loc[df_eng[column] > value]"
   ]
  },
  {
   "cell_type": "markdown",
   "metadata": {
    "extensions": {
     "jupyter_dashboards": {
      "activeView": "grid_default",
      "views": {
       "grid_default": {
        "col": null,
        "height": 2,
        "hidden": true,
        "row": null,
        "width": 2
       }
      }
     }
    }
   },
   "source": [
    "Let us paste them into our 'Dash9.ipynb' file -- take the cell with the mouse, and drag-drop it to the gridstack editor. Write a title in another (Markdown) cell, and paste it above your table. Now you see a title and after that, your table with the interactive properties that we have coded in our lecture 8. You as well as the audience using your dashboard will be able to change the topic or / and the value of them to filter your dataset. Let us do the same with a plot. "
   ]
  },
  {
   "cell_type": "markdown",
   "metadata": {
    "extensions": {
     "jupyter_dashboards": {
      "activeView": "grid_default",
      "views": {
       "grid_default": {
        "col": null,
        "height": 2,
        "hidden": true,
        "row": null,
        "width": 2
       }
      }
     }
    }
   },
   "source": [
    "## Plot -- Show first results\n",
    "\n",
    "We want to show a plot in which the values are aggregated, letting the audience see the multiple factors of our dataset, and letting it interact with them. For this, we use the code or our cell 11 in our lecture 8, to which we add the following line from our cell 10 in order to display the years correctly, and we add it just after the call to the plotly express library (see our file 'Dash9.ipynb'):"
   ]
  },
  {
   "cell_type": "code",
   "execution_count": null,
   "metadata": {
    "extensions": {
     "jupyter_dashboards": {
      "activeView": "grid_default",
      "views": {
       "grid_default": {
        "col": null,
        "height": 2,
        "hidden": true,
        "row": null,
        "width": 2
       }
      }
     }
    }
   },
   "outputs": [],
   "source": [
    "#df_eng2[\"Year\"] = df_eng2[\"Year\"].astype(int)"
   ]
  },
  {
   "cell_type": "markdown",
   "metadata": {
    "extensions": {
     "jupyter_dashboards": {
      "activeView": "grid_default",
      "views": {
       "grid_default": {
        "col": null,
        "height": 2,
        "hidden": true,
        "row": null,
        "width": 2
       }
      }
     }
    }
   },
   "source": [
    "We now can drag and drop this cell to our dashboard. We first write a title for this plot in a cell, drag-drop this title to the dashboard, then drag-drop the cell with the code of our plot. "
   ]
  },
  {
   "cell_type": "markdown",
   "metadata": {},
   "source": [
    "## Troubles with voila and gridstack\n",
    "\n",
    "Depending on the version of the widgets, you can quickly get into troubles using the voila gridstack template, f.ex. at the time of writing, plotly plots won't be shown at all in the dashboard. A workaround is to use the voila rendering without the gridstack template, by clicking on the blue-yellow circle icon which is the on the right of the drop-down menu where you can select the formatting of your cells (Markdown, Code or Raw). "
   ]
  },
  {
   "cell_type": "code",
   "execution_count": null,
   "metadata": {},
   "outputs": [],
   "source": []
  }
 ],
 "metadata": {
  "extensions": {
   "jupyter_dashboards": {
    "activeView": "grid_default",
    "version": 1,
    "views": {
     "grid_default": {
      "cellMargin": 2,
      "defaultCellHeight": 60,
      "maxColumns": 12,
      "name": "grid",
      "type": "grid"
     }
    }
   }
  },
  "kernelspec": {
   "display_name": "Python 3",
   "language": "python",
   "name": "python3"
  },
  "language_info": {
   "codemirror_mode": {
    "name": "ipython",
    "version": 3
   },
   "file_extension": ".py",
   "mimetype": "text/x-python",
   "name": "python",
   "nbconvert_exporter": "python",
   "pygments_lexer": "ipython3",
   "version": "3.6.9"
  },
  "widgets": {
   "application/vnd.jupyter.widget-state+json": {
    "state": {},
    "version_major": 2,
    "version_minor": 0
   }
  }
 },
 "nbformat": 4,
 "nbformat_minor": 4
}
