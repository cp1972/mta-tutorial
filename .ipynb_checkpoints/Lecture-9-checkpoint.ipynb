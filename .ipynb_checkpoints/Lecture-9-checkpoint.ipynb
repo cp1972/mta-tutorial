{
 "cells": [
  {
   "cell_type": "markdown",
   "metadata": {
    "extensions": {
     "jupyter_dashboards": {
      "activeView": "grid_default",
      "views": {
       "grid_default": {
        "col": null,
        "height": 2,
        "hidden": true,
        "row": null,
        "width": 2
       }
      }
     }
    },
    "tags": []
   },
   "source": [
    "## Dashboards\n",
    "\n",
    "In our previous lecture (lecture 8), we have seen how to add some interactivity to your table and your plots. Now, imagine that you are working on your project, and that you already have some preliminary results that you want to share with a team of colleagues working on the same project, or with an institution/an organisation supporting your project, or even to address non-technical readers. For this, you can use a simple dashboard in which you sum up the essential results of your preliminary work. \n",
    "\n",
    "In order to deploy such a dashboard, you will need to install the following utilities: \n",
    "\n",
    "  1. a jupyter lab server, which is serving notebooks (like this one) on your own workspace: "
   ]
  },
  {
   "cell_type": "code",
   "execution_count": 3,
   "metadata": {
    "extensions": {
     "jupyter_dashboards": {
      "activeView": "grid_default",
      "views": {
       "grid_default": {
        "col": null,
        "height": 2,
        "hidden": true,
        "row": null,
        "width": 2
       }
      }
     }
    }
   },
   "outputs": [],
   "source": [
    "#pip3 install jupyterlab"
   ]
  },
  {
   "cell_type": "markdown",
   "metadata": {
    "extensions": {
     "jupyter_dashboards": {
      "activeView": "grid_default",
      "views": {
       "grid_default": {
        "col": null,
        "height": 2,
        "hidden": true,
        "row": null,
        "width": 2
       }
      }
     }
    }
   },
   "source": [
    "  2. an application for your dashboard -- in this example, we are using the simple _voila_ dashboard utility because it is simple to setup and it offers basic dashboard functionalities:"
   ]
  },
  {
   "cell_type": "code",
   "execution_count": 4,
   "metadata": {
    "extensions": {
     "jupyter_dashboards": {
      "activeView": "grid_default",
      "views": {
       "grid_default": {
        "col": null,
        "height": 2,
        "hidden": true,
        "row": null,
        "width": 2
       }
      }
     }
    }
   },
   "outputs": [],
   "source": [
    "#pip3 install voila"
   ]
  },
  {
   "cell_type": "markdown",
   "metadata": {
    "extensions": {
     "jupyter_dashboards": {
      "activeView": "grid_default",
      "views": {
       "grid_default": {
        "col": null,
        "height": 2,
        "hidden": true,
        "row": null,
        "width": 2
       }
      }
     }
    }
   },
   "source": [
    "  3. in order to have a better layout for our voila-dashboard, we install also the gridstack and the voila-vuetify templates like this:"
   ]
  },
  {
   "cell_type": "code",
   "execution_count": 5,
   "metadata": {
    "extensions": {
     "jupyter_dashboards": {
      "activeView": "grid_default",
      "views": {
       "grid_default": {
        "col": null,
        "height": 2,
        "hidden": true,
        "row": null,
        "width": 2
       }
      }
     }
    }
   },
   "outputs": [],
   "source": [
    "#pip3 install voila-gridstack voila-vuetify"
   ]
  },
  {
   "cell_type": "markdown",
   "metadata": {
    "extensions": {
     "jupyter_dashboards": {
      "activeView": "grid_default",
      "views": {
       "grid_default": {
        "col": null,
        "height": 2,
        "hidden": true,
        "row": null,
        "width": 2
       }
      }
     }
    }
   },
   "source": [
    "  4. finally, to enable conversions of your dashboard into other formats (like PDF f.ex.), you can also install the nbconvert utility like this: "
   ]
  },
  {
   "cell_type": "code",
   "execution_count": 6,
   "metadata": {
    "extensions": {
     "jupyter_dashboards": {
      "activeView": "grid_default",
      "views": {
       "grid_default": {
        "col": null,
        "height": 2,
        "hidden": true,
        "row": null,
        "width": 2
       }
      }
     }
    }
   },
   "outputs": [],
   "source": [
    "#pip3 install nbconvert"
   ]
  },
  {
   "cell_type": "markdown",
   "metadata": {
    "extensions": {
     "jupyter_dashboards": {
      "activeView": "grid_default",
      "views": {
       "grid_default": {
        "col": null,
        "height": 2,
        "hidden": true,
        "row": null,
        "width": 2
       }
      }
     }
    }
   },
   "source": [
    "  5. troubleshooting possible old packages -- as _voila_ develop at quick pace, it is possible that you encounter errors by installing it, coming from dependencies that are too old. In order to update voila and its dependencies, you can run the following: "
   ]
  },
  {
   "cell_type": "code",
   "execution_count": 7,
   "metadata": {
    "extensions": {
     "jupyter_dashboards": {
      "activeView": "grid_default",
      "views": {
       "grid_default": {
        "col": null,
        "height": 2,
        "hidden": true,
        "row": null,
        "width": 2
       }
      }
     }
    }
   },
   "outputs": [],
   "source": [
    "#pip3 install jupyter-book myst-nb nbclient voila nbinteract nbformat --upgrade"
   ]
  },
  {
   "cell_type": "markdown",
   "metadata": {
    "extensions": {
     "jupyter_dashboards": {
      "activeView": "grid_default",
      "views": {
       "grid_default": {
        "col": null,
        "height": 2,
        "hidden": true,
        "row": null,
        "width": 2
       }
      }
     }
    }
   },
   "source": [
    "Now, you can run jupyter lab as a standalone server on your computer by typing:"
   ]
  },
  {
   "cell_type": "code",
   "execution_count": 8,
   "metadata": {
    "extensions": {
     "jupyter_dashboards": {
      "activeView": "grid_default",
      "views": {
       "grid_default": {
        "col": null,
        "height": 2,
        "hidden": true,
        "row": null,
        "width": 2
       }
      }
     }
    }
   },
   "outputs": [],
   "source": [
    "#jupyter lab"
   ]
  },
  {
   "cell_type": "markdown",
   "metadata": {
    "extensions": {
     "jupyter_dashboards": {
      "activeView": "grid_default",
      "views": {
       "grid_default": {
        "col": null,
        "height": 2,
        "hidden": true,
        "row": null,
        "width": 2
       }
      }
     }
    }
   },
   "source": [
    "in a terminal or a windows cmd window. Your Internet-browser will be opened at the start page of jupyter lab, and you will have the possibility to create an ipynb notebook file which will be your dashboard. Let us create an example dashboard from the data that we have used in our lecture 8: \n",
    "\n",
    "  1. go to 'File', 'New' and select 'Notebook'\n",
    "  2. at the pop-up window, be sure to select python3\n",
    "  3. an 'Untitled.ipynb' notebook file is created -- in our example, we rename it to 'Dash9.ipynb'. \n",
    "  \n",
    "While opening your new notebook in jupyter lab, you will see a taskbar with on the left an icon to save your work, then a plus isgn, etc., and on the extreme right of the taskbar a square icon with darkgrey squares in it -- this is the gridstack editor which we will use to create our dashboard. You can click on it in your notebook, and we will place some of the information taken from our lecture 8 in order to construct our dashboard (see our example 'Dash9.ipynb')."
   ]
  },
  {
   "cell_type": "markdown",
   "metadata": {
    "extensions": {
     "jupyter_dashboards": {
      "activeView": "grid_default",
      "views": {
       "grid_default": {
        "col": null,
        "height": 2,
        "hidden": true,
        "row": null,
        "width": 2
       }
      }
     }
    }
   },
   "source": [
    "### First import the libraries\n",
    "\n",
    "First, we import into our dashboard the libraries that we need to construct our tables and plots. We import the libraries for the static plots and tables, and also the one needed to implement some interactivity. In 'Dash9.ipynb', we make two cells in order to render the differences between these libraries, but you could paste them into one cell, too. \n",
    "\n",
    "The second step is to customize our file 'Dominant_Topics_ENG_2.csv', in order to have a table with more explicit content and appropriate sort keys. Run all cells in your notebook in order to be sure that you have the appropriate table. Now, we have everything needed to make our dashboard."
   ]
  },
  {
   "cell_type": "markdown",
   "metadata": {
    "extensions": {
     "jupyter_dashboards": {
      "activeView": "grid_default",
      "views": {
       "grid_default": {
        "col": null,
        "height": 2,
        "hidden": true,
        "row": null,
        "width": 2
       }
      }
     }
    }
   },
   "source": [
    "### Table -- Show your dataframe\n",
    "\n",
    "The first element we would like to show in our dashboard is our dataframe, and we would like to enable the audience to sort it by the value of the topics. In our lecture 8, we have some code for that presentation, so let us take it into our dashboard. This were the following lines of code: "
   ]
  },
  {
   "cell_type": "code",
   "execution_count": 9,
   "metadata": {
    "extensions": {
     "jupyter_dashboards": {
      "activeView": "grid_default",
      "views": {
       "grid_default": {
        "col": null,
        "height": 2,
        "hidden": true,
        "row": null,
        "width": 2
       }
      }
     }
    }
   },
   "outputs": [],
   "source": [
    "# Widget to filter table by topic value\n",
    "#@interact\n",
    "#def show_articles(column=['Topic_0', 'Topic_1', 'Topic_2', 'Topic_3', 'Topic_4'], value=(0, 1, 0.05)):\n",
    "#    return df_eng.loc[df_eng[column] > value]"
   ]
  },
  {
   "cell_type": "markdown",
   "metadata": {
    "extensions": {
     "jupyter_dashboards": {
      "activeView": "grid_default",
      "views": {
       "grid_default": {
        "col": null,
        "height": 2,
        "hidden": true,
        "row": null,
        "width": 2
       }
      }
     }
    }
   },
   "source": [
    "Let us paste them into our 'Dash9.ipynb' file -- take the cell with the mouse, and drag-drop it to the gridstack editor. Write a title in another (Markdown) cell, and paste it above your table. Now you see a title and after that, your table with the interactive properties that we have coded in our lecture 8. You as well as the audience using your dashboard will be able to change the topic or / and the value of them to filter your dataset. Let us do the same with a plot. "
   ]
  },
  {
   "cell_type": "markdown",
   "metadata": {
    "extensions": {
     "jupyter_dashboards": {
      "activeView": "grid_default",
      "views": {
       "grid_default": {
        "col": null,
        "height": 2,
        "hidden": true,
        "row": null,
        "width": 2
       }
      }
     }
    }
   },
   "source": [
    "### Plot -- Show first results\n",
    "\n",
    "We want to show a plot in which the values are aggregated, letting the audience see the multiple factors of our dataset, and letting it interact with them. For this, we use the code or our cell 11 in our lecture 8, to which we add the following line from our cell 10 in order to display the years correctly, and we add it just after the call to the plotly express library (see our file 'Dash9.ipynb'):"
   ]
  },
  {
   "cell_type": "code",
   "execution_count": 10,
   "metadata": {
    "extensions": {
     "jupyter_dashboards": {
      "activeView": "grid_default",
      "views": {
       "grid_default": {
        "col": null,
        "height": 2,
        "hidden": true,
        "row": null,
        "width": 2
       }
      }
     }
    }
   },
   "outputs": [],
   "source": [
    "#df_eng2[\"Year\"] = df_eng2[\"Year\"].astype(int)"
   ]
  },
  {
   "cell_type": "markdown",
   "metadata": {
    "extensions": {
     "jupyter_dashboards": {
      "activeView": "grid_default",
      "views": {
       "grid_default": {
        "col": null,
        "height": 2,
        "hidden": true,
        "row": null,
        "width": 2
       }
      }
     }
    }
   },
   "source": [
    "We now can drag and drop this cell to our dashboard. We first write a title for this plot in a cell, drag-drop this title to the dashboard, then drag-drop the cell with the code of our plot. "
   ]
  },
  {
   "cell_type": "markdown",
   "metadata": {},
   "source": [
    "### Troubles with voila and gridstack\n",
    "\n",
    "Depending on the version of the widgets, you can quickly get into troubles using the voila gridstack template, f.ex. at the time of writing, plotly plots won't be shown at all in the dashboard. A workaround is to use the voila rendering without the gridstack template, by clicking on the blue-yellow circle icon which is the on the right of the drop-down menu where you can select the formatting of your cells (Markdown, Code or Raw). "
   ]
  },
  {
   "cell_type": "markdown",
   "metadata": {},
   "source": [
    "### Web-app\n",
    "\n",
    "Another solution to avoid hunting bugs in the interplay between jupyter lab, the voila application and the widgets and jupyter extensions, you simply could use a public service like f.ex. mybinder.org which target the notebook in which you have written your presentation.\n",
    "\n",
    "For that, you first need to edit a file called 'requirements.txt' -- you can find mine in this repository. In this file, you have to list down all the libraries that your notebook is needed in order to be properly constructed by binder. If you look at mine, I have the name of the library, two equal signs, and finally the version of my library. In order to find your installed libraries in python with the version number, you can type in a terminal window (cmd window in windows) the following: "
   ]
  },
  {
   "cell_type": "code",
   "execution_count": 11,
   "metadata": {},
   "outputs": [],
   "source": [
    "#pip3 list"
   ]
  },
  {
   "cell_type": "markdown",
   "metadata": {},
   "source": [
    "This code output all packages installed in your python with their version number. You have to read the list and pick up the libraries and its version numbers corresponding to the ones which you are using in your dashboard.\n",
    "\n",
    "Another requirement is to have a github, a gitlab or another account in relation to mybinder in order for binder to scan the files in this account -- or optionally one of the file (your dashboard in our example) in this account. Then, you just have to make your account 'public' (and not 'private'), for example just for the time you want to share your dashboard, making it 'private' again after this time.\n",
    "\n",
    "Having all these elements, you can go to mybinder.org, input the path to your online account and give the name of your dashboard, and it will be published online, for other people to see what you have achieved. You will be given an URL of your dashboard online that you can distribute to others.\n",
    "\n",
    "Such web-apps are also an interesting way to turn your dashboard into a presentation, f.ex. if you have to give a talk at a conference and don't want to carry everything with you. "
   ]
  },
  {
   "cell_type": "markdown",
   "metadata": {},
   "source": [
    "## Network of topics\n",
    "\n",
    "To make a useful presentation of your topic analysis, you can also opt for a network graph, introducing to the relationships between your topics and your case. Let us come back to our data 'Dominant_Topics_ENG_2.csv', and to our table in the form of a pandas dataframe 'df_eng2'."
   ]
  },
  {
   "cell_type": "code",
   "execution_count": 12,
   "metadata": {},
   "outputs": [
    {
     "data": {
      "text/html": [
       "<div>\n",
       "<style scoped>\n",
       "    .dataframe tbody tr th:only-of-type {\n",
       "        vertical-align: middle;\n",
       "    }\n",
       "\n",
       "    .dataframe tbody tr th {\n",
       "        vertical-align: top;\n",
       "    }\n",
       "\n",
       "    .dataframe thead th {\n",
       "        text-align: right;\n",
       "    }\n",
       "</style>\n",
       "<table border=\"1\" class=\"dataframe\">\n",
       "  <thead>\n",
       "    <tr style=\"text-align: right;\">\n",
       "      <th></th>\n",
       "      <th>Articles</th>\n",
       "      <th>Topic_0</th>\n",
       "      <th>Topic_1</th>\n",
       "      <th>Topic_2</th>\n",
       "      <th>Topic_3</th>\n",
       "      <th>Topic_4</th>\n",
       "      <th>Year</th>\n",
       "      <th>Newspaper</th>\n",
       "    </tr>\n",
       "  </thead>\n",
       "  <tbody>\n",
       "    <tr>\n",
       "      <th>0</th>\n",
       "      <td>2002-03-1-MajAustr-1-67-61.txt</td>\n",
       "      <td>0.734406</td>\n",
       "      <td>0.031050</td>\n",
       "      <td>0.052941</td>\n",
       "      <td>0.121928</td>\n",
       "      <td>0.059674</td>\n",
       "      <td>2002</td>\n",
       "      <td>ajA</td>\n",
       "    </tr>\n",
       "    <tr>\n",
       "      <th>76</th>\n",
       "      <td>2003-07-01-NYTimes-1-7-4.txt</td>\n",
       "      <td>0.759704</td>\n",
       "      <td>0.001919</td>\n",
       "      <td>0.067554</td>\n",
       "      <td>0.170823</td>\n",
       "      <td>0.000000</td>\n",
       "      <td>2003</td>\n",
       "      <td>NYT</td>\n",
       "    </tr>\n",
       "    <tr>\n",
       "      <th>75</th>\n",
       "      <td>2004-03-15-MajAustr-1-67-30.txt</td>\n",
       "      <td>0.749237</td>\n",
       "      <td>0.000306</td>\n",
       "      <td>0.125060</td>\n",
       "      <td>0.091593</td>\n",
       "      <td>0.033804</td>\n",
       "      <td>2004</td>\n",
       "      <td>Maj</td>\n",
       "    </tr>\n",
       "    <tr>\n",
       "      <th>74</th>\n",
       "      <td>2004-10-11-TorontoS-1-5-3.txt</td>\n",
       "      <td>0.652717</td>\n",
       "      <td>0.105692</td>\n",
       "      <td>0.149433</td>\n",
       "      <td>0.092158</td>\n",
       "      <td>0.000000</td>\n",
       "      <td>2004</td>\n",
       "      <td>Tor</td>\n",
       "    </tr>\n",
       "    <tr>\n",
       "      <th>73</th>\n",
       "      <td>2004-12-22-Independent-1-9-5.txt</td>\n",
       "      <td>0.344901</td>\n",
       "      <td>0.118249</td>\n",
       "      <td>0.104265</td>\n",
       "      <td>0.128737</td>\n",
       "      <td>0.303847</td>\n",
       "      <td>2004</td>\n",
       "      <td>Ind</td>\n",
       "    </tr>\n",
       "  </tbody>\n",
       "</table>\n",
       "</div>"
      ],
      "text/plain": [
       "                            Articles   Topic_0   Topic_1   Topic_2   Topic_3  \\\n",
       "0     2002-03-1-MajAustr-1-67-61.txt  0.734406  0.031050  0.052941  0.121928   \n",
       "76      2003-07-01-NYTimes-1-7-4.txt  0.759704  0.001919  0.067554  0.170823   \n",
       "75   2004-03-15-MajAustr-1-67-30.txt  0.749237  0.000306  0.125060  0.091593   \n",
       "74     2004-10-11-TorontoS-1-5-3.txt  0.652717  0.105692  0.149433  0.092158   \n",
       "73  2004-12-22-Independent-1-9-5.txt  0.344901  0.118249  0.104265  0.128737   \n",
       "\n",
       "     Topic_4  Year Newspaper  \n",
       "0   0.059674  2002       ajA  \n",
       "76  0.000000  2003       NYT  \n",
       "75  0.033804  2004       Maj  \n",
       "74  0.000000  2004       Tor  \n",
       "73  0.303847  2004       Ind  "
      ]
     },
     "execution_count": 12,
     "metadata": {},
     "output_type": "execute_result"
    }
   ],
   "source": [
    "from matplotlib import pyplot as plt\n",
    "plt.rcParams[\"figure.figsize\"] = [10, 6]\n",
    "# Set up with a higher resolution screen (useful on Mac)\n",
    "%config InlineBackend.figure_format = 'retina'\n",
    "import pandas as pd\n",
    "df_eng = pd.read_csv('Dominant_Topics_ENG_2.csv')\n",
    "# First step -- rename columns\n",
    "df_eng.rename(columns={ df_eng.columns[0]: \"Articles\" }, inplace = True)\n",
    "df_eng.rename(columns={ df_eng.columns[1]: \"Topic_0\" }, inplace = True)\n",
    "df_eng.rename(columns={ df_eng.columns[2]: \"Topic_1\" }, inplace = True)\n",
    "df_eng.rename(columns={ df_eng.columns[3]: \"Topic_2\" }, inplace = True)\n",
    "df_eng.rename(columns={ df_eng.columns[4]: \"Topic_3\" }, inplace = True)\n",
    "df_eng.rename(columns={ df_eng.columns[5]: \"Topic_4\" }, inplace = True)\n",
    "# Second step -- drop the column of the dominant topics\n",
    "df_eng.drop('Dominant_Topic_NMF', axis=1, inplace=True)\n",
    "# Third step -- create separate columns for title of newspapers and year of publication\n",
    "df_eng['Year'] = df_eng['Articles']\n",
    "df_eng['Newspaper'] = df_eng['Articles']\n",
    "# Fourth step -- set years of publication as int variables\n",
    "df_eng['Year']= df_eng['Year'].map(lambda x: str(x)[0:4])\n",
    "df_eng['Year'].astype(int)\n",
    "# Fifth step -- shorten the newspapers' names in the newspaper column\n",
    "df_eng['Newspaper']= df_eng['Newspaper'].map(lambda x: str(x)[11:14])\n",
    "# Sixth step -- sort years \n",
    "df_eng2 = df_eng.sort_values(by='Year',ascending=True)\n",
    "# Display our reworked table\n",
    "df_eng2.head()"
   ]
  },
  {
   "cell_type": "markdown",
   "metadata": {},
   "source": [
    "We can take this data as a base for our network graph. A network graph is basically a graph of the relationships (or edges) between entities (or nodes). In our example, we want to understand the relationships between: \n",
    "\n",
    "  1. newspapers' articles and topics\n",
    "  3. newspapers' articles\n",
    "  \n",
    "We can then rework our 'df_eng2' data in order to get the needed data for the network graph, and because we shall use two software in order to plot our data, we will create files that we can use with both of them. Let us first tailor our 'df_eng2' data with the needed information for our network graph. Here, we will: \n",
    "\n",
    "  1. fusion our columns 'Newspaper' and 'Year' into a new column 'News' to have short names of cases \n",
    "  2. drop the columns 'Year' and 'Newspaper' that we added in the frame of our lecture 8, in order to have more keys to sort our data\n",
    "  3. drop the column 'Articles' which will be replaced by the column 'News'\n",
    "  4. shift the column 'News' to the first column\n",
    "  5. save the result to a . csv file (here a file called 'gephi-data.csv', because we will use it with the gephi software afterwards)"
   ]
  },
  {
   "cell_type": "code",
   "execution_count": 13,
   "metadata": {},
   "outputs": [
    {
     "name": "stderr",
     "output_type": "stream",
     "text": [
      "/tmp/ipykernel_5661/1925953035.py:2: FutureWarning: In a future version of pandas all arguments of DataFrame.drop except for the argument 'labels' will be keyword-only\n",
      "  df_eng2 = df_eng2.drop('Articles', 1)\n",
      "/tmp/ipykernel_5661/1925953035.py:3: FutureWarning: In a future version of pandas all arguments of DataFrame.drop except for the argument 'labels' will be keyword-only\n",
      "  df_eng2 = df_eng2.drop('Year', 1)\n",
      "/tmp/ipykernel_5661/1925953035.py:4: FutureWarning: In a future version of pandas all arguments of DataFrame.drop except for the argument 'labels' will be keyword-only\n",
      "  df_eng2 = df_eng2.drop('Newspaper', 1)\n"
     ]
    }
   ],
   "source": [
    "df_eng2[\"News\"] = df_eng2[\"Year\"].astype(str) + '-' + df_eng2[\"Newspaper\"]\n",
    "df_eng2 = df_eng2.drop('Articles', 1)\n",
    "df_eng2 = df_eng2.drop('Year', 1)\n",
    "df_eng2 = df_eng2.drop('Newspaper', 1)\n",
    "first_column = df_eng2.pop('News')\n",
    "df_eng2.insert(0, 'News', first_column)\n",
    "df_eng2.head()\n",
    "df_eng2.to_csv('gephi-data.csv', index=False)"
   ]
  },
  {
   "cell_type": "markdown",
   "metadata": {},
   "source": [
    "### Parsing the 'gephi-data.csv' file\n",
    "\n",
    "We parse the 'gephi-data.csv' file in order to get a file that our networking graph application can read. We are using first low-level programming tools in order to extract every relationships in our 'gephi-data.csv' file and to put them comma separated on one line. \n",
    "\n",
    "We then use a python script to save in the file 'texttopic.txt' the relationships between texts in the 'News' column and the topics.\n",
    "\n",
    "Finally, we use low-level programming tools to make out of texttopic.txt an edge file, as well as a node file. Let us go to the code and explain it."
   ]
  },
  {
   "cell_type": "code",
   "execution_count": 14,
   "metadata": {},
   "outputs": [
    {
     "name": "stdout",
     "output_type": "stream",
     "text": [
      "2002-ajA,Topic_0,0.7344061409198571\n",
      "2002-ajA,Topic_1,0.0310502227922358\n",
      "2002-ajA,Topic_2,0.0529413514249301\n",
      "2002-ajA,Topic_3,0.121927838969488\n",
      "2003-NYT,Topic_0,0.7597036666329167\n",
      "2003-NYT,Topic_1,0.0019191491553409\n",
      "2003-NYT,Topic_2,0.0675543861992488\n",
      "2003-NYT,Topic_3,0.1708227980124935\n",
      "2004-Maj,Topic_0,0.7492368149093654\n",
      "2004-Maj,Topic_1,0.0003056282203393\n",
      "2004-Maj,Topic_2,0.1250599243111435\n",
      "2004-Maj,Topic_3,0.091593133651301\n",
      "2004-Tor,Topic_0,0.6527171523621804\n",
      "2004-Tor,Topic_1,0.1056924320489151\n",
      "2004-Tor,Topic_2,0.1494326657312158\n",
      "2004-Tor,Topic_3,0.0921577498576886\n",
      "2004-Ind,Topic_0,0.3449014987246375\n",
      "2004-Ind,Topic_1,0.1182492384763447\n",
      "2004-Ind,Topic_2,0.1042652003722774\n",
      "2004-Ind,Topic_3,0.1287369775072112\n",
      "2005-Ind,Topic_0,0.0\n",
      "2005-Ind,Topic_1,0.0188957965116325\n",
      "2005-Ind,Topic_2,0.9811042034883676\n",
      "2005-Ind,Topic_3,0.0\n",
      "2005-Tor,Topic_0,0.9008021778597286\n",
      "2005-Tor,Topic_1,0.0057570007156965\n",
      "2005-Tor,Topic_2,0.0374773042990694\n",
      "2005-Tor,Topic_3,0.0174409502742877\n",
      "2006-ajA,Topic_0,0.899488597435661\n",
      "2006-ajA,Topic_1,0.0232080928054509\n",
      "2006-ajA,Topic_2,0.0\n",
      "2006-ajA,Topic_3,0.077303309758888\n",
      "2006-Maj,Topic_0,1.0\n",
      "2006-Maj,Topic_1,0.0\n",
      "2006-Maj,Topic_2,0.0\n",
      "2006-Maj,Topic_3,0.0\n",
      "2006-Maj,Topic_0,0.9996504027463158\n",
      "2006-Maj,Topic_1,0.0\n",
      "2006-Maj,Topic_2,0.0003495972536842\n",
      "2006-Maj,Topic_3,0.0\n",
      "2006-Tim,Topic_0,1.0\n",
      "2006-Tim,Topic_1,0.0\n",
      "2006-Tim,Topic_2,0.0\n",
      "2006-Tim,Topic_3,0.0\n",
      "2007-Maj,Topic_0,0.9738614587047658\n",
      "2007-Maj,Topic_1,0.0\n",
      "2007-Maj,Topic_2,0.0\n",
      "2007-Maj,Topic_3,0.0\n",
      "2007-Maj,Topic_0,0.1062925597518765\n",
      "2007-Maj,Topic_1,0.4087312424393585\n",
      "2007-Maj,Topic_2,0.1487147244210881\n",
      "2007-Maj,Topic_3,0.1285404208264487\n",
      "2007-NYT,Topic_0,1.0\n",
      "2007-NYT,Topic_1,0.0\n",
      "2007-NYT,Topic_2,0.0\n",
      "2007-NYT,Topic_3,0.0\n",
      "2007-Maj,Topic_0,1.0\n",
      "2007-Maj,Topic_1,0.0\n",
      "2007-Maj,Topic_2,0.0\n",
      "2007-Maj,Topic_3,0.0\n",
      "2007-Maj,Topic_0,0.9521310247604018\n",
      "2007-Maj,Topic_1,0.0\n",
      "2007-Maj,Topic_2,0.0478689752395982\n",
      "2007-Maj,Topic_3,0.0\n",
      "2007-Maj,Topic_0,0.8565135569983355\n",
      "2007-Maj,Topic_1,0.0399148734372289\n",
      "2007-Maj,Topic_2,0.0474068315220496\n",
      "2007-Maj,Topic_3,0.0561647380423857\n",
      "2007-Tor,Topic_0,0.3920245807179755\n",
      "2007-Tor,Topic_1,0.2662477521758326\n",
      "2007-Tor,Topic_2,0.2283310943507552\n",
      "2007-Tor,Topic_3,0.0\n",
      "2007-Maj,Topic_0,0.5300874798687131\n",
      "2007-Maj,Topic_1,0.3581144360442721\n",
      "2007-Maj,Topic_2,0.0\n",
      "2007-Maj,Topic_3,0.058299340436205\n",
      "2007-Dai,Topic_0,0.7113588987991732\n",
      "2007-Dai,Topic_1,0.0986267800946728\n",
      "2007-Dai,Topic_2,0.0\n",
      "2007-Dai,Topic_3,0.0668569807994904\n",
      "2008-Ind,Topic_0,0.1439641648655216\n",
      "2008-Ind,Topic_1,0.4184063125595472\n",
      "2008-Ind,Topic_2,0.0348413645364562\n",
      "2008-Ind,Topic_3,0.056062336322893\n",
      "2008-Maj,Topic_0,1.0\n",
      "2008-Maj,Topic_1,0.0\n",
      "2008-Maj,Topic_2,0.0\n",
      "2008-Maj,Topic_3,0.0\n",
      "2008-Maj,Topic_0,0.6110042490550418\n",
      "2008-Maj,Topic_1,0.2303136282317631\n",
      "2008-Maj,Topic_2,0.0175762694606486\n",
      "2008-Maj,Topic_3,0.0747164077660846\n",
      "2008-Maj,Topic_0,0.3935387981171423\n",
      "2008-Maj,Topic_1,0.5697837495123684\n",
      "2008-Maj,Topic_2,0.0366774523704892\n",
      "2008-Maj,Topic_3,0.0\n",
      "2009-Tim,Topic_0,0.0\n",
      "2009-Tim,Topic_1,0.0\n",
      "2009-Tim,Topic_2,0.0020547720140557\n",
      "2009-Tim,Topic_3,0.9979452279859442\n",
      "2009-NYT,Topic_0,0.3577030599844152\n",
      "2009-NYT,Topic_1,0.009084588467123\n",
      "2009-NYT,Topic_2,0.0476272174447767\n",
      "2009-NYT,Topic_3,0.3115519053112812\n",
      "2010-Maj,Topic_0,0.8442883769581547\n",
      "2010-Maj,Topic_1,0.0219233044416418\n",
      "2010-Maj,Topic_2,0.0241193246161069\n",
      "2010-Maj,Topic_3,0.1096689939840965\n",
      "2010-Maj,Topic_0,0.6256817168302639\n",
      "2010-Maj,Topic_1,0.1106673884196705\n",
      "2010-Maj,Topic_2,0.0332237670553675\n",
      "2010-Maj,Topic_3,0.2304271276946978\n",
      "2010-Tim,Topic_0,0.6214155508842455\n",
      "2010-Tim,Topic_1,0.0\n",
      "2010-Tim,Topic_2,0.1466570296288828\n",
      "2010-Tim,Topic_3,0.0441190720920098\n",
      "2010-Tor,Topic_0,0.6343020017396273\n",
      "2010-Tor,Topic_1,0.2504544749428355\n",
      "2010-Tor,Topic_2,0.0050762865648418\n",
      "2010-Tor,Topic_3,0.0600105406842499\n",
      "2010-Maj,Topic_0,0.9433091653017932\n",
      "2010-Maj,Topic_1,0.0\n",
      "2010-Maj,Topic_2,0.0\n",
      "2010-Maj,Topic_3,0.0566908346982069\n",
      "2011-Maj,Topic_0,1.0\n",
      "2011-Maj,Topic_1,0.0\n",
      "2011-Maj,Topic_2,0.0\n",
      "2011-Maj,Topic_3,0.0\n",
      "2011-Maj,Topic_0,0.9896180486940988\n",
      "2011-Maj,Topic_1,0.0\n",
      "2011-Maj,Topic_2,0.0103819513059012\n",
      "2011-Maj,Topic_3,0.0\n",
      "2011-Maj,Topic_0,0.176366856440873\n",
      "2011-Maj,Topic_1,0.3472462367266458\n",
      "2011-Maj,Topic_2,0.0866056984514022\n",
      "2011-Maj,Topic_3,0.1362453520130691\n",
      "2011-Maj,Topic_0,1.0\n",
      "2011-Maj,Topic_1,0.0\n",
      "2011-Maj,Topic_2,0.0\n",
      "2011-Maj,Topic_3,0.0\n",
      "2011-ajA,Topic_0,0.0\n",
      "2011-ajA,Topic_1,0.0\n",
      "2011-ajA,Topic_2,1.0\n",
      "2011-ajA,Topic_3,0.0\n",
      "2011-ajA,Topic_0,0.8027734048987042\n",
      "2011-ajA,Topic_1,0.0\n",
      "2011-ajA,Topic_2,0.0953771289875358\n",
      "2011-ajA,Topic_3,0.0\n",
      "2011-ajA,Topic_0,0.3763106454601789\n",
      "2011-ajA,Topic_1,0.0\n",
      "2011-ajA,Topic_2,0.1098457980435243\n",
      "2011-ajA,Topic_3,0.4537470496049053\n",
      "2011-Gua,Topic_0,0.4907685926764458\n",
      "2011-Gua,Topic_1,0.1729308478518942\n",
      "2011-Gua,Topic_2,0.0268785531401847\n",
      "2011-Gua,Topic_3,0.1375189743572118\n",
      "2012-Bus,Topic_0,1.0\n",
      "2012-Bus,Topic_1,0.0\n",
      "2012-Bus,Topic_2,0.0\n",
      "2012-Bus,Topic_3,0.0\n",
      "2012-Tim,Topic_0,0.1492269593971865\n",
      "2012-Tim,Topic_1,0.5874774052195281\n",
      "2012-Tim,Topic_2,0.0660481456248319\n",
      "2012-Tim,Topic_3,0.1377288954682612\n",
      "2012-Maj,Topic_0,0.7479775539121593\n",
      "2012-Maj,Topic_1,0.0059406161329344\n",
      "2012-Maj,Topic_2,0.052821869758013\n",
      "2012-Maj,Topic_3,0.1932599601968933\n",
      "2012-Maj,Topic_0,0.4225963532187188\n",
      "2012-Maj,Topic_1,0.0\n",
      "2012-Maj,Topic_2,0.1840576889209568\n",
      "2012-Maj,Topic_3,0.373341935693826\n",
      "2012-Gua,Topic_0,0.3627835308615009\n",
      "2012-Gua,Topic_1,0.0057116823681124\n",
      "2012-Gua,Topic_2,0.283585632419746\n",
      "2012-Gua,Topic_3,0.1603098826231687\n",
      "2012-Gua,Topic_0,0.7597036666329167\n",
      "2012-Gua,Topic_1,0.0019191491553409\n",
      "2012-Gua,Topic_2,0.0675543861992488\n",
      "2012-Gua,Topic_3,0.1708227980124935\n",
      "2012-Gua,Topic_0,0.9065173879772662\n",
      "2012-Gua,Topic_1,0.0\n",
      "2012-Gua,Topic_2,0.0\n",
      "2012-Gua,Topic_3,0.0934826120227337\n",
      "2012-Bus,Topic_0,0.0\n",
      "2012-Bus,Topic_1,0.0\n",
      "2012-Bus,Topic_2,0.9982868504141456\n",
      "2012-Bus,Topic_3,0.0017131495858544\n",
      "2013-Gua,Topic_0,1.0\n",
      "2013-Gua,Topic_1,0.0\n",
      "2013-Gua,Topic_2,0.0\n",
      "2013-Gua,Topic_3,0.0\n",
      "2013-Gua,Topic_0,0.5198285480881698\n",
      "2013-Gua,Topic_1,0.1245941660723865\n",
      "2013-Gua,Topic_2,0.1029772303128561\n",
      "2013-Gua,Topic_3,0.1192017305450221\n",
      "2013-NYT,Topic_0,0.8493560193089246\n",
      "2013-NYT,Topic_1,0.0052966228770362\n",
      "2013-NYT,Topic_2,0.0897706749376388\n",
      "2013-NYT,Topic_3,0.0508231748026596\n",
      "2013-Gua,Topic_0,1.0\n",
      "2013-Gua,Topic_1,0.0\n",
      "2013-Gua,Topic_2,0.0\n",
      "2013-Gua,Topic_3,0.0\n",
      "2013-Maj,Topic_0,0.4433911348206619\n",
      "2013-Maj,Topic_1,0.0113576734632116\n",
      "2013-Maj,Topic_2,0.0693000816818942\n",
      "2013-Maj,Topic_3,0.1323274272959229\n",
      "2013-NYT,Topic_0,0.0\n",
      "2013-NYT,Topic_1,1.0\n",
      "2013-NYT,Topic_2,0.0\n",
      "2013-NYT,Topic_3,0.0\n",
      "2014-ajA,Topic_0,0.6988648702796134\n",
      "2014-ajA,Topic_1,0.0619499815756164\n",
      "2014-ajA,Topic_2,0.1099460921213972\n",
      "2014-ajA,Topic_3,0.0576963867036402\n",
      "2014-ail,Topic_0,0.5744721265680484\n",
      "2014-ail,Topic_1,0.0948930173836197\n",
      "2014-ail,Topic_2,0.0\n",
      "2014-ail,Topic_3,0.3217157416852387\n",
      "2014-Dai,Topic_0,0.3604403462344056\n",
      "2014-Dai,Topic_1,0.1375443241467951\n",
      "2014-Dai,Topic_2,0.146681115478057\n",
      "2014-Dai,Topic_3,0.2022231328713558\n",
      "2014-CDa,Topic_0,0.3690464031633646\n",
      "2014-CDa,Topic_1,0.0\n",
      "2014-CDa,Topic_2,0.1565345962472612\n",
      "2014-CDa,Topic_3,0.3784693154148917\n",
      "2014-Ind,Topic_0,0.9252767879536472\n",
      "2014-Ind,Topic_1,0.0\n",
      "2014-Ind,Topic_2,0.0\n",
      "2014-Ind,Topic_3,0.0556110250322438\n",
      "2014-Gua,Topic_0,0.0\n",
      "2014-Gua,Topic_1,0.0\n",
      "2014-Gua,Topic_2,1.0\n",
      "2014-Gua,Topic_3,0.0\n",
      "2014-CDa,Topic_0,0.7450331131401344\n",
      "2014-CDa,Topic_1,0.1803100243027563\n",
      "2014-CDa,Topic_2,0.0\n",
      "2014-CDa,Topic_3,0.0\n",
      "2014-Maj,Topic_0,0.1062925597518765\n",
      "2014-Maj,Topic_1,0.4087312424393585\n",
      "2014-Maj,Topic_2,0.1487147244210881\n",
      "2014-Maj,Topic_3,0.1285404208264487\n",
      "2014-CDa,Topic_0,0.4236393119472482\n",
      "2014-CDa,Topic_1,0.3788444955273407\n",
      "2014-CDa,Topic_2,0.0\n",
      "2014-CDa,Topic_3,0.0901293617323332\n",
      "2014-Gua,Topic_0,0.9979731324601794\n",
      "2014-Gua,Topic_1,0.0\n",
      "2014-Gua,Topic_2,0.0020268675398206\n",
      "2014-Gua,Topic_3,0.0\n",
      "2014-CDa,Topic_0,0.4623128674167203\n",
      "2014-CDa,Topic_1,0.2206482691230536\n",
      "2014-CDa,Topic_2,0.0070755726714093\n",
      "2014-CDa,Topic_3,0.1120879783223743\n",
      "2015-Ind,Topic_0,0.0\n",
      "2015-Ind,Topic_1,0.0070397710604901\n",
      "2015-Ind,Topic_2,0.0\n",
      "2015-Ind,Topic_3,0.99296022893951\n",
      "2015-Maj,Topic_0,0.0\n",
      "2015-Maj,Topic_1,1.0\n",
      "2015-Maj,Topic_2,0.0\n",
      "2015-Maj,Topic_3,0.0\n",
      "2015-Gua,Topic_0,0.0\n",
      "2015-Gua,Topic_1,1.0\n",
      "2015-Gua,Topic_2,0.0\n",
      "2015-Gua,Topic_3,0.0\n",
      "2015-Dai,Topic_0,1.0\n",
      "2015-Dai,Topic_1,0.0\n",
      "2015-Dai,Topic_2,0.0\n",
      "2015-Dai,Topic_3,0.0\n",
      "2015-Dai,Topic_0,0.8358829253168585\n",
      "2015-Dai,Topic_1,0.0\n",
      "2015-Dai,Topic_2,0.0354323922384102\n",
      "2015-Dai,Topic_3,0.1252906381395284\n",
      "2015-Tim,Topic_0,0.9870341176429888\n",
      "2015-Tim,Topic_1,0.0129658823570113\n",
      "2015-Tim,Topic_2,0.0\n",
      "2015-Tim,Topic_3,0.0\n",
      "2015-Maj,Topic_0,0.8960593281181176\n",
      "2015-Maj,Topic_1,0.0784946663154815\n",
      "2015-Maj,Topic_2,0.0\n",
      "2015-Maj,Topic_3,0.0\n",
      "2015-ajA,Topic_0,1.0\n",
      "2015-ajA,Topic_1,0.0\n",
      "2015-ajA,Topic_2,0.0\n",
      "2015-ajA,Topic_3,0.0\n",
      "2015-Maj,Topic_0,0.0\n",
      "2015-Maj,Topic_1,0.0\n",
      "2015-Maj,Topic_2,0.0\n",
      "2015-Maj,Topic_3,0.0\n",
      "2015-Maj,Topic_0,0.5184134928674476\n",
      "2015-Maj,Topic_1,0.0908215601351243\n",
      "2015-Maj,Topic_2,0.0794668300626824\n",
      "2015-Maj,Topic_3,0.0591406881171901\n",
      "2016-ajA,Topic_0,0.2403484778990363\n",
      "2016-ajA,Topic_1,0.3945699922355551\n",
      "2016-ajA,Topic_2,0.0456889823853395\n",
      "2016-ajA,Topic_3,0.1429871754587219\n",
      "2016-Maj,Topic_0,0.3981045809887095\n",
      "2016-Maj,Topic_1,0.0382848782178522\n",
      "2016-Maj,Topic_2,0.4064613246165305\n",
      "2016-Maj,Topic_3,0.0575709852935893\n",
      "2016-Tim,Topic_0,0.9241018040150836\n",
      "2016-Tim,Topic_1,0.0\n",
      "2016-Tim,Topic_2,0.0758981959849165\n",
      "2016-Tim,Topic_3,0.0\n",
      "2016-ajA,Topic_0,0.8630301494459149\n",
      "2016-ajA,Topic_1,0.0\n",
      "2016-ajA,Topic_2,0.0\n",
      "2016-ajA,Topic_3,0.0462901775016793\n",
      "2016-NYT,Topic_0,0.4377120668318998\n",
      "2016-NYT,Topic_1,0.1782752456897636\n",
      "2016-NYT,Topic_2,0.0899505030794393\n",
      "2016-NYT,Topic_3,0.0960354144827563\n",
      "2016-ail,Topic_0,0.9885073455216824\n",
      "2016-ail,Topic_1,0.0\n",
      "2016-ail,Topic_2,0.0114926544783176\n",
      "2016-ail,Topic_3,0.0\n",
      "2016-ajA,Topic_0,0.4804504627800655\n",
      "2016-ajA,Topic_1,0.0751048162621092\n",
      "2016-ajA,Topic_2,0.1021348243204447\n",
      "2016-ajA,Topic_3,0.2426682389673354\n",
      "2016-Tim,Topic_0,0.9223320688883648\n",
      "2016-Tim,Topic_1,0.0\n",
      "2016-Tim,Topic_2,0.0746671822513355\n",
      "2016-Tim,Topic_3,0.0\n",
      "2016-Maj,Topic_0,0.2719736874868897\n",
      "2016-Maj,Topic_1,0.1545566627590752\n",
      "2016-Maj,Topic_2,0.1340243866046119\n",
      "2016-Maj,Topic_3,0.1009419454351571\n",
      "2016-ajA,Topic_0,0.3744570392533345\n",
      "2016-ajA,Topic_1,0.0080949351996304\n",
      "2016-ajA,Topic_2,0.2327534759322556\n",
      "2016-ajA,Topic_3,0.1816429318144068\n",
      "2017-Tim,Topic_0,0.8741718135891964\n",
      "2017-Tim,Topic_1,0.0\n",
      "2017-Tim,Topic_2,0.1258281864108035\n",
      "2017-Tim,Topic_3,0.0\n",
      "2017-Ind,Topic_0,0.0\n",
      "2017-Ind,Topic_1,0.0\n",
      "2017-Ind,Topic_2,0.0\n",
      "2017-Ind,Topic_3,1.0\n",
      "2017-CDa,Topic_0,0.0\n",
      "2017-CDa,Topic_1,0.0\n",
      "2017-CDa,Topic_2,0.0\n",
      "2017-CDa,Topic_3,0.0\n",
      "2017-Ind,Topic_0,0.9443913830340503\n",
      "2017-Ind,Topic_1,0.0\n",
      "2017-Ind,Topic_2,0.0\n",
      "2017-Ind,Topic_3,0.0556086169659496\n",
      "2018-Maj,Topic_0,0.762287427375555\n",
      "2018-Maj,Topic_1,0.0582331228430621\n",
      "2018-Maj,Topic_2,0.0240549851239191\n",
      "2018-Maj,Topic_3,0.1544353851174056\n",
      "2018-Maj,Topic_0,0.9906129766746704\n",
      "2018-Maj,Topic_1,0.0\n",
      "2018-Maj,Topic_2,0.0093870233253294\n",
      "2018-Maj,Topic_3,0.0\n",
      "2018-Maj,Topic_0,0.6278734790418946\n",
      "2018-Maj,Topic_1,0.0042573521245094\n",
      "2018-Maj,Topic_2,0.183714976993876\n",
      "2018-Maj,Topic_3,0.1256183564180669\n",
      "2018-ajA,Topic_0,0.8051865469762669\n",
      "2018-ajA,Topic_1,0.0\n",
      "2018-ajA,Topic_2,0.0944668089250697\n",
      "2018-ajA,Topic_3,0.0\n",
      "2018-Maj,Topic_0,0.8943126169662886\n",
      "2018-Maj,Topic_1,0.0913233180183497\n",
      "2018-Maj,Topic_2,0.0053683996471806\n",
      "2018-Maj,Topic_3,0.0\n",
      "2018-ail,Topic_0,0.3700570908442475\n",
      "2018-ail,Topic_1,0.0813482653168138\n",
      "2018-ail,Topic_2,0.2651987519190492\n",
      "2018-ail,Topic_3,0.1414557905947664\n",
      "2018-Maj,Topic_0,0.785358033348883\n",
      "2018-Maj,Topic_1,0.0\n",
      "2018-Maj,Topic_2,0.085377690625779\n",
      "2018-Maj,Topic_3,0.0987326762199662\n",
      "2018-Maj,Topic_0,1.0\n",
      "2018-Maj,Topic_1,0.0\n",
      "2018-Maj,Topic_2,0.0\n",
      "2018-Maj,Topic_3,0.0\n",
      "2019-ajA,Topic_0,1.0\n",
      "2019-ajA,Topic_1,0.0\n",
      "2019-ajA,Topic_2,0.0\n",
      "2019-ajA,Topic_3,0.0\n",
      "2019-Maj,Topic_0,0.0\n",
      "2019-Maj,Topic_1,0.0\n",
      "2019-Maj,Topic_2,0.0\n",
      "2019-Maj,Topic_3,1.0\n",
      "2019-ajA,Topic_0,0.543227892428469\n",
      "2019-ajA,Topic_1,0.1688437645242586\n",
      "2019-ajA,Topic_2,0.0299486881561298\n",
      "2019-ajA,Topic_3,0.1663726684905545\n",
      "2019-Maj,Topic_0,0.6310253039203255\n",
      "2019-Maj,Topic_1,0.0143423149370113\n",
      "2019-Maj,Topic_2,0.1285989538571551\n",
      "2019-Maj,Topic_3,0.1721328291796642\n",
      "2019-Maj,Topic_0,0.4198808026618196\n",
      "2019-Maj,Topic_1,0.0820252488770511\n",
      "2019-Maj,Topic_2,0.1614661079963458\n",
      "2019-Maj,Topic_3,0.0996403114393378\n",
      "2019-Tor,Topic_0,0.5838631453142531\n",
      "2019-Tor,Topic_1,0.0357055050074543\n",
      "2019-Tor,Topic_2,0.0403935464597756\n",
      "2019-Tor,Topic_3,0.1067498073909339\n",
      "2019-CDa,Topic_0,0.9913063075291496\n",
      "2019-CDa,Topic_1,0.0086936924708504\n",
      "2019-CDa,Topic_2,0.0\n",
      "2019-CDa,Topic_3,0.0\n",
      "2020-Maj,Topic_0,0.3023065120096851\n",
      "2020-Maj,Topic_1,0.2137063233140887\n",
      "2020-Maj,Topic_2,0.1065540214903968\n",
      "2020-Maj,Topic_3,0.249368742017798\n",
      "2020-Maj,Topic_0,1.0\n",
      "2020-Maj,Topic_1,0.0\n",
      "2020-Maj,Topic_2,0.0\n",
      "2020-Maj,Topic_3,0.0\n",
      "2020-Maj,Topic_0,0.4123877095256173\n",
      "2020-Maj,Topic_1,0.0084010270979393\n",
      "2020-Maj,Topic_2,0.0434302237414944\n",
      "2020-Maj,Topic_3,0.2643009053916114\n",
      "2020-Maj,Topic_0,1.0\n",
      "2020-Maj,Topic_1,0.0\n",
      "2020-Maj,Topic_2,0.0\n",
      "2020-Maj,Topic_3,0.0\n",
      "2020-ajA,Topic_0,0.2774525822691714\n",
      "2020-ajA,Topic_1,0.151180463538681\n",
      "2020-ajA,Topic_2,0.0709260474879442\n",
      "2020-ajA,Topic_3,0.1654925242441766\n",
      "2020-ajA,Topic_0,0.5188051172739666\n",
      "2020-ajA,Topic_1,0.153521496440337\n",
      "2020-ajA,Topic_2,0.054881008776111\n",
      "2020-ajA,Topic_3,0.1322739678741308\n",
      "2020-Bus,Topic_0,0.9415597162092296\n",
      "2020-Bus,Topic_1,0.0060964888307998\n",
      "2020-Bus,Topic_2,0.0523437949599704\n",
      "2020-Bus,Topic_3,0.0\n",
      "2020-Maj,Topic_0,0.0\n",
      "2020-Maj,Topic_1,0.0\n",
      "2020-Maj,Topic_2,1.0\n",
      "2020-Maj,Topic_3,0.0\n",
      "2020-ajA,Topic_0,0.6139981152290693\n",
      "2020-ajA,Topic_1,0.0\n",
      "2020-ajA,Topic_2,0.1367453204818816\n",
      "2020-ajA,Topic_3,0.0480630335217421\n",
      "2020-Maj,Topic_0,0.454757620510433\n",
      "2020-Maj,Topic_1,0.2280416903919158\n",
      "2020-Maj,Topic_2,0.0520461314379589\n",
      "2020-Maj,Topic_3,0.1037120125636923\n",
      "2020-Maj,Topic_0,1.0\n",
      "2020-Maj,Topic_1,0.0\n",
      "2020-Maj,Topic_2,0.0\n",
      "2020-Maj,Topic_3,0.0\n",
      "2020-Maj,Topic_0,0.9659987611128702\n",
      "2020-Maj,Topic_1,0.0\n",
      "2020-Maj,Topic_2,0.0340012388871298\n",
      "2020-Maj,Topic_3,0.0\n",
      "2020-Maj,Topic_0,0.9673783352960788\n",
      "2020-Maj,Topic_1,0.0\n",
      "2020-Maj,Topic_2,0.0326216647039212\n",
      "2020-Maj,Topic_3,0.0\n",
      "2020-ajA,Topic_0,1.0\n",
      "2020-ajA,Topic_1,0.0\n",
      "2020-ajA,Topic_2,0.0\n",
      "2020-ajA,Topic_3,0.0\n",
      "2020-Maj,Topic_0,0.9561677366763291\n",
      "2020-Maj,Topic_1,0.0\n",
      "2020-Maj,Topic_2,0.0\n",
      "2020-Maj,Topic_3,0.0\n",
      "2020-Maj,Topic_0,0.0\n",
      "2020-Maj,Topic_1,0.0\n",
      "2020-Maj,Topic_2,0.0\n",
      "2020-Maj,Topic_3,0.0\n",
      "2021-Ind,Topic_0,1.0\n",
      "2021-Ind,Topic_1,0.0\n",
      "2021-Ind,Topic_2,0.0\n",
      "2021-Ind,Topic_3,0.0\n",
      "2021-Ind,Topic_0,0.6946825994538436\n",
      "2021-Ind,Topic_1,0.0498143307537165\n",
      "2021-Ind,Topic_2,0.0939737841250668\n",
      "2021-Ind,Topic_3,0.0512578983290648\n"
     ]
    }
   ],
   "source": [
    "!awk -F',' '{$NF=\"\"}1' gephi-data.csv > dt.csv # use awk to segment the gephi-data.csv and make a dt.csv data out of it\n",
    "!sed -i \"s/ /,/g\" dt.csv # use sed to replace blank spaces with a comma \n",
    "!sed -i 's/.$//' dt.csv # use sed to remove the last comma at the end of each line\n",
    "\n",
    "# Python script\n",
    "\n",
    "csv = open(\"dt.csv\") # open the dt.csv file\n",
    "columns = csv.readline().strip().split(',')[1:] # read each line and split it at each comma, save the result in a variable columns\n",
    "file=open(\"texttopic.txt\", \"w\") # open a file texttopic.txt for writing in it\n",
    "for line in csv: # iterate over each line and make a variable tokens and a variable row\n",
    "    tokens = line.strip().split(',')\n",
    "    row = tokens[0] \n",
    "    for column, cell in zip(columns,tokens[1:]): # iterate for each column and cell over columns and the second elements of tokens\n",
    "        print ('{},{},{}'.format(row,column,cell)) # formate the result\n",
    "        s = str('{},{},{}'.format(row,column,cell)) # save the result into a variable s\n",
    "        file.write(s + \"\\n\") # write the variable s to the file texttopic.txt, jump to next line for each iteration\n",
    "file.close() # close the file texttopic.txt\n",
    "\n",
    "# Create nodes and edges from texttopic.txt\n",
    "\n",
    "!sed '/,0.0/d' texttopic.txt > ttedge_list.txt # use sed to delete null entries, and save the results as ttedge_list.txt\n",
    "!awk -F',' ' { print $1 \",\" $1 } ' texttopic.txt | sort | uniq | sed 's/\\.txt//' | awk -F',' ' {print $2 \",\" $1} ' > ttnode_list.txt # make a sorted list of node using the first column of texttopic.txt and save the nodes as ttnode_list.txt\n",
    "!echo \"id,Label\" | cat - ttnode_list.txt > ttnode_list.csv # Add the line id,label as first line of the ttnode_list.txt file\n",
    "!echo \"Source,Target,Weight\" | cat - ttedge_list.txt > ttedge_list.csv # Same as above with other labels added to ttedge_list.csv file"
   ]
  },
  {
   "cell_type": "markdown",
   "metadata": {},
   "source": [
    "## Making our network graph in python\n",
    "\n",
    "Now that we have our nodes and edges files, we can do a network graph with python and within this notebook, which is useful for a presentation from the notebook directly. In order to do this, we are using pyvis and also networkx in the background of pyvis, which enable us do display nice graphs -- in my view nicer than using networkx alone. If you don't have pyvis and networkx installed, you can install them with pip, like this: \n",
    "\n",
    "pip3 install pyvis networkx"
   ]
  },
  {
   "cell_type": "code",
   "execution_count": 15,
   "metadata": {},
   "outputs": [
    {
     "data": {
      "text/html": [
       "\n",
       "        <iframe\n",
       "            width=\"75%\"\n",
       "            height=\"750px\"\n",
       "            src=\"med.html\"\n",
       "            frameborder=\"0\"\n",
       "            allowfullscreen\n",
       "            \n",
       "        ></iframe>\n",
       "        "
      ],
      "text/plain": [
       "<IPython.lib.display.IFrame at 0x7f30baa557c0>"
      ]
     },
     "execution_count": 15,
     "metadata": {},
     "output_type": "execute_result"
    }
   ],
   "source": [
    "from pyvis.network import Network as net\n",
    "import networkx as nx\n",
    "\n",
    "med_net = net(height='750px', width='75%', bgcolor='#222222', font_color='white', notebook = True, directed=False) # give some cosmetic parameters for the graph\n",
    "med_net.barnes_hut() # use an algorythm for the shape of the graph\n",
    "med_data = pd.read_csv('ttedge_list.csv') # take our ttedge_list.csv file to plot the graph\n",
    "\n",
    "# Define the variables corresponding to the columns of the ttedge_list.csv file\n",
    "\n",
    "sources = med_data['Source']\n",
    "targets = med_data['Target']\n",
    "weights = med_data['Weight']\n",
    "\n",
    "# Zip the three variables above into a adge_data variable\n",
    "\n",
    "edge_data = zip(sources, targets, weights)\n",
    "\n",
    "# Iterate over the edge_data variable in order to plot the departure nodes (src), the arrival nodes (dst) and the edge between them (w); add them to the graph (med_net)\n",
    "\n",
    "for e in edge_data:\n",
    "    src = e[0]\n",
    "    dst = e[1]\n",
    "    w = e[2]\n",
    "\n",
    "    med_net.add_node(src, src, title=src)\n",
    "    med_net.add_node(dst, dst, title=dst)\n",
    "    med_net.add_edge(src, dst, value=w)\n",
    "\n",
    "neighbor_map = med_net.get_adj_list() # get a map of the neighbor -- the nodes which are near from oneanother\n",
    "\n",
    "# add neighbor data to node on hover -- when you move the mouse on the node, you will see the nodes related to it\n",
    "for node in med_net.nodes:\n",
    "    node['title'] += ' Neighbors:<br>' + '<br>'.join(neighbor_map[node['id']])\n",
    "    node['value'] = len(neighbor_map[node['id']])\n",
    "\n",
    "#med_net.show_buttons(filter_=True) # if you want to use the buttons enabling to modify the parameters of the graph\n",
    "med_net.show('med.html')"
   ]
  },
  {
   "cell_type": "markdown",
   "metadata": {},
   "source": [
    "Now, you have a network graph of your topic model analysis, and it is an interactive one that you can personalize, and which have been saved as an independent html file (med.html). "
   ]
  },
  {
   "cell_type": "markdown",
   "metadata": {},
   "source": [
    "## Gephi -- standalone solution\n",
    "\n",
    "Gephi is unfortunately no more actively developed, but there are plans to develop it further. In the meantime, you can download the free gephi software which gives a standalone solution to plot beautiful network graphs based on the files that we have generated from our texttopic.txt file. How do you do that? This is what I want to show you in our course, and do it with you in presence, instead of in this notebook. "
   ]
  }
 ],
 "metadata": {
  "extensions": {
   "jupyter_dashboards": {
    "activeView": "grid_default",
    "version": 1,
    "views": {
     "grid_default": {
      "cellMargin": 2,
      "defaultCellHeight": 60,
      "maxColumns": 12,
      "name": "grid",
      "type": "grid"
     }
    }
   }
  },
  "kernelspec": {
   "display_name": "Python 3 (ipykernel)",
   "language": "python",
   "name": "python3"
  },
  "language_info": {
   "codemirror_mode": {
    "name": "ipython",
    "version": 3
   },
   "file_extension": ".py",
   "mimetype": "text/x-python",
   "name": "python",
   "nbconvert_exporter": "python",
   "pygments_lexer": "ipython3",
   "version": "3.8.10"
  },
  "widgets": {
   "application/vnd.jupyter.widget-state+json": {
    "state": {},
    "version_major": 2,
    "version_minor": 0
   }
  }
 },
 "nbformat": 4,
 "nbformat_minor": 4
}
