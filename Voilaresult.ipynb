{
 "cells": [
  {
   "cell_type": "markdown",
   "id": "dfadb2e0-c0c8-439d-8b72-921f1db4c272",
   "metadata": {
    "extensions": {
     "jupyter_dashboards": {
      "activeView": "grid_default",
      "views": {
       "grid_default": {
        "col": 5,
        "height": 3,
        "hidden": false,
        "row": 0,
        "width": 3
       }
      }
     }
    }
   },
   "source": [
    "## Presentation of the results\n",
    "\n",
    "Here are our main findings"
   ]
  },
  {
   "cell_type": "code",
   "execution_count": 5,
   "id": "4c020496-f002-4675-bb00-54181e2a5d8b",
   "metadata": {
    "extensions": {
     "jupyter_dashboards": {
      "activeView": "grid_default",
      "views": {
       "grid_default": {
        "col": null,
        "height": 2,
        "hidden": true,
        "row": null,
        "width": 2
       }
      }
     }
    }
   },
   "outputs": [
    {
     "data": {
      "text/html": [
       "        <script type=\"text/javascript\">\n",
       "        window.PlotlyConfig = {MathJaxConfig: 'local'};\n",
       "        if (window.MathJax) {MathJax.Hub.Config({SVG: {font: \"STIX-Web\"}});}\n",
       "        if (typeof require !== 'undefined') {\n",
       "        require.undef(\"plotly\");\n",
       "        requirejs.config({\n",
       "            paths: {\n",
       "                'plotly': ['https://cdn.plot.ly/plotly-2.8.3.min']\n",
       "            }\n",
       "        });\n",
       "        require(['plotly'], function(Plotly) {\n",
       "            window._Plotly = Plotly;\n",
       "        });\n",
       "        }\n",
       "        </script>\n",
       "        "
      ]
     },
     "metadata": {},
     "output_type": "display_data"
    },
    {
     "data": {
      "text/html": [
       "        <script type=\"text/javascript\">\n",
       "        window.PlotlyConfig = {MathJaxConfig: 'local'};\n",
       "        if (window.MathJax) {MathJax.Hub.Config({SVG: {font: \"STIX-Web\"}});}\n",
       "        if (typeof require !== 'undefined') {\n",
       "        require.undef(\"plotly\");\n",
       "        requirejs.config({\n",
       "            paths: {\n",
       "                'plotly': ['https://cdn.plot.ly/plotly-2.8.3.min']\n",
       "            }\n",
       "        });\n",
       "        require(['plotly'], function(Plotly) {\n",
       "            window._Plotly = Plotly;\n",
       "        });\n",
       "        }\n",
       "        </script>\n",
       "        "
      ]
     },
     "metadata": {},
     "output_type": "display_data"
    }
   ],
   "source": [
    "import matplotlib.pyplot as plt\n",
    "import matplotlib.patches as mpatches\n",
    "import seaborn as sns\n",
    "import numpy as np\n",
    "import pandas as pd\n",
    "import csv\n",
    "%matplotlib inline\n",
    "plt.rcParams['figure.figsize'] = [12, 8]\n",
    "\n",
    "from IPython.display import display \n",
    "import ipywidgets as widgets \n",
    "from ipywidgets import interact, Layout, interactive, fixed, interact_manual, IntSlider\n",
    "\n",
    "import chart_studio.plotly as py\n",
    "import plotly.graph_objs as go\n",
    "from plotly.offline import iplot, init_notebook_mode\n",
    "init_notebook_mode(connected=True)\n",
    "\n",
    "import cufflinks as cf\n",
    "cf.go_offline(connected=True)\n",
    "cf.set_config_file(colorscale='plotly', world_readable=True)\n",
    "\n",
    "# Extra options\n",
    "pd.options.display.max_rows = 30\n",
    "pd.options.display.max_columns = 25\n",
    "\n",
    "df_eng = pd.read_csv('Dominant_Topics_ENG_2.csv')\n",
    "df_eng.rename(columns={ df_eng.columns[0]: \"Articles\" }, inplace = True)\n",
    "df_eng.rename(columns={ df_eng.columns[1]: \"Topic_0\" }, inplace = True)\n",
    "df_eng.rename(columns={ df_eng.columns[2]: \"Topic_1\" }, inplace = True)\n",
    "df_eng.rename(columns={ df_eng.columns[3]: \"Topic_2\" }, inplace = True)\n",
    "df_eng.rename(columns={ df_eng.columns[4]: \"Topic_3\" }, inplace = True)\n",
    "df_eng.rename(columns={ df_eng.columns[5]: \"Topic_4\" }, inplace = True)\n",
    "# Second step\n",
    "df_eng.drop('Dominant_Topic_NMF', axis=1, inplace=True)\n",
    "# Third step\n",
    "df_eng['Year'] = df_eng['Articles']\n",
    "df_eng['Newspaper'] = df_eng['Articles']\n",
    "# Fourth step\n",
    "df_eng['Year']= df_eng['Year'].map(lambda x: str(x)[0:4])\n",
    "df_eng['Year'].astype(int)\n",
    "# Fifth step\n",
    "df_eng['Newspaper']= df_eng['Newspaper'].map(lambda x: str(x)[11:14])\n",
    "# Sixth step\n",
    "df_eng2 = df_eng.sort_values(by='Year',ascending=True)"
   ]
  },
  {
   "cell_type": "markdown",
   "id": "f1a3fc13-c6c9-4e88-b595-d62a9af6de4a",
   "metadata": {
    "extensions": {
     "jupyter_dashboards": {
      "activeView": "grid_default",
      "views": {
       "grid_default": {
        "col": 8,
        "height": 2,
        "hidden": false,
        "row": 3,
        "width": 4
       }
      }
     }
    }
   },
   "source": [
    "## Filter dataset by topic indice"
   ]
  },
  {
   "cell_type": "code",
   "execution_count": 6,
   "id": "3e04e115-62b0-4b2f-8481-4726d32bb67b",
   "metadata": {
    "extensions": {
     "jupyter_dashboards": {
      "activeView": "grid_default",
      "views": {
       "grid_default": {
        "col": 6,
        "height": 12,
        "hidden": false,
        "row": 5,
        "width": 6
       }
      }
     }
    }
   },
   "outputs": [
    {
     "data": {
      "application/vnd.jupyter.widget-view+json": {
       "model_id": "28f2d006b21f41968816a8659be59162",
       "version_major": 2,
       "version_minor": 0
      },
      "text/plain": [
       "interactive(children=(Dropdown(description='column', options=('Topic_0', 'Topic_1', 'Topic_2', 'Topic_3', 'Top…"
      ]
     },
     "metadata": {},
     "output_type": "display_data"
    }
   ],
   "source": [
    "@interact\n",
    "def show_articles(column=['Topic_0', 'Topic_1', 'Topic_2', 'Topic_3', 'Topic_4'], value=(0, 1, 0.05)):\n",
    "    return df_eng.loc[df_eng[column] > value]"
   ]
  },
  {
   "cell_type": "markdown",
   "id": "1da1e570-3268-4f91-a05a-d861e8f80dd2",
   "metadata": {
    "extensions": {
     "jupyter_dashboards": {
      "activeView": "grid_default",
      "views": {
       "grid_default": {
        "col": 1,
        "height": 2,
        "hidden": false,
        "row": 3,
        "width": 4
       }
      }
     }
    }
   },
   "source": [
    "## Compare topic distribution over time"
   ]
  },
  {
   "cell_type": "code",
   "execution_count": 7,
   "id": "56f4cb11-6f03-4329-9d13-e019ac4d8bc5",
   "metadata": {
    "extensions": {
     "jupyter_dashboards": {
      "activeView": "grid_default",
      "views": {
       "grid_default": {
        "col": 0,
        "height": 13,
        "hidden": false,
        "row": 5,
        "width": 5
       }
      }
     }
    }
   },
   "outputs": [
    {
     "data": {
      "application/vnd.jupyter.widget-view+json": {
       "model_id": "67b2dd38afca4eb4a554415dd664f905",
       "version_major": 2,
       "version_minor": 0
      },
      "text/plain": [
       "interactive(children=(SelectMultiple(description='Variables', index=(1,), options=('Topic_0', 'Topic_1', 'Topi…"
      ]
     },
     "metadata": {},
     "output_type": "display_data"
    }
   ],
   "source": [
    "opts = list(df_eng2[[\"Topic_0\", \"Topic_1\", \"Topic_2\", \"Topic_3\", \"Topic_4\"]])\n",
    "\n",
    "sel_mult = widgets.SelectMultiple(description=\"Variables\",options=opts,value=[opts[1]],disabled=False)\n",
    "\n",
    "@interact(variables=sel_mult)\n",
    "def plot_multiple(variables):\n",
    "    df_eng3 = df_eng.set_index(\"Year\").sort_index(axis=0)\n",
    "    df_eng3[list(variables)].plot(style=\".\", ms=20, alpha=0.5)\n",
    "    plt.title(\"Topics in time\")\n",
    "    plt.xlabel(\"Years\")\n",
    "    plt.ylabel(\"Topics' weight\")\n",
    "    plt.legend(loc=2, prop={'size':12}, bbox_to_anchor=(1,1),ncol=1)"
   ]
  },
  {
   "cell_type": "markdown",
   "id": "4db988b9-0991-4e99-817e-3bb3b756787a",
   "metadata": {
    "extensions": {
     "jupyter_dashboards": {
      "activeView": "grid_default",
      "views": {
       "grid_default": {
        "col": null,
        "height": 2,
        "hidden": true,
        "row": null,
        "width": 2
       }
      }
     }
    }
   },
   "source": [
    "## Compare the contribution of newspapers to topics"
   ]
  },
  {
   "cell_type": "code",
   "execution_count": 8,
   "id": "0e0e0355-bdfd-4631-9324-5a1a9733a92b",
   "metadata": {
    "extensions": {
     "jupyter_dashboards": {
      "activeView": "grid_default",
      "views": {
       "grid_default": {
        "col": null,
        "height": 2,
        "hidden": true,
        "row": null,
        "width": 2
       }
      }
     }
    },
    "tags": []
   },
   "outputs": [
    {
     "data": {
      "application/vnd.jupyter.widget-view+json": {
       "model_id": "32d6d95f1d0748d9af08b3f7056e419e",
       "version_major": 2,
       "version_minor": 0
      },
      "text/plain": [
       "interactive(children=(Dropdown(description='x', options=(), value=None), Dropdown(description='y', options=('T…"
      ]
     },
     "metadata": {},
     "output_type": "display_data"
    }
   ],
   "source": [
    "import plotly.express as px\n",
    "# Define color discrete map for the newspapers' categories (hex code for colors)\n",
    "color_discrete_map = {'ajA': '#002b36', 'NYT': '#586e75', 'Maj': '#657b83', 'Tor': '#839496', 'Ind': '#93a1a1', 'Tim': '#fdf6e3', 'Dai': '#b58900', 'Gua': '#cb4b16', 'Bus': '#d30102', 'ail': '#d33682', 'CDa': '#268bd2'}\n",
    "\n",
    "@interact\n",
    "# with year only\n",
    "def scatter_plot(x=list(df_eng2.select_dtypes('number').columns[5:]), \n",
    "                 y=list(df_eng2.select_dtypes('number').columns[0:4]),\n",
    "                 theme=list(cf.themes.THEMES.keys()), \n",
    "                 colorscale=list(cf.colors._scales_names.keys())):\n",
    "    \n",
    "    fig=px.scatter(df_eng2, x=x, y=y, color=\"Newspaper\", \n",
    "             opacity=0.5,\n",
    "             #trendline=\"rolling\",\n",
    "             #trendline_options=dict(window=2),\n",
    "             color_discrete_map=color_discrete_map)\n",
    "    fig.update_traces(marker=dict(size=15))\n",
    "    fig.show()"
   ]
  }
 ],
 "metadata": {
  "extensions": {
   "jupyter_dashboards": {
    "activeView": "grid_default",
    "version": 1,
    "views": {
     "grid_default": {
      "cellMargin": 1,
      "defaultCellHeight": 45,
      "maxColumns": 12,
      "name": "grid",
      "type": "grid"
     }
    }
   }
  },
  "kernelspec": {
   "display_name": "Python 3 (ipykernel)",
   "language": "python",
   "name": "python3"
  },
  "language_info": {
   "codemirror_mode": {
    "name": "ipython",
    "version": 3
   },
   "file_extension": ".py",
   "mimetype": "text/x-python",
   "name": "python",
   "nbconvert_exporter": "python",
   "pygments_lexer": "ipython3",
   "version": "3.8.10"
  },
  "widgets": {
   "application/vnd.jupyter.widget-state+json": {
    "state": {
     "02c5ceea512b45b6b58ea3f1d1291e24": {
      "model_module": "@jupyter-widgets/base",
      "model_module_version": "1.2.0",
      "model_name": "LayoutModel",
      "state": {}
     },
     "086d5432098d4640a8b887d06b4ab30e": {
      "model_module": "@jupyter-widgets/base",
      "model_module_version": "1.2.0",
      "model_name": "LayoutModel",
      "state": {}
     },
     "0983b0caf29c47018881a84b97590f7e": {
      "model_module": "@jupyter-widgets/base",
      "model_module_version": "1.2.0",
      "model_name": "LayoutModel",
      "state": {}
     },
     "102cc1af69fb47ad8c879c8d34465166": {
      "model_module": "@jupyter-widgets/controls",
      "model_module_version": "1.5.0",
      "model_name": "DropdownModel",
      "state": {
       "_options_labels": [
        "brbg",
        "prgn",
        "piyg",
        "puor",
        "rdbu",
        "rdgy",
        "rdylbu",
        "rdylgn",
        "spectral",
        "paired",
        "set3",
        "dflt",
        "original",
        "plotly",
        "henanigans",
        "accent",
        "dark2",
        "pastel1",
        "pastel2",
        "set1",
        "set2",
        "blues",
        "bugn",
        "bupu",
        "gnbu",
        "greens",
        "greys",
        "orrd",
        "oranges",
        "pubu",
        "pubugn",
        "purd",
        "purples",
        "rdpu",
        "reds",
        "ylgn",
        "ylgnbu",
        "ylorbr",
        "ylorrd",
        "ggplot",
        "polar"
       ],
       "description": "colorscale",
       "index": 0,
       "layout": "IPY_MODEL_3bc8b25b7d2c4162945f8d6c52673104",
       "style": "IPY_MODEL_f7f6d5e7be964a52ab58c1e7dd8ddd54"
      }
     },
     "16e30b497cc54026bcf954c0107bdfc1": {
      "model_module": "@jupyter-widgets/controls",
      "model_module_version": "1.5.0",
      "model_name": "VBoxModel",
      "state": {
       "_dom_classes": [
        "widget-interact"
       ],
       "children": [
        "IPY_MODEL_ab8abc4bd0fe49ba970283f44186513d",
        "IPY_MODEL_c10ce78d03fe49348f25fe3d167b00c8",
        "IPY_MODEL_d52625e2857a4eec97ebea0cf328c459",
        "IPY_MODEL_bb4c49f376e843cba07111ea4f2857eb",
        "IPY_MODEL_e1d5d18c0b7a4d0fad44570a25222e52"
       ],
       "layout": "IPY_MODEL_37aa2c7ee245429381462fc72433bd22"
      }
     },
     "1bc7a9f454944d6dbca56641c36f8e88": {
      "model_module": "@jupyter-widgets/controls",
      "model_module_version": "1.5.0",
      "model_name": "DescriptionStyleModel",
      "state": {
       "description_width": ""
      }
     },
     "269c206ec5c54d2b8263c956475e1cae": {
      "model_module": "@jupyter-widgets/controls",
      "model_module_version": "1.5.0",
      "model_name": "SelectMultipleModel",
      "state": {
       "_options_labels": [
        "Topic_0",
        "Topic_1",
        "Topic_2",
        "Topic_3",
        "Topic_4"
       ],
       "description": "Variables",
       "index": [
        1
       ],
       "layout": "IPY_MODEL_80d7591a646c4a5a8c0c0f7f62574f3d",
       "rows": 5,
       "style": "IPY_MODEL_1bc7a9f454944d6dbca56641c36f8e88"
      }
     },
     "28f2d006b21f41968816a8659be59162": {
      "model_module": "@jupyter-widgets/controls",
      "model_module_version": "1.5.0",
      "model_name": "VBoxModel",
      "state": {
       "_dom_classes": [
        "widget-interact"
       ],
       "children": [
        "IPY_MODEL_eaa1551436434d9094ef751f84752254",
        "IPY_MODEL_f23ee8f73d304adbafa7b6b988a7abb0",
        "IPY_MODEL_6cc3d81e34b74d11b7803d8a92f4c0d4"
       ],
       "layout": "IPY_MODEL_0983b0caf29c47018881a84b97590f7e"
      }
     },
     "2a740379dec14e16a6fd6c5bba62813d": {
      "model_module": "@jupyter-widgets/base",
      "model_module_version": "1.2.0",
      "model_name": "LayoutModel",
      "state": {}
     },
     "2c5d863bbb214097acf377ea8851a2ae": {
      "model_module": "@jupyter-widgets/base",
      "model_module_version": "1.2.0",
      "model_name": "LayoutModel",
      "state": {}
     },
     "32d6d95f1d0748d9af08b3f7056e419e": {
      "model_module": "@jupyter-widgets/controls",
      "model_module_version": "1.5.0",
      "model_name": "VBoxModel",
      "state": {
       "_dom_classes": [
        "widget-interact"
       ],
       "children": [
        "IPY_MODEL_44a28106f0e14644ab0c29036fcfec8a",
        "IPY_MODEL_b8622ee1c3454095af02e5b41469605e",
        "IPY_MODEL_914e69b6fee34babb8b9cdde9a3fe28f",
        "IPY_MODEL_102cc1af69fb47ad8c879c8d34465166",
        "IPY_MODEL_d8cf6065df1341f98b5d7814bd002170"
       ],
       "layout": "IPY_MODEL_891b5abb0869417f8392fe7bf5dfa731"
      }
     },
     "36ebfc025b0645fbb0c12307dd54e199": {
      "model_module": "@jupyter-widgets/controls",
      "model_module_version": "1.5.0",
      "model_name": "VBoxModel",
      "state": {
       "_dom_classes": [
        "widget-interact"
       ],
       "children": [
        "IPY_MODEL_f986a6c1558641e68798444551408231",
        "IPY_MODEL_4f3ba076379146cba63584461126fb66"
       ],
       "layout": "IPY_MODEL_fa203700579f4e7ca09b763587850787"
      }
     },
     "37aa2c7ee245429381462fc72433bd22": {
      "model_module": "@jupyter-widgets/base",
      "model_module_version": "1.2.0",
      "model_name": "LayoutModel",
      "state": {}
     },
     "3a6443c46a374988b7bd44950e8231d1": {
      "model_module": "@jupyter-widgets/controls",
      "model_module_version": "1.5.0",
      "model_name": "SliderStyleModel",
      "state": {
       "description_width": ""
      }
     },
     "3bc8b25b7d2c4162945f8d6c52673104": {
      "model_module": "@jupyter-widgets/base",
      "model_module_version": "1.2.0",
      "model_name": "LayoutModel",
      "state": {}
     },
     "4275d60017524fcab7632239355dd7fe": {
      "model_module": "@jupyter-widgets/base",
      "model_module_version": "1.2.0",
      "model_name": "LayoutModel",
      "state": {}
     },
     "44a28106f0e14644ab0c29036fcfec8a": {
      "model_module": "@jupyter-widgets/controls",
      "model_module_version": "1.5.0",
      "model_name": "DropdownModel",
      "state": {
       "description": "x",
       "index": null,
       "layout": "IPY_MODEL_a00eb96b6eac48e1b13c26560848ee32",
       "style": "IPY_MODEL_add29aa5b58444ad9dc6efa81d7391b9"
      }
     },
     "4e951ac7278a4aae8bf31b55d1069d0b": {
      "model_module": "@jupyter-widgets/base",
      "model_module_version": "1.2.0",
      "model_name": "LayoutModel",
      "state": {}
     },
     "4eb0430a873b4f30a203995cdcd19f77": {
      "model_module": "@jupyter-widgets/base",
      "model_module_version": "1.2.0",
      "model_name": "LayoutModel",
      "state": {}
     },
     "4f3ba076379146cba63584461126fb66": {
      "model_module": "@jupyter-widgets/output",
      "model_module_version": "1.0.0",
      "model_name": "OutputModel",
      "state": {
       "layout": "IPY_MODEL_fa76017be78b422a901bee8495edfd08",
       "outputs": [
        {
         "data": {
          "image/png": "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\n",
          "text/plain": "<Figure size 864x576 with 1 Axes>"
         },
         "metadata": {
          "needs_background": "light"
         },
         "output_type": "display_data"
        }
       ]
      }
     },
     "5e783a58d71a45fb8483eaea89676918": {
      "model_module": "@jupyter-widgets/base",
      "model_module_version": "1.2.0",
      "model_name": "LayoutModel",
      "state": {}
     },
     "67b2dd38afca4eb4a554415dd664f905": {
      "model_module": "@jupyter-widgets/controls",
      "model_module_version": "1.5.0",
      "model_name": "VBoxModel",
      "state": {
       "_dom_classes": [
        "widget-interact"
       ],
       "children": [
        "IPY_MODEL_269c206ec5c54d2b8263c956475e1cae",
        "IPY_MODEL_8ffe9a941d2949cf83365bdcd85ea76f"
       ],
       "layout": "IPY_MODEL_829a205547d54107bf5e93c2b6e04995"
      }
     },
     "6cc3d81e34b74d11b7803d8a92f4c0d4": {
      "model_module": "@jupyter-widgets/output",
      "model_module_version": "1.0.0",
      "model_name": "OutputModel",
      "state": {
       "layout": "IPY_MODEL_4275d60017524fcab7632239355dd7fe",
       "outputs": [
        {
         "data": {
          "text/html": "<div>\n<style scoped>\n    .dataframe tbody tr th:only-of-type {\n        vertical-align: middle;\n    }\n\n    .dataframe tbody tr th {\n        vertical-align: top;\n    }\n\n    .dataframe thead th {\n        text-align: right;\n    }\n</style>\n<table border=\"1\" class=\"dataframe\">\n  <thead>\n    <tr style=\"text-align: right;\">\n      <th></th>\n      <th>Articles</th>\n      <th>Topic_0</th>\n      <th>Topic_1</th>\n      <th>Topic_2</th>\n      <th>Topic_3</th>\n      <th>Topic_4</th>\n      <th>Year</th>\n      <th>Newspaper</th>\n    </tr>\n  </thead>\n  <tbody>\n    <tr>\n      <th>0</th>\n      <td>2002-03-1-MajAustr-1-67-61.txt</td>\n      <td>0.734406</td>\n      <td>0.031050</td>\n      <td>0.052941</td>\n      <td>0.121928</td>\n      <td>0.059674</td>\n      <td>2002</td>\n      <td>ajA</td>\n    </tr>\n    <tr>\n      <th>1</th>\n      <td>2018-01-24-MajAustr-1-67-2.txt</td>\n      <td>0.627873</td>\n      <td>0.004257</td>\n      <td>0.183715</td>\n      <td>0.125618</td>\n      <td>0.058536</td>\n      <td>2018</td>\n      <td>Maj</td>\n    </tr>\n    <tr>\n      <th>2</th>\n      <td>2017-11-22-Independent-1-9-4.txt</td>\n      <td>0.944391</td>\n      <td>0.000000</td>\n      <td>0.000000</td>\n      <td>0.055609</td>\n      <td>0.000000</td>\n      <td>2017</td>\n      <td>Ind</td>\n    </tr>\n    <tr>\n      <th>3</th>\n      <td>2017-09-27-Times-1-9-4.txt</td>\n      <td>0.874172</td>\n      <td>0.000000</td>\n      <td>0.125828</td>\n      <td>0.000000</td>\n      <td>0.000000</td>\n      <td>2017</td>\n      <td>Tim</td>\n    </tr>\n    <tr>\n      <th>4</th>\n      <td>2016-08-7-MajAustr-1-67-26.txt</td>\n      <td>0.374457</td>\n      <td>0.008095</td>\n      <td>0.232753</td>\n      <td>0.181643</td>\n      <td>0.203052</td>\n      <td>2016</td>\n      <td>ajA</td>\n    </tr>\n    <tr>\n      <th>...</th>\n      <td>...</td>\n      <td>...</td>\n      <td>...</td>\n      <td>...</td>\n      <td>...</td>\n      <td>...</td>\n      <td>...</td>\n      <td>...</td>\n    </tr>\n    <tr>\n      <th>106</th>\n      <td>2016-02-18-MajAustr-1-67-1.txt</td>\n      <td>0.398105</td>\n      <td>0.038285</td>\n      <td>0.406461</td>\n      <td>0.057571</td>\n      <td>0.099578</td>\n      <td>2016</td>\n      <td>Maj</td>\n    </tr>\n    <tr>\n      <th>112</th>\n      <td>2014-09-08-CDaily-1-10-9.txt</td>\n      <td>0.369046</td>\n      <td>0.000000</td>\n      <td>0.156535</td>\n      <td>0.378469</td>\n      <td>0.095950</td>\n      <td>2014</td>\n      <td>CDa</td>\n    </tr>\n    <tr>\n      <th>115</th>\n      <td>2011-08-2-MajAustr-1-67-60.txt</td>\n      <td>0.376311</td>\n      <td>0.000000</td>\n      <td>0.109846</td>\n      <td>0.453747</td>\n      <td>0.060097</td>\n      <td>2011</td>\n      <td>ajA</td>\n    </tr>\n    <tr>\n      <th>116</th>\n      <td>2020-08-8-MajAustr-1-67-3.txt</td>\n      <td>0.277453</td>\n      <td>0.151180</td>\n      <td>0.070926</td>\n      <td>0.165493</td>\n      <td>0.334948</td>\n      <td>2020</td>\n      <td>ajA</td>\n    </tr>\n    <tr>\n      <th>119</th>\n      <td>2016-09-14-MajAustr-1-67-25.txt</td>\n      <td>0.271974</td>\n      <td>0.154557</td>\n      <td>0.134024</td>\n      <td>0.100942</td>\n      <td>0.338503</td>\n      <td>2016</td>\n      <td>Maj</td>\n    </tr>\n  </tbody>\n</table>\n<p>106 rows × 8 columns</p>\n</div>",
          "text/plain": "                             Articles   Topic_0   Topic_1   Topic_2   Topic_3  \\\n0      2002-03-1-MajAustr-1-67-61.txt  0.734406  0.031050  0.052941  0.121928   \n1      2018-01-24-MajAustr-1-67-2.txt  0.627873  0.004257  0.183715  0.125618   \n2    2017-11-22-Independent-1-9-4.txt  0.944391  0.000000  0.000000  0.055609   \n3          2017-09-27-Times-1-9-4.txt  0.874172  0.000000  0.125828  0.000000   \n4      2016-08-7-MajAustr-1-67-26.txt  0.374457  0.008095  0.232753  0.181643   \n..                                ...       ...       ...       ...       ...   \n106    2016-02-18-MajAustr-1-67-1.txt  0.398105  0.038285  0.406461  0.057571   \n112      2014-09-08-CDaily-1-10-9.txt  0.369046  0.000000  0.156535  0.378469   \n115    2011-08-2-MajAustr-1-67-60.txt  0.376311  0.000000  0.109846  0.453747   \n116     2020-08-8-MajAustr-1-67-3.txt  0.277453  0.151180  0.070926  0.165493   \n119   2016-09-14-MajAustr-1-67-25.txt  0.271974  0.154557  0.134024  0.100942   \n\n      Topic_4  Year Newspaper  \n0    0.059674  2002       ajA  \n1    0.058536  2018       Maj  \n2    0.000000  2017       Ind  \n3    0.000000  2017       Tim  \n4    0.203052  2016       ajA  \n..        ...   ...       ...  \n106  0.099578  2016       Maj  \n112  0.095950  2014       CDa  \n115  0.060097  2011       ajA  \n116  0.334948  2020       ajA  \n119  0.338503  2016       Maj  \n\n[106 rows x 8 columns]"
         },
         "metadata": {},
         "output_type": "display_data"
        }
       ]
      }
     },
     "774a5d2e8b7843999a2e25ef127520bf": {
      "model_module": "@jupyter-widgets/controls",
      "model_module_version": "1.5.0",
      "model_name": "DescriptionStyleModel",
      "state": {
       "description_width": ""
      }
     },
     "7795cdd1cbd04061bde803b2a00587d5": {
      "model_module": "@jupyter-widgets/controls",
      "model_module_version": "1.5.0",
      "model_name": "DescriptionStyleModel",
      "state": {
       "description_width": ""
      }
     },
     "7e1719b5313244298e5d8fd166af01c1": {
      "model_module": "@jupyter-widgets/controls",
      "model_module_version": "1.5.0",
      "model_name": "DescriptionStyleModel",
      "state": {
       "description_width": ""
      }
     },
     "80d7591a646c4a5a8c0c0f7f62574f3d": {
      "model_module": "@jupyter-widgets/base",
      "model_module_version": "1.2.0",
      "model_name": "LayoutModel",
      "state": {}
     },
     "829a205547d54107bf5e93c2b6e04995": {
      "model_module": "@jupyter-widgets/base",
      "model_module_version": "1.2.0",
      "model_name": "LayoutModel",
      "state": {}
     },
     "83107f6b1aaa4adbba52e48c1835c45e": {
      "model_module": "@jupyter-widgets/base",
      "model_module_version": "1.2.0",
      "model_name": "LayoutModel",
      "state": {}
     },
     "891b5abb0869417f8392fe7bf5dfa731": {
      "model_module": "@jupyter-widgets/base",
      "model_module_version": "1.2.0",
      "model_name": "LayoutModel",
      "state": {}
     },
     "8ffe9a941d2949cf83365bdcd85ea76f": {
      "model_module": "@jupyter-widgets/output",
      "model_module_version": "1.0.0",
      "model_name": "OutputModel",
      "state": {
       "layout": "IPY_MODEL_b6a5005115f442299bbb1823e9872a7b",
       "outputs": [
        {
         "data": {
          "image/png": "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\n",
          "text/plain": "<Figure size 864x576 with 1 Axes>"
         },
         "metadata": {
          "needs_background": "light"
         },
         "output_type": "display_data"
        }
       ]
      }
     },
     "90be48eee74f405d884e776b6c8a7630": {
      "model_module": "@jupyter-widgets/controls",
      "model_module_version": "1.5.0",
      "model_name": "DescriptionStyleModel",
      "state": {
       "description_width": ""
      }
     },
     "914e69b6fee34babb8b9cdde9a3fe28f": {
      "model_module": "@jupyter-widgets/controls",
      "model_module_version": "1.5.0",
      "model_name": "DropdownModel",
      "state": {
       "_options_labels": [
        "ggplot",
        "pearl",
        "solar",
        "space",
        "white",
        "polar",
        "henanigans"
       ],
       "description": "theme",
       "index": 0,
       "layout": "IPY_MODEL_f9220526e08846f7a53747da8a41db16",
       "style": "IPY_MODEL_dff54ebc9ee54252b25590c6e46f7b53"
      }
     },
     "9af3ddfd861d42439a36da5466a1f87e": {
      "model_module": "@jupyter-widgets/controls",
      "model_module_version": "1.5.0",
      "model_name": "DescriptionStyleModel",
      "state": {
       "description_width": ""
      }
     },
     "a00eb96b6eac48e1b13c26560848ee32": {
      "model_module": "@jupyter-widgets/base",
      "model_module_version": "1.2.0",
      "model_name": "LayoutModel",
      "state": {}
     },
     "ab8abc4bd0fe49ba970283f44186513d": {
      "model_module": "@jupyter-widgets/controls",
      "model_module_version": "1.5.0",
      "model_name": "DropdownModel",
      "state": {
       "description": "x",
       "index": null,
       "layout": "IPY_MODEL_83107f6b1aaa4adbba52e48c1835c45e",
       "style": "IPY_MODEL_df17d50af65b4150999d7573a1384d3e"
      }
     },
     "ad84af6f8cee42a7afb852c1d272cb63": {
      "model_module": "@jupyter-widgets/base",
      "model_module_version": "1.2.0",
      "model_name": "LayoutModel",
      "state": {}
     },
     "add29aa5b58444ad9dc6efa81d7391b9": {
      "model_module": "@jupyter-widgets/controls",
      "model_module_version": "1.5.0",
      "model_name": "DescriptionStyleModel",
      "state": {
       "description_width": ""
      }
     },
     "ae4f01ce53184b4fa54b5e9eb4c1b5f2": {
      "model_module": "@jupyter-widgets/controls",
      "model_module_version": "1.5.0",
      "model_name": "FloatSliderModel",
      "state": {
       "description": "value",
       "layout": "IPY_MODEL_ad84af6f8cee42a7afb852c1d272cb63",
       "max": 1,
       "step": 0.05,
       "style": "IPY_MODEL_3a6443c46a374988b7bd44950e8231d1"
      }
     },
     "b223eb7937c34afe8191f9d58e463e57": {
      "model_module": "@jupyter-widgets/base",
      "model_module_version": "1.2.0",
      "model_name": "LayoutModel",
      "state": {}
     },
     "b43b158e51fb4ecc817e59340ebd37e0": {
      "model_module": "@jupyter-widgets/controls",
      "model_module_version": "1.5.0",
      "model_name": "DropdownModel",
      "state": {
       "_options_labels": [
        "Topic_0",
        "Topic_1",
        "Topic_2",
        "Topic_3",
        "Topic_4"
       ],
       "description": "column",
       "index": 0,
       "layout": "IPY_MODEL_ccc9df9cf3914629a1b222ef66baee80",
       "style": "IPY_MODEL_cad2cd7dc78b4414bd11799b49b156a1"
      }
     },
     "b6a5005115f442299bbb1823e9872a7b": {
      "model_module": "@jupyter-widgets/base",
      "model_module_version": "1.2.0",
      "model_name": "LayoutModel",
      "state": {}
     },
     "b8622ee1c3454095af02e5b41469605e": {
      "model_module": "@jupyter-widgets/controls",
      "model_module_version": "1.5.0",
      "model_name": "DropdownModel",
      "state": {
       "_options_labels": [
        "Topic_0",
        "Topic_1",
        "Topic_2",
        "Topic_3"
       ],
       "description": "y",
       "index": 0,
       "layout": "IPY_MODEL_2c5d863bbb214097acf377ea8851a2ae",
       "style": "IPY_MODEL_e9250167e6f14ed3a9d1d06c5ee15044"
      }
     },
     "bb4c49f376e843cba07111ea4f2857eb": {
      "model_module": "@jupyter-widgets/controls",
      "model_module_version": "1.5.0",
      "model_name": "DropdownModel",
      "state": {
       "_options_labels": [
        "brbg",
        "prgn",
        "piyg",
        "puor",
        "rdbu",
        "rdgy",
        "rdylbu",
        "rdylgn",
        "spectral",
        "paired",
        "set3",
        "dflt",
        "original",
        "plotly",
        "henanigans",
        "accent",
        "dark2",
        "pastel1",
        "pastel2",
        "set1",
        "set2",
        "blues",
        "bugn",
        "bupu",
        "gnbu",
        "greens",
        "greys",
        "orrd",
        "oranges",
        "pubu",
        "pubugn",
        "purd",
        "purples",
        "rdpu",
        "reds",
        "ylgn",
        "ylgnbu",
        "ylorbr",
        "ylorrd",
        "ggplot",
        "polar"
       ],
       "description": "colorscale",
       "index": 0,
       "layout": "IPY_MODEL_b223eb7937c34afe8191f9d58e463e57",
       "style": "IPY_MODEL_774a5d2e8b7843999a2e25ef127520bf"
      }
     },
     "c10ce78d03fe49348f25fe3d167b00c8": {
      "model_module": "@jupyter-widgets/controls",
      "model_module_version": "1.5.0",
      "model_name": "DropdownModel",
      "state": {
       "_options_labels": [
        "Topic_0",
        "Topic_1",
        "Topic_2",
        "Topic_3"
       ],
       "description": "y",
       "index": 0,
       "layout": "IPY_MODEL_cd437271cc284c66be5b9207ab02e7e1",
       "style": "IPY_MODEL_9af3ddfd861d42439a36da5466a1f87e"
      }
     },
     "cad2cd7dc78b4414bd11799b49b156a1": {
      "model_module": "@jupyter-widgets/controls",
      "model_module_version": "1.5.0",
      "model_name": "DescriptionStyleModel",
      "state": {
       "description_width": ""
      }
     },
     "ccc9df9cf3914629a1b222ef66baee80": {
      "model_module": "@jupyter-widgets/base",
      "model_module_version": "1.2.0",
      "model_name": "LayoutModel",
      "state": {}
     },
     "cd437271cc284c66be5b9207ab02e7e1": {
      "model_module": "@jupyter-widgets/base",
      "model_module_version": "1.2.0",
      "model_name": "LayoutModel",
      "state": {}
     },
     "d52625e2857a4eec97ebea0cf328c459": {
      "model_module": "@jupyter-widgets/controls",
      "model_module_version": "1.5.0",
      "model_name": "DropdownModel",
      "state": {
       "_options_labels": [
        "ggplot",
        "pearl",
        "solar",
        "space",
        "white",
        "polar",
        "henanigans"
       ],
       "description": "theme",
       "index": 0,
       "layout": "IPY_MODEL_4e951ac7278a4aae8bf31b55d1069d0b",
       "style": "IPY_MODEL_90be48eee74f405d884e776b6c8a7630"
      }
     },
     "d8cf6065df1341f98b5d7814bd002170": {
      "model_module": "@jupyter-widgets/output",
      "model_module_version": "1.0.0",
      "model_name": "OutputModel",
      "state": {
       "layout": "IPY_MODEL_086d5432098d4640a8b887d06b4ab30e",
       "outputs": [
        {
         "data": {
          "application/vnd.plotly.v1+json": {
           "config": {
            "plotlyServerURL": "https://plot.ly"
           },
           "data": [
            {
             "hovertemplate": "Newspaper=ajA<br>index=%{x}<br>Topic_0=%{y}<extra></extra>",
             "legendgroup": "ajA",
             "marker": {
              "color": "#002b36",
              "opacity": 0.5,
              "size": 15,
              "symbol": "circle"
             },
             "mode": "markers",
             "name": "ajA",
             "orientation": "v",
             "showlegend": true,
             "type": "scatter",
             "x": [
              0,
              68,
              108,
              86,
              115,
              21,
              12,
              97,
              5,
              8,
              4,
              25,
              45,
              44,
              116,
              39,
              33,
              49
             ],
             "xaxis": "x",
             "y": [
              0.7344061409198571,
              0.899488597435661,
              0,
              0.8027734048987042,
              0.3763106454601789,
              0.6988648702796134,
              1,
              0.2403484778990363,
              0.8630301494459149,
              0.4804504627800655,
              0.3744570392533345,
              0.8051865469762669,
              1,
              0.543227892428469,
              0.2774525822691714,
              0.5188051172739666,
              0.6139981152290693,
              1
             ],
             "yaxis": "y"
            },
            {
             "hovertemplate": "Newspaper=NYT<br>index=%{x}<br>Topic_0=%{y}<extra></extra>",
             "legendgroup": "NYT",
             "marker": {
              "color": "#586e75",
              "opacity": 0.5,
              "size": 15,
              "symbol": "circle"
             },
             "mode": "markers",
             "name": "NYT",
             "orientation": "v",
             "showlegend": true,
             "type": "scatter",
             "x": [
              76,
              67,
              57,
              90,
              102,
              6
             ],
             "xaxis": "x",
             "y": [
              0.7597036666329167,
              1,
              0.3577030599844152,
              0.8493560193089246,
              0,
              0.4377120668318998
             ],
             "yaxis": "y"
            },
            {
             "hovertemplate": "Newspaper=Maj<br>index=%{x}<br>Topic_0=%{y}<extra></extra>",
             "legendgroup": "Maj",
             "marker": {
              "color": "#657b83",
              "opacity": 0.5,
              "size": 15,
              "symbol": "circle"
             },
             "mode": "markers",
             "name": "Maj",
             "orientation": "v",
             "showlegend": true,
             "type": "scatter",
             "x": [
              75,
              69,
              70,
              77,
              96,
              66,
              65,
              63,
              61,
              59,
              58,
              103,
              52,
              53,
              64,
              78,
              92,
              100,
              80,
              83,
              93,
              88,
              94,
              99,
              13,
              118,
              23,
              106,
              119,
              37,
              26,
              1,
              11,
              47,
              48,
              113,
              41,
              42,
              30,
              27,
              28,
              29,
              105,
              34,
              35,
              36,
              38,
              31,
              120
             ],
             "xaxis": "x",
             "y": [
              0.7492368149093654,
              1,
              0.9996504027463158,
              0.9738614587047658,
              0.1062925597518765,
              1,
              0.9521310247604018,
              0.8565135569983355,
              0.5300874798687131,
              1,
              0.6110042490550418,
              0.3935387981171423,
              0.8442883769581547,
              0.6256817168302639,
              0.9433091653017932,
              1,
              0.9896180486940988,
              0.176366856440873,
              1,
              0.7479775539121593,
              0.4225963532187188,
              0.4433911348206619,
              0.1062925597518765,
              0,
              0.8960593281181176,
              0,
              0.5184134928674476,
              0.3981045809887095,
              0.2719736874868897,
              0.762287427375555,
              0.9906129766746704,
              0.6278734790418946,
              0.8943126169662886,
              0.785358033348883,
              1,
              0,
              0.6310253039203255,
              0.4198808026618196,
              0.3023065120096851,
              1,
              0.4123877095256173,
              1,
              0,
              0.454757620510433,
              1,
              0.9659987611128702,
              0.9673783352960788,
              0.9561677366763291,
              0
             ],
             "yaxis": "y"
            },
            {
             "hovertemplate": "Newspaper=Tor<br>index=%{x}<br>Topic_0=%{y}<extra></extra>",
             "legendgroup": "Tor",
             "marker": {
              "color": "#839496",
              "opacity": 0.5,
              "size": 15,
              "symbol": "circle"
             },
             "mode": "markers",
             "name": "Tor",
             "orientation": "v",
             "showlegend": true,
             "type": "scatter",
             "x": [
              74,
              72,
              62,
              56,
              43
             ],
             "xaxis": "x",
             "y": [
              0.6527171523621804,
              0.9008021778597286,
              0.3920245807179755,
              0.6343020017396273,
              0.5838631453142531
             ],
             "yaxis": "y"
            },
            {
             "hovertemplate": "Newspaper=Ind<br>index=%{x}<br>Topic_0=%{y}<extra></extra>",
             "legendgroup": "Ind",
             "marker": {
              "color": "#93a1a1",
              "opacity": 0.5,
              "size": 15,
              "symbol": "circle"
             },
             "mode": "markers",
             "name": "Ind",
             "orientation": "v",
             "showlegend": true,
             "type": "scatter",
             "x": [
              73,
              107,
              101,
              18,
              110,
              114,
              2,
              19,
              79
             ],
             "xaxis": "x",
             "y": [
              0.3449014987246375,
              0,
              0.1439641648655216,
              0.9252767879536472,
              0,
              0,
              0.9443913830340503,
              1,
              0.6946825994538436
             ],
             "yaxis": "y"
            },
            {
             "hovertemplate": "Newspaper=Tim<br>index=%{x}<br>Topic_0=%{y}<extra></extra>",
             "legendgroup": "Tim",
             "marker": {
              "color": "#fdf6e3",
              "opacity": 0.5,
              "size": 15,
              "symbol": "circle"
             },
             "mode": "markers",
             "name": "Tim",
             "orientation": "v",
             "showlegend": true,
             "type": "scatter",
             "x": [
              71,
              111,
              55,
              95,
              14,
              10,
              9,
              3
             ],
             "xaxis": "x",
             "y": [
              1,
              0,
              0.6214155508842455,
              0.1492269593971865,
              0.9870341176429888,
              0.9241018040150836,
              0.9223320688883648,
              0.8741718135891964
             ],
             "yaxis": "y"
            },
            {
             "hovertemplate": "Newspaper=Dai<br>index=%{x}<br>Topic_0=%{y}<extra></extra>",
             "legendgroup": "Dai",
             "marker": {
              "color": "#b58900",
              "opacity": 0.5,
              "size": 15,
              "symbol": "circle"
             },
             "mode": "markers",
             "name": "Dai",
             "orientation": "v",
             "showlegend": true,
             "type": "scatter",
             "x": [
              60,
              24,
              16,
              15
             ],
             "xaxis": "x",
             "y": [
              0.7113588987991732,
              0.3604403462344056,
              1,
              0.8358829253168585
             ],
             "yaxis": "y"
            },
            {
             "hovertemplate": "Newspaper=Gua<br>index=%{x}<br>Topic_0=%{y}<extra></extra>",
             "legendgroup": "Gua",
             "marker": {
              "color": "#cb4b16",
              "opacity": 0.5,
              "size": 15,
              "symbol": "circle"
             },
             "mode": "markers",
             "name": "Gua",
             "orientation": "v",
             "showlegend": true,
             "type": "scatter",
             "x": [
              85,
              82,
              81,
              87,
              54,
              89,
              91,
              109,
              50,
              98
             ],
             "xaxis": "x",
             "y": [
              0.4907685926764458,
              0.3627835308615009,
              0.7597036666329167,
              0.9065173879772662,
              1,
              0.5198285480881698,
              1,
              0,
              0.9979731324601794,
              0
             ],
             "yaxis": "y"
            },
            {
             "hovertemplate": "Newspaper=Bus<br>index=%{x}<br>Topic_0=%{y}<extra></extra>",
             "legendgroup": "Bus",
             "marker": {
              "color": "#d30102",
              "opacity": 0.5,
              "size": 15,
              "symbol": "circle"
             },
             "mode": "markers",
             "name": "Bus",
             "orientation": "v",
             "showlegend": true,
             "type": "scatter",
             "x": [
              84,
              104,
              32
             ],
             "xaxis": "x",
             "y": [
              1,
              0,
              0.9415597162092296
             ],
             "yaxis": "y"
            },
            {
             "hovertemplate": "Newspaper=ail<br>index=%{x}<br>Topic_0=%{y}<extra></extra>",
             "legendgroup": "ail",
             "marker": {
              "color": "#d33682",
              "opacity": 0.5,
              "size": 15,
              "symbol": "circle"
             },
             "mode": "markers",
             "name": "ail",
             "orientation": "v",
             "showlegend": true,
             "type": "scatter",
             "x": [
              22,
              7,
              46
             ],
             "xaxis": "x",
             "y": [
              0.5744721265680484,
              0.9885073455216824,
              0.3700570908442475
             ],
             "yaxis": "y"
            },
            {
             "hovertemplate": "Newspaper=CDa<br>index=%{x}<br>Topic_0=%{y}<extra></extra>",
             "legendgroup": "CDa",
             "marker": {
              "color": "#268bd2",
              "opacity": 0.5,
              "size": 15,
              "symbol": "circle"
             },
             "mode": "markers",
             "name": "CDa",
             "orientation": "v",
             "showlegend": true,
             "type": "scatter",
             "x": [
              112,
              17,
              51,
              20,
              117,
              40
             ],
             "xaxis": "x",
             "y": [
              0.3690464031633646,
              0.7450331131401344,
              0.4236393119472482,
              0.4623128674167203,
              0,
              0.9913063075291496
             ],
             "yaxis": "y"
            }
           ],
           "layout": {
            "autosize": true,
            "legend": {
             "title": {
              "text": "Newspaper"
             },
             "tracegroupgap": 0
            },
            "margin": {
             "t": 60
            },
            "template": {
             "data": {
              "bar": [
               {
                "error_x": {
                 "color": "#2a3f5f"
                },
                "error_y": {
                 "color": "#2a3f5f"
                },
                "marker": {
                 "line": {
                  "color": "#E5ECF6",
                  "width": 0.5
                 },
                 "pattern": {
                  "fillmode": "overlay",
                  "size": 10,
                  "solidity": 0.2
                 }
                },
                "type": "bar"
               }
              ],
              "barpolar": [
               {
                "marker": {
                 "line": {
                  "color": "#E5ECF6",
                  "width": 0.5
                 },
                 "pattern": {
                  "fillmode": "overlay",
                  "size": 10,
                  "solidity": 0.2
                 }
                },
                "type": "barpolar"
               }
              ],
              "carpet": [
               {
                "aaxis": {
                 "endlinecolor": "#2a3f5f",
                 "gridcolor": "white",
                 "linecolor": "white",
                 "minorgridcolor": "white",
                 "startlinecolor": "#2a3f5f"
                },
                "baxis": {
                 "endlinecolor": "#2a3f5f",
                 "gridcolor": "white",
                 "linecolor": "white",
                 "minorgridcolor": "white",
                 "startlinecolor": "#2a3f5f"
                },
                "type": "carpet"
               }
              ],
              "choropleth": [
               {
                "colorbar": {
                 "outlinewidth": 0,
                 "ticks": ""
                },
                "type": "choropleth"
               }
              ],
              "contour": [
               {
                "colorbar": {
                 "outlinewidth": 0,
                 "ticks": ""
                },
                "colorscale": [
                 [
                  0,
                  "#0d0887"
                 ],
                 [
                  0.1111111111111111,
                  "#46039f"
                 ],
                 [
                  0.2222222222222222,
                  "#7201a8"
                 ],
                 [
                  0.3333333333333333,
                  "#9c179e"
                 ],
                 [
                  0.4444444444444444,
                  "#bd3786"
                 ],
                 [
                  0.5555555555555556,
                  "#d8576b"
                 ],
                 [
                  0.6666666666666666,
                  "#ed7953"
                 ],
                 [
                  0.7777777777777778,
                  "#fb9f3a"
                 ],
                 [
                  0.8888888888888888,
                  "#fdca26"
                 ],
                 [
                  1,
                  "#f0f921"
                 ]
                ],
                "type": "contour"
               }
              ],
              "contourcarpet": [
               {
                "colorbar": {
                 "outlinewidth": 0,
                 "ticks": ""
                },
                "type": "contourcarpet"
               }
              ],
              "heatmap": [
               {
                "colorbar": {
                 "outlinewidth": 0,
                 "ticks": ""
                },
                "colorscale": [
                 [
                  0,
                  "#0d0887"
                 ],
                 [
                  0.1111111111111111,
                  "#46039f"
                 ],
                 [
                  0.2222222222222222,
                  "#7201a8"
                 ],
                 [
                  0.3333333333333333,
                  "#9c179e"
                 ],
                 [
                  0.4444444444444444,
                  "#bd3786"
                 ],
                 [
                  0.5555555555555556,
                  "#d8576b"
                 ],
                 [
                  0.6666666666666666,
                  "#ed7953"
                 ],
                 [
                  0.7777777777777778,
                  "#fb9f3a"
                 ],
                 [
                  0.8888888888888888,
                  "#fdca26"
                 ],
                 [
                  1,
                  "#f0f921"
                 ]
                ],
                "type": "heatmap"
               }
              ],
              "heatmapgl": [
               {
                "colorbar": {
                 "outlinewidth": 0,
                 "ticks": ""
                },
                "colorscale": [
                 [
                  0,
                  "#0d0887"
                 ],
                 [
                  0.1111111111111111,
                  "#46039f"
                 ],
                 [
                  0.2222222222222222,
                  "#7201a8"
                 ],
                 [
                  0.3333333333333333,
                  "#9c179e"
                 ],
                 [
                  0.4444444444444444,
                  "#bd3786"
                 ],
                 [
                  0.5555555555555556,
                  "#d8576b"
                 ],
                 [
                  0.6666666666666666,
                  "#ed7953"
                 ],
                 [
                  0.7777777777777778,
                  "#fb9f3a"
                 ],
                 [
                  0.8888888888888888,
                  "#fdca26"
                 ],
                 [
                  1,
                  "#f0f921"
                 ]
                ],
                "type": "heatmapgl"
               }
              ],
              "histogram": [
               {
                "marker": {
                 "pattern": {
                  "fillmode": "overlay",
                  "size": 10,
                  "solidity": 0.2
                 }
                },
                "type": "histogram"
               }
              ],
              "histogram2d": [
               {
                "colorbar": {
                 "outlinewidth": 0,
                 "ticks": ""
                },
                "colorscale": [
                 [
                  0,
                  "#0d0887"
                 ],
                 [
                  0.1111111111111111,
                  "#46039f"
                 ],
                 [
                  0.2222222222222222,
                  "#7201a8"
                 ],
                 [
                  0.3333333333333333,
                  "#9c179e"
                 ],
                 [
                  0.4444444444444444,
                  "#bd3786"
                 ],
                 [
                  0.5555555555555556,
                  "#d8576b"
                 ],
                 [
                  0.6666666666666666,
                  "#ed7953"
                 ],
                 [
                  0.7777777777777778,
                  "#fb9f3a"
                 ],
                 [
                  0.8888888888888888,
                  "#fdca26"
                 ],
                 [
                  1,
                  "#f0f921"
                 ]
                ],
                "type": "histogram2d"
               }
              ],
              "histogram2dcontour": [
               {
                "colorbar": {
                 "outlinewidth": 0,
                 "ticks": ""
                },
                "colorscale": [
                 [
                  0,
                  "#0d0887"
                 ],
                 [
                  0.1111111111111111,
                  "#46039f"
                 ],
                 [
                  0.2222222222222222,
                  "#7201a8"
                 ],
                 [
                  0.3333333333333333,
                  "#9c179e"
                 ],
                 [
                  0.4444444444444444,
                  "#bd3786"
                 ],
                 [
                  0.5555555555555556,
                  "#d8576b"
                 ],
                 [
                  0.6666666666666666,
                  "#ed7953"
                 ],
                 [
                  0.7777777777777778,
                  "#fb9f3a"
                 ],
                 [
                  0.8888888888888888,
                  "#fdca26"
                 ],
                 [
                  1,
                  "#f0f921"
                 ]
                ],
                "type": "histogram2dcontour"
               }
              ],
              "mesh3d": [
               {
                "colorbar": {
                 "outlinewidth": 0,
                 "ticks": ""
                },
                "type": "mesh3d"
               }
              ],
              "parcoords": [
               {
                "line": {
                 "colorbar": {
                  "outlinewidth": 0,
                  "ticks": ""
                 }
                },
                "type": "parcoords"
               }
              ],
              "pie": [
               {
                "automargin": true,
                "type": "pie"
               }
              ],
              "scatter": [
               {
                "marker": {
                 "colorbar": {
                  "outlinewidth": 0,
                  "ticks": ""
                 }
                },
                "type": "scatter"
               }
              ],
              "scatter3d": [
               {
                "line": {
                 "colorbar": {
                  "outlinewidth": 0,
                  "ticks": ""
                 }
                },
                "marker": {
                 "colorbar": {
                  "outlinewidth": 0,
                  "ticks": ""
                 }
                },
                "type": "scatter3d"
               }
              ],
              "scattercarpet": [
               {
                "marker": {
                 "colorbar": {
                  "outlinewidth": 0,
                  "ticks": ""
                 }
                },
                "type": "scattercarpet"
               }
              ],
              "scattergeo": [
               {
                "marker": {
                 "colorbar": {
                  "outlinewidth": 0,
                  "ticks": ""
                 }
                },
                "type": "scattergeo"
               }
              ],
              "scattergl": [
               {
                "marker": {
                 "colorbar": {
                  "outlinewidth": 0,
                  "ticks": ""
                 }
                },
                "type": "scattergl"
               }
              ],
              "scattermapbox": [
               {
                "marker": {
                 "colorbar": {
                  "outlinewidth": 0,
                  "ticks": ""
                 }
                },
                "type": "scattermapbox"
               }
              ],
              "scatterpolar": [
               {
                "marker": {
                 "colorbar": {
                  "outlinewidth": 0,
                  "ticks": ""
                 }
                },
                "type": "scatterpolar"
               }
              ],
              "scatterpolargl": [
               {
                "marker": {
                 "colorbar": {
                  "outlinewidth": 0,
                  "ticks": ""
                 }
                },
                "type": "scatterpolargl"
               }
              ],
              "scatterternary": [
               {
                "marker": {
                 "colorbar": {
                  "outlinewidth": 0,
                  "ticks": ""
                 }
                },
                "type": "scatterternary"
               }
              ],
              "surface": [
               {
                "colorbar": {
                 "outlinewidth": 0,
                 "ticks": ""
                },
                "colorscale": [
                 [
                  0,
                  "#0d0887"
                 ],
                 [
                  0.1111111111111111,
                  "#46039f"
                 ],
                 [
                  0.2222222222222222,
                  "#7201a8"
                 ],
                 [
                  0.3333333333333333,
                  "#9c179e"
                 ],
                 [
                  0.4444444444444444,
                  "#bd3786"
                 ],
                 [
                  0.5555555555555556,
                  "#d8576b"
                 ],
                 [
                  0.6666666666666666,
                  "#ed7953"
                 ],
                 [
                  0.7777777777777778,
                  "#fb9f3a"
                 ],
                 [
                  0.8888888888888888,
                  "#fdca26"
                 ],
                 [
                  1,
                  "#f0f921"
                 ]
                ],
                "type": "surface"
               }
              ],
              "table": [
               {
                "cells": {
                 "fill": {
                  "color": "#EBF0F8"
                 },
                 "line": {
                  "color": "white"
                 }
                },
                "header": {
                 "fill": {
                  "color": "#C8D4E3"
                 },
                 "line": {
                  "color": "white"
                 }
                },
                "type": "table"
               }
              ]
             },
             "layout": {
              "annotationdefaults": {
               "arrowcolor": "#2a3f5f",
               "arrowhead": 0,
               "arrowwidth": 1
              },
              "autotypenumbers": "strict",
              "coloraxis": {
               "colorbar": {
                "outlinewidth": 0,
                "ticks": ""
               }
              },
              "colorscale": {
               "diverging": [
                [
                 0,
                 "#8e0152"
                ],
                [
                 0.1,
                 "#c51b7d"
                ],
                [
                 0.2,
                 "#de77ae"
                ],
                [
                 0.3,
                 "#f1b6da"
                ],
                [
                 0.4,
                 "#fde0ef"
                ],
                [
                 0.5,
                 "#f7f7f7"
                ],
                [
                 0.6,
                 "#e6f5d0"
                ],
                [
                 0.7,
                 "#b8e186"
                ],
                [
                 0.8,
                 "#7fbc41"
                ],
                [
                 0.9,
                 "#4d9221"
                ],
                [
                 1,
                 "#276419"
                ]
               ],
               "sequential": [
                [
                 0,
                 "#0d0887"
                ],
                [
                 0.1111111111111111,
                 "#46039f"
                ],
                [
                 0.2222222222222222,
                 "#7201a8"
                ],
                [
                 0.3333333333333333,
                 "#9c179e"
                ],
                [
                 0.4444444444444444,
                 "#bd3786"
                ],
                [
                 0.5555555555555556,
                 "#d8576b"
                ],
                [
                 0.6666666666666666,
                 "#ed7953"
                ],
                [
                 0.7777777777777778,
                 "#fb9f3a"
                ],
                [
                 0.8888888888888888,
                 "#fdca26"
                ],
                [
                 1,
                 "#f0f921"
                ]
               ],
               "sequentialminus": [
                [
                 0,
                 "#0d0887"
                ],
                [
                 0.1111111111111111,
                 "#46039f"
                ],
                [
                 0.2222222222222222,
                 "#7201a8"
                ],
                [
                 0.3333333333333333,
                 "#9c179e"
                ],
                [
                 0.4444444444444444,
                 "#bd3786"
                ],
                [
                 0.5555555555555556,
                 "#d8576b"
                ],
                [
                 0.6666666666666666,
                 "#ed7953"
                ],
                [
                 0.7777777777777778,
                 "#fb9f3a"
                ],
                [
                 0.8888888888888888,
                 "#fdca26"
                ],
                [
                 1,
                 "#f0f921"
                ]
               ]
              },
              "colorway": [
               "#636efa",
               "#EF553B",
               "#00cc96",
               "#ab63fa",
               "#FFA15A",
               "#19d3f3",
               "#FF6692",
               "#B6E880",
               "#FF97FF",
               "#FECB52"
              ],
              "font": {
               "color": "#2a3f5f"
              },
              "geo": {
               "bgcolor": "white",
               "lakecolor": "white",
               "landcolor": "#E5ECF6",
               "showlakes": true,
               "showland": true,
               "subunitcolor": "white"
              },
              "hoverlabel": {
               "align": "left"
              },
              "hovermode": "closest",
              "mapbox": {
               "style": "light"
              },
              "paper_bgcolor": "white",
              "plot_bgcolor": "#E5ECF6",
              "polar": {
               "angularaxis": {
                "gridcolor": "white",
                "linecolor": "white",
                "ticks": ""
               },
               "bgcolor": "#E5ECF6",
               "radialaxis": {
                "gridcolor": "white",
                "linecolor": "white",
                "ticks": ""
               }
              },
              "scene": {
               "xaxis": {
                "backgroundcolor": "#E5ECF6",
                "gridcolor": "white",
                "gridwidth": 2,
                "linecolor": "white",
                "showbackground": true,
                "ticks": "",
                "zerolinecolor": "white"
               },
               "yaxis": {
                "backgroundcolor": "#E5ECF6",
                "gridcolor": "white",
                "gridwidth": 2,
                "linecolor": "white",
                "showbackground": true,
                "ticks": "",
                "zerolinecolor": "white"
               },
               "zaxis": {
                "backgroundcolor": "#E5ECF6",
                "gridcolor": "white",
                "gridwidth": 2,
                "linecolor": "white",
                "showbackground": true,
                "ticks": "",
                "zerolinecolor": "white"
               }
              },
              "shapedefaults": {
               "line": {
                "color": "#2a3f5f"
               }
              },
              "ternary": {
               "aaxis": {
                "gridcolor": "white",
                "linecolor": "white",
                "ticks": ""
               },
               "baxis": {
                "gridcolor": "white",
                "linecolor": "white",
                "ticks": ""
               },
               "bgcolor": "#E5ECF6",
               "caxis": {
                "gridcolor": "white",
                "linecolor": "white",
                "ticks": ""
               }
              },
              "title": {
               "x": 0.05
              },
              "xaxis": {
               "automargin": true,
               "gridcolor": "white",
               "linecolor": "white",
               "ticks": "",
               "title": {
                "standoff": 15
               },
               "zerolinecolor": "white",
               "zerolinewidth": 2
              },
              "yaxis": {
               "automargin": true,
               "gridcolor": "white",
               "linecolor": "white",
               "ticks": "",
               "title": {
                "standoff": 15
               },
               "zerolinecolor": "white",
               "zerolinewidth": 2
              }
             }
            },
            "xaxis": {
             "anchor": "y",
             "autorange": true,
             "domain": [
              0,
              1
             ],
             "range": [
              -7.794774604034112,
              127.79477460403412
             ],
             "title": {
              "text": "index"
             },
             "type": "linear"
            },
            "yaxis": {
             "anchor": "x",
             "autorange": true,
             "domain": [
              0,
              1
             ],
             "range": [
              -0.11366806136680613,
              1.1136680613668062
             ],
             "title": {
              "text": "Topic_0"
             },
             "type": "linear"
            }
           }
          },
          "text/html": "<div>                            <div id=\"7e975d4b-0560-4ca4-b244-fa8ed85128f8\" class=\"plotly-graph-div\" style=\"height:525px; width:100%;\"></div>            <script type=\"text/javascript\">                require([\"plotly\"], function(Plotly) {                    window.PLOTLYENV=window.PLOTLYENV || {};                                    if (document.getElementById(\"7e975d4b-0560-4ca4-b244-fa8ed85128f8\")) {                    Plotly.newPlot(                        \"7e975d4b-0560-4ca4-b244-fa8ed85128f8\",                        [{\"hovertemplate\":\"Newspaper=ajA<br>index=%{x}<br>Topic_0=%{y}<extra></extra>\",\"legendgroup\":\"ajA\",\"marker\":{\"color\":\"#002b36\",\"opacity\":0.5,\"symbol\":\"circle\",\"size\":15},\"mode\":\"markers\",\"name\":\"ajA\",\"orientation\":\"v\",\"showlegend\":true,\"x\":[0,68,108,86,115,21,12,97,5,8,4,25,45,44,116,39,33,49],\"xaxis\":\"x\",\"y\":[0.7344061409198571,0.899488597435661,0.0,0.8027734048987042,0.3763106454601789,0.6988648702796134,1.0,0.2403484778990363,0.8630301494459149,0.4804504627800655,0.3744570392533345,0.8051865469762669,1.0,0.543227892428469,0.2774525822691714,0.5188051172739666,0.6139981152290693,1.0],\"yaxis\":\"y\",\"type\":\"scatter\"},{\"hovertemplate\":\"Newspaper=NYT<br>index=%{x}<br>Topic_0=%{y}<extra></extra>\",\"legendgroup\":\"NYT\",\"marker\":{\"color\":\"#586e75\",\"opacity\":0.5,\"symbol\":\"circle\",\"size\":15},\"mode\":\"markers\",\"name\":\"NYT\",\"orientation\":\"v\",\"showlegend\":true,\"x\":[76,67,57,90,102,6],\"xaxis\":\"x\",\"y\":[0.7597036666329167,1.0,0.3577030599844152,0.8493560193089246,0.0,0.4377120668318998],\"yaxis\":\"y\",\"type\":\"scatter\"},{\"hovertemplate\":\"Newspaper=Maj<br>index=%{x}<br>Topic_0=%{y}<extra></extra>\",\"legendgroup\":\"Maj\",\"marker\":{\"color\":\"#657b83\",\"opacity\":0.5,\"symbol\":\"circle\",\"size\":15},\"mode\":\"markers\",\"name\":\"Maj\",\"orientation\":\"v\",\"showlegend\":true,\"x\":[75,69,70,77,96,66,65,63,61,59,58,103,52,53,64,78,92,100,80,83,93,88,94,99,13,118,23,106,119,37,26,1,11,47,48,113,41,42,30,27,28,29,105,34,35,36,38,31,120],\"xaxis\":\"x\",\"y\":[0.7492368149093654,1.0,0.9996504027463158,0.9738614587047658,0.1062925597518765,1.0,0.9521310247604018,0.8565135569983355,0.5300874798687131,1.0,0.6110042490550418,0.3935387981171423,0.8442883769581547,0.6256817168302639,0.9433091653017932,1.0,0.9896180486940988,0.176366856440873,1.0,0.7479775539121593,0.4225963532187188,0.4433911348206619,0.1062925597518765,0.0,0.8960593281181176,0.0,0.5184134928674476,0.3981045809887095,0.2719736874868897,0.762287427375555,0.9906129766746704,0.6278734790418946,0.8943126169662886,0.785358033348883,1.0,0.0,0.6310253039203255,0.4198808026618196,0.3023065120096851,1.0,0.4123877095256173,1.0,0.0,0.454757620510433,1.0,0.9659987611128702,0.9673783352960788,0.9561677366763291,0.0],\"yaxis\":\"y\",\"type\":\"scatter\"},{\"hovertemplate\":\"Newspaper=Tor<br>index=%{x}<br>Topic_0=%{y}<extra></extra>\",\"legendgroup\":\"Tor\",\"marker\":{\"color\":\"#839496\",\"opacity\":0.5,\"symbol\":\"circle\",\"size\":15},\"mode\":\"markers\",\"name\":\"Tor\",\"orientation\":\"v\",\"showlegend\":true,\"x\":[74,72,62,56,43],\"xaxis\":\"x\",\"y\":[0.6527171523621804,0.9008021778597286,0.3920245807179755,0.6343020017396273,0.5838631453142531],\"yaxis\":\"y\",\"type\":\"scatter\"},{\"hovertemplate\":\"Newspaper=Ind<br>index=%{x}<br>Topic_0=%{y}<extra></extra>\",\"legendgroup\":\"Ind\",\"marker\":{\"color\":\"#93a1a1\",\"opacity\":0.5,\"symbol\":\"circle\",\"size\":15},\"mode\":\"markers\",\"name\":\"Ind\",\"orientation\":\"v\",\"showlegend\":true,\"x\":[73,107,101,18,110,114,2,19,79],\"xaxis\":\"x\",\"y\":[0.3449014987246375,0.0,0.1439641648655216,0.9252767879536472,0.0,0.0,0.9443913830340503,1.0,0.6946825994538436],\"yaxis\":\"y\",\"type\":\"scatter\"},{\"hovertemplate\":\"Newspaper=Tim<br>index=%{x}<br>Topic_0=%{y}<extra></extra>\",\"legendgroup\":\"Tim\",\"marker\":{\"color\":\"#fdf6e3\",\"opacity\":0.5,\"symbol\":\"circle\",\"size\":15},\"mode\":\"markers\",\"name\":\"Tim\",\"orientation\":\"v\",\"showlegend\":true,\"x\":[71,111,55,95,14,10,9,3],\"xaxis\":\"x\",\"y\":[1.0,0.0,0.6214155508842455,0.1492269593971865,0.9870341176429888,0.9241018040150836,0.9223320688883648,0.8741718135891964],\"yaxis\":\"y\",\"type\":\"scatter\"},{\"hovertemplate\":\"Newspaper=Dai<br>index=%{x}<br>Topic_0=%{y}<extra></extra>\",\"legendgroup\":\"Dai\",\"marker\":{\"color\":\"#b58900\",\"opacity\":0.5,\"symbol\":\"circle\",\"size\":15},\"mode\":\"markers\",\"name\":\"Dai\",\"orientation\":\"v\",\"showlegend\":true,\"x\":[60,24,16,15],\"xaxis\":\"x\",\"y\":[0.7113588987991732,0.3604403462344056,1.0,0.8358829253168585],\"yaxis\":\"y\",\"type\":\"scatter\"},{\"hovertemplate\":\"Newspaper=Gua<br>index=%{x}<br>Topic_0=%{y}<extra></extra>\",\"legendgroup\":\"Gua\",\"marker\":{\"color\":\"#cb4b16\",\"opacity\":0.5,\"symbol\":\"circle\",\"size\":15},\"mode\":\"markers\",\"name\":\"Gua\",\"orientation\":\"v\",\"showlegend\":true,\"x\":[85,82,81,87,54,89,91,109,50,98],\"xaxis\":\"x\",\"y\":[0.4907685926764458,0.3627835308615009,0.7597036666329167,0.9065173879772662,1.0,0.5198285480881698,1.0,0.0,0.9979731324601794,0.0],\"yaxis\":\"y\",\"type\":\"scatter\"},{\"hovertemplate\":\"Newspaper=Bus<br>index=%{x}<br>Topic_0=%{y}<extra></extra>\",\"legendgroup\":\"Bus\",\"marker\":{\"color\":\"#d30102\",\"opacity\":0.5,\"symbol\":\"circle\",\"size\":15},\"mode\":\"markers\",\"name\":\"Bus\",\"orientation\":\"v\",\"showlegend\":true,\"x\":[84,104,32],\"xaxis\":\"x\",\"y\":[1.0,0.0,0.9415597162092296],\"yaxis\":\"y\",\"type\":\"scatter\"},{\"hovertemplate\":\"Newspaper=ail<br>index=%{x}<br>Topic_0=%{y}<extra></extra>\",\"legendgroup\":\"ail\",\"marker\":{\"color\":\"#d33682\",\"opacity\":0.5,\"symbol\":\"circle\",\"size\":15},\"mode\":\"markers\",\"name\":\"ail\",\"orientation\":\"v\",\"showlegend\":true,\"x\":[22,7,46],\"xaxis\":\"x\",\"y\":[0.5744721265680484,0.9885073455216824,0.3700570908442475],\"yaxis\":\"y\",\"type\":\"scatter\"},{\"hovertemplate\":\"Newspaper=CDa<br>index=%{x}<br>Topic_0=%{y}<extra></extra>\",\"legendgroup\":\"CDa\",\"marker\":{\"color\":\"#268bd2\",\"opacity\":0.5,\"symbol\":\"circle\",\"size\":15},\"mode\":\"markers\",\"name\":\"CDa\",\"orientation\":\"v\",\"showlegend\":true,\"x\":[112,17,51,20,117,40],\"xaxis\":\"x\",\"y\":[0.3690464031633646,0.7450331131401344,0.4236393119472482,0.4623128674167203,0.0,0.9913063075291496],\"yaxis\":\"y\",\"type\":\"scatter\"}],                        {\"template\":{\"data\":{\"bar\":[{\"error_x\":{\"color\":\"#2a3f5f\"},\"error_y\":{\"color\":\"#2a3f5f\"},\"marker\":{\"line\":{\"color\":\"#E5ECF6\",\"width\":0.5},\"pattern\":{\"fillmode\":\"overlay\",\"size\":10,\"solidity\":0.2}},\"type\":\"bar\"}],\"barpolar\":[{\"marker\":{\"line\":{\"color\":\"#E5ECF6\",\"width\":0.5},\"pattern\":{\"fillmode\":\"overlay\",\"size\":10,\"solidity\":0.2}},\"type\":\"barpolar\"}],\"carpet\":[{\"aaxis\":{\"endlinecolor\":\"#2a3f5f\",\"gridcolor\":\"white\",\"linecolor\":\"white\",\"minorgridcolor\":\"white\",\"startlinecolor\":\"#2a3f5f\"},\"baxis\":{\"endlinecolor\":\"#2a3f5f\",\"gridcolor\":\"white\",\"linecolor\":\"white\",\"minorgridcolor\":\"white\",\"startlinecolor\":\"#2a3f5f\"},\"type\":\"carpet\"}],\"choropleth\":[{\"colorbar\":{\"outlinewidth\":0,\"ticks\":\"\"},\"type\":\"choropleth\"}],\"contour\":[{\"colorbar\":{\"outlinewidth\":0,\"ticks\":\"\"},\"colorscale\":[[0.0,\"#0d0887\"],[0.1111111111111111,\"#46039f\"],[0.2222222222222222,\"#7201a8\"],[0.3333333333333333,\"#9c179e\"],[0.4444444444444444,\"#bd3786\"],[0.5555555555555556,\"#d8576b\"],[0.6666666666666666,\"#ed7953\"],[0.7777777777777778,\"#fb9f3a\"],[0.8888888888888888,\"#fdca26\"],[1.0,\"#f0f921\"]],\"type\":\"contour\"}],\"contourcarpet\":[{\"colorbar\":{\"outlinewidth\":0,\"ticks\":\"\"},\"type\":\"contourcarpet\"}],\"heatmap\":[{\"colorbar\":{\"outlinewidth\":0,\"ticks\":\"\"},\"colorscale\":[[0.0,\"#0d0887\"],[0.1111111111111111,\"#46039f\"],[0.2222222222222222,\"#7201a8\"],[0.3333333333333333,\"#9c179e\"],[0.4444444444444444,\"#bd3786\"],[0.5555555555555556,\"#d8576b\"],[0.6666666666666666,\"#ed7953\"],[0.7777777777777778,\"#fb9f3a\"],[0.8888888888888888,\"#fdca26\"],[1.0,\"#f0f921\"]],\"type\":\"heatmap\"}],\"heatmapgl\":[{\"colorbar\":{\"outlinewidth\":0,\"ticks\":\"\"},\"colorscale\":[[0.0,\"#0d0887\"],[0.1111111111111111,\"#46039f\"],[0.2222222222222222,\"#7201a8\"],[0.3333333333333333,\"#9c179e\"],[0.4444444444444444,\"#bd3786\"],[0.5555555555555556,\"#d8576b\"],[0.6666666666666666,\"#ed7953\"],[0.7777777777777778,\"#fb9f3a\"],[0.8888888888888888,\"#fdca26\"],[1.0,\"#f0f921\"]],\"type\":\"heatmapgl\"}],\"histogram\":[{\"marker\":{\"pattern\":{\"fillmode\":\"overlay\",\"size\":10,\"solidity\":0.2}},\"type\":\"histogram\"}],\"histogram2d\":[{\"colorbar\":{\"outlinewidth\":0,\"ticks\":\"\"},\"colorscale\":[[0.0,\"#0d0887\"],[0.1111111111111111,\"#46039f\"],[0.2222222222222222,\"#7201a8\"],[0.3333333333333333,\"#9c179e\"],[0.4444444444444444,\"#bd3786\"],[0.5555555555555556,\"#d8576b\"],[0.6666666666666666,\"#ed7953\"],[0.7777777777777778,\"#fb9f3a\"],[0.8888888888888888,\"#fdca26\"],[1.0,\"#f0f921\"]],\"type\":\"histogram2d\"}],\"histogram2dcontour\":[{\"colorbar\":{\"outlinewidth\":0,\"ticks\":\"\"},\"colorscale\":[[0.0,\"#0d0887\"],[0.1111111111111111,\"#46039f\"],[0.2222222222222222,\"#7201a8\"],[0.3333333333333333,\"#9c179e\"],[0.4444444444444444,\"#bd3786\"],[0.5555555555555556,\"#d8576b\"],[0.6666666666666666,\"#ed7953\"],[0.7777777777777778,\"#fb9f3a\"],[0.8888888888888888,\"#fdca26\"],[1.0,\"#f0f921\"]],\"type\":\"histogram2dcontour\"}],\"mesh3d\":[{\"colorbar\":{\"outlinewidth\":0,\"ticks\":\"\"},\"type\":\"mesh3d\"}],\"parcoords\":[{\"line\":{\"colorbar\":{\"outlinewidth\":0,\"ticks\":\"\"}},\"type\":\"parcoords\"}],\"pie\":[{\"automargin\":true,\"type\":\"pie\"}],\"scatter\":[{\"marker\":{\"colorbar\":{\"outlinewidth\":0,\"ticks\":\"\"}},\"type\":\"scatter\"}],\"scatter3d\":[{\"line\":{\"colorbar\":{\"outlinewidth\":0,\"ticks\":\"\"}},\"marker\":{\"colorbar\":{\"outlinewidth\":0,\"ticks\":\"\"}},\"type\":\"scatter3d\"}],\"scattercarpet\":[{\"marker\":{\"colorbar\":{\"outlinewidth\":0,\"ticks\":\"\"}},\"type\":\"scattercarpet\"}],\"scattergeo\":[{\"marker\":{\"colorbar\":{\"outlinewidth\":0,\"ticks\":\"\"}},\"type\":\"scattergeo\"}],\"scattergl\":[{\"marker\":{\"colorbar\":{\"outlinewidth\":0,\"ticks\":\"\"}},\"type\":\"scattergl\"}],\"scattermapbox\":[{\"marker\":{\"colorbar\":{\"outlinewidth\":0,\"ticks\":\"\"}},\"type\":\"scattermapbox\"}],\"scatterpolar\":[{\"marker\":{\"colorbar\":{\"outlinewidth\":0,\"ticks\":\"\"}},\"type\":\"scatterpolar\"}],\"scatterpolargl\":[{\"marker\":{\"colorbar\":{\"outlinewidth\":0,\"ticks\":\"\"}},\"type\":\"scatterpolargl\"}],\"scatterternary\":[{\"marker\":{\"colorbar\":{\"outlinewidth\":0,\"ticks\":\"\"}},\"type\":\"scatterternary\"}],\"surface\":[{\"colorbar\":{\"outlinewidth\":0,\"ticks\":\"\"},\"colorscale\":[[0.0,\"#0d0887\"],[0.1111111111111111,\"#46039f\"],[0.2222222222222222,\"#7201a8\"],[0.3333333333333333,\"#9c179e\"],[0.4444444444444444,\"#bd3786\"],[0.5555555555555556,\"#d8576b\"],[0.6666666666666666,\"#ed7953\"],[0.7777777777777778,\"#fb9f3a\"],[0.8888888888888888,\"#fdca26\"],[1.0,\"#f0f921\"]],\"type\":\"surface\"}],\"table\":[{\"cells\":{\"fill\":{\"color\":\"#EBF0F8\"},\"line\":{\"color\":\"white\"}},\"header\":{\"fill\":{\"color\":\"#C8D4E3\"},\"line\":{\"color\":\"white\"}},\"type\":\"table\"}]},\"layout\":{\"annotationdefaults\":{\"arrowcolor\":\"#2a3f5f\",\"arrowhead\":0,\"arrowwidth\":1},\"autotypenumbers\":\"strict\",\"coloraxis\":{\"colorbar\":{\"outlinewidth\":0,\"ticks\":\"\"}},\"colorscale\":{\"diverging\":[[0,\"#8e0152\"],[0.1,\"#c51b7d\"],[0.2,\"#de77ae\"],[0.3,\"#f1b6da\"],[0.4,\"#fde0ef\"],[0.5,\"#f7f7f7\"],[0.6,\"#e6f5d0\"],[0.7,\"#b8e186\"],[0.8,\"#7fbc41\"],[0.9,\"#4d9221\"],[1,\"#276419\"]],\"sequential\":[[0.0,\"#0d0887\"],[0.1111111111111111,\"#46039f\"],[0.2222222222222222,\"#7201a8\"],[0.3333333333333333,\"#9c179e\"],[0.4444444444444444,\"#bd3786\"],[0.5555555555555556,\"#d8576b\"],[0.6666666666666666,\"#ed7953\"],[0.7777777777777778,\"#fb9f3a\"],[0.8888888888888888,\"#fdca26\"],[1.0,\"#f0f921\"]],\"sequentialminus\":[[0.0,\"#0d0887\"],[0.1111111111111111,\"#46039f\"],[0.2222222222222222,\"#7201a8\"],[0.3333333333333333,\"#9c179e\"],[0.4444444444444444,\"#bd3786\"],[0.5555555555555556,\"#d8576b\"],[0.6666666666666666,\"#ed7953\"],[0.7777777777777778,\"#fb9f3a\"],[0.8888888888888888,\"#fdca26\"],[1.0,\"#f0f921\"]]},\"colorway\":[\"#636efa\",\"#EF553B\",\"#00cc96\",\"#ab63fa\",\"#FFA15A\",\"#19d3f3\",\"#FF6692\",\"#B6E880\",\"#FF97FF\",\"#FECB52\"],\"font\":{\"color\":\"#2a3f5f\"},\"geo\":{\"bgcolor\":\"white\",\"lakecolor\":\"white\",\"landcolor\":\"#E5ECF6\",\"showlakes\":true,\"showland\":true,\"subunitcolor\":\"white\"},\"hoverlabel\":{\"align\":\"left\"},\"hovermode\":\"closest\",\"mapbox\":{\"style\":\"light\"},\"paper_bgcolor\":\"white\",\"plot_bgcolor\":\"#E5ECF6\",\"polar\":{\"angularaxis\":{\"gridcolor\":\"white\",\"linecolor\":\"white\",\"ticks\":\"\"},\"bgcolor\":\"#E5ECF6\",\"radialaxis\":{\"gridcolor\":\"white\",\"linecolor\":\"white\",\"ticks\":\"\"}},\"scene\":{\"xaxis\":{\"backgroundcolor\":\"#E5ECF6\",\"gridcolor\":\"white\",\"gridwidth\":2,\"linecolor\":\"white\",\"showbackground\":true,\"ticks\":\"\",\"zerolinecolor\":\"white\"},\"yaxis\":{\"backgroundcolor\":\"#E5ECF6\",\"gridcolor\":\"white\",\"gridwidth\":2,\"linecolor\":\"white\",\"showbackground\":true,\"ticks\":\"\",\"zerolinecolor\":\"white\"},\"zaxis\":{\"backgroundcolor\":\"#E5ECF6\",\"gridcolor\":\"white\",\"gridwidth\":2,\"linecolor\":\"white\",\"showbackground\":true,\"ticks\":\"\",\"zerolinecolor\":\"white\"}},\"shapedefaults\":{\"line\":{\"color\":\"#2a3f5f\"}},\"ternary\":{\"aaxis\":{\"gridcolor\":\"white\",\"linecolor\":\"white\",\"ticks\":\"\"},\"baxis\":{\"gridcolor\":\"white\",\"linecolor\":\"white\",\"ticks\":\"\"},\"bgcolor\":\"#E5ECF6\",\"caxis\":{\"gridcolor\":\"white\",\"linecolor\":\"white\",\"ticks\":\"\"}},\"title\":{\"x\":0.05},\"xaxis\":{\"automargin\":true,\"gridcolor\":\"white\",\"linecolor\":\"white\",\"ticks\":\"\",\"title\":{\"standoff\":15},\"zerolinecolor\":\"white\",\"zerolinewidth\":2},\"yaxis\":{\"automargin\":true,\"gridcolor\":\"white\",\"linecolor\":\"white\",\"ticks\":\"\",\"title\":{\"standoff\":15},\"zerolinecolor\":\"white\",\"zerolinewidth\":2}}},\"xaxis\":{\"anchor\":\"y\",\"domain\":[0.0,1.0],\"title\":{\"text\":\"index\"}},\"yaxis\":{\"anchor\":\"x\",\"domain\":[0.0,1.0],\"title\":{\"text\":\"Topic_0\"}},\"legend\":{\"title\":{\"text\":\"Newspaper\"},\"tracegroupgap\":0},\"margin\":{\"t\":60}},                        {\"responsive\": true}                    ).then(function(){\n                            \nvar gd = document.getElementById('7e975d4b-0560-4ca4-b244-fa8ed85128f8');\nvar x = new MutationObserver(function (mutations, observer) {{\n        var display = window.getComputedStyle(gd).display;\n        if (!display || display === 'none') {{\n            console.log([gd, 'removed!']);\n            Plotly.purge(gd);\n            observer.disconnect();\n        }}\n}});\n\n// Listen for the removal of the full notebook cells\nvar notebookContainer = gd.closest('#notebook-container');\nif (notebookContainer) {{\n    x.observe(notebookContainer, {childList: true});\n}}\n\n// Listen for the clearing of the current output cell\nvar outputEl = gd.closest('.output');\nif (outputEl) {{\n    x.observe(outputEl, {childList: true});\n}}\n\n                        })                };                });            </script>        </div>"
         },
         "metadata": {},
         "output_type": "display_data"
        }
       ]
      }
     },
     "db89c58f392646c2a1c20d6b8fe41820": {
      "model_module": "@jupyter-widgets/controls",
      "model_module_version": "1.5.0",
      "model_name": "VBoxModel",
      "state": {
       "_dom_classes": [
        "widget-interact"
       ],
       "children": [
        "IPY_MODEL_b43b158e51fb4ecc817e59340ebd37e0",
        "IPY_MODEL_ae4f01ce53184b4fa54b5e9eb4c1b5f2",
        "IPY_MODEL_f75a02d09bfc4c82a00491a522cf07ba"
       ],
       "layout": "IPY_MODEL_fb9f98856a9a48c794d0e4746f3f6e5b"
      }
     },
     "dc26361bebf247eda5f65e38560cc8f2": {
      "model_module": "@jupyter-widgets/base",
      "model_module_version": "1.2.0",
      "model_name": "LayoutModel",
      "state": {}
     },
     "df17d50af65b4150999d7573a1384d3e": {
      "model_module": "@jupyter-widgets/controls",
      "model_module_version": "1.5.0",
      "model_name": "DescriptionStyleModel",
      "state": {
       "description_width": ""
      }
     },
     "dff54ebc9ee54252b25590c6e46f7b53": {
      "model_module": "@jupyter-widgets/controls",
      "model_module_version": "1.5.0",
      "model_name": "DescriptionStyleModel",
      "state": {
       "description_width": ""
      }
     },
     "e0044eee6f5d4067972370e32edde910": {
      "model_module": "@jupyter-widgets/controls",
      "model_module_version": "1.5.0",
      "model_name": "SliderStyleModel",
      "state": {
       "description_width": ""
      }
     },
     "e1d5d18c0b7a4d0fad44570a25222e52": {
      "model_module": "@jupyter-widgets/output",
      "model_module_version": "1.0.0",
      "model_name": "OutputModel",
      "state": {
       "layout": "IPY_MODEL_dc26361bebf247eda5f65e38560cc8f2",
       "outputs": [
        {
         "data": {
          "application/vnd.plotly.v1+json": {
           "config": {
            "plotlyServerURL": "https://plot.ly"
           },
           "data": [
            {
             "hovertemplate": "Newspaper=ajA<br>index=%{x}<br>Topic_0=%{y}<extra></extra>",
             "legendgroup": "ajA",
             "marker": {
              "color": "#002b36",
              "opacity": 0.5,
              "size": 15,
              "symbol": "circle"
             },
             "mode": "markers",
             "name": "ajA",
             "orientation": "v",
             "showlegend": true,
             "type": "scatter",
             "x": [
              0,
              68,
              108,
              86,
              115,
              21,
              12,
              97,
              5,
              8,
              4,
              25,
              45,
              44,
              116,
              39,
              33,
              49
             ],
             "xaxis": "x",
             "y": [
              0.7344061409198571,
              0.899488597435661,
              0,
              0.8027734048987042,
              0.3763106454601789,
              0.6988648702796134,
              1,
              0.2403484778990363,
              0.8630301494459149,
              0.4804504627800655,
              0.3744570392533345,
              0.8051865469762669,
              1,
              0.543227892428469,
              0.2774525822691714,
              0.5188051172739666,
              0.6139981152290693,
              1
             ],
             "yaxis": "y"
            },
            {
             "hovertemplate": "Newspaper=NYT<br>index=%{x}<br>Topic_0=%{y}<extra></extra>",
             "legendgroup": "NYT",
             "marker": {
              "color": "#586e75",
              "opacity": 0.5,
              "size": 15,
              "symbol": "circle"
             },
             "mode": "markers",
             "name": "NYT",
             "orientation": "v",
             "showlegend": true,
             "type": "scatter",
             "x": [
              76,
              67,
              57,
              90,
              102,
              6
             ],
             "xaxis": "x",
             "y": [
              0.7597036666329167,
              1,
              0.3577030599844152,
              0.8493560193089246,
              0,
              0.4377120668318998
             ],
             "yaxis": "y"
            },
            {
             "hovertemplate": "Newspaper=Maj<br>index=%{x}<br>Topic_0=%{y}<extra></extra>",
             "legendgroup": "Maj",
             "marker": {
              "color": "#657b83",
              "opacity": 0.5,
              "size": 15,
              "symbol": "circle"
             },
             "mode": "markers",
             "name": "Maj",
             "orientation": "v",
             "showlegend": true,
             "type": "scatter",
             "x": [
              75,
              69,
              70,
              77,
              96,
              66,
              65,
              63,
              61,
              59,
              58,
              103,
              52,
              53,
              64,
              78,
              92,
              100,
              80,
              83,
              93,
              88,
              94,
              99,
              13,
              118,
              23,
              106,
              119,
              37,
              26,
              1,
              11,
              47,
              48,
              113,
              41,
              42,
              30,
              27,
              28,
              29,
              105,
              34,
              35,
              36,
              38,
              31,
              120
             ],
             "xaxis": "x",
             "y": [
              0.7492368149093654,
              1,
              0.9996504027463158,
              0.9738614587047658,
              0.1062925597518765,
              1,
              0.9521310247604018,
              0.8565135569983355,
              0.5300874798687131,
              1,
              0.6110042490550418,
              0.3935387981171423,
              0.8442883769581547,
              0.6256817168302639,
              0.9433091653017932,
              1,
              0.9896180486940988,
              0.176366856440873,
              1,
              0.7479775539121593,
              0.4225963532187188,
              0.4433911348206619,
              0.1062925597518765,
              0,
              0.8960593281181176,
              0,
              0.5184134928674476,
              0.3981045809887095,
              0.2719736874868897,
              0.762287427375555,
              0.9906129766746704,
              0.6278734790418946,
              0.8943126169662886,
              0.785358033348883,
              1,
              0,
              0.6310253039203255,
              0.4198808026618196,
              0.3023065120096851,
              1,
              0.4123877095256173,
              1,
              0,
              0.454757620510433,
              1,
              0.9659987611128702,
              0.9673783352960788,
              0.9561677366763291,
              0
             ],
             "yaxis": "y"
            },
            {
             "hovertemplate": "Newspaper=Tor<br>index=%{x}<br>Topic_0=%{y}<extra></extra>",
             "legendgroup": "Tor",
             "marker": {
              "color": "#839496",
              "opacity": 0.5,
              "size": 15,
              "symbol": "circle"
             },
             "mode": "markers",
             "name": "Tor",
             "orientation": "v",
             "showlegend": true,
             "type": "scatter",
             "x": [
              74,
              72,
              62,
              56,
              43
             ],
             "xaxis": "x",
             "y": [
              0.6527171523621804,
              0.9008021778597286,
              0.3920245807179755,
              0.6343020017396273,
              0.5838631453142531
             ],
             "yaxis": "y"
            },
            {
             "hovertemplate": "Newspaper=Ind<br>index=%{x}<br>Topic_0=%{y}<extra></extra>",
             "legendgroup": "Ind",
             "marker": {
              "color": "#93a1a1",
              "opacity": 0.5,
              "size": 15,
              "symbol": "circle"
             },
             "mode": "markers",
             "name": "Ind",
             "orientation": "v",
             "showlegend": true,
             "type": "scatter",
             "x": [
              73,
              107,
              101,
              18,
              110,
              114,
              2,
              19,
              79
             ],
             "xaxis": "x",
             "y": [
              0.3449014987246375,
              0,
              0.1439641648655216,
              0.9252767879536472,
              0,
              0,
              0.9443913830340503,
              1,
              0.6946825994538436
             ],
             "yaxis": "y"
            },
            {
             "hovertemplate": "Newspaper=Tim<br>index=%{x}<br>Topic_0=%{y}<extra></extra>",
             "legendgroup": "Tim",
             "marker": {
              "color": "#fdf6e3",
              "opacity": 0.5,
              "size": 15,
              "symbol": "circle"
             },
             "mode": "markers",
             "name": "Tim",
             "orientation": "v",
             "showlegend": true,
             "type": "scatter",
             "x": [
              71,
              111,
              55,
              95,
              14,
              10,
              9,
              3
             ],
             "xaxis": "x",
             "y": [
              1,
              0,
              0.6214155508842455,
              0.1492269593971865,
              0.9870341176429888,
              0.9241018040150836,
              0.9223320688883648,
              0.8741718135891964
             ],
             "yaxis": "y"
            },
            {
             "hovertemplate": "Newspaper=Dai<br>index=%{x}<br>Topic_0=%{y}<extra></extra>",
             "legendgroup": "Dai",
             "marker": {
              "color": "#b58900",
              "opacity": 0.5,
              "size": 15,
              "symbol": "circle"
             },
             "mode": "markers",
             "name": "Dai",
             "orientation": "v",
             "showlegend": true,
             "type": "scatter",
             "x": [
              60,
              24,
              16,
              15
             ],
             "xaxis": "x",
             "y": [
              0.7113588987991732,
              0.3604403462344056,
              1,
              0.8358829253168585
             ],
             "yaxis": "y"
            },
            {
             "hovertemplate": "Newspaper=Gua<br>index=%{x}<br>Topic_0=%{y}<extra></extra>",
             "legendgroup": "Gua",
             "marker": {
              "color": "#cb4b16",
              "opacity": 0.5,
              "size": 15,
              "symbol": "circle"
             },
             "mode": "markers",
             "name": "Gua",
             "orientation": "v",
             "showlegend": true,
             "type": "scatter",
             "x": [
              85,
              82,
              81,
              87,
              54,
              89,
              91,
              109,
              50,
              98
             ],
             "xaxis": "x",
             "y": [
              0.4907685926764458,
              0.3627835308615009,
              0.7597036666329167,
              0.9065173879772662,
              1,
              0.5198285480881698,
              1,
              0,
              0.9979731324601794,
              0
             ],
             "yaxis": "y"
            },
            {
             "hovertemplate": "Newspaper=Bus<br>index=%{x}<br>Topic_0=%{y}<extra></extra>",
             "legendgroup": "Bus",
             "marker": {
              "color": "#d30102",
              "opacity": 0.5,
              "size": 15,
              "symbol": "circle"
             },
             "mode": "markers",
             "name": "Bus",
             "orientation": "v",
             "showlegend": true,
             "type": "scatter",
             "x": [
              84,
              104,
              32
             ],
             "xaxis": "x",
             "y": [
              1,
              0,
              0.9415597162092296
             ],
             "yaxis": "y"
            },
            {
             "hovertemplate": "Newspaper=ail<br>index=%{x}<br>Topic_0=%{y}<extra></extra>",
             "legendgroup": "ail",
             "marker": {
              "color": "#d33682",
              "opacity": 0.5,
              "size": 15,
              "symbol": "circle"
             },
             "mode": "markers",
             "name": "ail",
             "orientation": "v",
             "showlegend": true,
             "type": "scatter",
             "x": [
              22,
              7,
              46
             ],
             "xaxis": "x",
             "y": [
              0.5744721265680484,
              0.9885073455216824,
              0.3700570908442475
             ],
             "yaxis": "y"
            },
            {
             "hovertemplate": "Newspaper=CDa<br>index=%{x}<br>Topic_0=%{y}<extra></extra>",
             "legendgroup": "CDa",
             "marker": {
              "color": "#268bd2",
              "opacity": 0.5,
              "size": 15,
              "symbol": "circle"
             },
             "mode": "markers",
             "name": "CDa",
             "orientation": "v",
             "showlegend": true,
             "type": "scatter",
             "x": [
              112,
              17,
              51,
              20,
              117,
              40
             ],
             "xaxis": "x",
             "y": [
              0.3690464031633646,
              0.7450331131401344,
              0.4236393119472482,
              0.4623128674167203,
              0,
              0.9913063075291496
             ],
             "yaxis": "y"
            }
           ],
           "layout": {
            "autosize": true,
            "legend": {
             "title": {
              "text": "Newspaper"
             },
             "tracegroupgap": 0
            },
            "margin": {
             "t": 60
            },
            "template": {
             "data": {
              "bar": [
               {
                "error_x": {
                 "color": "#2a3f5f"
                },
                "error_y": {
                 "color": "#2a3f5f"
                },
                "marker": {
                 "line": {
                  "color": "#E5ECF6",
                  "width": 0.5
                 },
                 "pattern": {
                  "fillmode": "overlay",
                  "size": 10,
                  "solidity": 0.2
                 }
                },
                "type": "bar"
               }
              ],
              "barpolar": [
               {
                "marker": {
                 "line": {
                  "color": "#E5ECF6",
                  "width": 0.5
                 },
                 "pattern": {
                  "fillmode": "overlay",
                  "size": 10,
                  "solidity": 0.2
                 }
                },
                "type": "barpolar"
               }
              ],
              "carpet": [
               {
                "aaxis": {
                 "endlinecolor": "#2a3f5f",
                 "gridcolor": "white",
                 "linecolor": "white",
                 "minorgridcolor": "white",
                 "startlinecolor": "#2a3f5f"
                },
                "baxis": {
                 "endlinecolor": "#2a3f5f",
                 "gridcolor": "white",
                 "linecolor": "white",
                 "minorgridcolor": "white",
                 "startlinecolor": "#2a3f5f"
                },
                "type": "carpet"
               }
              ],
              "choropleth": [
               {
                "colorbar": {
                 "outlinewidth": 0,
                 "ticks": ""
                },
                "type": "choropleth"
               }
              ],
              "contour": [
               {
                "colorbar": {
                 "outlinewidth": 0,
                 "ticks": ""
                },
                "colorscale": [
                 [
                  0,
                  "#0d0887"
                 ],
                 [
                  0.1111111111111111,
                  "#46039f"
                 ],
                 [
                  0.2222222222222222,
                  "#7201a8"
                 ],
                 [
                  0.3333333333333333,
                  "#9c179e"
                 ],
                 [
                  0.4444444444444444,
                  "#bd3786"
                 ],
                 [
                  0.5555555555555556,
                  "#d8576b"
                 ],
                 [
                  0.6666666666666666,
                  "#ed7953"
                 ],
                 [
                  0.7777777777777778,
                  "#fb9f3a"
                 ],
                 [
                  0.8888888888888888,
                  "#fdca26"
                 ],
                 [
                  1,
                  "#f0f921"
                 ]
                ],
                "type": "contour"
               }
              ],
              "contourcarpet": [
               {
                "colorbar": {
                 "outlinewidth": 0,
                 "ticks": ""
                },
                "type": "contourcarpet"
               }
              ],
              "heatmap": [
               {
                "colorbar": {
                 "outlinewidth": 0,
                 "ticks": ""
                },
                "colorscale": [
                 [
                  0,
                  "#0d0887"
                 ],
                 [
                  0.1111111111111111,
                  "#46039f"
                 ],
                 [
                  0.2222222222222222,
                  "#7201a8"
                 ],
                 [
                  0.3333333333333333,
                  "#9c179e"
                 ],
                 [
                  0.4444444444444444,
                  "#bd3786"
                 ],
                 [
                  0.5555555555555556,
                  "#d8576b"
                 ],
                 [
                  0.6666666666666666,
                  "#ed7953"
                 ],
                 [
                  0.7777777777777778,
                  "#fb9f3a"
                 ],
                 [
                  0.8888888888888888,
                  "#fdca26"
                 ],
                 [
                  1,
                  "#f0f921"
                 ]
                ],
                "type": "heatmap"
               }
              ],
              "heatmapgl": [
               {
                "colorbar": {
                 "outlinewidth": 0,
                 "ticks": ""
                },
                "colorscale": [
                 [
                  0,
                  "#0d0887"
                 ],
                 [
                  0.1111111111111111,
                  "#46039f"
                 ],
                 [
                  0.2222222222222222,
                  "#7201a8"
                 ],
                 [
                  0.3333333333333333,
                  "#9c179e"
                 ],
                 [
                  0.4444444444444444,
                  "#bd3786"
                 ],
                 [
                  0.5555555555555556,
                  "#d8576b"
                 ],
                 [
                  0.6666666666666666,
                  "#ed7953"
                 ],
                 [
                  0.7777777777777778,
                  "#fb9f3a"
                 ],
                 [
                  0.8888888888888888,
                  "#fdca26"
                 ],
                 [
                  1,
                  "#f0f921"
                 ]
                ],
                "type": "heatmapgl"
               }
              ],
              "histogram": [
               {
                "marker": {
                 "pattern": {
                  "fillmode": "overlay",
                  "size": 10,
                  "solidity": 0.2
                 }
                },
                "type": "histogram"
               }
              ],
              "histogram2d": [
               {
                "colorbar": {
                 "outlinewidth": 0,
                 "ticks": ""
                },
                "colorscale": [
                 [
                  0,
                  "#0d0887"
                 ],
                 [
                  0.1111111111111111,
                  "#46039f"
                 ],
                 [
                  0.2222222222222222,
                  "#7201a8"
                 ],
                 [
                  0.3333333333333333,
                  "#9c179e"
                 ],
                 [
                  0.4444444444444444,
                  "#bd3786"
                 ],
                 [
                  0.5555555555555556,
                  "#d8576b"
                 ],
                 [
                  0.6666666666666666,
                  "#ed7953"
                 ],
                 [
                  0.7777777777777778,
                  "#fb9f3a"
                 ],
                 [
                  0.8888888888888888,
                  "#fdca26"
                 ],
                 [
                  1,
                  "#f0f921"
                 ]
                ],
                "type": "histogram2d"
               }
              ],
              "histogram2dcontour": [
               {
                "colorbar": {
                 "outlinewidth": 0,
                 "ticks": ""
                },
                "colorscale": [
                 [
                  0,
                  "#0d0887"
                 ],
                 [
                  0.1111111111111111,
                  "#46039f"
                 ],
                 [
                  0.2222222222222222,
                  "#7201a8"
                 ],
                 [
                  0.3333333333333333,
                  "#9c179e"
                 ],
                 [
                  0.4444444444444444,
                  "#bd3786"
                 ],
                 [
                  0.5555555555555556,
                  "#d8576b"
                 ],
                 [
                  0.6666666666666666,
                  "#ed7953"
                 ],
                 [
                  0.7777777777777778,
                  "#fb9f3a"
                 ],
                 [
                  0.8888888888888888,
                  "#fdca26"
                 ],
                 [
                  1,
                  "#f0f921"
                 ]
                ],
                "type": "histogram2dcontour"
               }
              ],
              "mesh3d": [
               {
                "colorbar": {
                 "outlinewidth": 0,
                 "ticks": ""
                },
                "type": "mesh3d"
               }
              ],
              "parcoords": [
               {
                "line": {
                 "colorbar": {
                  "outlinewidth": 0,
                  "ticks": ""
                 }
                },
                "type": "parcoords"
               }
              ],
              "pie": [
               {
                "automargin": true,
                "type": "pie"
               }
              ],
              "scatter": [
               {
                "marker": {
                 "colorbar": {
                  "outlinewidth": 0,
                  "ticks": ""
                 }
                },
                "type": "scatter"
               }
              ],
              "scatter3d": [
               {
                "line": {
                 "colorbar": {
                  "outlinewidth": 0,
                  "ticks": ""
                 }
                },
                "marker": {
                 "colorbar": {
                  "outlinewidth": 0,
                  "ticks": ""
                 }
                },
                "type": "scatter3d"
               }
              ],
              "scattercarpet": [
               {
                "marker": {
                 "colorbar": {
                  "outlinewidth": 0,
                  "ticks": ""
                 }
                },
                "type": "scattercarpet"
               }
              ],
              "scattergeo": [
               {
                "marker": {
                 "colorbar": {
                  "outlinewidth": 0,
                  "ticks": ""
                 }
                },
                "type": "scattergeo"
               }
              ],
              "scattergl": [
               {
                "marker": {
                 "colorbar": {
                  "outlinewidth": 0,
                  "ticks": ""
                 }
                },
                "type": "scattergl"
               }
              ],
              "scattermapbox": [
               {
                "marker": {
                 "colorbar": {
                  "outlinewidth": 0,
                  "ticks": ""
                 }
                },
                "type": "scattermapbox"
               }
              ],
              "scatterpolar": [
               {
                "marker": {
                 "colorbar": {
                  "outlinewidth": 0,
                  "ticks": ""
                 }
                },
                "type": "scatterpolar"
               }
              ],
              "scatterpolargl": [
               {
                "marker": {
                 "colorbar": {
                  "outlinewidth": 0,
                  "ticks": ""
                 }
                },
                "type": "scatterpolargl"
               }
              ],
              "scatterternary": [
               {
                "marker": {
                 "colorbar": {
                  "outlinewidth": 0,
                  "ticks": ""
                 }
                },
                "type": "scatterternary"
               }
              ],
              "surface": [
               {
                "colorbar": {
                 "outlinewidth": 0,
                 "ticks": ""
                },
                "colorscale": [
                 [
                  0,
                  "#0d0887"
                 ],
                 [
                  0.1111111111111111,
                  "#46039f"
                 ],
                 [
                  0.2222222222222222,
                  "#7201a8"
                 ],
                 [
                  0.3333333333333333,
                  "#9c179e"
                 ],
                 [
                  0.4444444444444444,
                  "#bd3786"
                 ],
                 [
                  0.5555555555555556,
                  "#d8576b"
                 ],
                 [
                  0.6666666666666666,
                  "#ed7953"
                 ],
                 [
                  0.7777777777777778,
                  "#fb9f3a"
                 ],
                 [
                  0.8888888888888888,
                  "#fdca26"
                 ],
                 [
                  1,
                  "#f0f921"
                 ]
                ],
                "type": "surface"
               }
              ],
              "table": [
               {
                "cells": {
                 "fill": {
                  "color": "#EBF0F8"
                 },
                 "line": {
                  "color": "white"
                 }
                },
                "header": {
                 "fill": {
                  "color": "#C8D4E3"
                 },
                 "line": {
                  "color": "white"
                 }
                },
                "type": "table"
               }
              ]
             },
             "layout": {
              "annotationdefaults": {
               "arrowcolor": "#2a3f5f",
               "arrowhead": 0,
               "arrowwidth": 1
              },
              "autotypenumbers": "strict",
              "coloraxis": {
               "colorbar": {
                "outlinewidth": 0,
                "ticks": ""
               }
              },
              "colorscale": {
               "diverging": [
                [
                 0,
                 "#8e0152"
                ],
                [
                 0.1,
                 "#c51b7d"
                ],
                [
                 0.2,
                 "#de77ae"
                ],
                [
                 0.3,
                 "#f1b6da"
                ],
                [
                 0.4,
                 "#fde0ef"
                ],
                [
                 0.5,
                 "#f7f7f7"
                ],
                [
                 0.6,
                 "#e6f5d0"
                ],
                [
                 0.7,
                 "#b8e186"
                ],
                [
                 0.8,
                 "#7fbc41"
                ],
                [
                 0.9,
                 "#4d9221"
                ],
                [
                 1,
                 "#276419"
                ]
               ],
               "sequential": [
                [
                 0,
                 "#0d0887"
                ],
                [
                 0.1111111111111111,
                 "#46039f"
                ],
                [
                 0.2222222222222222,
                 "#7201a8"
                ],
                [
                 0.3333333333333333,
                 "#9c179e"
                ],
                [
                 0.4444444444444444,
                 "#bd3786"
                ],
                [
                 0.5555555555555556,
                 "#d8576b"
                ],
                [
                 0.6666666666666666,
                 "#ed7953"
                ],
                [
                 0.7777777777777778,
                 "#fb9f3a"
                ],
                [
                 0.8888888888888888,
                 "#fdca26"
                ],
                [
                 1,
                 "#f0f921"
                ]
               ],
               "sequentialminus": [
                [
                 0,
                 "#0d0887"
                ],
                [
                 0.1111111111111111,
                 "#46039f"
                ],
                [
                 0.2222222222222222,
                 "#7201a8"
                ],
                [
                 0.3333333333333333,
                 "#9c179e"
                ],
                [
                 0.4444444444444444,
                 "#bd3786"
                ],
                [
                 0.5555555555555556,
                 "#d8576b"
                ],
                [
                 0.6666666666666666,
                 "#ed7953"
                ],
                [
                 0.7777777777777778,
                 "#fb9f3a"
                ],
                [
                 0.8888888888888888,
                 "#fdca26"
                ],
                [
                 1,
                 "#f0f921"
                ]
               ]
              },
              "colorway": [
               "#636efa",
               "#EF553B",
               "#00cc96",
               "#ab63fa",
               "#FFA15A",
               "#19d3f3",
               "#FF6692",
               "#B6E880",
               "#FF97FF",
               "#FECB52"
              ],
              "font": {
               "color": "#2a3f5f"
              },
              "geo": {
               "bgcolor": "white",
               "lakecolor": "white",
               "landcolor": "#E5ECF6",
               "showlakes": true,
               "showland": true,
               "subunitcolor": "white"
              },
              "hoverlabel": {
               "align": "left"
              },
              "hovermode": "closest",
              "mapbox": {
               "style": "light"
              },
              "paper_bgcolor": "white",
              "plot_bgcolor": "#E5ECF6",
              "polar": {
               "angularaxis": {
                "gridcolor": "white",
                "linecolor": "white",
                "ticks": ""
               },
               "bgcolor": "#E5ECF6",
               "radialaxis": {
                "gridcolor": "white",
                "linecolor": "white",
                "ticks": ""
               }
              },
              "scene": {
               "xaxis": {
                "backgroundcolor": "#E5ECF6",
                "gridcolor": "white",
                "gridwidth": 2,
                "linecolor": "white",
                "showbackground": true,
                "ticks": "",
                "zerolinecolor": "white"
               },
               "yaxis": {
                "backgroundcolor": "#E5ECF6",
                "gridcolor": "white",
                "gridwidth": 2,
                "linecolor": "white",
                "showbackground": true,
                "ticks": "",
                "zerolinecolor": "white"
               },
               "zaxis": {
                "backgroundcolor": "#E5ECF6",
                "gridcolor": "white",
                "gridwidth": 2,
                "linecolor": "white",
                "showbackground": true,
                "ticks": "",
                "zerolinecolor": "white"
               }
              },
              "shapedefaults": {
               "line": {
                "color": "#2a3f5f"
               }
              },
              "ternary": {
               "aaxis": {
                "gridcolor": "white",
                "linecolor": "white",
                "ticks": ""
               },
               "baxis": {
                "gridcolor": "white",
                "linecolor": "white",
                "ticks": ""
               },
               "bgcolor": "#E5ECF6",
               "caxis": {
                "gridcolor": "white",
                "linecolor": "white",
                "ticks": ""
               }
              },
              "title": {
               "x": 0.05
              },
              "xaxis": {
               "automargin": true,
               "gridcolor": "white",
               "linecolor": "white",
               "ticks": "",
               "title": {
                "standoff": 15
               },
               "zerolinecolor": "white",
               "zerolinewidth": 2
              },
              "yaxis": {
               "automargin": true,
               "gridcolor": "white",
               "linecolor": "white",
               "ticks": "",
               "title": {
                "standoff": 15
               },
               "zerolinecolor": "white",
               "zerolinewidth": 2
              }
             }
            },
            "xaxis": {
             "anchor": "y",
             "autorange": true,
             "domain": [
              0,
              1
             ],
             "range": [
              -7.794774604034112,
              127.79477460403412
             ],
             "title": {
              "text": "index"
             },
             "type": "linear"
            },
            "yaxis": {
             "anchor": "x",
             "autorange": true,
             "domain": [
              0,
              1
             ],
             "range": [
              -0.09558117195004803,
              1.0955811719500481
             ],
             "title": {
              "text": "Topic_0"
             },
             "type": "linear"
            }
           }
          },
          "text/html": "<div>                            <div id=\"a427f0ab-d7a9-4399-b772-9368784f7f32\" class=\"plotly-graph-div\" style=\"height:525px; width:100%;\"></div>            <script type=\"text/javascript\">                require([\"plotly\"], function(Plotly) {                    window.PLOTLYENV=window.PLOTLYENV || {};                                    if (document.getElementById(\"a427f0ab-d7a9-4399-b772-9368784f7f32\")) {                    Plotly.newPlot(                        \"a427f0ab-d7a9-4399-b772-9368784f7f32\",                        [{\"hovertemplate\":\"Newspaper=ajA<br>index=%{x}<br>Topic_0=%{y}<extra></extra>\",\"legendgroup\":\"ajA\",\"marker\":{\"color\":\"#002b36\",\"opacity\":0.5,\"symbol\":\"circle\",\"size\":15},\"mode\":\"markers\",\"name\":\"ajA\",\"orientation\":\"v\",\"showlegend\":true,\"x\":[0,68,108,86,115,21,12,97,5,8,4,25,45,44,116,39,33,49],\"xaxis\":\"x\",\"y\":[0.7344061409198571,0.899488597435661,0.0,0.8027734048987042,0.3763106454601789,0.6988648702796134,1.0,0.2403484778990363,0.8630301494459149,0.4804504627800655,0.3744570392533345,0.8051865469762669,1.0,0.543227892428469,0.2774525822691714,0.5188051172739666,0.6139981152290693,1.0],\"yaxis\":\"y\",\"type\":\"scatter\"},{\"hovertemplate\":\"Newspaper=NYT<br>index=%{x}<br>Topic_0=%{y}<extra></extra>\",\"legendgroup\":\"NYT\",\"marker\":{\"color\":\"#586e75\",\"opacity\":0.5,\"symbol\":\"circle\",\"size\":15},\"mode\":\"markers\",\"name\":\"NYT\",\"orientation\":\"v\",\"showlegend\":true,\"x\":[76,67,57,90,102,6],\"xaxis\":\"x\",\"y\":[0.7597036666329167,1.0,0.3577030599844152,0.8493560193089246,0.0,0.4377120668318998],\"yaxis\":\"y\",\"type\":\"scatter\"},{\"hovertemplate\":\"Newspaper=Maj<br>index=%{x}<br>Topic_0=%{y}<extra></extra>\",\"legendgroup\":\"Maj\",\"marker\":{\"color\":\"#657b83\",\"opacity\":0.5,\"symbol\":\"circle\",\"size\":15},\"mode\":\"markers\",\"name\":\"Maj\",\"orientation\":\"v\",\"showlegend\":true,\"x\":[75,69,70,77,96,66,65,63,61,59,58,103,52,53,64,78,92,100,80,83,93,88,94,99,13,118,23,106,119,37,26,1,11,47,48,113,41,42,30,27,28,29,105,34,35,36,38,31,120],\"xaxis\":\"x\",\"y\":[0.7492368149093654,1.0,0.9996504027463158,0.9738614587047658,0.1062925597518765,1.0,0.9521310247604018,0.8565135569983355,0.5300874798687131,1.0,0.6110042490550418,0.3935387981171423,0.8442883769581547,0.6256817168302639,0.9433091653017932,1.0,0.9896180486940988,0.176366856440873,1.0,0.7479775539121593,0.4225963532187188,0.4433911348206619,0.1062925597518765,0.0,0.8960593281181176,0.0,0.5184134928674476,0.3981045809887095,0.2719736874868897,0.762287427375555,0.9906129766746704,0.6278734790418946,0.8943126169662886,0.785358033348883,1.0,0.0,0.6310253039203255,0.4198808026618196,0.3023065120096851,1.0,0.4123877095256173,1.0,0.0,0.454757620510433,1.0,0.9659987611128702,0.9673783352960788,0.9561677366763291,0.0],\"yaxis\":\"y\",\"type\":\"scatter\"},{\"hovertemplate\":\"Newspaper=Tor<br>index=%{x}<br>Topic_0=%{y}<extra></extra>\",\"legendgroup\":\"Tor\",\"marker\":{\"color\":\"#839496\",\"opacity\":0.5,\"symbol\":\"circle\",\"size\":15},\"mode\":\"markers\",\"name\":\"Tor\",\"orientation\":\"v\",\"showlegend\":true,\"x\":[74,72,62,56,43],\"xaxis\":\"x\",\"y\":[0.6527171523621804,0.9008021778597286,0.3920245807179755,0.6343020017396273,0.5838631453142531],\"yaxis\":\"y\",\"type\":\"scatter\"},{\"hovertemplate\":\"Newspaper=Ind<br>index=%{x}<br>Topic_0=%{y}<extra></extra>\",\"legendgroup\":\"Ind\",\"marker\":{\"color\":\"#93a1a1\",\"opacity\":0.5,\"symbol\":\"circle\",\"size\":15},\"mode\":\"markers\",\"name\":\"Ind\",\"orientation\":\"v\",\"showlegend\":true,\"x\":[73,107,101,18,110,114,2,19,79],\"xaxis\":\"x\",\"y\":[0.3449014987246375,0.0,0.1439641648655216,0.9252767879536472,0.0,0.0,0.9443913830340503,1.0,0.6946825994538436],\"yaxis\":\"y\",\"type\":\"scatter\"},{\"hovertemplate\":\"Newspaper=Tim<br>index=%{x}<br>Topic_0=%{y}<extra></extra>\",\"legendgroup\":\"Tim\",\"marker\":{\"color\":\"#fdf6e3\",\"opacity\":0.5,\"symbol\":\"circle\",\"size\":15},\"mode\":\"markers\",\"name\":\"Tim\",\"orientation\":\"v\",\"showlegend\":true,\"x\":[71,111,55,95,14,10,9,3],\"xaxis\":\"x\",\"y\":[1.0,0.0,0.6214155508842455,0.1492269593971865,0.9870341176429888,0.9241018040150836,0.9223320688883648,0.8741718135891964],\"yaxis\":\"y\",\"type\":\"scatter\"},{\"hovertemplate\":\"Newspaper=Dai<br>index=%{x}<br>Topic_0=%{y}<extra></extra>\",\"legendgroup\":\"Dai\",\"marker\":{\"color\":\"#b58900\",\"opacity\":0.5,\"symbol\":\"circle\",\"size\":15},\"mode\":\"markers\",\"name\":\"Dai\",\"orientation\":\"v\",\"showlegend\":true,\"x\":[60,24,16,15],\"xaxis\":\"x\",\"y\":[0.7113588987991732,0.3604403462344056,1.0,0.8358829253168585],\"yaxis\":\"y\",\"type\":\"scatter\"},{\"hovertemplate\":\"Newspaper=Gua<br>index=%{x}<br>Topic_0=%{y}<extra></extra>\",\"legendgroup\":\"Gua\",\"marker\":{\"color\":\"#cb4b16\",\"opacity\":0.5,\"symbol\":\"circle\",\"size\":15},\"mode\":\"markers\",\"name\":\"Gua\",\"orientation\":\"v\",\"showlegend\":true,\"x\":[85,82,81,87,54,89,91,109,50,98],\"xaxis\":\"x\",\"y\":[0.4907685926764458,0.3627835308615009,0.7597036666329167,0.9065173879772662,1.0,0.5198285480881698,1.0,0.0,0.9979731324601794,0.0],\"yaxis\":\"y\",\"type\":\"scatter\"},{\"hovertemplate\":\"Newspaper=Bus<br>index=%{x}<br>Topic_0=%{y}<extra></extra>\",\"legendgroup\":\"Bus\",\"marker\":{\"color\":\"#d30102\",\"opacity\":0.5,\"symbol\":\"circle\",\"size\":15},\"mode\":\"markers\",\"name\":\"Bus\",\"orientation\":\"v\",\"showlegend\":true,\"x\":[84,104,32],\"xaxis\":\"x\",\"y\":[1.0,0.0,0.9415597162092296],\"yaxis\":\"y\",\"type\":\"scatter\"},{\"hovertemplate\":\"Newspaper=ail<br>index=%{x}<br>Topic_0=%{y}<extra></extra>\",\"legendgroup\":\"ail\",\"marker\":{\"color\":\"#d33682\",\"opacity\":0.5,\"symbol\":\"circle\",\"size\":15},\"mode\":\"markers\",\"name\":\"ail\",\"orientation\":\"v\",\"showlegend\":true,\"x\":[22,7,46],\"xaxis\":\"x\",\"y\":[0.5744721265680484,0.9885073455216824,0.3700570908442475],\"yaxis\":\"y\",\"type\":\"scatter\"},{\"hovertemplate\":\"Newspaper=CDa<br>index=%{x}<br>Topic_0=%{y}<extra></extra>\",\"legendgroup\":\"CDa\",\"marker\":{\"color\":\"#268bd2\",\"opacity\":0.5,\"symbol\":\"circle\",\"size\":15},\"mode\":\"markers\",\"name\":\"CDa\",\"orientation\":\"v\",\"showlegend\":true,\"x\":[112,17,51,20,117,40],\"xaxis\":\"x\",\"y\":[0.3690464031633646,0.7450331131401344,0.4236393119472482,0.4623128674167203,0.0,0.9913063075291496],\"yaxis\":\"y\",\"type\":\"scatter\"}],                        {\"template\":{\"data\":{\"bar\":[{\"error_x\":{\"color\":\"#2a3f5f\"},\"error_y\":{\"color\":\"#2a3f5f\"},\"marker\":{\"line\":{\"color\":\"#E5ECF6\",\"width\":0.5},\"pattern\":{\"fillmode\":\"overlay\",\"size\":10,\"solidity\":0.2}},\"type\":\"bar\"}],\"barpolar\":[{\"marker\":{\"line\":{\"color\":\"#E5ECF6\",\"width\":0.5},\"pattern\":{\"fillmode\":\"overlay\",\"size\":10,\"solidity\":0.2}},\"type\":\"barpolar\"}],\"carpet\":[{\"aaxis\":{\"endlinecolor\":\"#2a3f5f\",\"gridcolor\":\"white\",\"linecolor\":\"white\",\"minorgridcolor\":\"white\",\"startlinecolor\":\"#2a3f5f\"},\"baxis\":{\"endlinecolor\":\"#2a3f5f\",\"gridcolor\":\"white\",\"linecolor\":\"white\",\"minorgridcolor\":\"white\",\"startlinecolor\":\"#2a3f5f\"},\"type\":\"carpet\"}],\"choropleth\":[{\"colorbar\":{\"outlinewidth\":0,\"ticks\":\"\"},\"type\":\"choropleth\"}],\"contour\":[{\"colorbar\":{\"outlinewidth\":0,\"ticks\":\"\"},\"colorscale\":[[0.0,\"#0d0887\"],[0.1111111111111111,\"#46039f\"],[0.2222222222222222,\"#7201a8\"],[0.3333333333333333,\"#9c179e\"],[0.4444444444444444,\"#bd3786\"],[0.5555555555555556,\"#d8576b\"],[0.6666666666666666,\"#ed7953\"],[0.7777777777777778,\"#fb9f3a\"],[0.8888888888888888,\"#fdca26\"],[1.0,\"#f0f921\"]],\"type\":\"contour\"}],\"contourcarpet\":[{\"colorbar\":{\"outlinewidth\":0,\"ticks\":\"\"},\"type\":\"contourcarpet\"}],\"heatmap\":[{\"colorbar\":{\"outlinewidth\":0,\"ticks\":\"\"},\"colorscale\":[[0.0,\"#0d0887\"],[0.1111111111111111,\"#46039f\"],[0.2222222222222222,\"#7201a8\"],[0.3333333333333333,\"#9c179e\"],[0.4444444444444444,\"#bd3786\"],[0.5555555555555556,\"#d8576b\"],[0.6666666666666666,\"#ed7953\"],[0.7777777777777778,\"#fb9f3a\"],[0.8888888888888888,\"#fdca26\"],[1.0,\"#f0f921\"]],\"type\":\"heatmap\"}],\"heatmapgl\":[{\"colorbar\":{\"outlinewidth\":0,\"ticks\":\"\"},\"colorscale\":[[0.0,\"#0d0887\"],[0.1111111111111111,\"#46039f\"],[0.2222222222222222,\"#7201a8\"],[0.3333333333333333,\"#9c179e\"],[0.4444444444444444,\"#bd3786\"],[0.5555555555555556,\"#d8576b\"],[0.6666666666666666,\"#ed7953\"],[0.7777777777777778,\"#fb9f3a\"],[0.8888888888888888,\"#fdca26\"],[1.0,\"#f0f921\"]],\"type\":\"heatmapgl\"}],\"histogram\":[{\"marker\":{\"pattern\":{\"fillmode\":\"overlay\",\"size\":10,\"solidity\":0.2}},\"type\":\"histogram\"}],\"histogram2d\":[{\"colorbar\":{\"outlinewidth\":0,\"ticks\":\"\"},\"colorscale\":[[0.0,\"#0d0887\"],[0.1111111111111111,\"#46039f\"],[0.2222222222222222,\"#7201a8\"],[0.3333333333333333,\"#9c179e\"],[0.4444444444444444,\"#bd3786\"],[0.5555555555555556,\"#d8576b\"],[0.6666666666666666,\"#ed7953\"],[0.7777777777777778,\"#fb9f3a\"],[0.8888888888888888,\"#fdca26\"],[1.0,\"#f0f921\"]],\"type\":\"histogram2d\"}],\"histogram2dcontour\":[{\"colorbar\":{\"outlinewidth\":0,\"ticks\":\"\"},\"colorscale\":[[0.0,\"#0d0887\"],[0.1111111111111111,\"#46039f\"],[0.2222222222222222,\"#7201a8\"],[0.3333333333333333,\"#9c179e\"],[0.4444444444444444,\"#bd3786\"],[0.5555555555555556,\"#d8576b\"],[0.6666666666666666,\"#ed7953\"],[0.7777777777777778,\"#fb9f3a\"],[0.8888888888888888,\"#fdca26\"],[1.0,\"#f0f921\"]],\"type\":\"histogram2dcontour\"}],\"mesh3d\":[{\"colorbar\":{\"outlinewidth\":0,\"ticks\":\"\"},\"type\":\"mesh3d\"}],\"parcoords\":[{\"line\":{\"colorbar\":{\"outlinewidth\":0,\"ticks\":\"\"}},\"type\":\"parcoords\"}],\"pie\":[{\"automargin\":true,\"type\":\"pie\"}],\"scatter\":[{\"marker\":{\"colorbar\":{\"outlinewidth\":0,\"ticks\":\"\"}},\"type\":\"scatter\"}],\"scatter3d\":[{\"line\":{\"colorbar\":{\"outlinewidth\":0,\"ticks\":\"\"}},\"marker\":{\"colorbar\":{\"outlinewidth\":0,\"ticks\":\"\"}},\"type\":\"scatter3d\"}],\"scattercarpet\":[{\"marker\":{\"colorbar\":{\"outlinewidth\":0,\"ticks\":\"\"}},\"type\":\"scattercarpet\"}],\"scattergeo\":[{\"marker\":{\"colorbar\":{\"outlinewidth\":0,\"ticks\":\"\"}},\"type\":\"scattergeo\"}],\"scattergl\":[{\"marker\":{\"colorbar\":{\"outlinewidth\":0,\"ticks\":\"\"}},\"type\":\"scattergl\"}],\"scattermapbox\":[{\"marker\":{\"colorbar\":{\"outlinewidth\":0,\"ticks\":\"\"}},\"type\":\"scattermapbox\"}],\"scatterpolar\":[{\"marker\":{\"colorbar\":{\"outlinewidth\":0,\"ticks\":\"\"}},\"type\":\"scatterpolar\"}],\"scatterpolargl\":[{\"marker\":{\"colorbar\":{\"outlinewidth\":0,\"ticks\":\"\"}},\"type\":\"scatterpolargl\"}],\"scatterternary\":[{\"marker\":{\"colorbar\":{\"outlinewidth\":0,\"ticks\":\"\"}},\"type\":\"scatterternary\"}],\"surface\":[{\"colorbar\":{\"outlinewidth\":0,\"ticks\":\"\"},\"colorscale\":[[0.0,\"#0d0887\"],[0.1111111111111111,\"#46039f\"],[0.2222222222222222,\"#7201a8\"],[0.3333333333333333,\"#9c179e\"],[0.4444444444444444,\"#bd3786\"],[0.5555555555555556,\"#d8576b\"],[0.6666666666666666,\"#ed7953\"],[0.7777777777777778,\"#fb9f3a\"],[0.8888888888888888,\"#fdca26\"],[1.0,\"#f0f921\"]],\"type\":\"surface\"}],\"table\":[{\"cells\":{\"fill\":{\"color\":\"#EBF0F8\"},\"line\":{\"color\":\"white\"}},\"header\":{\"fill\":{\"color\":\"#C8D4E3\"},\"line\":{\"color\":\"white\"}},\"type\":\"table\"}]},\"layout\":{\"annotationdefaults\":{\"arrowcolor\":\"#2a3f5f\",\"arrowhead\":0,\"arrowwidth\":1},\"autotypenumbers\":\"strict\",\"coloraxis\":{\"colorbar\":{\"outlinewidth\":0,\"ticks\":\"\"}},\"colorscale\":{\"diverging\":[[0,\"#8e0152\"],[0.1,\"#c51b7d\"],[0.2,\"#de77ae\"],[0.3,\"#f1b6da\"],[0.4,\"#fde0ef\"],[0.5,\"#f7f7f7\"],[0.6,\"#e6f5d0\"],[0.7,\"#b8e186\"],[0.8,\"#7fbc41\"],[0.9,\"#4d9221\"],[1,\"#276419\"]],\"sequential\":[[0.0,\"#0d0887\"],[0.1111111111111111,\"#46039f\"],[0.2222222222222222,\"#7201a8\"],[0.3333333333333333,\"#9c179e\"],[0.4444444444444444,\"#bd3786\"],[0.5555555555555556,\"#d8576b\"],[0.6666666666666666,\"#ed7953\"],[0.7777777777777778,\"#fb9f3a\"],[0.8888888888888888,\"#fdca26\"],[1.0,\"#f0f921\"]],\"sequentialminus\":[[0.0,\"#0d0887\"],[0.1111111111111111,\"#46039f\"],[0.2222222222222222,\"#7201a8\"],[0.3333333333333333,\"#9c179e\"],[0.4444444444444444,\"#bd3786\"],[0.5555555555555556,\"#d8576b\"],[0.6666666666666666,\"#ed7953\"],[0.7777777777777778,\"#fb9f3a\"],[0.8888888888888888,\"#fdca26\"],[1.0,\"#f0f921\"]]},\"colorway\":[\"#636efa\",\"#EF553B\",\"#00cc96\",\"#ab63fa\",\"#FFA15A\",\"#19d3f3\",\"#FF6692\",\"#B6E880\",\"#FF97FF\",\"#FECB52\"],\"font\":{\"color\":\"#2a3f5f\"},\"geo\":{\"bgcolor\":\"white\",\"lakecolor\":\"white\",\"landcolor\":\"#E5ECF6\",\"showlakes\":true,\"showland\":true,\"subunitcolor\":\"white\"},\"hoverlabel\":{\"align\":\"left\"},\"hovermode\":\"closest\",\"mapbox\":{\"style\":\"light\"},\"paper_bgcolor\":\"white\",\"plot_bgcolor\":\"#E5ECF6\",\"polar\":{\"angularaxis\":{\"gridcolor\":\"white\",\"linecolor\":\"white\",\"ticks\":\"\"},\"bgcolor\":\"#E5ECF6\",\"radialaxis\":{\"gridcolor\":\"white\",\"linecolor\":\"white\",\"ticks\":\"\"}},\"scene\":{\"xaxis\":{\"backgroundcolor\":\"#E5ECF6\",\"gridcolor\":\"white\",\"gridwidth\":2,\"linecolor\":\"white\",\"showbackground\":true,\"ticks\":\"\",\"zerolinecolor\":\"white\"},\"yaxis\":{\"backgroundcolor\":\"#E5ECF6\",\"gridcolor\":\"white\",\"gridwidth\":2,\"linecolor\":\"white\",\"showbackground\":true,\"ticks\":\"\",\"zerolinecolor\":\"white\"},\"zaxis\":{\"backgroundcolor\":\"#E5ECF6\",\"gridcolor\":\"white\",\"gridwidth\":2,\"linecolor\":\"white\",\"showbackground\":true,\"ticks\":\"\",\"zerolinecolor\":\"white\"}},\"shapedefaults\":{\"line\":{\"color\":\"#2a3f5f\"}},\"ternary\":{\"aaxis\":{\"gridcolor\":\"white\",\"linecolor\":\"white\",\"ticks\":\"\"},\"baxis\":{\"gridcolor\":\"white\",\"linecolor\":\"white\",\"ticks\":\"\"},\"bgcolor\":\"#E5ECF6\",\"caxis\":{\"gridcolor\":\"white\",\"linecolor\":\"white\",\"ticks\":\"\"}},\"title\":{\"x\":0.05},\"xaxis\":{\"automargin\":true,\"gridcolor\":\"white\",\"linecolor\":\"white\",\"ticks\":\"\",\"title\":{\"standoff\":15},\"zerolinecolor\":\"white\",\"zerolinewidth\":2},\"yaxis\":{\"automargin\":true,\"gridcolor\":\"white\",\"linecolor\":\"white\",\"ticks\":\"\",\"title\":{\"standoff\":15},\"zerolinecolor\":\"white\",\"zerolinewidth\":2}}},\"xaxis\":{\"anchor\":\"y\",\"domain\":[0.0,1.0],\"title\":{\"text\":\"index\"}},\"yaxis\":{\"anchor\":\"x\",\"domain\":[0.0,1.0],\"title\":{\"text\":\"Topic_0\"}},\"legend\":{\"title\":{\"text\":\"Newspaper\"},\"tracegroupgap\":0},\"margin\":{\"t\":60}},                        {\"responsive\": true}                    ).then(function(){\n                            \nvar gd = document.getElementById('a427f0ab-d7a9-4399-b772-9368784f7f32');\nvar x = new MutationObserver(function (mutations, observer) {{\n        var display = window.getComputedStyle(gd).display;\n        if (!display || display === 'none') {{\n            console.log([gd, 'removed!']);\n            Plotly.purge(gd);\n            observer.disconnect();\n        }}\n}});\n\n// Listen for the removal of the full notebook cells\nvar notebookContainer = gd.closest('#notebook-container');\nif (notebookContainer) {{\n    x.observe(notebookContainer, {childList: true});\n}}\n\n// Listen for the clearing of the current output cell\nvar outputEl = gd.closest('.output');\nif (outputEl) {{\n    x.observe(outputEl, {childList: true});\n}}\n\n                        })                };                });            </script>        </div>"
         },
         "metadata": {},
         "output_type": "display_data"
        }
       ]
      }
     },
     "e9250167e6f14ed3a9d1d06c5ee15044": {
      "model_module": "@jupyter-widgets/controls",
      "model_module_version": "1.5.0",
      "model_name": "DescriptionStyleModel",
      "state": {
       "description_width": ""
      }
     },
     "eaa1551436434d9094ef751f84752254": {
      "model_module": "@jupyter-widgets/controls",
      "model_module_version": "1.5.0",
      "model_name": "DropdownModel",
      "state": {
       "_options_labels": [
        "Topic_0",
        "Topic_1",
        "Topic_2",
        "Topic_3",
        "Topic_4"
       ],
       "description": "column",
       "index": 0,
       "layout": "IPY_MODEL_5e783a58d71a45fb8483eaea89676918",
       "style": "IPY_MODEL_7e1719b5313244298e5d8fd166af01c1"
      }
     },
     "f23ee8f73d304adbafa7b6b988a7abb0": {
      "model_module": "@jupyter-widgets/controls",
      "model_module_version": "1.5.0",
      "model_name": "FloatSliderModel",
      "state": {
       "description": "value",
       "layout": "IPY_MODEL_2a740379dec14e16a6fd6c5bba62813d",
       "max": 1,
       "step": 0.05,
       "style": "IPY_MODEL_e0044eee6f5d4067972370e32edde910"
      }
     },
     "f75a02d09bfc4c82a00491a522cf07ba": {
      "model_module": "@jupyter-widgets/output",
      "model_module_version": "1.0.0",
      "model_name": "OutputModel",
      "state": {
       "layout": "IPY_MODEL_4eb0430a873b4f30a203995cdcd19f77",
       "outputs": [
        {
         "data": {
          "text/html": "<div>\n<style scoped>\n    .dataframe tbody tr th:only-of-type {\n        vertical-align: middle;\n    }\n\n    .dataframe tbody tr th {\n        vertical-align: top;\n    }\n\n    .dataframe thead th {\n        text-align: right;\n    }\n</style>\n<table border=\"1\" class=\"dataframe\">\n  <thead>\n    <tr style=\"text-align: right;\">\n      <th></th>\n      <th>Articles</th>\n      <th>Topic_0</th>\n      <th>Topic_1</th>\n      <th>Topic_2</th>\n      <th>Topic_3</th>\n      <th>Topic_4</th>\n      <th>Year</th>\n      <th>Newspaper</th>\n    </tr>\n  </thead>\n  <tbody>\n    <tr>\n      <th>0</th>\n      <td>2002-03-1-MajAustr-1-67-61.txt</td>\n      <td>0.734406</td>\n      <td>0.031050</td>\n      <td>0.052941</td>\n      <td>0.121928</td>\n      <td>0.059674</td>\n      <td>2002</td>\n      <td>ajA</td>\n    </tr>\n    <tr>\n      <th>1</th>\n      <td>2018-01-24-MajAustr-1-67-2.txt</td>\n      <td>0.627873</td>\n      <td>0.004257</td>\n      <td>0.183715</td>\n      <td>0.125618</td>\n      <td>0.058536</td>\n      <td>2018</td>\n      <td>Maj</td>\n    </tr>\n    <tr>\n      <th>2</th>\n      <td>2017-11-22-Independent-1-9-4.txt</td>\n      <td>0.944391</td>\n      <td>0.000000</td>\n      <td>0.000000</td>\n      <td>0.055609</td>\n      <td>0.000000</td>\n      <td>2017</td>\n      <td>Ind</td>\n    </tr>\n    <tr>\n      <th>3</th>\n      <td>2017-09-27-Times-1-9-4.txt</td>\n      <td>0.874172</td>\n      <td>0.000000</td>\n      <td>0.125828</td>\n      <td>0.000000</td>\n      <td>0.000000</td>\n      <td>2017</td>\n      <td>Tim</td>\n    </tr>\n    <tr>\n      <th>4</th>\n      <td>2016-08-7-MajAustr-1-67-26.txt</td>\n      <td>0.374457</td>\n      <td>0.008095</td>\n      <td>0.232753</td>\n      <td>0.181643</td>\n      <td>0.203052</td>\n      <td>2016</td>\n      <td>ajA</td>\n    </tr>\n    <tr>\n      <th>...</th>\n      <td>...</td>\n      <td>...</td>\n      <td>...</td>\n      <td>...</td>\n      <td>...</td>\n      <td>...</td>\n      <td>...</td>\n      <td>...</td>\n    </tr>\n    <tr>\n      <th>106</th>\n      <td>2016-02-18-MajAustr-1-67-1.txt</td>\n      <td>0.398105</td>\n      <td>0.038285</td>\n      <td>0.406461</td>\n      <td>0.057571</td>\n      <td>0.099578</td>\n      <td>2016</td>\n      <td>Maj</td>\n    </tr>\n    <tr>\n      <th>112</th>\n      <td>2014-09-08-CDaily-1-10-9.txt</td>\n      <td>0.369046</td>\n      <td>0.000000</td>\n      <td>0.156535</td>\n      <td>0.378469</td>\n      <td>0.095950</td>\n      <td>2014</td>\n      <td>CDa</td>\n    </tr>\n    <tr>\n      <th>115</th>\n      <td>2011-08-2-MajAustr-1-67-60.txt</td>\n      <td>0.376311</td>\n      <td>0.000000</td>\n      <td>0.109846</td>\n      <td>0.453747</td>\n      <td>0.060097</td>\n      <td>2011</td>\n      <td>ajA</td>\n    </tr>\n    <tr>\n      <th>116</th>\n      <td>2020-08-8-MajAustr-1-67-3.txt</td>\n      <td>0.277453</td>\n      <td>0.151180</td>\n      <td>0.070926</td>\n      <td>0.165493</td>\n      <td>0.334948</td>\n      <td>2020</td>\n      <td>ajA</td>\n    </tr>\n    <tr>\n      <th>119</th>\n      <td>2016-09-14-MajAustr-1-67-25.txt</td>\n      <td>0.271974</td>\n      <td>0.154557</td>\n      <td>0.134024</td>\n      <td>0.100942</td>\n      <td>0.338503</td>\n      <td>2016</td>\n      <td>Maj</td>\n    </tr>\n  </tbody>\n</table>\n<p>106 rows × 8 columns</p>\n</div>",
          "text/plain": "                             Articles   Topic_0   Topic_1   Topic_2   Topic_3  \\\n0      2002-03-1-MajAustr-1-67-61.txt  0.734406  0.031050  0.052941  0.121928   \n1      2018-01-24-MajAustr-1-67-2.txt  0.627873  0.004257  0.183715  0.125618   \n2    2017-11-22-Independent-1-9-4.txt  0.944391  0.000000  0.000000  0.055609   \n3          2017-09-27-Times-1-9-4.txt  0.874172  0.000000  0.125828  0.000000   \n4      2016-08-7-MajAustr-1-67-26.txt  0.374457  0.008095  0.232753  0.181643   \n..                                ...       ...       ...       ...       ...   \n106    2016-02-18-MajAustr-1-67-1.txt  0.398105  0.038285  0.406461  0.057571   \n112      2014-09-08-CDaily-1-10-9.txt  0.369046  0.000000  0.156535  0.378469   \n115    2011-08-2-MajAustr-1-67-60.txt  0.376311  0.000000  0.109846  0.453747   \n116     2020-08-8-MajAustr-1-67-3.txt  0.277453  0.151180  0.070926  0.165493   \n119   2016-09-14-MajAustr-1-67-25.txt  0.271974  0.154557  0.134024  0.100942   \n\n      Topic_4  Year Newspaper  \n0    0.059674  2002       ajA  \n1    0.058536  2018       Maj  \n2    0.000000  2017       Ind  \n3    0.000000  2017       Tim  \n4    0.203052  2016       ajA  \n..        ...   ...       ...  \n106  0.099578  2016       Maj  \n112  0.095950  2014       CDa  \n115  0.060097  2011       ajA  \n116  0.334948  2020       ajA  \n119  0.338503  2016       Maj  \n\n[106 rows x 8 columns]"
         },
         "metadata": {},
         "output_type": "display_data"
        }
       ]
      }
     },
     "f7f6d5e7be964a52ab58c1e7dd8ddd54": {
      "model_module": "@jupyter-widgets/controls",
      "model_module_version": "1.5.0",
      "model_name": "DescriptionStyleModel",
      "state": {
       "description_width": ""
      }
     },
     "f9220526e08846f7a53747da8a41db16": {
      "model_module": "@jupyter-widgets/base",
      "model_module_version": "1.2.0",
      "model_name": "LayoutModel",
      "state": {}
     },
     "f986a6c1558641e68798444551408231": {
      "model_module": "@jupyter-widgets/controls",
      "model_module_version": "1.5.0",
      "model_name": "SelectMultipleModel",
      "state": {
       "_options_labels": [
        "Topic_0",
        "Topic_1",
        "Topic_2",
        "Topic_3",
        "Topic_4"
       ],
       "description": "Variables",
       "index": [
        1
       ],
       "layout": "IPY_MODEL_02c5ceea512b45b6b58ea3f1d1291e24",
       "rows": 5,
       "style": "IPY_MODEL_7795cdd1cbd04061bde803b2a00587d5"
      }
     },
     "fa203700579f4e7ca09b763587850787": {
      "model_module": "@jupyter-widgets/base",
      "model_module_version": "1.2.0",
      "model_name": "LayoutModel",
      "state": {}
     },
     "fa76017be78b422a901bee8495edfd08": {
      "model_module": "@jupyter-widgets/base",
      "model_module_version": "1.2.0",
      "model_name": "LayoutModel",
      "state": {}
     },
     "fb9f98856a9a48c794d0e4746f3f6e5b": {
      "model_module": "@jupyter-widgets/base",
      "model_module_version": "1.2.0",
      "model_name": "LayoutModel",
      "state": {}
     }
    },
    "version_major": 2,
    "version_minor": 0
   }
  }
 },
 "nbformat": 4,
 "nbformat_minor": 5
}
