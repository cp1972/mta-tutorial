{
 "cells": [
  {
   "cell_type": "markdown",
   "metadata": {},
   "source": [
    "## Widget for interactive presentations of topic models\n",
    "\n",
    "In this notebook, we show how to turn your results into interactive presentations with the help of widgets. We use: \n",
    "\n",
    "  - ipywidgets for the widget\n",
    "  - matplotlib and plotly for the plots \n",
    "\n",
    "which provide a good choice of widgets we can add to our results. Let us say some words regarding these widgets. Why are they useful? \n",
    "\n",
    "### Advantages\n",
    "\n",
    "Widgets give to your results some interactivity, enabling other people to use a widget in order to explore your data and your results. This is a very intersting tool which can be an asset in different contexts, as for example in teaching, or if you have to make a presentation of your results for colleagues, or even for layman people. They can use your widget to see your results moving on a table or on a plot. However, widgets have also some disadvantages\n",
    "\n",
    "### Disadvantages\n",
    "\n",
    "The disadvantages of widgets are related to: \n",
    "\n",
    "  - the communication of the results themselves: too much interactivity does not automatically improve the communicative power of your analysis. Even worse, it could give the unwanted impression that you want to oversimplify things;\n",
    "  - to the widgets themselves: if you want to customize widgets, there is a steap learning curve which require to invest time in the understanding of the underlying mechanics of the widgets' libraries in order to get what you want in the end. \n",
    "  - your work on the analysis: one of the main disadvantages of widgets is related to the other frameworks which they are depending on -- to design widgets is not really easy and if you want to incorporate custom controls or layouts, you often have to consider studying html, css styling, jinja and other possible languages that have nothing to do with your analysis, but are related to web design. \n",
    "\n",
    "So, do widgets worth it? They do if you can keep things relatively simple but efficient, and in this notebook, we show one way to do it. "
   ]
  },
  {
   "cell_type": "markdown",
   "metadata": {},
   "source": [
    "## The data\n",
    "\n",
    "We are taking an example of a topic model analysis with a table and a plot, and we are adding some simple interactivity to them. \n",
    "\n",
    "Our data is the result of the topic modelling of articles in newspapers in english covering the progress in the field of nanotechnologies for the medicine. We have tailored these data for processing in MTA, and we have get a best fit result with five topics. Let us load the needed python packages to explore our data and display the results on a plot.\n",
    "\n",
    "First, we import to needed library for plotting and reading one of our csv file produced by MTA into Python. We are reading this file and show a sample of the data in our table."
   ]
  },
  {
   "cell_type": "code",
   "execution_count": 3,
   "metadata": {},
   "outputs": [
    {
     "data": {
      "text/html": [
       "<div>\n",
       "<style scoped>\n",
       "    .dataframe tbody tr th:only-of-type {\n",
       "        vertical-align: middle;\n",
       "    }\n",
       "\n",
       "    .dataframe tbody tr th {\n",
       "        vertical-align: top;\n",
       "    }\n",
       "\n",
       "    .dataframe thead th {\n",
       "        text-align: right;\n",
       "    }\n",
       "</style>\n",
       "<table border=\"1\" class=\"dataframe\">\n",
       "  <thead>\n",
       "    <tr style=\"text-align: right;\">\n",
       "      <th></th>\n",
       "      <th>Unnamed: 0</th>\n",
       "      <th>0</th>\n",
       "      <th>1</th>\n",
       "      <th>2</th>\n",
       "      <th>3</th>\n",
       "      <th>4</th>\n",
       "      <th>Dominant_Topic_NMF</th>\n",
       "    </tr>\n",
       "  </thead>\n",
       "  <tbody>\n",
       "    <tr>\n",
       "      <th>0</th>\n",
       "      <td>2002-03-1-MajAustr-1-67-61.txt</td>\n",
       "      <td>0.734406</td>\n",
       "      <td>0.031050</td>\n",
       "      <td>0.052941</td>\n",
       "      <td>0.121928</td>\n",
       "      <td>0.059674</td>\n",
       "      <td>0</td>\n",
       "    </tr>\n",
       "    <tr>\n",
       "      <th>1</th>\n",
       "      <td>2018-01-24-MajAustr-1-67-2.txt</td>\n",
       "      <td>0.627873</td>\n",
       "      <td>0.004257</td>\n",
       "      <td>0.183715</td>\n",
       "      <td>0.125618</td>\n",
       "      <td>0.058536</td>\n",
       "      <td>0</td>\n",
       "    </tr>\n",
       "    <tr>\n",
       "      <th>2</th>\n",
       "      <td>2017-11-22-Independent-1-9-4.txt</td>\n",
       "      <td>0.944391</td>\n",
       "      <td>0.000000</td>\n",
       "      <td>0.000000</td>\n",
       "      <td>0.055609</td>\n",
       "      <td>0.000000</td>\n",
       "      <td>0</td>\n",
       "    </tr>\n",
       "    <tr>\n",
       "      <th>3</th>\n",
       "      <td>2017-09-27-Times-1-9-4.txt</td>\n",
       "      <td>0.874172</td>\n",
       "      <td>0.000000</td>\n",
       "      <td>0.125828</td>\n",
       "      <td>0.000000</td>\n",
       "      <td>0.000000</td>\n",
       "      <td>0</td>\n",
       "    </tr>\n",
       "    <tr>\n",
       "      <th>4</th>\n",
       "      <td>2016-08-7-MajAustr-1-67-26.txt</td>\n",
       "      <td>0.374457</td>\n",
       "      <td>0.008095</td>\n",
       "      <td>0.232753</td>\n",
       "      <td>0.181643</td>\n",
       "      <td>0.203052</td>\n",
       "      <td>0</td>\n",
       "    </tr>\n",
       "  </tbody>\n",
       "</table>\n",
       "</div>"
      ],
      "text/plain": [
       "                         Unnamed: 0         0         1         2         3  \\\n",
       "0    2002-03-1-MajAustr-1-67-61.txt  0.734406  0.031050  0.052941  0.121928   \n",
       "1    2018-01-24-MajAustr-1-67-2.txt  0.627873  0.004257  0.183715  0.125618   \n",
       "2  2017-11-22-Independent-1-9-4.txt  0.944391  0.000000  0.000000  0.055609   \n",
       "3        2017-09-27-Times-1-9-4.txt  0.874172  0.000000  0.125828  0.000000   \n",
       "4    2016-08-7-MajAustr-1-67-26.txt  0.374457  0.008095  0.232753  0.181643   \n",
       "\n",
       "          4  Dominant_Topic_NMF  \n",
       "0  0.059674                   0  \n",
       "1  0.058536                   0  \n",
       "2  0.000000                   0  \n",
       "3  0.000000                   0  \n",
       "4  0.203052                   0  "
      ]
     },
     "execution_count": 3,
     "metadata": {},
     "output_type": "execute_result"
    }
   ],
   "source": [
    "import matplotlib.pyplot as plt\n",
    "import matplotlib.patches as mpatches\n",
    "import seaborn as sns\n",
    "import numpy as np\n",
    "import pandas as pd\n",
    "import csv\n",
    "%matplotlib inline\n",
    "plt.rcParams['figure.figsize'] = [12, 8]\n",
    "\n",
    "df_eng = pd.read_csv('Dominant_Topics_ENG_2.csv')\n",
    "df_eng.head()"
   ]
  },
  {
   "cell_type": "markdown",
   "metadata": {},
   "source": [
    "We want to do some operation to make our table more explicite: \n",
    "\n",
    "  - first, rename the columns to reflect their content\n",
    "  - second, get rid of 'Dominant_Topic_NMF that we don't need here\n",
    "  - third, create a year column 'Year', a column 'Newspaper'\n",
    "  - fourth, take from the file title of articles in the column Year only the first fourth letters (the years only), and make it a number (integer type)\n",
    "  - fifth, take from the file title of articles in the column Newspaper only the letters from position 11 to 14 (the acronym of newspapers only)\n",
    "  - sixth, sort the dataframe by year and print a head of it"
   ]
  },
  {
   "cell_type": "code",
   "execution_count": 4,
   "metadata": {},
   "outputs": [
    {
     "data": {
      "text/html": [
       "<div>\n",
       "<style scoped>\n",
       "    .dataframe tbody tr th:only-of-type {\n",
       "        vertical-align: middle;\n",
       "    }\n",
       "\n",
       "    .dataframe tbody tr th {\n",
       "        vertical-align: top;\n",
       "    }\n",
       "\n",
       "    .dataframe thead th {\n",
       "        text-align: right;\n",
       "    }\n",
       "</style>\n",
       "<table border=\"1\" class=\"dataframe\">\n",
       "  <thead>\n",
       "    <tr style=\"text-align: right;\">\n",
       "      <th></th>\n",
       "      <th>Articles</th>\n",
       "      <th>Topic_0</th>\n",
       "      <th>Topic_1</th>\n",
       "      <th>Topic_2</th>\n",
       "      <th>Topic_3</th>\n",
       "      <th>Topic_4</th>\n",
       "      <th>Year</th>\n",
       "      <th>Newspaper</th>\n",
       "    </tr>\n",
       "  </thead>\n",
       "  <tbody>\n",
       "    <tr>\n",
       "      <th>0</th>\n",
       "      <td>2002-03-1-MajAustr-1-67-61.txt</td>\n",
       "      <td>0.734406</td>\n",
       "      <td>0.031050</td>\n",
       "      <td>0.052941</td>\n",
       "      <td>0.121928</td>\n",
       "      <td>0.059674</td>\n",
       "      <td>2002</td>\n",
       "      <td>ajA</td>\n",
       "    </tr>\n",
       "    <tr>\n",
       "      <th>76</th>\n",
       "      <td>2003-07-01-NYTimes-1-7-4.txt</td>\n",
       "      <td>0.759704</td>\n",
       "      <td>0.001919</td>\n",
       "      <td>0.067554</td>\n",
       "      <td>0.170823</td>\n",
       "      <td>0.000000</td>\n",
       "      <td>2003</td>\n",
       "      <td>NYT</td>\n",
       "    </tr>\n",
       "    <tr>\n",
       "      <th>75</th>\n",
       "      <td>2004-03-15-MajAustr-1-67-30.txt</td>\n",
       "      <td>0.749237</td>\n",
       "      <td>0.000306</td>\n",
       "      <td>0.125060</td>\n",
       "      <td>0.091593</td>\n",
       "      <td>0.033804</td>\n",
       "      <td>2004</td>\n",
       "      <td>Maj</td>\n",
       "    </tr>\n",
       "    <tr>\n",
       "      <th>74</th>\n",
       "      <td>2004-10-11-TorontoS-1-5-3.txt</td>\n",
       "      <td>0.652717</td>\n",
       "      <td>0.105692</td>\n",
       "      <td>0.149433</td>\n",
       "      <td>0.092158</td>\n",
       "      <td>0.000000</td>\n",
       "      <td>2004</td>\n",
       "      <td>Tor</td>\n",
       "    </tr>\n",
       "    <tr>\n",
       "      <th>73</th>\n",
       "      <td>2004-12-22-Independent-1-9-5.txt</td>\n",
       "      <td>0.344901</td>\n",
       "      <td>0.118249</td>\n",
       "      <td>0.104265</td>\n",
       "      <td>0.128737</td>\n",
       "      <td>0.303847</td>\n",
       "      <td>2004</td>\n",
       "      <td>Ind</td>\n",
       "    </tr>\n",
       "  </tbody>\n",
       "</table>\n",
       "</div>"
      ],
      "text/plain": [
       "                            Articles   Topic_0   Topic_1   Topic_2   Topic_3  \\\n",
       "0     2002-03-1-MajAustr-1-67-61.txt  0.734406  0.031050  0.052941  0.121928   \n",
       "76      2003-07-01-NYTimes-1-7-4.txt  0.759704  0.001919  0.067554  0.170823   \n",
       "75   2004-03-15-MajAustr-1-67-30.txt  0.749237  0.000306  0.125060  0.091593   \n",
       "74     2004-10-11-TorontoS-1-5-3.txt  0.652717  0.105692  0.149433  0.092158   \n",
       "73  2004-12-22-Independent-1-9-5.txt  0.344901  0.118249  0.104265  0.128737   \n",
       "\n",
       "     Topic_4  Year Newspaper  \n",
       "0   0.059674  2002       ajA  \n",
       "76  0.000000  2003       NYT  \n",
       "75  0.033804  2004       Maj  \n",
       "74  0.000000  2004       Tor  \n",
       "73  0.303847  2004       Ind  "
      ]
     },
     "execution_count": 4,
     "metadata": {},
     "output_type": "execute_result"
    }
   ],
   "source": [
    "# First step\n",
    "df_eng.rename(columns={ df_eng.columns[0]: \"Articles\" }, inplace = True)\n",
    "df_eng.rename(columns={ df_eng.columns[1]: \"Topic_0\" }, inplace = True)\n",
    "df_eng.rename(columns={ df_eng.columns[2]: \"Topic_1\" }, inplace = True)\n",
    "df_eng.rename(columns={ df_eng.columns[3]: \"Topic_2\" }, inplace = True)\n",
    "df_eng.rename(columns={ df_eng.columns[4]: \"Topic_3\" }, inplace = True)\n",
    "df_eng.rename(columns={ df_eng.columns[5]: \"Topic_4\" }, inplace = True)\n",
    "# Second step\n",
    "df_eng.drop('Dominant_Topic_NMF', axis=1, inplace=True)\n",
    "# Third step\n",
    "df_eng['Year'] = df_eng['Articles']\n",
    "df_eng['Newspaper'] = df_eng['Articles']\n",
    "# Fourth step\n",
    "df_eng['Year']= df_eng['Year'].map(lambda x: str(x)[0:4])\n",
    "df_eng['Year'].astype(int)\n",
    "# Fifth step\n",
    "df_eng['Newspaper']= df_eng['Newspaper'].map(lambda x: str(x)[11:14])\n",
    "# Sixth step\n",
    "df_eng2 = df_eng.sort_values(by='Year',ascending=True)\n",
    "# Display our reworked table\n",
    "df_eng2.head()"
   ]
  },
  {
   "cell_type": "markdown",
   "metadata": {},
   "source": [
    "## The plot\n",
    "\n",
    "Now, let us make a buble chart for that dataframe. A bubble chart is basically a scatter plot where we are ploting the topics on the y axis and the years on the x axis. Because we have five topics, we have to define five element in the plot to print together the five topic on the same plot. Using matplotlib for that task, we can do it like this: "
   ]
  },
  {
   "cell_type": "code",
   "execution_count": 5,
   "metadata": {},
   "outputs": [
    {
     "data": {
      "text/plain": [
       "([0, 1, 2, 3, 4, 5, 6, 7, 8, 9, 10, 11, 12, 13, 14, 15, 16, 17, 18, 19],\n",
       " [Text(0, 0, ''),\n",
       "  Text(0, 0, ''),\n",
       "  Text(0, 0, ''),\n",
       "  Text(0, 0, ''),\n",
       "  Text(0, 0, ''),\n",
       "  Text(0, 0, ''),\n",
       "  Text(0, 0, ''),\n",
       "  Text(0, 0, ''),\n",
       "  Text(0, 0, ''),\n",
       "  Text(0, 0, ''),\n",
       "  Text(0, 0, ''),\n",
       "  Text(0, 0, ''),\n",
       "  Text(0, 0, ''),\n",
       "  Text(0, 0, ''),\n",
       "  Text(0, 0, ''),\n",
       "  Text(0, 0, ''),\n",
       "  Text(0, 0, ''),\n",
       "  Text(0, 0, ''),\n",
       "  Text(0, 0, ''),\n",
       "  Text(0, 0, '')])"
      ]
     },
     "execution_count": 5,
     "metadata": {},
     "output_type": "execute_result"
    },
    {
     "data": {
      "image/png": "[encoded data removed]",
      "text/plain": [
       "<Figure size 864x576 with 1 Axes>"
      ]
     },
     "metadata": {
      "needs_background": "light"
     },
     "output_type": "display_data"
    }
   ],
   "source": [
    "# Define the results corresponding to each topic\n",
    "\n",
    "ax1 = df_eng2.plot(kind='scatter', x=\"Year\", y=\"Topic_0\", s=df_eng2[\"Topic_0\"] * 400, colormap='Greens', c=\"Topic_0\", colorbar=False, alpha=0.5, label=\"Topic_0\")\n",
    "ax2 = df_eng2.plot(kind='scatter', x=\"Year\", y=\"Topic_1\", s=df_eng2[\"Topic_1\"] * 400, colormap='Blues', c=\"Topic_1\", colorbar=False, alpha=0.5, ax=ax1, label=\"Topic_1\")\n",
    "ax3 = df_eng2.plot(kind='scatter', x=\"Year\", y=\"Topic_2\", s=df_eng2[\"Topic_2\"] * 400, colormap='Reds', c=\"Topic_2\", colorbar=False, alpha=0.5, ax=ax1, label=\"Topic_2\")\n",
    "ax4 = df_eng2.plot(kind='scatter', x=\"Year\", y=\"Topic_3\", s=df_eng2[\"Topic_3\"] * 400, colormap='Oranges', c=\"Topic_3\", colorbar=False, alpha=0.5, label='Topic_3', ax=ax1)\n",
    "ax5 = df_eng2.plot(kind='scatter', x=\"Year\", y=\"Topic_4\", s=df_eng2[\"Topic_4\"] * 400, colormap='Purples', c=\"Topic_4\", colorbar=False, alpha=0.5, label='Topic_4', ax=ax1)\n",
    "\n",
    "# Note that ax2 to ax5 depend on ax1 which insure that we are ploting our five axes -- our five topics -- in reference to ax1, and therefore on the same plot\n",
    "\n",
    "# Now let us add labels for the axis, different colors for each of the topics, as well as a legend with the name of the topics and their corresponding color:\n",
    "\n",
    "plt.ylabel('Topics english newspapers')\n",
    "plt.xlabel('Years')\n",
    "\n",
    "# Our colours identifying the topics are customized like this -- note: alpha is the level of transparency\n",
    "\n",
    "green_patch = mpatches.Patch(color='darkolivegreen', alpha=0.8, label='ENG_Topic_0')\n",
    "blue_patch = mpatches.Patch(color='steelblue', alpha=0.8, label='ENG_Topic_1')\n",
    "red_patch = mpatches.Patch(color='darkred', alpha=0.5, label='ENG_Topic_2')\n",
    "orange_patch = mpatches.Patch(color='darkgoldenrod', alpha=0.8, label='ENG_Topic_3')\n",
    "purple_patch = mpatches.Patch(color='purple', alpha=0.5, label='ENG_Topic_4')\n",
    "\n",
    "# Add a legend to this plot and make the y ticks stay as they are, whereas the x ticks will be turn on 45°\n",
    "\n",
    "ax1.legend(handles=[green_patch, blue_patch, red_patch, orange_patch, purple_patch], loc=2, prop={'size':12}, bbox_to_anchor=(1,1),ncol=1)\n",
    "plt.yticks(rotation=0) \n",
    "plt.xticks(rotation=45, ha=\"right\") "
   ]
  },
  {
   "cell_type": "markdown",
   "metadata": {},
   "source": [
    "This is -- in my view -- a nice plot, and all in all we can be happy with our result. More important bubbles are on the top of the plot, darker and bigger than less important bubbles descending to the bottom of the plot. This gives a nice overview of the importance of our topics and the weight of the articles in the topics, where we can see that our Topic_0 is the most important one. \n",
    "\n",
    "Now, let us create widgets to turn our results into interactive results. In order to do that, we need to import the following packages: IPython to display the widgets, ipywidgets to design the widgets, plotly to plot the results with built-in interactive controls, cufflinks to change the style of our plot."
   ]
  },
  {
   "cell_type": "code",
   "execution_count": 6,
   "metadata": {
    "tags": []
   },
   "outputs": [
    {
     "data": {
      "text/html": [
       "        <script type=\"text/javascript\">\n",
       "        window.PlotlyConfig = {MathJaxConfig: 'local'};\n",
       "        if (window.MathJax) {MathJax.Hub.Config({SVG: {font: \"STIX-Web\"}});}\n",
       "        if (typeof require !== 'undefined') {\n",
       "        require.undef(\"plotly\");\n",
       "        requirejs.config({\n",
       "            paths: {\n",
       "                'plotly': ['https://cdn.plot.ly/plotly-2.8.3.min']\n",
       "            }\n",
       "        });\n",
       "        require(['plotly'], function(Plotly) {\n",
       "            window._Plotly = Plotly;\n",
       "        });\n",
       "        }\n",
       "        </script>\n",
       "        "
      ]
     },
     "metadata": {},
     "output_type": "display_data"
    },
    {
     "data": {
      "text/html": [
       "        <script type=\"text/javascript\">\n",
       "        window.PlotlyConfig = {MathJaxConfig: 'local'};\n",
       "        if (window.MathJax) {MathJax.Hub.Config({SVG: {font: \"STIX-Web\"}});}\n",
       "        if (typeof require !== 'undefined') {\n",
       "        require.undef(\"plotly\");\n",
       "        requirejs.config({\n",
       "            paths: {\n",
       "                'plotly': ['https://cdn.plot.ly/plotly-2.8.3.min']\n",
       "            }\n",
       "        });\n",
       "        require(['plotly'], function(Plotly) {\n",
       "            window._Plotly = Plotly;\n",
       "        });\n",
       "        }\n",
       "        </script>\n",
       "        "
      ]
     },
     "metadata": {},
     "output_type": "display_data"
    }
   ],
   "source": [
    "from IPython.display import display, clear_output\n",
    "import ipywidgets as widgets \n",
    "from ipywidgets import interact, Layout, interactive, fixed, interact_manual, IntSlider\n",
    "\n",
    "import chart_studio.plotly as py\n",
    "import plotly.graph_objs as go\n",
    "from plotly.offline import iplot, init_notebook_mode\n",
    "init_notebook_mode(connected=True)\n",
    "\n",
    "import cufflinks as cf\n",
    "cf.go_offline(connected=True)\n",
    "cf.set_config_file(colorscale='plotly', world_readable=True)\n",
    "\n",
    "# Extra options\n",
    "pd.options.display.max_rows = 30\n",
    "pd.options.display.max_columns = 25"
   ]
  },
  {
   "cell_type": "markdown",
   "metadata": {},
   "source": [
    "## Interactive table\n",
    "\n",
    "One of the things we might want is a widget enabling the filtering of our table with variables of this table. In our case, it could be interesting to filter our table with the value of our topics, to see what are the years related to the highest/lowest values of our topics and/or the related newspapers' categories or the newspapers' articles. Let us do such a widget with the interact decorator (@interact), which implicitly call the funtion show_articles and is a simple and efficient way to build a widget alongside the following steps: \n",
    "\n",
    "  - write the interact decorator\n",
    "  - define your function with following parameters:\n",
    "    - 'column' which is a list of the topic variables\n",
    "    - the values of the topic variables in the table, going from 0 to 1\n",
    "    - a value defining the transition between the values of the topic -- here, we define a transition at 5%\n",
    "\n",
    "This function return the lines of our table based on the selected topic and a give value of this topic between 0 and 1, as below. "
   ]
  },
  {
   "cell_type": "code",
   "execution_count": 7,
   "metadata": {
    "tags": []
   },
   "outputs": [
    {
     "data": {
      "application/vnd.jupyter.widget-view+json": {
       "model_id": "f8f0626cedd64abb8086ee5ef5d1c1c7",
       "version_major": 2,
       "version_minor": 0
      },
      "text/plain": [
       "interactive(children=(Dropdown(description='column', options=('Topic_0', 'Topic_1', 'Topic_2', 'Topic_3', 'Top…"
      ]
     },
     "metadata": {},
     "output_type": "display_data"
    }
   ],
   "source": [
    "# Widget to filter table by topic value\n",
    "\n",
    "@interact\n",
    "def show_articles(column=['Topic_0', 'Topic_1', 'Topic_2', 'Topic_3', 'Topic_4'], value=(0, 1, 0.05)):\n",
    "    return df_eng.loc[df_eng[column] > value]"
   ]
  },
  {
   "cell_type": "markdown",
   "metadata": {},
   "source": [
    "## Sort table with more variables\n",
    "\n",
    "We can also sort our table with more variables than the topic variables only. For this example, we want to sorte the table by our topics, and also we want to sort it by the year. One way to do it is to display two tables with the same interact decorator:"
   ]
  },
  {
   "cell_type": "code",
   "execution_count": 8,
   "metadata": {},
   "outputs": [
    {
     "data": {
      "application/vnd.jupyter.widget-view+json": {
       "model_id": "7d7b6383dd4b4ea4bb13b840b7be3752",
       "version_major": 2,
       "version_minor": 0
      },
      "text/plain": [
       "interactive(children=(Dropdown(description='topics', options=('Topic_0', 'Topic_1', 'Topic_2', 'Topic_3', 'Top…"
      ]
     },
     "metadata": {},
     "output_type": "display_data"
    }
   ],
   "source": [
    "# Widget to filter table by topic value and years\n",
    "\n",
    "# First transform the years in the column Year to numbers\n",
    "\n",
    "df_eng[\"Year\"] = df_eng[\"Year\"].astype(int)\n",
    "\n",
    "# Then output \n",
    "\n",
    "@interact\n",
    "def filter_topics(topics=['Topic_0', 'Topic_1', 'Topic_2', 'Topic_3', 'Topic_4'], value=(0, 1, 0.05),\n",
    "                 year=df_eng[\"Year\"].unique()):\n",
    "    return df_eng.loc[df_eng[topics] > value], df_eng[df_eng.Year==year]"
   ]
  },
  {
   "cell_type": "markdown",
   "metadata": {},
   "source": [
    "The output of this interact decorator is too verbose. Thus, let us make two decorators out of it, and as we are on this, let us create a third decorator to filter our table by newspapers' categories:"
   ]
  },
  {
   "cell_type": "code",
   "execution_count": 9,
   "metadata": {},
   "outputs": [
    {
     "data": {
      "application/vnd.jupyter.widget-view+json": {
       "model_id": "044abea2b8394992bd5c063abdc9cfad",
       "version_major": 2,
       "version_minor": 0
      },
      "text/plain": [
       "interactive(children=(Dropdown(description='topics', options=('Topic_0', 'Topic_1', 'Topic_2', 'Topic_3', 'Top…"
      ]
     },
     "metadata": {},
     "output_type": "display_data"
    },
    {
     "data": {
      "application/vnd.jupyter.widget-view+json": {
       "model_id": "2e8108db3efc41c98cf9f49c637e6303",
       "version_major": 2,
       "version_minor": 0
      },
      "text/plain": [
       "interactive(children=(Dropdown(description='year', options=(2002, 2018, 2017, 2016, 2015, 2014, 2021, 2020, 20…"
      ]
     },
     "metadata": {},
     "output_type": "display_data"
    },
    {
     "data": {
      "application/vnd.jupyter.widget-view+json": {
       "model_id": "94b71e4bfe8446af83528caaffacb757",
       "version_major": 2,
       "version_minor": 0
      },
      "text/plain": [
       "interactive(children=(Dropdown(description='news', options=('ajA', 'Maj', 'Ind', 'Tim', 'NYT', 'ail', 'Dai', '…"
      ]
     },
     "metadata": {},
     "output_type": "display_data"
    }
   ],
   "source": [
    "@interact\n",
    "def filter_topics(topics=df_eng.select_dtypes('number').columns[0:5], value=(0, 1, 0.05)):\n",
    "    return df_eng.loc[df_eng[topics] > value]\n",
    "\n",
    "@interact\n",
    "def filter_years(year=df_eng[\"Year\"].unique()):\n",
    "    return df_eng[df_eng.Year==year]\n",
    "\n",
    "@interact\n",
    "def filter_newspaper(news=df_eng[\"Newspaper\"].unique()):\n",
    "    return df_eng[df_eng.Newspaper==news]"
   ]
  },
  {
   "cell_type": "markdown",
   "metadata": {},
   "source": [
    "We have much pleasant tables, that we can arrange afterwards on a dashboard in order to let others play with the table. We also have the possibility to combine the outputs in one single table with f.ex. here to dropdown boxes for topics and years. Remember, however, that combining widgets is a complicated task and for the presentation of table, such a complexity is not always necessary."
   ]
  },
  {
   "cell_type": "code",
   "execution_count": 10,
   "metadata": {},
   "outputs": [
    {
     "data": {
      "application/vnd.jupyter.widget-view+json": {
       "model_id": "73f1691c2d46499da9cd4535f3dde1ab",
       "version_major": 2,
       "version_minor": 0
      },
      "text/plain": [
       "interactive(children=(Dropdown(description='topics', options=('Topic_0', 'Topic_1', 'Topic_2', 'Topic_3', 'Top…"
      ]
     },
     "metadata": {},
     "output_type": "display_data"
    }
   ],
   "source": [
    "@interact\n",
    "def filter_topicsyear(topics=['Topic_0', 'Topic_1', 'Topic_2', 'Topic_3', 'Topic_4'], value=(df_eng[\"Year\"].unique()),\n",
    "                 ):\n",
    "    return df_eng[df_eng.Year==value]"
   ]
  },
  {
   "cell_type": "markdown",
   "metadata": {},
   "source": [
    "## Widgets for plots\n",
    "\n",
    "Widgets for plots are useful in order to give an interctive view of your plotted results. Let us take a first example of a multiselection widget which enables us to select multiple topics to compare their distribution over time in plot displayed with matplotlib:"
   ]
  },
  {
   "cell_type": "code",
   "execution_count": 11,
   "metadata": {},
   "outputs": [
    {
     "data": {
      "application/vnd.jupyter.widget-view+json": {
       "model_id": "97f1c2ce46674024be6f2687d199bd0d",
       "version_major": 2,
       "version_minor": 0
      },
      "text/plain": [
       "interactive(children=(SelectMultiple(description='Variables', index=(1,), options=('Topic_0', 'Topic_1', 'Topi…"
      ]
     },
     "metadata": {},
     "output_type": "display_data"
    }
   ],
   "source": [
    "# Widget to compare topic distribution over time\n",
    "opts = list(df_eng2[[\"Topic_0\", \"Topic_1\", \"Topic_2\", \"Topic_3\", \"Topic_4\"]])\n",
    "\n",
    "sel_mult = widgets.SelectMultiple(description=\"Variables\",options=opts,value=[opts[1]],disabled=False)\n",
    "\n",
    "@interact(variables=sel_mult)\n",
    "def plot_multiple(variables):\n",
    "    df_eng3 = df_eng.set_index(\"Year\").sort_index(axis=0)\n",
    "    df_eng3[list(variables)].plot(style=\".\", ms=20, alpha=0.5)\n",
    "    plt.title(\"Topics in time\")\n",
    "    plt.xlabel(\"Years\")\n",
    "    plt.ylabel(\"Topics' weight\")\n",
    "    plt.legend(loc=2, prop={'size':12}, bbox_to_anchor=(1,1),ncol=1)"
   ]
  },
  {
   "cell_type": "markdown",
   "metadata": {},
   "source": [
    "You see a usual scatter plot enabling to compare several topic distribution from 2002 until 2021. You can achieve a similar result with plotly, which has the advantage to display its own widgets and deliver even more informations -- note, we display also two widget in order to choose the layout that you want for your plot (color of background and dots)."
   ]
  },
  {
   "cell_type": "code",
   "execution_count": 12,
   "metadata": {},
   "outputs": [
    {
     "name": "stdout",
     "output_type": "stream",
     "text": [
      "['Topic_0', 'Topic_1', 'Topic_2', 'Topic_3', 'Topic_4', 'Year']\n"
     ]
    },
    {
     "data": {
      "application/vnd.jupyter.widget-view+json": {
       "model_id": "cee817702164402daacee82d43b63454",
       "version_major": 2,
       "version_minor": 0
      },
      "text/plain": [
       "interactive(children=(Dropdown(description='year', options=('Year',), value='Year'), Dropdown(description='y',…"
      ]
     },
     "metadata": {},
     "output_type": "display_data"
    }
   ],
   "source": [
    "# Widgets to see topic distribution over time and changes styles\n",
    "\n",
    "df_eng2[\"Year\"] = df_eng2[\"Year\"].astype(int)\n",
    "# find index of 'Year' for x axis\n",
    "year_index = list(df_eng2.select_dtypes('number').columns)\n",
    "print(year_index)\n",
    "\n",
    "@interact\n",
    "# with year only -- don't output errors if same columns in x and y boxes\n",
    "def scatter_plot(year=list(df_eng2.select_dtypes('number').columns[5:]), \n",
    "                 y=list(df_eng2.select_dtypes('number').columns[0:4]),\n",
    "                 theme=list(cf.themes.THEMES.keys()), \n",
    "                 colorscale=list(cf.colors._scales_names.keys())):\n",
    "   \n",
    "    df_eng2.iplot(kind='scatter', x=year, y=y, mode='markers', opacity=0.75,\n",
    "             xTitle=year.title(), yTitle=y.title(), \n",
    "             title=f'{y.title()} on {year.title()}',\n",
    "             theme=theme, colorscale=colorscale)"
   ]
  },
  {
   "cell_type": "markdown",
   "metadata": {},
   "source": [
    "Finally, we introduce a plot crossing the topics distribution over time, as well as the newspapers' categories in our dataset. With the plotly widget, you can then select/deselect the newspapers' categories per mouse clic in order to see their contribution to one topic and to the distribution of this topic in time."
   ]
  },
  {
   "cell_type": "code",
   "execution_count": 13,
   "metadata": {},
   "outputs": [
    {
     "name": "stdout",
     "output_type": "stream",
     "text": [
      "['ajA' 'NYT' 'Maj' 'Tor' 'Ind' 'Tim' 'Dai' 'Gua' 'Bus' 'ail' 'CDa']\n"
     ]
    },
    {
     "data": {
      "application/vnd.jupyter.widget-view+json": {
       "model_id": "e0cee61ebca94be2b1b21a28cffbddc0",
       "version_major": 2,
       "version_minor": 0
      },
      "text/plain": [
       "interactive(children=(Dropdown(description='x', options=('Year',), value='Year'), Dropdown(description='y', op…"
      ]
     },
     "metadata": {},
     "output_type": "display_data"
    }
   ],
   "source": [
    "# Widget to filter the topics distribution over time by newspapers' categories\n",
    "import plotly.express as px\n",
    "print(df_eng2[\"Newspaper\"].unique())\n",
    "# Define color discrete map for the newspapers' categories (hex code for colors)\n",
    "color_discrete_map = {'ajA': '#002b36', 'NYT': '#586e75', 'Maj': '#657b83', 'Tor': '#839496', 'Ind': '#93a1a1', 'Tim': '#fdf6e3', 'Dai': '#b58900', 'Gua': '#cb4b16', 'Bus': '#d30102', 'ail': '#d33682', 'CDa': '#268bd2'}\n",
    "\n",
    "@interact\n",
    "# with year only\n",
    "def scatter_plot(x=list(df_eng2.select_dtypes('number').columns[5:]), \n",
    "                 y=list(df_eng2.select_dtypes('number').columns[0:4])):\n",
    "                #theme=list(cf.themes.THEMES.keys()), \n",
    "                 #colorscale=list(cf.colors._scales_names.keys())):\n",
    "\n",
    "# with all integer categories in 'x' and 'y'\n",
    "#def scatter_plot(x=list(df_eng2.select_dtypes('number').columns), \n",
    "#                 y=list(df_eng2.select_dtypes('number').columns),\n",
    "#                 theme=list(cf.themes.THEMES.keys()), \n",
    "#                 colorscale=list(cf.colors._scales_names.keys())):\n",
    "    \n",
    "    \n",
    "    fig=px.scatter(df_eng2, x=x, y=y, color=\"Newspaper\", \n",
    "             opacity=0.5,\n",
    "             #trendline=\"rolling\",\n",
    "             #trendline_options=dict(window=2),\n",
    "             color_discrete_map=color_discrete_map)\n",
    "    fig.update_traces(marker=dict(size=15))\n",
    "    fig.show()"
   ]
  },
  {
   "cell_type": "code",
   "execution_count": null,
   "metadata": {},
   "outputs": [],
   "source": []
  }
 ],
 "metadata": {
  "kernelspec": {
   "display_name": "Python 3",
   "language": "python",
   "name": "python3"
  },
  "language_info": {
   "codemirror_mode": {
    "name": "ipython",
    "version": 3
   },
   "file_extension": ".py",
   "mimetype": "text/x-python",
   "name": "python",
   "nbconvert_exporter": "python",
   "pygments_lexer": "ipython3",
   "version": "3.6.9"
  },
  "widgets": {
   "application/vnd.jupyter.widget-state+json": {
    "state": {
     "0090ce9f4ac841edb295371da8c44aa8": {
      "model_module": "@jupyter-widgets/base",
      "model_module_version": "1.2.0",
      "model_name": "LayoutModel",
      "state": {}
     },
     "03a63ab9fbfe47a2a0f36554265b9f2b": {
      "model_module": "@jupyter-widgets/controls",
      "model_module_version": "1.5.0",
      "model_name": "DropdownModel",
      "state": {
       "_options_labels": [
        "Year"
       ],
       "description": "x",
       "index": 0,
       "layout": "IPY_MODEL_ba43aa0873ae4b85947208a68aac28b9",
       "style": "IPY_MODEL_81cb7d56a7d248a591b3d78d51d7b51f"
      }
     },
     "044abea2b8394992bd5c063abdc9cfad": {
      "model_module": "@jupyter-widgets/controls",
      "model_module_version": "1.5.0",
      "model_name": "VBoxModel",
      "state": {
       "_dom_classes": [
        "widget-interact"
       ],
       "children": [
        "IPY_MODEL_b18b0aee097c42f980973a0159b24e15",
        "IPY_MODEL_c250ef3610a24f1483ab91d154296d39",
        "IPY_MODEL_a3a97e2350de4ac1a535b5f3bd491835"
       ],
       "layout": "IPY_MODEL_99e2e21be76f477391ce9120f26a83cc"
      }
     },
     "0c24a19b4d2c4615916ba3a4c9a7f5ad": {
      "model_module": "@jupyter-widgets/base",
      "model_module_version": "1.2.0",
      "model_name": "LayoutModel",
      "state": {}
     },
     "0eb5f42b50794bfd930d49d55608b59c": {
      "model_module": "@jupyter-widgets/base",
      "model_module_version": "1.2.0",
      "model_name": "LayoutModel",
      "state": {}
     },
     "10b98380623b4885859b0557b6f40cab": {
      "model_module": "@jupyter-widgets/output",
      "model_module_version": "1.0.0",
      "model_name": "OutputModel",
      "state": {
       "layout": "IPY_MODEL_a926c8f7bef34fb584bc47f16e6b3477",
       "outputs": [
        {
         "data": {
          "text/html": "<div>\n<style scoped>\n    .dataframe tbody tr th:only-of-type {\n        vertical-align: middle;\n    }\n\n    .dataframe tbody tr th {\n        vertical-align: top;\n    }\n\n    .dataframe thead th {\n        text-align: right;\n    }\n</style>\n<table border=\"1\" class=\"dataframe\">\n  <thead>\n    <tr style=\"text-align: right;\">\n      <th></th>\n      <th>Articles</th>\n      <th>Topic_0</th>\n      <th>Topic_1</th>\n      <th>Topic_2</th>\n      <th>Topic_3</th>\n      <th>Topic_4</th>\n      <th>Year</th>\n      <th>Newspaper</th>\n    </tr>\n  </thead>\n  <tbody>\n    <tr>\n      <th>0</th>\n      <td>2002-03-1-MajAustr-1-67-61.txt</td>\n      <td>0.734406</td>\n      <td>0.03105</td>\n      <td>0.052941</td>\n      <td>0.121928</td>\n      <td>0.059674</td>\n      <td>2002</td>\n      <td>ajA</td>\n    </tr>\n  </tbody>\n</table>\n</div>",
          "text/plain": "                         Articles   Topic_0  Topic_1   Topic_2   Topic_3  \\\n0  2002-03-1-MajAustr-1-67-61.txt  0.734406  0.03105  0.052941  0.121928   \n\n    Topic_4  Year Newspaper  \n0  0.059674  2002       ajA  "
         },
         "metadata": {},
         "output_type": "display_data"
        }
       ]
      }
     },
     "11904ab23aa74db1acf6fcc3613b6a0b": {
      "model_module": "@jupyter-widgets/base",
      "model_module_version": "1.2.0",
      "model_name": "LayoutModel",
      "state": {}
     },
     "124e36b9a9194391aaec39d703e01ab5": {
      "model_module": "@jupyter-widgets/controls",
      "model_module_version": "1.5.0",
      "model_name": "DropdownModel",
      "state": {
       "_options_labels": [
        "Topic_0",
        "Topic_1",
        "Topic_2",
        "Topic_3",
        "Topic_4"
       ],
       "description": "topics",
       "index": 0,
       "layout": "IPY_MODEL_16d5cb30af8443e69f3fe4ca4c500ffe",
       "style": "IPY_MODEL_7bc9bba9fabd4bd8af478b6ec26c321c"
      }
     },
     "16d5cb30af8443e69f3fe4ca4c500ffe": {
      "model_module": "@jupyter-widgets/base",
      "model_module_version": "1.2.0",
      "model_name": "LayoutModel",
      "state": {}
     },
     "19f19dcb7bbf480c97a44a4f5ce1fe53": {
      "model_module": "@jupyter-widgets/base",
      "model_module_version": "1.2.0",
      "model_name": "LayoutModel",
      "state": {}
     },
     "2694fb2e553e4faab289d756d192db8a": {
      "model_module": "@jupyter-widgets/controls",
      "model_module_version": "1.5.0",
      "model_name": "DropdownModel",
      "state": {
       "_options_labels": [
        "2002",
        "2018",
        "2017",
        "2016",
        "2015",
        "2014",
        "2021",
        "2020",
        "2019",
        "2010",
        "2013",
        "2009",
        "2008",
        "2007",
        "2006",
        "2005",
        "2004",
        "2003",
        "2011",
        "2012"
       ],
       "description": "value",
       "index": 0,
       "layout": "IPY_MODEL_46e50598c0a84da682b6d5acee168d56",
       "style": "IPY_MODEL_a183a0dd0d0e4f929c41ce08792047ad"
      }
     },
     "27829d8993aa47ea818b2299276c1867": {
      "model_module": "@jupyter-widgets/base",
      "model_module_version": "1.2.0",
      "model_name": "LayoutModel",
      "state": {}
     },
     "28dfd2810a8c467a88f57465ef6882bf": {
      "model_module": "@jupyter-widgets/base",
      "model_module_version": "1.2.0",
      "model_name": "LayoutModel",
      "state": {}
     },
     "29b094171e434a00b12e214fc55a7db0": {
      "model_module": "@jupyter-widgets/base",
      "model_module_version": "1.2.0",
      "model_name": "LayoutModel",
      "state": {}
     },
     "2a6bbdfca95141b7a46a791579a49bcc": {
      "model_module": "@jupyter-widgets/controls",
      "model_module_version": "1.5.0",
      "model_name": "DescriptionStyleModel",
      "state": {
       "description_width": ""
      }
     },
     "2abdfc49ce93469db53558efac0cbbc5": {
      "model_module": "@jupyter-widgets/controls",
      "model_module_version": "1.5.0",
      "model_name": "DescriptionStyleModel",
      "state": {
       "description_width": ""
      }
     },
     "2b1fe0596cb44f04886845656fa9cf2f": {
      "model_module": "@jupyter-widgets/controls",
      "model_module_version": "1.5.0",
      "model_name": "DropdownModel",
      "state": {
       "_options_labels": [
        "2002",
        "2018",
        "2017",
        "2016",
        "2015",
        "2014",
        "2021",
        "2020",
        "2019",
        "2010",
        "2013",
        "2009",
        "2008",
        "2007",
        "2006",
        "2005",
        "2004",
        "2003",
        "2011",
        "2012"
       ],
       "description": "year",
       "index": 0,
       "layout": "IPY_MODEL_3cac4c010d384527936521df0a1b73af",
       "style": "IPY_MODEL_83877312e49d4aea92cab6c96bb6f2d2"
      }
     },
     "2e8108db3efc41c98cf9f49c637e6303": {
      "model_module": "@jupyter-widgets/controls",
      "model_module_version": "1.5.0",
      "model_name": "VBoxModel",
      "state": {
       "_dom_classes": [
        "widget-interact"
       ],
       "children": [
        "IPY_MODEL_6a2a42f1274446168e007e4edec99c25",
        "IPY_MODEL_f122b91a58a442fe8e834945b2415162"
       ],
       "layout": "IPY_MODEL_e4e8887d613b4765ae4911899c4d8aec"
      }
     },
     "335cbbfb58c1430ab3be5e55a1c9f8ec": {
      "model_module": "@jupyter-widgets/controls",
      "model_module_version": "1.5.0",
      "model_name": "DescriptionStyleModel",
      "state": {
       "description_width": ""
      }
     },
     "3476c449a8d14beea92df7e73cdb65a9": {
      "model_module": "@jupyter-widgets/controls",
      "model_module_version": "1.5.0",
      "model_name": "FloatSliderModel",
      "state": {
       "description": "value",
       "layout": "IPY_MODEL_8a3e9a9e59df4329bad54c8e97dbf6f3",
       "max": 1,
       "step": 0.05,
       "style": "IPY_MODEL_ff478d1ef25e4b87ad54cb7b699f1b41"
      }
     },
     "3bba7ee8b6514e15b47e5fdf68c57b63": {
      "model_module": "@jupyter-widgets/output",
      "model_module_version": "1.0.0",
      "model_name": "OutputModel",
      "state": {
       "layout": "IPY_MODEL_80772fd1c0aa4bcca34073c967f495ed",
       "outputs": [
        {
         "data": {
          "application/vnd.plotly.v1+json": {
           "config": {
            "plotlyServerURL": "https://plot.ly"
           },
           "data": [
            {
             "hovertemplate": "Newspaper=ajA<br>Year=%{x}<br>Topic_1=%{y}<extra></extra>",
             "legendgroup": "ajA",
             "marker": {
              "color": "#002b36",
              "opacity": 0.5,
              "size": 15,
              "symbol": "circle"
             },
             "mode": "markers",
             "name": "ajA",
             "orientation": "v",
             "showlegend": true,
             "type": "scatter",
             "x": [
              2002,
              2006,
              2011,
              2011,
              2011,
              2014,
              2015,
              2016,
              2016,
              2016,
              2016,
              2018,
              2019,
              2019,
              2020,
              2020,
              2020,
              2020
             ],
             "xaxis": "x",
             "y": [
              0.03105022279223588,
              0.02320809280545096,
              0,
              0,
              0,
              0.06194998157561645,
              0,
              0.3945699922355552,
              0,
              0.07510481626210924,
              0.008094935199630462,
              0,
              0,
              0.16884376452425864,
              0.15118046353868106,
              0.153521496440337,
              0,
              0
             ],
             "yaxis": "y"
            },
            {
             "hovertemplate": "Newspaper=NYT<br>Year=%{x}<br>Topic_1=%{y}<extra></extra>",
             "legendgroup": "NYT",
             "marker": {
              "color": "#586e75",
              "opacity": 0.5,
              "size": 15,
              "symbol": "circle"
             },
             "mode": "markers",
             "name": "NYT",
             "orientation": "v",
             "showlegend": true,
             "type": "scatter",
             "x": [
              2003,
              2007,
              2009,
              2013,
              2013,
              2016
             ],
             "xaxis": "x",
             "y": [
              0.0019191491553409992,
              0,
              0.009084588467123029,
              0.00529662287703621,
              1,
              0.17827524568976366
             ],
             "yaxis": "y"
            },
            {
             "hovertemplate": "Newspaper=Maj<br>Year=%{x}<br>Topic_1=%{y}<extra></extra>",
             "legendgroup": "Maj",
             "marker": {
              "color": "#657b83",
              "opacity": 0.5,
              "size": 15,
              "symbol": "circle"
             },
             "mode": "markers",
             "name": "Maj",
             "orientation": "v",
             "showlegend": true,
             "type": "scatter",
             "x": [
              2004,
              2006,
              2006,
              2007,
              2007,
              2007,
              2007,
              2007,
              2007,
              2008,
              2008,
              2008,
              2010,
              2010,
              2010,
              2011,
              2011,
              2011,
              2011,
              2012,
              2012,
              2013,
              2014,
              2015,
              2015,
              2015,
              2015,
              2016,
              2016,
              2018,
              2018,
              2018,
              2018,
              2018,
              2018,
              2019,
              2019,
              2019,
              2020,
              2020,
              2020,
              2020,
              2020,
              2020,
              2020,
              2020,
              2020,
              2020,
              2020
             ],
             "xaxis": "x",
             "y": [
              0.00030562822033936097,
              0,
              0,
              0,
              0.4087312424393585,
              0,
              0,
              0.03991487343722898,
              0.3581144360442721,
              0,
              0.2303136282317632,
              0.5697837495123684,
              0.021923304441641804,
              0.11066738841967057,
              0,
              0,
              0,
              0.34724623672664584,
              0,
              0.00594061613293449,
              0,
              0.011357673463211615,
              0.4087312424393585,
              1,
              0.07849466631548152,
              0,
              0.09082156013512438,
              0.038284878217852265,
              0.15455666275907526,
              0.05823312284306214,
              0,
              0.004257352124509418,
              0.09132331801834973,
              0,
              0,
              0,
              0.014342314937011384,
              0.08202524887705116,
              0.21370632331408876,
              0,
              0.008401027097939395,
              0,
              0,
              0.22804169039191585,
              0,
              0,
              0,
              0,
              0
             ],
             "yaxis": "y"
            },
            {
             "hovertemplate": "Newspaper=Tor<br>Year=%{x}<br>Topic_1=%{y}<extra></extra>",
             "legendgroup": "Tor",
             "marker": {
              "color": "#839496",
              "opacity": 0.5,
              "size": 15,
              "symbol": "circle"
             },
             "mode": "markers",
             "name": "Tor",
             "orientation": "v",
             "showlegend": true,
             "type": "scatter",
             "x": [
              2004,
              2005,
              2007,
              2010,
              2019
             ],
             "xaxis": "x",
             "y": [
              0.10569243204891517,
              0.0057570007156965705,
              0.2662477521758326,
              0.2504544749428355,
              0.03570550500745435
             ],
             "yaxis": "y"
            },
            {
             "hovertemplate": "Newspaper=Ind<br>Year=%{x}<br>Topic_1=%{y}<extra></extra>",
             "legendgroup": "Ind",
             "marker": {
              "color": "#93a1a1",
              "opacity": 0.5,
              "size": 15,
              "symbol": "circle"
             },
             "mode": "markers",
             "name": "Ind",
             "orientation": "v",
             "showlegend": true,
             "type": "scatter",
             "x": [
              2004,
              2005,
              2008,
              2014,
              2015,
              2017,
              2017,
              2021,
              2021
             ],
             "xaxis": "x",
             "y": [
              0.1182492384763448,
              0.01889579651163253,
              0.4184063125595472,
              0,
              0.007039771060490116,
              0,
              0,
              0,
              0.04981433075371651
             ],
             "yaxis": "y"
            },
            {
             "hovertemplate": "Newspaper=Tim<br>Year=%{x}<br>Topic_1=%{y}<extra></extra>",
             "legendgroup": "Tim",
             "marker": {
              "color": "#fdf6e3",
              "opacity": 0.5,
              "size": 15,
              "symbol": "circle"
             },
             "mode": "markers",
             "name": "Tim",
             "orientation": "v",
             "showlegend": true,
             "type": "scatter",
             "x": [
              2006,
              2009,
              2010,
              2012,
              2015,
              2016,
              2016,
              2017
             ],
             "xaxis": "x",
             "y": [
              0,
              0,
              0,
              0.5874774052195281,
              0.012965882357011346,
              0,
              0,
              0
             ],
             "yaxis": "y"
            },
            {
             "hovertemplate": "Newspaper=Dai<br>Year=%{x}<br>Topic_1=%{y}<extra></extra>",
             "legendgroup": "Dai",
             "marker": {
              "color": "#b58900",
              "opacity": 0.5,
              "size": 15,
              "symbol": "circle"
             },
             "mode": "markers",
             "name": "Dai",
             "orientation": "v",
             "showlegend": true,
             "type": "scatter",
             "x": [
              2007,
              2014,
              2015,
              2015
             ],
             "xaxis": "x",
             "y": [
              0.09862678009467284,
              0.13754432414679515,
              0,
              0
             ],
             "yaxis": "y"
            },
            {
             "hovertemplate": "Newspaper=Gua<br>Year=%{x}<br>Topic_1=%{y}<extra></extra>",
             "legendgroup": "Gua",
             "marker": {
              "color": "#cb4b16",
              "opacity": 0.5,
              "size": 15,
              "symbol": "circle"
             },
             "mode": "markers",
             "name": "Gua",
             "orientation": "v",
             "showlegend": true,
             "type": "scatter",
             "x": [
              2011,
              2012,
              2012,
              2012,
              2013,
              2013,
              2013,
              2014,
              2014,
              2015
             ],
             "xaxis": "x",
             "y": [
              0.17293084785189425,
              0.005711682368112438,
              0.0019191491553409992,
              0,
              0,
              0.1245941660723866,
              0,
              0,
              0,
              1
             ],
             "yaxis": "y"
            },
            {
             "hovertemplate": "Newspaper=Bus<br>Year=%{x}<br>Topic_1=%{y}<extra></extra>",
             "legendgroup": "Bus",
             "marker": {
              "color": "#d30102",
              "opacity": 0.5,
              "size": 15,
              "symbol": "circle"
             },
             "mode": "markers",
             "name": "Bus",
             "orientation": "v",
             "showlegend": true,
             "type": "scatter",
             "x": [
              2012,
              2012,
              2020
             ],
             "xaxis": "x",
             "y": [
              0,
              0,
              0.006096488830799877
             ],
             "yaxis": "y"
            },
            {
             "hovertemplate": "Newspaper=ail<br>Year=%{x}<br>Topic_1=%{y}<extra></extra>",
             "legendgroup": "ail",
             "marker": {
              "color": "#d33682",
              "opacity": 0.5,
              "size": 15,
              "symbol": "circle"
             },
             "mode": "markers",
             "name": "ail",
             "orientation": "v",
             "showlegend": true,
             "type": "scatter",
             "x": [
              2014,
              2016,
              2018
             ],
             "xaxis": "x",
             "y": [
              0.09489301738361976,
              0,
              0.08134826531681386
             ],
             "yaxis": "y"
            },
            {
             "hovertemplate": "Newspaper=CDa<br>Year=%{x}<br>Topic_1=%{y}<extra></extra>",
             "legendgroup": "CDa",
             "marker": {
              "color": "#268bd2",
              "opacity": 0.5,
              "size": 15,
              "symbol": "circle"
             },
             "mode": "markers",
             "name": "CDa",
             "orientation": "v",
             "showlegend": true,
             "type": "scatter",
             "x": [
              2014,
              2014,
              2014,
              2014,
              2017,
              2019
             ],
             "xaxis": "x",
             "y": [
              0,
              0.1803100243027563,
              0.3788444955273407,
              0.2206482691230537,
              0,
              0.008693692470850464
             ],
             "yaxis": "y"
            }
           ],
           "layout": {
            "autosize": true,
            "legend": {
             "title": {
              "text": "Newspaper"
             },
             "tracegroupgap": 0
            },
            "margin": {
             "t": 60
            },
            "template": {
             "data": {
              "bar": [
               {
                "error_x": {
                 "color": "#2a3f5f"
                },
                "error_y": {
                 "color": "#2a3f5f"
                },
                "marker": {
                 "line": {
                  "color": "#E5ECF6",
                  "width": 0.5
                 },
                 "pattern": {
                  "fillmode": "overlay",
                  "size": 10,
                  "solidity": 0.2
                 }
                },
                "type": "bar"
               }
              ],
              "barpolar": [
               {
                "marker": {
                 "line": {
                  "color": "#E5ECF6",
                  "width": 0.5
                 },
                 "pattern": {
                  "fillmode": "overlay",
                  "size": 10,
                  "solidity": 0.2
                 }
                },
                "type": "barpolar"
               }
              ],
              "carpet": [
               {
                "aaxis": {
                 "endlinecolor": "#2a3f5f",
                 "gridcolor": "white",
                 "linecolor": "white",
                 "minorgridcolor": "white",
                 "startlinecolor": "#2a3f5f"
                },
                "baxis": {
                 "endlinecolor": "#2a3f5f",
                 "gridcolor": "white",
                 "linecolor": "white",
                 "minorgridcolor": "white",
                 "startlinecolor": "#2a3f5f"
                },
                "type": "carpet"
               }
              ],
              "choropleth": [
               {
                "colorbar": {
                 "outlinewidth": 0,
                 "ticks": ""
                },
                "type": "choropleth"
               }
              ],
              "contour": [
               {
                "colorbar": {
                 "outlinewidth": 0,
                 "ticks": ""
                },
                "colorscale": [
                 [
                  0,
                  "#0d0887"
                 ],
                 [
                  0.1111111111111111,
                  "#46039f"
                 ],
                 [
                  0.2222222222222222,
                  "#7201a8"
                 ],
                 [
                  0.3333333333333333,
                  "#9c179e"
                 ],
                 [
                  0.4444444444444444,
                  "#bd3786"
                 ],
                 [
                  0.5555555555555556,
                  "#d8576b"
                 ],
                 [
                  0.6666666666666666,
                  "#ed7953"
                 ],
                 [
                  0.7777777777777778,
                  "#fb9f3a"
                 ],
                 [
                  0.8888888888888888,
                  "#fdca26"
                 ],
                 [
                  1,
                  "#f0f921"
                 ]
                ],
                "type": "contour"
               }
              ],
              "contourcarpet": [
               {
                "colorbar": {
                 "outlinewidth": 0,
                 "ticks": ""
                },
                "type": "contourcarpet"
               }
              ],
              "heatmap": [
               {
                "colorbar": {
                 "outlinewidth": 0,
                 "ticks": ""
                },
                "colorscale": [
                 [
                  0,
                  "#0d0887"
                 ],
                 [
                  0.1111111111111111,
                  "#46039f"
                 ],
                 [
                  0.2222222222222222,
                  "#7201a8"
                 ],
                 [
                  0.3333333333333333,
                  "#9c179e"
                 ],
                 [
                  0.4444444444444444,
                  "#bd3786"
                 ],
                 [
                  0.5555555555555556,
                  "#d8576b"
                 ],
                 [
                  0.6666666666666666,
                  "#ed7953"
                 ],
                 [
                  0.7777777777777778,
                  "#fb9f3a"
                 ],
                 [
                  0.8888888888888888,
                  "#fdca26"
                 ],
                 [
                  1,
                  "#f0f921"
                 ]
                ],
                "type": "heatmap"
               }
              ],
              "heatmapgl": [
               {
                "colorbar": {
                 "outlinewidth": 0,
                 "ticks": ""
                },
                "colorscale": [
                 [
                  0,
                  "#0d0887"
                 ],
                 [
                  0.1111111111111111,
                  "#46039f"
                 ],
                 [
                  0.2222222222222222,
                  "#7201a8"
                 ],
                 [
                  0.3333333333333333,
                  "#9c179e"
                 ],
                 [
                  0.4444444444444444,
                  "#bd3786"
                 ],
                 [
                  0.5555555555555556,
                  "#d8576b"
                 ],
                 [
                  0.6666666666666666,
                  "#ed7953"
                 ],
                 [
                  0.7777777777777778,
                  "#fb9f3a"
                 ],
                 [
                  0.8888888888888888,
                  "#fdca26"
                 ],
                 [
                  1,
                  "#f0f921"
                 ]
                ],
                "type": "heatmapgl"
               }
              ],
              "histogram": [
               {
                "marker": {
                 "pattern": {
                  "fillmode": "overlay",
                  "size": 10,
                  "solidity": 0.2
                 }
                },
                "type": "histogram"
               }
              ],
              "histogram2d": [
               {
                "colorbar": {
                 "outlinewidth": 0,
                 "ticks": ""
                },
                "colorscale": [
                 [
                  0,
                  "#0d0887"
                 ],
                 [
                  0.1111111111111111,
                  "#46039f"
                 ],
                 [
                  0.2222222222222222,
                  "#7201a8"
                 ],
                 [
                  0.3333333333333333,
                  "#9c179e"
                 ],
                 [
                  0.4444444444444444,
                  "#bd3786"
                 ],
                 [
                  0.5555555555555556,
                  "#d8576b"
                 ],
                 [
                  0.6666666666666666,
                  "#ed7953"
                 ],
                 [
                  0.7777777777777778,
                  "#fb9f3a"
                 ],
                 [
                  0.8888888888888888,
                  "#fdca26"
                 ],
                 [
                  1,
                  "#f0f921"
                 ]
                ],
                "type": "histogram2d"
               }
              ],
              "histogram2dcontour": [
               {
                "colorbar": {
                 "outlinewidth": 0,
                 "ticks": ""
                },
                "colorscale": [
                 [
                  0,
                  "#0d0887"
                 ],
                 [
                  0.1111111111111111,
                  "#46039f"
                 ],
                 [
                  0.2222222222222222,
                  "#7201a8"
                 ],
                 [
                  0.3333333333333333,
                  "#9c179e"
                 ],
                 [
                  0.4444444444444444,
                  "#bd3786"
                 ],
                 [
                  0.5555555555555556,
                  "#d8576b"
                 ],
                 [
                  0.6666666666666666,
                  "#ed7953"
                 ],
                 [
                  0.7777777777777778,
                  "#fb9f3a"
                 ],
                 [
                  0.8888888888888888,
                  "#fdca26"
                 ],
                 [
                  1,
                  "#f0f921"
                 ]
                ],
                "type": "histogram2dcontour"
               }
              ],
              "mesh3d": [
               {
                "colorbar": {
                 "outlinewidth": 0,
                 "ticks": ""
                },
                "type": "mesh3d"
               }
              ],
              "parcoords": [
               {
                "line": {
                 "colorbar": {
                  "outlinewidth": 0,
                  "ticks": ""
                 }
                },
                "type": "parcoords"
               }
              ],
              "pie": [
               {
                "automargin": true,
                "type": "pie"
               }
              ],
              "scatter": [
               {
                "marker": {
                 "colorbar": {
                  "outlinewidth": 0,
                  "ticks": ""
                 }
                },
                "type": "scatter"
               }
              ],
              "scatter3d": [
               {
                "line": {
                 "colorbar": {
                  "outlinewidth": 0,
                  "ticks": ""
                 }
                },
                "marker": {
                 "colorbar": {
                  "outlinewidth": 0,
                  "ticks": ""
                 }
                },
                "type": "scatter3d"
               }
              ],
              "scattercarpet": [
               {
                "marker": {
                 "colorbar": {
                  "outlinewidth": 0,
                  "ticks": ""
                 }
                },
                "type": "scattercarpet"
               }
              ],
              "scattergeo": [
               {
                "marker": {
                 "colorbar": {
                  "outlinewidth": 0,
                  "ticks": ""
                 }
                },
                "type": "scattergeo"
               }
              ],
              "scattergl": [
               {
                "marker": {
                 "colorbar": {
                  "outlinewidth": 0,
                  "ticks": ""
                 }
                },
                "type": "scattergl"
               }
              ],
              "scattermapbox": [
               {
                "marker": {
                 "colorbar": {
                  "outlinewidth": 0,
                  "ticks": ""
                 }
                },
                "type": "scattermapbox"
               }
              ],
              "scatterpolar": [
               {
                "marker": {
                 "colorbar": {
                  "outlinewidth": 0,
                  "ticks": ""
                 }
                },
                "type": "scatterpolar"
               }
              ],
              "scatterpolargl": [
               {
                "marker": {
                 "colorbar": {
                  "outlinewidth": 0,
                  "ticks": ""
                 }
                },
                "type": "scatterpolargl"
               }
              ],
              "scatterternary": [
               {
                "marker": {
                 "colorbar": {
                  "outlinewidth": 0,
                  "ticks": ""
                 }
                },
                "type": "scatterternary"
               }
              ],
              "surface": [
               {
                "colorbar": {
                 "outlinewidth": 0,
                 "ticks": ""
                },
                "colorscale": [
                 [
                  0,
                  "#0d0887"
                 ],
                 [
                  0.1111111111111111,
                  "#46039f"
                 ],
                 [
                  0.2222222222222222,
                  "#7201a8"
                 ],
                 [
                  0.3333333333333333,
                  "#9c179e"
                 ],
                 [
                  0.4444444444444444,
                  "#bd3786"
                 ],
                 [
                  0.5555555555555556,
                  "#d8576b"
                 ],
                 [
                  0.6666666666666666,
                  "#ed7953"
                 ],
                 [
                  0.7777777777777778,
                  "#fb9f3a"
                 ],
                 [
                  0.8888888888888888,
                  "#fdca26"
                 ],
                 [
                  1,
                  "#f0f921"
                 ]
                ],
                "type": "surface"
               }
              ],
              "table": [
               {
                "cells": {
                 "fill": {
                  "color": "#EBF0F8"
                 },
                 "line": {
                  "color": "white"
                 }
                },
                "header": {
                 "fill": {
                  "color": "#C8D4E3"
                 },
                 "line": {
                  "color": "white"
                 }
                },
                "type": "table"
               }
              ]
             },
             "layout": {
              "annotationdefaults": {
               "arrowcolor": "#2a3f5f",
               "arrowhead": 0,
               "arrowwidth": 1
              },
              "autotypenumbers": "strict",
              "coloraxis": {
               "colorbar": {
                "outlinewidth": 0,
                "ticks": ""
               }
              },
              "colorscale": {
               "diverging": [
                [
                 0,
                 "#8e0152"
                ],
                [
                 0.1,
                 "#c51b7d"
                ],
                [
                 0.2,
                 "#de77ae"
                ],
                [
                 0.3,
                 "#f1b6da"
                ],
                [
                 0.4,
                 "#fde0ef"
                ],
                [
                 0.5,
                 "#f7f7f7"
                ],
                [
                 0.6,
                 "#e6f5d0"
                ],
                [
                 0.7,
                 "#b8e186"
                ],
                [
                 0.8,
                 "#7fbc41"
                ],
                [
                 0.9,
                 "#4d9221"
                ],
                [
                 1,
                 "#276419"
                ]
               ],
               "sequential": [
                [
                 0,
                 "#0d0887"
                ],
                [
                 0.1111111111111111,
                 "#46039f"
                ],
                [
                 0.2222222222222222,
                 "#7201a8"
                ],
                [
                 0.3333333333333333,
                 "#9c179e"
                ],
                [
                 0.4444444444444444,
                 "#bd3786"
                ],
                [
                 0.5555555555555556,
                 "#d8576b"
                ],
                [
                 0.6666666666666666,
                 "#ed7953"
                ],
                [
                 0.7777777777777778,
                 "#fb9f3a"
                ],
                [
                 0.8888888888888888,
                 "#fdca26"
                ],
                [
                 1,
                 "#f0f921"
                ]
               ],
               "sequentialminus": [
                [
                 0,
                 "#0d0887"
                ],
                [
                 0.1111111111111111,
                 "#46039f"
                ],
                [
                 0.2222222222222222,
                 "#7201a8"
                ],
                [
                 0.3333333333333333,
                 "#9c179e"
                ],
                [
                 0.4444444444444444,
                 "#bd3786"
                ],
                [
                 0.5555555555555556,
                 "#d8576b"
                ],
                [
                 0.6666666666666666,
                 "#ed7953"
                ],
                [
                 0.7777777777777778,
                 "#fb9f3a"
                ],
                [
                 0.8888888888888888,
                 "#fdca26"
                ],
                [
                 1,
                 "#f0f921"
                ]
               ]
              },
              "colorway": [
               "#636efa",
               "#EF553B",
               "#00cc96",
               "#ab63fa",
               "#FFA15A",
               "#19d3f3",
               "#FF6692",
               "#B6E880",
               "#FF97FF",
               "#FECB52"
              ],
              "font": {
               "color": "#2a3f5f"
              },
              "geo": {
               "bgcolor": "white",
               "lakecolor": "white",
               "landcolor": "#E5ECF6",
               "showlakes": true,
               "showland": true,
               "subunitcolor": "white"
              },
              "hoverlabel": {
               "align": "left"
              },
              "hovermode": "closest",
              "mapbox": {
               "style": "light"
              },
              "paper_bgcolor": "white",
              "plot_bgcolor": "#E5ECF6",
              "polar": {
               "angularaxis": {
                "gridcolor": "white",
                "linecolor": "white",
                "ticks": ""
               },
               "bgcolor": "#E5ECF6",
               "radialaxis": {
                "gridcolor": "white",
                "linecolor": "white",
                "ticks": ""
               }
              },
              "scene": {
               "xaxis": {
                "backgroundcolor": "#E5ECF6",
                "gridcolor": "white",
                "gridwidth": 2,
                "linecolor": "white",
                "showbackground": true,
                "ticks": "",
                "zerolinecolor": "white"
               },
               "yaxis": {
                "backgroundcolor": "#E5ECF6",
                "gridcolor": "white",
                "gridwidth": 2,
                "linecolor": "white",
                "showbackground": true,
                "ticks": "",
                "zerolinecolor": "white"
               },
               "zaxis": {
                "backgroundcolor": "#E5ECF6",
                "gridcolor": "white",
                "gridwidth": 2,
                "linecolor": "white",
                "showbackground": true,
                "ticks": "",
                "zerolinecolor": "white"
               }
              },
              "shapedefaults": {
               "line": {
                "color": "#2a3f5f"
               }
              },
              "ternary": {
               "aaxis": {
                "gridcolor": "white",
                "linecolor": "white",
                "ticks": ""
               },
               "baxis": {
                "gridcolor": "white",
                "linecolor": "white",
                "ticks": ""
               },
               "bgcolor": "#E5ECF6",
               "caxis": {
                "gridcolor": "white",
                "linecolor": "white",
                "ticks": ""
               }
              },
              "title": {
               "x": 0.05
              },
              "xaxis": {
               "automargin": true,
               "gridcolor": "white",
               "linecolor": "white",
               "ticks": "",
               "title": {
                "standoff": 15
               },
               "zerolinecolor": "white",
               "zerolinewidth": 2
              },
              "yaxis": {
               "automargin": true,
               "gridcolor": "white",
               "linecolor": "white",
               "ticks": "",
               "title": {
                "standoff": 15
               },
               "zerolinecolor": "white",
               "zerolinewidth": 2
              }
             }
            },
            "xaxis": {
             "anchor": "y",
             "autorange": true,
             "domain": [
              0,
              1
             ],
             "range": [
              2000.7640692640693,
              2022.2359307359307
             ],
             "title": {
              "text": "Year"
             },
             "type": "linear"
            },
            "yaxis": {
             "anchor": "x",
             "autorange": true,
             "domain": [
              0,
              1
             ],
             "range": [
              -0.11366806136680613,
              1.1136680613668062
             ],
             "title": {
              "text": "Topic_1"
             },
             "type": "linear"
            }
           }
          },
          "text/html": "<div>                            <div id=\"72d989a0-00e4-4d0e-956e-e907f22df2ab\" class=\"plotly-graph-div\" style=\"height:525px; width:100%;\"></div>            <script type=\"text/javascript\">                require([\"plotly\"], function(Plotly) {                    window.PLOTLYENV=window.PLOTLYENV || {};                                    if (document.getElementById(\"72d989a0-00e4-4d0e-956e-e907f22df2ab\")) {                    Plotly.newPlot(                        \"72d989a0-00e4-4d0e-956e-e907f22df2ab\",                        [{\"hovertemplate\":\"Newspaper=ajA<br>Year=%{x}<br>Topic_1=%{y}<extra></extra>\",\"legendgroup\":\"ajA\",\"marker\":{\"color\":\"#002b36\",\"opacity\":0.5,\"symbol\":\"circle\",\"size\":15},\"mode\":\"markers\",\"name\":\"ajA\",\"orientation\":\"v\",\"showlegend\":true,\"x\":[2002,2006,2011,2011,2011,2014,2015,2016,2016,2016,2016,2018,2019,2019,2020,2020,2020,2020],\"xaxis\":\"x\",\"y\":[0.03105022279223588,0.02320809280545096,0.0,0.0,0.0,0.06194998157561645,0.0,0.3945699922355552,0.0,0.07510481626210924,0.008094935199630462,0.0,0.0,0.16884376452425864,0.15118046353868106,0.153521496440337,0.0,0.0],\"yaxis\":\"y\",\"type\":\"scatter\"},{\"hovertemplate\":\"Newspaper=NYT<br>Year=%{x}<br>Topic_1=%{y}<extra></extra>\",\"legendgroup\":\"NYT\",\"marker\":{\"color\":\"#586e75\",\"opacity\":0.5,\"symbol\":\"circle\",\"size\":15},\"mode\":\"markers\",\"name\":\"NYT\",\"orientation\":\"v\",\"showlegend\":true,\"x\":[2003,2007,2009,2013,2013,2016],\"xaxis\":\"x\",\"y\":[0.0019191491553409992,0.0,0.009084588467123029,0.00529662287703621,1.0,0.17827524568976366],\"yaxis\":\"y\",\"type\":\"scatter\"},{\"hovertemplate\":\"Newspaper=Maj<br>Year=%{x}<br>Topic_1=%{y}<extra></extra>\",\"legendgroup\":\"Maj\",\"marker\":{\"color\":\"#657b83\",\"opacity\":0.5,\"symbol\":\"circle\",\"size\":15},\"mode\":\"markers\",\"name\":\"Maj\",\"orientation\":\"v\",\"showlegend\":true,\"x\":[2004,2006,2006,2007,2007,2007,2007,2007,2007,2008,2008,2008,2010,2010,2010,2011,2011,2011,2011,2012,2012,2013,2014,2015,2015,2015,2015,2016,2016,2018,2018,2018,2018,2018,2018,2019,2019,2019,2020,2020,2020,2020,2020,2020,2020,2020,2020,2020,2020],\"xaxis\":\"x\",\"y\":[0.00030562822033936097,0.0,0.0,0.0,0.4087312424393585,0.0,0.0,0.03991487343722898,0.3581144360442721,0.0,0.2303136282317632,0.5697837495123684,0.021923304441641804,0.11066738841967057,0.0,0.0,0.0,0.34724623672664584,0.0,0.00594061613293449,0.0,0.011357673463211615,0.4087312424393585,1.0,0.07849466631548152,0.0,0.09082156013512438,0.038284878217852265,0.15455666275907526,0.05823312284306214,0.0,0.004257352124509418,0.09132331801834973,0.0,0.0,0.0,0.014342314937011384,0.08202524887705116,0.21370632331408876,0.0,0.008401027097939395,0.0,0.0,0.22804169039191585,0.0,0.0,0.0,0.0,0.0],\"yaxis\":\"y\",\"type\":\"scatter\"},{\"hovertemplate\":\"Newspaper=Tor<br>Year=%{x}<br>Topic_1=%{y}<extra></extra>\",\"legendgroup\":\"Tor\",\"marker\":{\"color\":\"#839496\",\"opacity\":0.5,\"symbol\":\"circle\",\"size\":15},\"mode\":\"markers\",\"name\":\"Tor\",\"orientation\":\"v\",\"showlegend\":true,\"x\":[2004,2005,2007,2010,2019],\"xaxis\":\"x\",\"y\":[0.10569243204891517,0.0057570007156965705,0.2662477521758326,0.2504544749428355,0.03570550500745435],\"yaxis\":\"y\",\"type\":\"scatter\"},{\"hovertemplate\":\"Newspaper=Ind<br>Year=%{x}<br>Topic_1=%{y}<extra></extra>\",\"legendgroup\":\"Ind\",\"marker\":{\"color\":\"#93a1a1\",\"opacity\":0.5,\"symbol\":\"circle\",\"size\":15},\"mode\":\"markers\",\"name\":\"Ind\",\"orientation\":\"v\",\"showlegend\":true,\"x\":[2004,2005,2008,2014,2015,2017,2017,2021,2021],\"xaxis\":\"x\",\"y\":[0.1182492384763448,0.01889579651163253,0.4184063125595472,0.0,0.007039771060490116,0.0,0.0,0.0,0.04981433075371651],\"yaxis\":\"y\",\"type\":\"scatter\"},{\"hovertemplate\":\"Newspaper=Tim<br>Year=%{x}<br>Topic_1=%{y}<extra></extra>\",\"legendgroup\":\"Tim\",\"marker\":{\"color\":\"#fdf6e3\",\"opacity\":0.5,\"symbol\":\"circle\",\"size\":15},\"mode\":\"markers\",\"name\":\"Tim\",\"orientation\":\"v\",\"showlegend\":true,\"x\":[2006,2009,2010,2012,2015,2016,2016,2017],\"xaxis\":\"x\",\"y\":[0.0,0.0,0.0,0.5874774052195281,0.012965882357011346,0.0,0.0,0.0],\"yaxis\":\"y\",\"type\":\"scatter\"},{\"hovertemplate\":\"Newspaper=Dai<br>Year=%{x}<br>Topic_1=%{y}<extra></extra>\",\"legendgroup\":\"Dai\",\"marker\":{\"color\":\"#b58900\",\"opacity\":0.5,\"symbol\":\"circle\",\"size\":15},\"mode\":\"markers\",\"name\":\"Dai\",\"orientation\":\"v\",\"showlegend\":true,\"x\":[2007,2014,2015,2015],\"xaxis\":\"x\",\"y\":[0.09862678009467284,0.13754432414679515,0.0,0.0],\"yaxis\":\"y\",\"type\":\"scatter\"},{\"hovertemplate\":\"Newspaper=Gua<br>Year=%{x}<br>Topic_1=%{y}<extra></extra>\",\"legendgroup\":\"Gua\",\"marker\":{\"color\":\"#cb4b16\",\"opacity\":0.5,\"symbol\":\"circle\",\"size\":15},\"mode\":\"markers\",\"name\":\"Gua\",\"orientation\":\"v\",\"showlegend\":true,\"x\":[2011,2012,2012,2012,2013,2013,2013,2014,2014,2015],\"xaxis\":\"x\",\"y\":[0.17293084785189425,0.005711682368112438,0.0019191491553409992,0.0,0.0,0.1245941660723866,0.0,0.0,0.0,1.0],\"yaxis\":\"y\",\"type\":\"scatter\"},{\"hovertemplate\":\"Newspaper=Bus<br>Year=%{x}<br>Topic_1=%{y}<extra></extra>\",\"legendgroup\":\"Bus\",\"marker\":{\"color\":\"#d30102\",\"opacity\":0.5,\"symbol\":\"circle\",\"size\":15},\"mode\":\"markers\",\"name\":\"Bus\",\"orientation\":\"v\",\"showlegend\":true,\"x\":[2012,2012,2020],\"xaxis\":\"x\",\"y\":[0.0,0.0,0.006096488830799877],\"yaxis\":\"y\",\"type\":\"scatter\"},{\"hovertemplate\":\"Newspaper=ail<br>Year=%{x}<br>Topic_1=%{y}<extra></extra>\",\"legendgroup\":\"ail\",\"marker\":{\"color\":\"#d33682\",\"opacity\":0.5,\"symbol\":\"circle\",\"size\":15},\"mode\":\"markers\",\"name\":\"ail\",\"orientation\":\"v\",\"showlegend\":true,\"x\":[2014,2016,2018],\"xaxis\":\"x\",\"y\":[0.09489301738361976,0.0,0.08134826531681386],\"yaxis\":\"y\",\"type\":\"scatter\"},{\"hovertemplate\":\"Newspaper=CDa<br>Year=%{x}<br>Topic_1=%{y}<extra></extra>\",\"legendgroup\":\"CDa\",\"marker\":{\"color\":\"#268bd2\",\"opacity\":0.5,\"symbol\":\"circle\",\"size\":15},\"mode\":\"markers\",\"name\":\"CDa\",\"orientation\":\"v\",\"showlegend\":true,\"x\":[2014,2014,2014,2014,2017,2019],\"xaxis\":\"x\",\"y\":[0.0,0.1803100243027563,0.3788444955273407,0.2206482691230537,0.0,0.008693692470850464],\"yaxis\":\"y\",\"type\":\"scatter\"}],                        {\"template\":{\"data\":{\"bar\":[{\"error_x\":{\"color\":\"#2a3f5f\"},\"error_y\":{\"color\":\"#2a3f5f\"},\"marker\":{\"line\":{\"color\":\"#E5ECF6\",\"width\":0.5},\"pattern\":{\"fillmode\":\"overlay\",\"size\":10,\"solidity\":0.2}},\"type\":\"bar\"}],\"barpolar\":[{\"marker\":{\"line\":{\"color\":\"#E5ECF6\",\"width\":0.5},\"pattern\":{\"fillmode\":\"overlay\",\"size\":10,\"solidity\":0.2}},\"type\":\"barpolar\"}],\"carpet\":[{\"aaxis\":{\"endlinecolor\":\"#2a3f5f\",\"gridcolor\":\"white\",\"linecolor\":\"white\",\"minorgridcolor\":\"white\",\"startlinecolor\":\"#2a3f5f\"},\"baxis\":{\"endlinecolor\":\"#2a3f5f\",\"gridcolor\":\"white\",\"linecolor\":\"white\",\"minorgridcolor\":\"white\",\"startlinecolor\":\"#2a3f5f\"},\"type\":\"carpet\"}],\"choropleth\":[{\"colorbar\":{\"outlinewidth\":0,\"ticks\":\"\"},\"type\":\"choropleth\"}],\"contour\":[{\"colorbar\":{\"outlinewidth\":0,\"ticks\":\"\"},\"colorscale\":[[0.0,\"#0d0887\"],[0.1111111111111111,\"#46039f\"],[0.2222222222222222,\"#7201a8\"],[0.3333333333333333,\"#9c179e\"],[0.4444444444444444,\"#bd3786\"],[0.5555555555555556,\"#d8576b\"],[0.6666666666666666,\"#ed7953\"],[0.7777777777777778,\"#fb9f3a\"],[0.8888888888888888,\"#fdca26\"],[1.0,\"#f0f921\"]],\"type\":\"contour\"}],\"contourcarpet\":[{\"colorbar\":{\"outlinewidth\":0,\"ticks\":\"\"},\"type\":\"contourcarpet\"}],\"heatmap\":[{\"colorbar\":{\"outlinewidth\":0,\"ticks\":\"\"},\"colorscale\":[[0.0,\"#0d0887\"],[0.1111111111111111,\"#46039f\"],[0.2222222222222222,\"#7201a8\"],[0.3333333333333333,\"#9c179e\"],[0.4444444444444444,\"#bd3786\"],[0.5555555555555556,\"#d8576b\"],[0.6666666666666666,\"#ed7953\"],[0.7777777777777778,\"#fb9f3a\"],[0.8888888888888888,\"#fdca26\"],[1.0,\"#f0f921\"]],\"type\":\"heatmap\"}],\"heatmapgl\":[{\"colorbar\":{\"outlinewidth\":0,\"ticks\":\"\"},\"colorscale\":[[0.0,\"#0d0887\"],[0.1111111111111111,\"#46039f\"],[0.2222222222222222,\"#7201a8\"],[0.3333333333333333,\"#9c179e\"],[0.4444444444444444,\"#bd3786\"],[0.5555555555555556,\"#d8576b\"],[0.6666666666666666,\"#ed7953\"],[0.7777777777777778,\"#fb9f3a\"],[0.8888888888888888,\"#fdca26\"],[1.0,\"#f0f921\"]],\"type\":\"heatmapgl\"}],\"histogram\":[{\"marker\":{\"pattern\":{\"fillmode\":\"overlay\",\"size\":10,\"solidity\":0.2}},\"type\":\"histogram\"}],\"histogram2d\":[{\"colorbar\":{\"outlinewidth\":0,\"ticks\":\"\"},\"colorscale\":[[0.0,\"#0d0887\"],[0.1111111111111111,\"#46039f\"],[0.2222222222222222,\"#7201a8\"],[0.3333333333333333,\"#9c179e\"],[0.4444444444444444,\"#bd3786\"],[0.5555555555555556,\"#d8576b\"],[0.6666666666666666,\"#ed7953\"],[0.7777777777777778,\"#fb9f3a\"],[0.8888888888888888,\"#fdca26\"],[1.0,\"#f0f921\"]],\"type\":\"histogram2d\"}],\"histogram2dcontour\":[{\"colorbar\":{\"outlinewidth\":0,\"ticks\":\"\"},\"colorscale\":[[0.0,\"#0d0887\"],[0.1111111111111111,\"#46039f\"],[0.2222222222222222,\"#7201a8\"],[0.3333333333333333,\"#9c179e\"],[0.4444444444444444,\"#bd3786\"],[0.5555555555555556,\"#d8576b\"],[0.6666666666666666,\"#ed7953\"],[0.7777777777777778,\"#fb9f3a\"],[0.8888888888888888,\"#fdca26\"],[1.0,\"#f0f921\"]],\"type\":\"histogram2dcontour\"}],\"mesh3d\":[{\"colorbar\":{\"outlinewidth\":0,\"ticks\":\"\"},\"type\":\"mesh3d\"}],\"parcoords\":[{\"line\":{\"colorbar\":{\"outlinewidth\":0,\"ticks\":\"\"}},\"type\":\"parcoords\"}],\"pie\":[{\"automargin\":true,\"type\":\"pie\"}],\"scatter\":[{\"marker\":{\"colorbar\":{\"outlinewidth\":0,\"ticks\":\"\"}},\"type\":\"scatter\"}],\"scatter3d\":[{\"line\":{\"colorbar\":{\"outlinewidth\":0,\"ticks\":\"\"}},\"marker\":{\"colorbar\":{\"outlinewidth\":0,\"ticks\":\"\"}},\"type\":\"scatter3d\"}],\"scattercarpet\":[{\"marker\":{\"colorbar\":{\"outlinewidth\":0,\"ticks\":\"\"}},\"type\":\"scattercarpet\"}],\"scattergeo\":[{\"marker\":{\"colorbar\":{\"outlinewidth\":0,\"ticks\":\"\"}},\"type\":\"scattergeo\"}],\"scattergl\":[{\"marker\":{\"colorbar\":{\"outlinewidth\":0,\"ticks\":\"\"}},\"type\":\"scattergl\"}],\"scattermapbox\":[{\"marker\":{\"colorbar\":{\"outlinewidth\":0,\"ticks\":\"\"}},\"type\":\"scattermapbox\"}],\"scatterpolar\":[{\"marker\":{\"colorbar\":{\"outlinewidth\":0,\"ticks\":\"\"}},\"type\":\"scatterpolar\"}],\"scatterpolargl\":[{\"marker\":{\"colorbar\":{\"outlinewidth\":0,\"ticks\":\"\"}},\"type\":\"scatterpolargl\"}],\"scatterternary\":[{\"marker\":{\"colorbar\":{\"outlinewidth\":0,\"ticks\":\"\"}},\"type\":\"scatterternary\"}],\"surface\":[{\"colorbar\":{\"outlinewidth\":0,\"ticks\":\"\"},\"colorscale\":[[0.0,\"#0d0887\"],[0.1111111111111111,\"#46039f\"],[0.2222222222222222,\"#7201a8\"],[0.3333333333333333,\"#9c179e\"],[0.4444444444444444,\"#bd3786\"],[0.5555555555555556,\"#d8576b\"],[0.6666666666666666,\"#ed7953\"],[0.7777777777777778,\"#fb9f3a\"],[0.8888888888888888,\"#fdca26\"],[1.0,\"#f0f921\"]],\"type\":\"surface\"}],\"table\":[{\"cells\":{\"fill\":{\"color\":\"#EBF0F8\"},\"line\":{\"color\":\"white\"}},\"header\":{\"fill\":{\"color\":\"#C8D4E3\"},\"line\":{\"color\":\"white\"}},\"type\":\"table\"}]},\"layout\":{\"annotationdefaults\":{\"arrowcolor\":\"#2a3f5f\",\"arrowhead\":0,\"arrowwidth\":1},\"autotypenumbers\":\"strict\",\"coloraxis\":{\"colorbar\":{\"outlinewidth\":0,\"ticks\":\"\"}},\"colorscale\":{\"diverging\":[[0,\"#8e0152\"],[0.1,\"#c51b7d\"],[0.2,\"#de77ae\"],[0.3,\"#f1b6da\"],[0.4,\"#fde0ef\"],[0.5,\"#f7f7f7\"],[0.6,\"#e6f5d0\"],[0.7,\"#b8e186\"],[0.8,\"#7fbc41\"],[0.9,\"#4d9221\"],[1,\"#276419\"]],\"sequential\":[[0.0,\"#0d0887\"],[0.1111111111111111,\"#46039f\"],[0.2222222222222222,\"#7201a8\"],[0.3333333333333333,\"#9c179e\"],[0.4444444444444444,\"#bd3786\"],[0.5555555555555556,\"#d8576b\"],[0.6666666666666666,\"#ed7953\"],[0.7777777777777778,\"#fb9f3a\"],[0.8888888888888888,\"#fdca26\"],[1.0,\"#f0f921\"]],\"sequentialminus\":[[0.0,\"#0d0887\"],[0.1111111111111111,\"#46039f\"],[0.2222222222222222,\"#7201a8\"],[0.3333333333333333,\"#9c179e\"],[0.4444444444444444,\"#bd3786\"],[0.5555555555555556,\"#d8576b\"],[0.6666666666666666,\"#ed7953\"],[0.7777777777777778,\"#fb9f3a\"],[0.8888888888888888,\"#fdca26\"],[1.0,\"#f0f921\"]]},\"colorway\":[\"#636efa\",\"#EF553B\",\"#00cc96\",\"#ab63fa\",\"#FFA15A\",\"#19d3f3\",\"#FF6692\",\"#B6E880\",\"#FF97FF\",\"#FECB52\"],\"font\":{\"color\":\"#2a3f5f\"},\"geo\":{\"bgcolor\":\"white\",\"lakecolor\":\"white\",\"landcolor\":\"#E5ECF6\",\"showlakes\":true,\"showland\":true,\"subunitcolor\":\"white\"},\"hoverlabel\":{\"align\":\"left\"},\"hovermode\":\"closest\",\"mapbox\":{\"style\":\"light\"},\"paper_bgcolor\":\"white\",\"plot_bgcolor\":\"#E5ECF6\",\"polar\":{\"angularaxis\":{\"gridcolor\":\"white\",\"linecolor\":\"white\",\"ticks\":\"\"},\"bgcolor\":\"#E5ECF6\",\"radialaxis\":{\"gridcolor\":\"white\",\"linecolor\":\"white\",\"ticks\":\"\"}},\"scene\":{\"xaxis\":{\"backgroundcolor\":\"#E5ECF6\",\"gridcolor\":\"white\",\"gridwidth\":2,\"linecolor\":\"white\",\"showbackground\":true,\"ticks\":\"\",\"zerolinecolor\":\"white\"},\"yaxis\":{\"backgroundcolor\":\"#E5ECF6\",\"gridcolor\":\"white\",\"gridwidth\":2,\"linecolor\":\"white\",\"showbackground\":true,\"ticks\":\"\",\"zerolinecolor\":\"white\"},\"zaxis\":{\"backgroundcolor\":\"#E5ECF6\",\"gridcolor\":\"white\",\"gridwidth\":2,\"linecolor\":\"white\",\"showbackground\":true,\"ticks\":\"\",\"zerolinecolor\":\"white\"}},\"shapedefaults\":{\"line\":{\"color\":\"#2a3f5f\"}},\"ternary\":{\"aaxis\":{\"gridcolor\":\"white\",\"linecolor\":\"white\",\"ticks\":\"\"},\"baxis\":{\"gridcolor\":\"white\",\"linecolor\":\"white\",\"ticks\":\"\"},\"bgcolor\":\"#E5ECF6\",\"caxis\":{\"gridcolor\":\"white\",\"linecolor\":\"white\",\"ticks\":\"\"}},\"title\":{\"x\":0.05},\"xaxis\":{\"automargin\":true,\"gridcolor\":\"white\",\"linecolor\":\"white\",\"ticks\":\"\",\"title\":{\"standoff\":15},\"zerolinecolor\":\"white\",\"zerolinewidth\":2},\"yaxis\":{\"automargin\":true,\"gridcolor\":\"white\",\"linecolor\":\"white\",\"ticks\":\"\",\"title\":{\"standoff\":15},\"zerolinecolor\":\"white\",\"zerolinewidth\":2}}},\"xaxis\":{\"anchor\":\"y\",\"domain\":[0.0,1.0],\"title\":{\"text\":\"Year\"}},\"yaxis\":{\"anchor\":\"x\",\"domain\":[0.0,1.0],\"title\":{\"text\":\"Topic_1\"}},\"legend\":{\"title\":{\"text\":\"Newspaper\"},\"tracegroupgap\":0},\"margin\":{\"t\":60}},                        {\"responsive\": true}                    ).then(function(){\n                            \nvar gd = document.getElementById('72d989a0-00e4-4d0e-956e-e907f22df2ab');\nvar x = new MutationObserver(function (mutations, observer) {{\n        var display = window.getComputedStyle(gd).display;\n        if (!display || display === 'none') {{\n            console.log([gd, 'removed!']);\n            Plotly.purge(gd);\n            observer.disconnect();\n        }}\n}});\n\n// Listen for the removal of the full notebook cells\nvar notebookContainer = gd.closest('#notebook-container');\nif (notebookContainer) {{\n    x.observe(notebookContainer, {childList: true});\n}}\n\n// Listen for the clearing of the current output cell\nvar outputEl = gd.closest('.output');\nif (outputEl) {{\n    x.observe(outputEl, {childList: true});\n}}\n\n                        })                };                });            </script>        </div>"
         },
         "metadata": {},
         "output_type": "display_data"
        }
       ]
      }
     },
     "3c43de8615fa4186bb06b1b3755e1235": {
      "model_module": "@jupyter-widgets/output",
      "model_module_version": "1.0.0",
      "model_name": "OutputModel",
      "state": {
       "layout": "IPY_MODEL_0c24a19b4d2c4615916ba3a4c9a7f5ad",
       "outputs": [
        {
         "data": {
          "text/plain": "(                             Articles   Topic_0   Topic_1   Topic_2   Topic_3  \\\n 0      2002-03-1-MajAustr-1-67-61.txt  0.734406  0.031050  0.052941  0.121928   \n 1      2018-01-24-MajAustr-1-67-2.txt  0.627873  0.004257  0.183715  0.125618   \n 2    2017-11-22-Independent-1-9-4.txt  0.944391  0.000000  0.000000  0.055609   \n 3          2017-09-27-Times-1-9-4.txt  0.874172  0.000000  0.125828  0.000000   \n 4      2016-08-7-MajAustr-1-67-26.txt  0.374457  0.008095  0.232753  0.181643   \n ..                                ...       ...       ...       ...       ...   \n 106    2016-02-18-MajAustr-1-67-1.txt  0.398105  0.038285  0.406461  0.057571   \n 112      2014-09-08-CDaily-1-10-9.txt  0.369046  0.000000  0.156535  0.378469   \n 115    2011-08-2-MajAustr-1-67-60.txt  0.376311  0.000000  0.109846  0.453747   \n 116     2020-08-8-MajAustr-1-67-3.txt  0.277453  0.151180  0.070926  0.165493   \n 119   2016-09-14-MajAustr-1-67-25.txt  0.271974  0.154557  0.134024  0.100942   \n \n       Topic_4  Year Newspaper  \n 0    0.059674  2002       ajA  \n 1    0.058536  2018       Maj  \n 2    0.000000  2017       Ind  \n 3    0.000000  2017       Tim  \n 4    0.203052  2016       ajA  \n ..        ...   ...       ...  \n 106  0.099578  2016       Maj  \n 112  0.095950  2014       CDa  \n 115  0.060097  2011       ajA  \n 116  0.334948  2020       ajA  \n 119  0.338503  2016       Maj  \n \n [106 rows x 8 columns],\n                          Articles   Topic_0  Topic_1   Topic_2   Topic_3  \\\n 0  2002-03-1-MajAustr-1-67-61.txt  0.734406  0.03105  0.052941  0.121928   \n \n     Topic_4  Year Newspaper  \n 0  0.059674  2002       ajA  )"
         },
         "metadata": {},
         "output_type": "display_data"
        }
       ]
      }
     },
     "3cac4c010d384527936521df0a1b73af": {
      "model_module": "@jupyter-widgets/base",
      "model_module_version": "1.2.0",
      "model_name": "LayoutModel",
      "state": {}
     },
     "44c2fc8a5fb74f6c8b6ab7a32d581856": {
      "model_module": "@jupyter-widgets/output",
      "model_module_version": "1.0.0",
      "model_name": "OutputModel",
      "state": {
       "layout": "IPY_MODEL_9e88a1d775b549b7b345be2e10a549b5",
       "outputs": [
        {
         "data": {
          "text/html": "<div>\n<style scoped>\n    .dataframe tbody tr th:only-of-type {\n        vertical-align: middle;\n    }\n\n    .dataframe tbody tr th {\n        vertical-align: top;\n    }\n\n    .dataframe thead th {\n        text-align: right;\n    }\n</style>\n<table border=\"1\" class=\"dataframe\">\n  <thead>\n    <tr style=\"text-align: right;\">\n      <th></th>\n      <th>Articles</th>\n      <th>Topic_0</th>\n      <th>Topic_1</th>\n      <th>Topic_2</th>\n      <th>Topic_3</th>\n      <th>Topic_4</th>\n      <th>Year</th>\n      <th>Newspaper</th>\n    </tr>\n  </thead>\n  <tbody>\n    <tr>\n      <th>0</th>\n      <td>2002-03-1-MajAustr-1-67-61.txt</td>\n      <td>0.734406</td>\n      <td>0.031050</td>\n      <td>0.052941</td>\n      <td>0.121928</td>\n      <td>0.059674</td>\n      <td>2002</td>\n      <td>ajA</td>\n    </tr>\n    <tr>\n      <th>1</th>\n      <td>2018-01-24-MajAustr-1-67-2.txt</td>\n      <td>0.627873</td>\n      <td>0.004257</td>\n      <td>0.183715</td>\n      <td>0.125618</td>\n      <td>0.058536</td>\n      <td>2018</td>\n      <td>Maj</td>\n    </tr>\n    <tr>\n      <th>2</th>\n      <td>2017-11-22-Independent-1-9-4.txt</td>\n      <td>0.944391</td>\n      <td>0.000000</td>\n      <td>0.000000</td>\n      <td>0.055609</td>\n      <td>0.000000</td>\n      <td>2017</td>\n      <td>Ind</td>\n    </tr>\n    <tr>\n      <th>3</th>\n      <td>2017-09-27-Times-1-9-4.txt</td>\n      <td>0.874172</td>\n      <td>0.000000</td>\n      <td>0.125828</td>\n      <td>0.000000</td>\n      <td>0.000000</td>\n      <td>2017</td>\n      <td>Tim</td>\n    </tr>\n    <tr>\n      <th>4</th>\n      <td>2016-08-7-MajAustr-1-67-26.txt</td>\n      <td>0.374457</td>\n      <td>0.008095</td>\n      <td>0.232753</td>\n      <td>0.181643</td>\n      <td>0.203052</td>\n      <td>2016</td>\n      <td>ajA</td>\n    </tr>\n    <tr>\n      <th>...</th>\n      <td>...</td>\n      <td>...</td>\n      <td>...</td>\n      <td>...</td>\n      <td>...</td>\n      <td>...</td>\n      <td>...</td>\n      <td>...</td>\n    </tr>\n    <tr>\n      <th>106</th>\n      <td>2016-02-18-MajAustr-1-67-1.txt</td>\n      <td>0.398105</td>\n      <td>0.038285</td>\n      <td>0.406461</td>\n      <td>0.057571</td>\n      <td>0.099578</td>\n      <td>2016</td>\n      <td>Maj</td>\n    </tr>\n    <tr>\n      <th>112</th>\n      <td>2014-09-08-CDaily-1-10-9.txt</td>\n      <td>0.369046</td>\n      <td>0.000000</td>\n      <td>0.156535</td>\n      <td>0.378469</td>\n      <td>0.095950</td>\n      <td>2014</td>\n      <td>CDa</td>\n    </tr>\n    <tr>\n      <th>115</th>\n      <td>2011-08-2-MajAustr-1-67-60.txt</td>\n      <td>0.376311</td>\n      <td>0.000000</td>\n      <td>0.109846</td>\n      <td>0.453747</td>\n      <td>0.060097</td>\n      <td>2011</td>\n      <td>ajA</td>\n    </tr>\n    <tr>\n      <th>116</th>\n      <td>2020-08-8-MajAustr-1-67-3.txt</td>\n      <td>0.277453</td>\n      <td>0.151180</td>\n      <td>0.070926</td>\n      <td>0.165493</td>\n      <td>0.334948</td>\n      <td>2020</td>\n      <td>ajA</td>\n    </tr>\n    <tr>\n      <th>119</th>\n      <td>2016-09-14-MajAustr-1-67-25.txt</td>\n      <td>0.271974</td>\n      <td>0.154557</td>\n      <td>0.134024</td>\n      <td>0.100942</td>\n      <td>0.338503</td>\n      <td>2016</td>\n      <td>Maj</td>\n    </tr>\n  </tbody>\n</table>\n<p>106 rows × 8 columns</p>\n</div>",
          "text/plain": "                             Articles   Topic_0   Topic_1   Topic_2   Topic_3  \\\n0      2002-03-1-MajAustr-1-67-61.txt  0.734406  0.031050  0.052941  0.121928   \n1      2018-01-24-MajAustr-1-67-2.txt  0.627873  0.004257  0.183715  0.125618   \n2    2017-11-22-Independent-1-9-4.txt  0.944391  0.000000  0.000000  0.055609   \n3          2017-09-27-Times-1-9-4.txt  0.874172  0.000000  0.125828  0.000000   \n4      2016-08-7-MajAustr-1-67-26.txt  0.374457  0.008095  0.232753  0.181643   \n..                                ...       ...       ...       ...       ...   \n106    2016-02-18-MajAustr-1-67-1.txt  0.398105  0.038285  0.406461  0.057571   \n112      2014-09-08-CDaily-1-10-9.txt  0.369046  0.000000  0.156535  0.378469   \n115    2011-08-2-MajAustr-1-67-60.txt  0.376311  0.000000  0.109846  0.453747   \n116     2020-08-8-MajAustr-1-67-3.txt  0.277453  0.151180  0.070926  0.165493   \n119   2016-09-14-MajAustr-1-67-25.txt  0.271974  0.154557  0.134024  0.100942   \n\n      Topic_4  Year Newspaper  \n0    0.059674  2002       ajA  \n1    0.058536  2018       Maj  \n2    0.000000  2017       Ind  \n3    0.000000  2017       Tim  \n4    0.203052  2016       ajA  \n..        ...   ...       ...  \n106  0.099578  2016       Maj  \n112  0.095950  2014       CDa  \n115  0.060097  2011       ajA  \n116  0.334948  2020       ajA  \n119  0.338503  2016       Maj  \n\n[106 rows x 8 columns]"
         },
         "metadata": {},
         "output_type": "display_data"
        }
       ]
      }
     },
     "46e50598c0a84da682b6d5acee168d56": {
      "model_module": "@jupyter-widgets/base",
      "model_module_version": "1.2.0",
      "model_name": "LayoutModel",
      "state": {}
     },
     "4b23ef7fe3e84d019f7775cffa8c70b6": {
      "model_module": "@jupyter-widgets/controls",
      "model_module_version": "1.5.0",
      "model_name": "DropdownModel",
      "state": {
       "_options_labels": [
        "brbg",
        "prgn",
        "piyg",
        "puor",
        "rdbu",
        "rdgy",
        "rdylbu",
        "rdylgn",
        "spectral",
        "paired",
        "set3",
        "dflt",
        "original",
        "plotly",
        "henanigans",
        "accent",
        "dark2",
        "pastel1",
        "pastel2",
        "set1",
        "set2",
        "blues",
        "bugn",
        "bupu",
        "gnbu",
        "greens",
        "greys",
        "orrd",
        "oranges",
        "pubu",
        "pubugn",
        "purd",
        "purples",
        "rdpu",
        "reds",
        "ylgn",
        "ylgnbu",
        "ylorbr",
        "ylorrd",
        "ggplot",
        "polar"
       ],
       "description": "colorscale",
       "index": 0,
       "layout": "IPY_MODEL_11904ab23aa74db1acf6fcc3613b6a0b",
       "style": "IPY_MODEL_8c36d68cbcfc4a57843489dd8cf11f51"
      }
     },
     "4ca8838cc18e40edb171ac37f56fce4c": {
      "model_module": "@jupyter-widgets/base",
      "model_module_version": "1.2.0",
      "model_name": "LayoutModel",
      "state": {}
     },
     "5752ef7a26f446708626acc8c839bbe2": {
      "model_module": "@jupyter-widgets/controls",
      "model_module_version": "1.5.0",
      "model_name": "DropdownModel",
      "state": {
       "_options_labels": [
        "Topic_0",
        "Topic_1",
        "Topic_2",
        "Topic_3",
        "Topic_4"
       ],
       "description": "topics",
       "index": 0,
       "layout": "IPY_MODEL_86c5b96020114d3a8d4852244ef79784",
       "style": "IPY_MODEL_f6cd189687e144c5ae4b05cb40af6a79"
      }
     },
     "57617844419f48caa334a0842181fa32": {
      "model_module": "@jupyter-widgets/controls",
      "model_module_version": "1.5.0",
      "model_name": "DescriptionStyleModel",
      "state": {
       "description_width": ""
      }
     },
     "57649e0ca70e4f2183bf1c8d519036a3": {
      "model_module": "@jupyter-widgets/output",
      "model_module_version": "1.0.0",
      "model_name": "OutputModel",
      "state": {
       "layout": "IPY_MODEL_d8bcb58c1d4247ad9a3db10e8f8a2398",
       "outputs": [
        {
         "data": {
          "image/png": "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\n",
          "text/plain": "<Figure size 864x576 with 1 Axes>"
         },
         "metadata": {
          "needs_background": "light"
         },
         "output_type": "display_data"
        }
       ]
      }
     },
     "61233942847448ad9b275143852b52cc": {
      "model_module": "@jupyter-widgets/controls",
      "model_module_version": "1.5.0",
      "model_name": "DescriptionStyleModel",
      "state": {
       "description_width": ""
      }
     },
     "66d3b34b52ca49a894a00bab10b7a71a": {
      "model_module": "@jupyter-widgets/base",
      "model_module_version": "1.2.0",
      "model_name": "LayoutModel",
      "state": {}
     },
     "679cef14e59a4726bdc09e4c73a847ce": {
      "model_module": "@jupyter-widgets/controls",
      "model_module_version": "1.5.0",
      "model_name": "SelectMultipleModel",
      "state": {
       "_options_labels": [
        "Topic_0",
        "Topic_1",
        "Topic_2",
        "Topic_3",
        "Topic_4"
       ],
       "description": "Variables",
       "index": [
        1
       ],
       "layout": "IPY_MODEL_d172bf3b0631410e8df2d21d2931ccce",
       "rows": 5,
       "style": "IPY_MODEL_61233942847448ad9b275143852b52cc"
      }
     },
     "684aeb5dac4c4ab0ba65f2f85bdafd24": {
      "model_module": "@jupyter-widgets/base",
      "model_module_version": "1.2.0",
      "model_name": "LayoutModel",
      "state": {}
     },
     "6a2a42f1274446168e007e4edec99c25": {
      "model_module": "@jupyter-widgets/controls",
      "model_module_version": "1.5.0",
      "model_name": "DropdownModel",
      "state": {
       "_options_labels": [
        "2002",
        "2018",
        "2017",
        "2016",
        "2015",
        "2014",
        "2021",
        "2020",
        "2019",
        "2010",
        "2013",
        "2009",
        "2008",
        "2007",
        "2006",
        "2005",
        "2004",
        "2003",
        "2011",
        "2012"
       ],
       "description": "year",
       "index": 0,
       "layout": "IPY_MODEL_dd06414693e24905a9920c9f7566d39a",
       "style": "IPY_MODEL_f319db7dc3544758a14d5104d1778fb9"
      }
     },
     "6ec4f2cb3087439499aab1deabf6c55c": {
      "model_module": "@jupyter-widgets/base",
      "model_module_version": "1.2.0",
      "model_name": "LayoutModel",
      "state": {}
     },
     "6fb0014eabca48e2ae63f1c45d788adc": {
      "model_module": "@jupyter-widgets/controls",
      "model_module_version": "1.5.0",
      "model_name": "DropdownModel",
      "state": {
       "_options_labels": [
        "Topic_0",
        "Topic_1",
        "Topic_2",
        "Topic_3",
        "Topic_4"
       ],
       "description": "column",
       "index": 0,
       "layout": "IPY_MODEL_27829d8993aa47ea818b2299276c1867",
       "style": "IPY_MODEL_b5b1c8c9d40747e1b55de7f42d247f0f"
      }
     },
     "72ce3008faf641d3abeb38d69f5da399": {
      "model_module": "@jupyter-widgets/controls",
      "model_module_version": "1.5.0",
      "model_name": "DropdownModel",
      "state": {
       "_options_labels": [
        "Topic_0",
        "Topic_1",
        "Topic_2",
        "Topic_3"
       ],
       "description": "y",
       "index": 0,
       "layout": "IPY_MODEL_8d3cb3e61a564f55a4607f81e69d7042",
       "style": "IPY_MODEL_e3199b9754994cdfbdb5ad76a394422a"
      }
     },
     "73f1691c2d46499da9cd4535f3dde1ab": {
      "model_module": "@jupyter-widgets/controls",
      "model_module_version": "1.5.0",
      "model_name": "VBoxModel",
      "state": {
       "_dom_classes": [
        "widget-interact"
       ],
       "children": [
        "IPY_MODEL_124e36b9a9194391aaec39d703e01ab5",
        "IPY_MODEL_2694fb2e553e4faab289d756d192db8a",
        "IPY_MODEL_10b98380623b4885859b0557b6f40cab"
       ],
       "layout": "IPY_MODEL_66d3b34b52ca49a894a00bab10b7a71a"
      }
     },
     "7712218abc364b28b08d688272dac3bd": {
      "model_module": "@jupyter-widgets/output",
      "model_module_version": "1.0.0",
      "model_name": "OutputModel",
      "state": {
       "layout": "IPY_MODEL_a97cd4dedac04d54a605250614ceec79",
       "outputs": [
        {
         "data": {
          "application/vnd.plotly.v1+json": {
           "config": {
            "linkText": "Export to plot.ly",
            "plotlyServerURL": "https://plot.ly",
            "showLink": true
           },
           "data": [
            {
             "line": {
              "color": "rgba(216, 179, 101, 1.0)",
              "dash": "solid",
              "shape": "linear",
              "width": 1.3
             },
             "marker": {
              "size": 12,
              "symbol": "circle"
             },
             "mode": "markers",
             "name": "Topic_0",
             "text": "",
             "type": "scatter",
             "x": [
              2002,
              2003,
              2004,
              2004,
              2004,
              2005,
              2005,
              2006,
              2006,
              2006,
              2006,
              2007,
              2007,
              2007,
              2007,
              2007,
              2007,
              2007,
              2007,
              2007,
              2008,
              2008,
              2008,
              2008,
              2009,
              2009,
              2010,
              2010,
              2010,
              2010,
              2010,
              2011,
              2011,
              2011,
              2011,
              2011,
              2011,
              2011,
              2011,
              2012,
              2012,
              2012,
              2012,
              2012,
              2012,
              2012,
              2012,
              2013,
              2013,
              2013,
              2013,
              2013,
              2013,
              2014,
              2014,
              2014,
              2014,
              2014,
              2014,
              2014,
              2014,
              2014,
              2014,
              2014,
              2015,
              2015,
              2015,
              2015,
              2015,
              2015,
              2015,
              2015,
              2015,
              2015,
              2016,
              2016,
              2016,
              2016,
              2016,
              2016,
              2016,
              2016,
              2016,
              2016,
              2017,
              2017,
              2017,
              2017,
              2018,
              2018,
              2018,
              2018,
              2018,
              2018,
              2018,
              2018,
              2019,
              2019,
              2019,
              2019,
              2019,
              2019,
              2019,
              2020,
              2020,
              2020,
              2020,
              2020,
              2020,
              2020,
              2020,
              2020,
              2020,
              2020,
              2020,
              2020,
              2020,
              2020,
              2020,
              2021,
              2021
             ],
             "y": [
              0.7344061409198571,
              0.7597036666329167,
              0.7492368149093654,
              0.6527171523621804,
              0.34490149872463755,
              0,
              0.9008021778597286,
              0.899488597435661,
              1,
              0.9996504027463158,
              1,
              0.9738614587047658,
              0.10629255975187656,
              1,
              1,
              0.9521310247604018,
              0.8565135569983355,
              0.3920245807179755,
              0.5300874798687131,
              0.7113588987991732,
              0.14396416486552166,
              1,
              0.6110042490550418,
              0.3935387981171423,
              0,
              0.3577030599844152,
              0.8442883769581547,
              0.6256817168302639,
              0.6214155508842455,
              0.6343020017396273,
              0.9433091653017932,
              1,
              0.9896180486940988,
              0.17636685644087302,
              1,
              0,
              0.8027734048987042,
              0.3763106454601789,
              0.4907685926764458,
              1,
              0.14922695939718655,
              0.7479775539121593,
              0.4225963532187188,
              0.3627835308615009,
              0.7597036666329167,
              0.9065173879772662,
              0,
              1,
              0.5198285480881698,
              0.8493560193089246,
              1,
              0.443391134820662,
              0,
              0.6988648702796134,
              0.5744721265680484,
              0.3604403462344056,
              0.3690464031633646,
              0.9252767879536472,
              0,
              0.7450331131401344,
              0.10629255975187656,
              0.4236393119472482,
              0.9979731324601794,
              0.4623128674167203,
              0,
              0,
              0,
              1,
              0.8358829253168585,
              0.9870341176429888,
              0.8960593281181176,
              1,
              0,
              0.5184134928674476,
              0.24034847789903635,
              0.3981045809887095,
              0.9241018040150836,
              0.8630301494459149,
              0.4377120668318998,
              0.9885073455216824,
              0.4804504627800655,
              0.9223320688883648,
              0.2719736874868897,
              0.3744570392533345,
              0.8741718135891964,
              0,
              0,
              0.9443913830340503,
              0.762287427375555,
              0.9906129766746704,
              0.6278734790418946,
              0.8051865469762669,
              0.8943126169662886,
              0.3700570908442475,
              0.785358033348883,
              1,
              1,
              0,
              0.543227892428469,
              0.6310253039203255,
              0.4198808026618197,
              0.5838631453142531,
              0.9913063075291496,
              0.3023065120096851,
              1,
              0.4123877095256173,
              1,
              0.2774525822691715,
              0.5188051172739666,
              0.9415597162092296,
              0,
              0.6139981152290693,
              0.454757620510433,
              1,
              0.9659987611128702,
              0.9673783352960788,
              1,
              0.9561677366763291,
              0,
              1,
              0.6946825994538436
             ]
            }
           ],
           "layout": {
            "autosize": true,
            "legend": {
             "bgcolor": "#FFFFFF",
             "font": {
              "color": "#666666"
             }
            },
            "paper_bgcolor": "#FFFFFF",
            "plot_bgcolor": "#E5E5E5",
            "template": {
             "data": {
              "bar": [
               {
                "error_x": {
                 "color": "#2a3f5f"
                },
                "error_y": {
                 "color": "#2a3f5f"
                },
                "marker": {
                 "line": {
                  "color": "#E5ECF6",
                  "width": 0.5
                 },
                 "pattern": {
                  "fillmode": "overlay",
                  "size": 10,
                  "solidity": 0.2
                 }
                },
                "type": "bar"
               }
              ],
              "barpolar": [
               {
                "marker": {
                 "line": {
                  "color": "#E5ECF6",
                  "width": 0.5
                 },
                 "pattern": {
                  "fillmode": "overlay",
                  "size": 10,
                  "solidity": 0.2
                 }
                },
                "type": "barpolar"
               }
              ],
              "carpet": [
               {
                "aaxis": {
                 "endlinecolor": "#2a3f5f",
                 "gridcolor": "white",
                 "linecolor": "white",
                 "minorgridcolor": "white",
                 "startlinecolor": "#2a3f5f"
                },
                "baxis": {
                 "endlinecolor": "#2a3f5f",
                 "gridcolor": "white",
                 "linecolor": "white",
                 "minorgridcolor": "white",
                 "startlinecolor": "#2a3f5f"
                },
                "type": "carpet"
               }
              ],
              "choropleth": [
               {
                "colorbar": {
                 "outlinewidth": 0,
                 "ticks": ""
                },
                "type": "choropleth"
               }
              ],
              "contour": [
               {
                "colorbar": {
                 "outlinewidth": 0,
                 "ticks": ""
                },
                "colorscale": [
                 [
                  0,
                  "#0d0887"
                 ],
                 [
                  0.1111111111111111,
                  "#46039f"
                 ],
                 [
                  0.2222222222222222,
                  "#7201a8"
                 ],
                 [
                  0.3333333333333333,
                  "#9c179e"
                 ],
                 [
                  0.4444444444444444,
                  "#bd3786"
                 ],
                 [
                  0.5555555555555556,
                  "#d8576b"
                 ],
                 [
                  0.6666666666666666,
                  "#ed7953"
                 ],
                 [
                  0.7777777777777778,
                  "#fb9f3a"
                 ],
                 [
                  0.8888888888888888,
                  "#fdca26"
                 ],
                 [
                  1,
                  "#f0f921"
                 ]
                ],
                "type": "contour"
               }
              ],
              "contourcarpet": [
               {
                "colorbar": {
                 "outlinewidth": 0,
                 "ticks": ""
                },
                "type": "contourcarpet"
               }
              ],
              "heatmap": [
               {
                "colorbar": {
                 "outlinewidth": 0,
                 "ticks": ""
                },
                "colorscale": [
                 [
                  0,
                  "#0d0887"
                 ],
                 [
                  0.1111111111111111,
                  "#46039f"
                 ],
                 [
                  0.2222222222222222,
                  "#7201a8"
                 ],
                 [
                  0.3333333333333333,
                  "#9c179e"
                 ],
                 [
                  0.4444444444444444,
                  "#bd3786"
                 ],
                 [
                  0.5555555555555556,
                  "#d8576b"
                 ],
                 [
                  0.6666666666666666,
                  "#ed7953"
                 ],
                 [
                  0.7777777777777778,
                  "#fb9f3a"
                 ],
                 [
                  0.8888888888888888,
                  "#fdca26"
                 ],
                 [
                  1,
                  "#f0f921"
                 ]
                ],
                "type": "heatmap"
               }
              ],
              "heatmapgl": [
               {
                "colorbar": {
                 "outlinewidth": 0,
                 "ticks": ""
                },
                "colorscale": [
                 [
                  0,
                  "#0d0887"
                 ],
                 [
                  0.1111111111111111,
                  "#46039f"
                 ],
                 [
                  0.2222222222222222,
                  "#7201a8"
                 ],
                 [
                  0.3333333333333333,
                  "#9c179e"
                 ],
                 [
                  0.4444444444444444,
                  "#bd3786"
                 ],
                 [
                  0.5555555555555556,
                  "#d8576b"
                 ],
                 [
                  0.6666666666666666,
                  "#ed7953"
                 ],
                 [
                  0.7777777777777778,
                  "#fb9f3a"
                 ],
                 [
                  0.8888888888888888,
                  "#fdca26"
                 ],
                 [
                  1,
                  "#f0f921"
                 ]
                ],
                "type": "heatmapgl"
               }
              ],
              "histogram": [
               {
                "marker": {
                 "pattern": {
                  "fillmode": "overlay",
                  "size": 10,
                  "solidity": 0.2
                 }
                },
                "type": "histogram"
               }
              ],
              "histogram2d": [
               {
                "colorbar": {
                 "outlinewidth": 0,
                 "ticks": ""
                },
                "colorscale": [
                 [
                  0,
                  "#0d0887"
                 ],
                 [
                  0.1111111111111111,
                  "#46039f"
                 ],
                 [
                  0.2222222222222222,
                  "#7201a8"
                 ],
                 [
                  0.3333333333333333,
                  "#9c179e"
                 ],
                 [
                  0.4444444444444444,
                  "#bd3786"
                 ],
                 [
                  0.5555555555555556,
                  "#d8576b"
                 ],
                 [
                  0.6666666666666666,
                  "#ed7953"
                 ],
                 [
                  0.7777777777777778,
                  "#fb9f3a"
                 ],
                 [
                  0.8888888888888888,
                  "#fdca26"
                 ],
                 [
                  1,
                  "#f0f921"
                 ]
                ],
                "type": "histogram2d"
               }
              ],
              "histogram2dcontour": [
               {
                "colorbar": {
                 "outlinewidth": 0,
                 "ticks": ""
                },
                "colorscale": [
                 [
                  0,
                  "#0d0887"
                 ],
                 [
                  0.1111111111111111,
                  "#46039f"
                 ],
                 [
                  0.2222222222222222,
                  "#7201a8"
                 ],
                 [
                  0.3333333333333333,
                  "#9c179e"
                 ],
                 [
                  0.4444444444444444,
                  "#bd3786"
                 ],
                 [
                  0.5555555555555556,
                  "#d8576b"
                 ],
                 [
                  0.6666666666666666,
                  "#ed7953"
                 ],
                 [
                  0.7777777777777778,
                  "#fb9f3a"
                 ],
                 [
                  0.8888888888888888,
                  "#fdca26"
                 ],
                 [
                  1,
                  "#f0f921"
                 ]
                ],
                "type": "histogram2dcontour"
               }
              ],
              "mesh3d": [
               {
                "colorbar": {
                 "outlinewidth": 0,
                 "ticks": ""
                },
                "type": "mesh3d"
               }
              ],
              "parcoords": [
               {
                "line": {
                 "colorbar": {
                  "outlinewidth": 0,
                  "ticks": ""
                 }
                },
                "type": "parcoords"
               }
              ],
              "pie": [
               {
                "automargin": true,
                "type": "pie"
               }
              ],
              "scatter": [
               {
                "marker": {
                 "colorbar": {
                  "outlinewidth": 0,
                  "ticks": ""
                 }
                },
                "type": "scatter"
               }
              ],
              "scatter3d": [
               {
                "line": {
                 "colorbar": {
                  "outlinewidth": 0,
                  "ticks": ""
                 }
                },
                "marker": {
                 "colorbar": {
                  "outlinewidth": 0,
                  "ticks": ""
                 }
                },
                "type": "scatter3d"
               }
              ],
              "scattercarpet": [
               {
                "marker": {
                 "colorbar": {
                  "outlinewidth": 0,
                  "ticks": ""
                 }
                },
                "type": "scattercarpet"
               }
              ],
              "scattergeo": [
               {
                "marker": {
                 "colorbar": {
                  "outlinewidth": 0,
                  "ticks": ""
                 }
                },
                "type": "scattergeo"
               }
              ],
              "scattergl": [
               {
                "marker": {
                 "colorbar": {
                  "outlinewidth": 0,
                  "ticks": ""
                 }
                },
                "type": "scattergl"
               }
              ],
              "scattermapbox": [
               {
                "marker": {
                 "colorbar": {
                  "outlinewidth": 0,
                  "ticks": ""
                 }
                },
                "type": "scattermapbox"
               }
              ],
              "scatterpolar": [
               {
                "marker": {
                 "colorbar": {
                  "outlinewidth": 0,
                  "ticks": ""
                 }
                },
                "type": "scatterpolar"
               }
              ],
              "scatterpolargl": [
               {
                "marker": {
                 "colorbar": {
                  "outlinewidth": 0,
                  "ticks": ""
                 }
                },
                "type": "scatterpolargl"
               }
              ],
              "scatterternary": [
               {
                "marker": {
                 "colorbar": {
                  "outlinewidth": 0,
                  "ticks": ""
                 }
                },
                "type": "scatterternary"
               }
              ],
              "surface": [
               {
                "colorbar": {
                 "outlinewidth": 0,
                 "ticks": ""
                },
                "colorscale": [
                 [
                  0,
                  "#0d0887"
                 ],
                 [
                  0.1111111111111111,
                  "#46039f"
                 ],
                 [
                  0.2222222222222222,
                  "#7201a8"
                 ],
                 [
                  0.3333333333333333,
                  "#9c179e"
                 ],
                 [
                  0.4444444444444444,
                  "#bd3786"
                 ],
                 [
                  0.5555555555555556,
                  "#d8576b"
                 ],
                 [
                  0.6666666666666666,
                  "#ed7953"
                 ],
                 [
                  0.7777777777777778,
                  "#fb9f3a"
                 ],
                 [
                  0.8888888888888888,
                  "#fdca26"
                 ],
                 [
                  1,
                  "#f0f921"
                 ]
                ],
                "type": "surface"
               }
              ],
              "table": [
               {
                "cells": {
                 "fill": {
                  "color": "#EBF0F8"
                 },
                 "line": {
                  "color": "white"
                 }
                },
                "header": {
                 "fill": {
                  "color": "#C8D4E3"
                 },
                 "line": {
                  "color": "white"
                 }
                },
                "type": "table"
               }
              ]
             },
             "layout": {
              "annotationdefaults": {
               "arrowcolor": "#2a3f5f",
               "arrowhead": 0,
               "arrowwidth": 1
              },
              "autotypenumbers": "strict",
              "coloraxis": {
               "colorbar": {
                "outlinewidth": 0,
                "ticks": ""
               }
              },
              "colorscale": {
               "diverging": [
                [
                 0,
                 "#8e0152"
                ],
                [
                 0.1,
                 "#c51b7d"
                ],
                [
                 0.2,
                 "#de77ae"
                ],
                [
                 0.3,
                 "#f1b6da"
                ],
                [
                 0.4,
                 "#fde0ef"
                ],
                [
                 0.5,
                 "#f7f7f7"
                ],
                [
                 0.6,
                 "#e6f5d0"
                ],
                [
                 0.7,
                 "#b8e186"
                ],
                [
                 0.8,
                 "#7fbc41"
                ],
                [
                 0.9,
                 "#4d9221"
                ],
                [
                 1,
                 "#276419"
                ]
               ],
               "sequential": [
                [
                 0,
                 "#0d0887"
                ],
                [
                 0.1111111111111111,
                 "#46039f"
                ],
                [
                 0.2222222222222222,
                 "#7201a8"
                ],
                [
                 0.3333333333333333,
                 "#9c179e"
                ],
                [
                 0.4444444444444444,
                 "#bd3786"
                ],
                [
                 0.5555555555555556,
                 "#d8576b"
                ],
                [
                 0.6666666666666666,
                 "#ed7953"
                ],
                [
                 0.7777777777777778,
                 "#fb9f3a"
                ],
                [
                 0.8888888888888888,
                 "#fdca26"
                ],
                [
                 1,
                 "#f0f921"
                ]
               ],
               "sequentialminus": [
                [
                 0,
                 "#0d0887"
                ],
                [
                 0.1111111111111111,
                 "#46039f"
                ],
                [
                 0.2222222222222222,
                 "#7201a8"
                ],
                [
                 0.3333333333333333,
                 "#9c179e"
                ],
                [
                 0.4444444444444444,
                 "#bd3786"
                ],
                [
                 0.5555555555555556,
                 "#d8576b"
                ],
                [
                 0.6666666666666666,
                 "#ed7953"
                ],
                [
                 0.7777777777777778,
                 "#fb9f3a"
                ],
                [
                 0.8888888888888888,
                 "#fdca26"
                ],
                [
                 1,
                 "#f0f921"
                ]
               ]
              },
              "colorway": [
               "#636efa",
               "#EF553B",
               "#00cc96",
               "#ab63fa",
               "#FFA15A",
               "#19d3f3",
               "#FF6692",
               "#B6E880",
               "#FF97FF",
               "#FECB52"
              ],
              "font": {
               "color": "#2a3f5f"
              },
              "geo": {
               "bgcolor": "white",
               "lakecolor": "white",
               "landcolor": "#E5ECF6",
               "showlakes": true,
               "showland": true,
               "subunitcolor": "white"
              },
              "hoverlabel": {
               "align": "left"
              },
              "hovermode": "closest",
              "mapbox": {
               "style": "light"
              },
              "paper_bgcolor": "white",
              "plot_bgcolor": "#E5ECF6",
              "polar": {
               "angularaxis": {
                "gridcolor": "white",
                "linecolor": "white",
                "ticks": ""
               },
               "bgcolor": "#E5ECF6",
               "radialaxis": {
                "gridcolor": "white",
                "linecolor": "white",
                "ticks": ""
               }
              },
              "scene": {
               "xaxis": {
                "backgroundcolor": "#E5ECF6",
                "gridcolor": "white",
                "gridwidth": 2,
                "linecolor": "white",
                "showbackground": true,
                "ticks": "",
                "zerolinecolor": "white"
               },
               "yaxis": {
                "backgroundcolor": "#E5ECF6",
                "gridcolor": "white",
                "gridwidth": 2,
                "linecolor": "white",
                "showbackground": true,
                "ticks": "",
                "zerolinecolor": "white"
               },
               "zaxis": {
                "backgroundcolor": "#E5ECF6",
                "gridcolor": "white",
                "gridwidth": 2,
                "linecolor": "white",
                "showbackground": true,
                "ticks": "",
                "zerolinecolor": "white"
               }
              },
              "shapedefaults": {
               "line": {
                "color": "#2a3f5f"
               }
              },
              "ternary": {
               "aaxis": {
                "gridcolor": "white",
                "linecolor": "white",
                "ticks": ""
               },
               "baxis": {
                "gridcolor": "white",
                "linecolor": "white",
                "ticks": ""
               },
               "bgcolor": "#E5ECF6",
               "caxis": {
                "gridcolor": "white",
                "linecolor": "white",
                "ticks": ""
               }
              },
              "title": {
               "x": 0.05
              },
              "xaxis": {
               "automargin": true,
               "gridcolor": "white",
               "linecolor": "white",
               "ticks": "",
               "title": {
                "standoff": 15
               },
               "zerolinecolor": "white",
               "zerolinewidth": 2
              },
              "yaxis": {
               "automargin": true,
               "gridcolor": "white",
               "linecolor": "white",
               "ticks": "",
               "title": {
                "standoff": 15
               },
               "zerolinecolor": "white",
               "zerolinewidth": 2
              }
             }
            },
            "title": {
             "font": {
              "color": "#151516"
             },
             "text": "Topic_0 on Year"
            },
            "xaxis": {
             "autorange": true,
             "gridcolor": "#F6F6F6",
             "range": [
              2000.8049682875264,
              2022.1950317124736
             ],
             "showgrid": true,
             "tickfont": {
              "color": "#666666"
             },
             "title": {
              "font": {
               "color": "#666666"
              },
              "text": "Year"
             },
             "type": "linear",
             "zerolinecolor": "#F6F6F6"
            },
            "yaxis": {
             "autorange": true,
             "gridcolor": "#F6F6F6",
             "range": [
              -0.11224489795918367,
              1.1122448979591837
             ],
             "showgrid": true,
             "tickfont": {
              "color": "#666666"
             },
             "title": {
              "font": {
               "color": "#666666"
              },
              "text": "Topic_0"
             },
             "type": "linear",
             "zerolinecolor": "#F6F6F6"
            }
           }
          },
          "text/html": "<div>                            <div id=\"a9ff3384-c7cc-4c36-b4ca-9b1308a455f3\" class=\"plotly-graph-div\" style=\"height:525px; width:100%;\"></div>            <script type=\"text/javascript\">                require([\"plotly\"], function(Plotly) {                    window.PLOTLYENV=window.PLOTLYENV || {};\n                    window.PLOTLYENV.BASE_URL='https://plot.ly';                                    if (document.getElementById(\"a9ff3384-c7cc-4c36-b4ca-9b1308a455f3\")) {                    Plotly.newPlot(                        \"a9ff3384-c7cc-4c36-b4ca-9b1308a455f3\",                        [{\"line\":{\"color\":\"rgba(216, 179, 101, 1.0)\",\"dash\":\"solid\",\"shape\":\"linear\",\"width\":1.3},\"marker\":{\"size\":12,\"symbol\":\"circle\"},\"mode\":\"markers\",\"name\":\"Topic_0\",\"text\":\"\",\"x\":[2002,2003,2004,2004,2004,2005,2005,2006,2006,2006,2006,2007,2007,2007,2007,2007,2007,2007,2007,2007,2008,2008,2008,2008,2009,2009,2010,2010,2010,2010,2010,2011,2011,2011,2011,2011,2011,2011,2011,2012,2012,2012,2012,2012,2012,2012,2012,2013,2013,2013,2013,2013,2013,2014,2014,2014,2014,2014,2014,2014,2014,2014,2014,2014,2015,2015,2015,2015,2015,2015,2015,2015,2015,2015,2016,2016,2016,2016,2016,2016,2016,2016,2016,2016,2017,2017,2017,2017,2018,2018,2018,2018,2018,2018,2018,2018,2019,2019,2019,2019,2019,2019,2019,2020,2020,2020,2020,2020,2020,2020,2020,2020,2020,2020,2020,2020,2020,2020,2020,2021,2021],\"y\":[0.7344061409198571,0.7597036666329167,0.7492368149093654,0.6527171523621804,0.34490149872463755,0.0,0.9008021778597286,0.899488597435661,1.0,0.9996504027463158,1.0,0.9738614587047658,0.10629255975187656,1.0,1.0,0.9521310247604018,0.8565135569983355,0.3920245807179755,0.5300874798687131,0.7113588987991732,0.14396416486552166,1.0,0.6110042490550418,0.3935387981171423,0.0,0.3577030599844152,0.8442883769581547,0.6256817168302639,0.6214155508842455,0.6343020017396273,0.9433091653017932,1.0,0.9896180486940988,0.17636685644087302,1.0,0.0,0.8027734048987042,0.3763106454601789,0.4907685926764458,1.0,0.14922695939718655,0.7479775539121593,0.4225963532187188,0.3627835308615009,0.7597036666329167,0.9065173879772662,0.0,1.0,0.5198285480881698,0.8493560193089246,1.0,0.443391134820662,0.0,0.6988648702796134,0.5744721265680484,0.3604403462344056,0.3690464031633646,0.9252767879536472,0.0,0.7450331131401344,0.10629255975187656,0.4236393119472482,0.9979731324601794,0.4623128674167203,0.0,0.0,0.0,1.0,0.8358829253168585,0.9870341176429888,0.8960593281181176,1.0,0.0,0.5184134928674476,0.24034847789903635,0.3981045809887095,0.9241018040150836,0.8630301494459149,0.4377120668318998,0.9885073455216824,0.4804504627800655,0.9223320688883648,0.2719736874868897,0.3744570392533345,0.8741718135891964,0.0,0.0,0.9443913830340503,0.762287427375555,0.9906129766746704,0.6278734790418946,0.8051865469762669,0.8943126169662886,0.3700570908442475,0.785358033348883,1.0,1.0,0.0,0.543227892428469,0.6310253039203255,0.4198808026618197,0.5838631453142531,0.9913063075291496,0.3023065120096851,1.0,0.4123877095256173,1.0,0.2774525822691715,0.5188051172739666,0.9415597162092296,0.0,0.6139981152290693,0.454757620510433,1.0,0.9659987611128702,0.9673783352960788,1.0,0.9561677366763291,0.0,1.0,0.6946825994538436],\"type\":\"scatter\"}],                        {\"legend\":{\"bgcolor\":\"#FFFFFF\",\"font\":{\"color\":\"#666666\"}},\"paper_bgcolor\":\"#FFFFFF\",\"plot_bgcolor\":\"#E5E5E5\",\"template\":{\"data\":{\"barpolar\":[{\"marker\":{\"line\":{\"color\":\"#E5ECF6\",\"width\":0.5},\"pattern\":{\"fillmode\":\"overlay\",\"size\":10,\"solidity\":0.2}},\"type\":\"barpolar\"}],\"bar\":[{\"error_x\":{\"color\":\"#2a3f5f\"},\"error_y\":{\"color\":\"#2a3f5f\"},\"marker\":{\"line\":{\"color\":\"#E5ECF6\",\"width\":0.5},\"pattern\":{\"fillmode\":\"overlay\",\"size\":10,\"solidity\":0.2}},\"type\":\"bar\"}],\"carpet\":[{\"aaxis\":{\"endlinecolor\":\"#2a3f5f\",\"gridcolor\":\"white\",\"linecolor\":\"white\",\"minorgridcolor\":\"white\",\"startlinecolor\":\"#2a3f5f\"},\"baxis\":{\"endlinecolor\":\"#2a3f5f\",\"gridcolor\":\"white\",\"linecolor\":\"white\",\"minorgridcolor\":\"white\",\"startlinecolor\":\"#2a3f5f\"},\"type\":\"carpet\"}],\"choropleth\":[{\"colorbar\":{\"outlinewidth\":0,\"ticks\":\"\"},\"type\":\"choropleth\"}],\"contourcarpet\":[{\"colorbar\":{\"outlinewidth\":0,\"ticks\":\"\"},\"type\":\"contourcarpet\"}],\"contour\":[{\"colorbar\":{\"outlinewidth\":0,\"ticks\":\"\"},\"colorscale\":[[0.0,\"#0d0887\"],[0.1111111111111111,\"#46039f\"],[0.2222222222222222,\"#7201a8\"],[0.3333333333333333,\"#9c179e\"],[0.4444444444444444,\"#bd3786\"],[0.5555555555555556,\"#d8576b\"],[0.6666666666666666,\"#ed7953\"],[0.7777777777777778,\"#fb9f3a\"],[0.8888888888888888,\"#fdca26\"],[1.0,\"#f0f921\"]],\"type\":\"contour\"}],\"heatmapgl\":[{\"colorbar\":{\"outlinewidth\":0,\"ticks\":\"\"},\"colorscale\":[[0.0,\"#0d0887\"],[0.1111111111111111,\"#46039f\"],[0.2222222222222222,\"#7201a8\"],[0.3333333333333333,\"#9c179e\"],[0.4444444444444444,\"#bd3786\"],[0.5555555555555556,\"#d8576b\"],[0.6666666666666666,\"#ed7953\"],[0.7777777777777778,\"#fb9f3a\"],[0.8888888888888888,\"#fdca26\"],[1.0,\"#f0f921\"]],\"type\":\"heatmapgl\"}],\"heatmap\":[{\"colorbar\":{\"outlinewidth\":0,\"ticks\":\"\"},\"colorscale\":[[0.0,\"#0d0887\"],[0.1111111111111111,\"#46039f\"],[0.2222222222222222,\"#7201a8\"],[0.3333333333333333,\"#9c179e\"],[0.4444444444444444,\"#bd3786\"],[0.5555555555555556,\"#d8576b\"],[0.6666666666666666,\"#ed7953\"],[0.7777777777777778,\"#fb9f3a\"],[0.8888888888888888,\"#fdca26\"],[1.0,\"#f0f921\"]],\"type\":\"heatmap\"}],\"histogram2dcontour\":[{\"colorbar\":{\"outlinewidth\":0,\"ticks\":\"\"},\"colorscale\":[[0.0,\"#0d0887\"],[0.1111111111111111,\"#46039f\"],[0.2222222222222222,\"#7201a8\"],[0.3333333333333333,\"#9c179e\"],[0.4444444444444444,\"#bd3786\"],[0.5555555555555556,\"#d8576b\"],[0.6666666666666666,\"#ed7953\"],[0.7777777777777778,\"#fb9f3a\"],[0.8888888888888888,\"#fdca26\"],[1.0,\"#f0f921\"]],\"type\":\"histogram2dcontour\"}],\"histogram2d\":[{\"colorbar\":{\"outlinewidth\":0,\"ticks\":\"\"},\"colorscale\":[[0.0,\"#0d0887\"],[0.1111111111111111,\"#46039f\"],[0.2222222222222222,\"#7201a8\"],[0.3333333333333333,\"#9c179e\"],[0.4444444444444444,\"#bd3786\"],[0.5555555555555556,\"#d8576b\"],[0.6666666666666666,\"#ed7953\"],[0.7777777777777778,\"#fb9f3a\"],[0.8888888888888888,\"#fdca26\"],[1.0,\"#f0f921\"]],\"type\":\"histogram2d\"}],\"histogram\":[{\"marker\":{\"pattern\":{\"fillmode\":\"overlay\",\"size\":10,\"solidity\":0.2}},\"type\":\"histogram\"}],\"mesh3d\":[{\"colorbar\":{\"outlinewidth\":0,\"ticks\":\"\"},\"type\":\"mesh3d\"}],\"parcoords\":[{\"line\":{\"colorbar\":{\"outlinewidth\":0,\"ticks\":\"\"}},\"type\":\"parcoords\"}],\"pie\":[{\"automargin\":true,\"type\":\"pie\"}],\"scatter3d\":[{\"line\":{\"colorbar\":{\"outlinewidth\":0,\"ticks\":\"\"}},\"marker\":{\"colorbar\":{\"outlinewidth\":0,\"ticks\":\"\"}},\"type\":\"scatter3d\"}],\"scattercarpet\":[{\"marker\":{\"colorbar\":{\"outlinewidth\":0,\"ticks\":\"\"}},\"type\":\"scattercarpet\"}],\"scattergeo\":[{\"marker\":{\"colorbar\":{\"outlinewidth\":0,\"ticks\":\"\"}},\"type\":\"scattergeo\"}],\"scattergl\":[{\"marker\":{\"colorbar\":{\"outlinewidth\":0,\"ticks\":\"\"}},\"type\":\"scattergl\"}],\"scattermapbox\":[{\"marker\":{\"colorbar\":{\"outlinewidth\":0,\"ticks\":\"\"}},\"type\":\"scattermapbox\"}],\"scatterpolargl\":[{\"marker\":{\"colorbar\":{\"outlinewidth\":0,\"ticks\":\"\"}},\"type\":\"scatterpolargl\"}],\"scatterpolar\":[{\"marker\":{\"colorbar\":{\"outlinewidth\":0,\"ticks\":\"\"}},\"type\":\"scatterpolar\"}],\"scatter\":[{\"marker\":{\"colorbar\":{\"outlinewidth\":0,\"ticks\":\"\"}},\"type\":\"scatter\"}],\"scatterternary\":[{\"marker\":{\"colorbar\":{\"outlinewidth\":0,\"ticks\":\"\"}},\"type\":\"scatterternary\"}],\"surface\":[{\"colorbar\":{\"outlinewidth\":0,\"ticks\":\"\"},\"colorscale\":[[0.0,\"#0d0887\"],[0.1111111111111111,\"#46039f\"],[0.2222222222222222,\"#7201a8\"],[0.3333333333333333,\"#9c179e\"],[0.4444444444444444,\"#bd3786\"],[0.5555555555555556,\"#d8576b\"],[0.6666666666666666,\"#ed7953\"],[0.7777777777777778,\"#fb9f3a\"],[0.8888888888888888,\"#fdca26\"],[1.0,\"#f0f921\"]],\"type\":\"surface\"}],\"table\":[{\"cells\":{\"fill\":{\"color\":\"#EBF0F8\"},\"line\":{\"color\":\"white\"}},\"header\":{\"fill\":{\"color\":\"#C8D4E3\"},\"line\":{\"color\":\"white\"}},\"type\":\"table\"}]},\"layout\":{\"annotationdefaults\":{\"arrowcolor\":\"#2a3f5f\",\"arrowhead\":0,\"arrowwidth\":1},\"autotypenumbers\":\"strict\",\"coloraxis\":{\"colorbar\":{\"outlinewidth\":0,\"ticks\":\"\"}},\"colorscale\":{\"diverging\":[[0,\"#8e0152\"],[0.1,\"#c51b7d\"],[0.2,\"#de77ae\"],[0.3,\"#f1b6da\"],[0.4,\"#fde0ef\"],[0.5,\"#f7f7f7\"],[0.6,\"#e6f5d0\"],[0.7,\"#b8e186\"],[0.8,\"#7fbc41\"],[0.9,\"#4d9221\"],[1,\"#276419\"]],\"sequential\":[[0.0,\"#0d0887\"],[0.1111111111111111,\"#46039f\"],[0.2222222222222222,\"#7201a8\"],[0.3333333333333333,\"#9c179e\"],[0.4444444444444444,\"#bd3786\"],[0.5555555555555556,\"#d8576b\"],[0.6666666666666666,\"#ed7953\"],[0.7777777777777778,\"#fb9f3a\"],[0.8888888888888888,\"#fdca26\"],[1.0,\"#f0f921\"]],\"sequentialminus\":[[0.0,\"#0d0887\"],[0.1111111111111111,\"#46039f\"],[0.2222222222222222,\"#7201a8\"],[0.3333333333333333,\"#9c179e\"],[0.4444444444444444,\"#bd3786\"],[0.5555555555555556,\"#d8576b\"],[0.6666666666666666,\"#ed7953\"],[0.7777777777777778,\"#fb9f3a\"],[0.8888888888888888,\"#fdca26\"],[1.0,\"#f0f921\"]]},\"colorway\":[\"#636efa\",\"#EF553B\",\"#00cc96\",\"#ab63fa\",\"#FFA15A\",\"#19d3f3\",\"#FF6692\",\"#B6E880\",\"#FF97FF\",\"#FECB52\"],\"font\":{\"color\":\"#2a3f5f\"},\"geo\":{\"bgcolor\":\"white\",\"lakecolor\":\"white\",\"landcolor\":\"#E5ECF6\",\"showlakes\":true,\"showland\":true,\"subunitcolor\":\"white\"},\"hoverlabel\":{\"align\":\"left\"},\"hovermode\":\"closest\",\"mapbox\":{\"style\":\"light\"},\"paper_bgcolor\":\"white\",\"plot_bgcolor\":\"#E5ECF6\",\"polar\":{\"angularaxis\":{\"gridcolor\":\"white\",\"linecolor\":\"white\",\"ticks\":\"\"},\"bgcolor\":\"#E5ECF6\",\"radialaxis\":{\"gridcolor\":\"white\",\"linecolor\":\"white\",\"ticks\":\"\"}},\"scene\":{\"xaxis\":{\"backgroundcolor\":\"#E5ECF6\",\"gridcolor\":\"white\",\"gridwidth\":2,\"linecolor\":\"white\",\"showbackground\":true,\"ticks\":\"\",\"zerolinecolor\":\"white\"},\"yaxis\":{\"backgroundcolor\":\"#E5ECF6\",\"gridcolor\":\"white\",\"gridwidth\":2,\"linecolor\":\"white\",\"showbackground\":true,\"ticks\":\"\",\"zerolinecolor\":\"white\"},\"zaxis\":{\"backgroundcolor\":\"#E5ECF6\",\"gridcolor\":\"white\",\"gridwidth\":2,\"linecolor\":\"white\",\"showbackground\":true,\"ticks\":\"\",\"zerolinecolor\":\"white\"}},\"shapedefaults\":{\"line\":{\"color\":\"#2a3f5f\"}},\"ternary\":{\"aaxis\":{\"gridcolor\":\"white\",\"linecolor\":\"white\",\"ticks\":\"\"},\"baxis\":{\"gridcolor\":\"white\",\"linecolor\":\"white\",\"ticks\":\"\"},\"bgcolor\":\"#E5ECF6\",\"caxis\":{\"gridcolor\":\"white\",\"linecolor\":\"white\",\"ticks\":\"\"}},\"title\":{\"x\":0.05},\"xaxis\":{\"automargin\":true,\"gridcolor\":\"white\",\"linecolor\":\"white\",\"ticks\":\"\",\"title\":{\"standoff\":15},\"zerolinecolor\":\"white\",\"zerolinewidth\":2},\"yaxis\":{\"automargin\":true,\"gridcolor\":\"white\",\"linecolor\":\"white\",\"ticks\":\"\",\"title\":{\"standoff\":15},\"zerolinecolor\":\"white\",\"zerolinewidth\":2}}},\"title\":{\"font\":{\"color\":\"#151516\"},\"text\":\"Topic_0 on Year\"},\"xaxis\":{\"gridcolor\":\"#F6F6F6\",\"showgrid\":true,\"tickfont\":{\"color\":\"#666666\"},\"title\":{\"font\":{\"color\":\"#666666\"},\"text\":\"Year\"},\"zerolinecolor\":\"#F6F6F6\"},\"yaxis\":{\"gridcolor\":\"#F6F6F6\",\"showgrid\":true,\"tickfont\":{\"color\":\"#666666\"},\"title\":{\"font\":{\"color\":\"#666666\"},\"text\":\"Topic_0\"},\"zerolinecolor\":\"#F6F6F6\"}},                        {\"showLink\": true, \"linkText\": \"Export to plot.ly\", \"plotlyServerURL\": \"https://plot.ly\", \"responsive\": true}                    ).then(function(){\n                            \nvar gd = document.getElementById('a9ff3384-c7cc-4c36-b4ca-9b1308a455f3');\nvar x = new MutationObserver(function (mutations, observer) {{\n        var display = window.getComputedStyle(gd).display;\n        if (!display || display === 'none') {{\n            console.log([gd, 'removed!']);\n            Plotly.purge(gd);\n            observer.disconnect();\n        }}\n}});\n\n// Listen for the removal of the full notebook cells\nvar notebookContainer = gd.closest('#notebook-container');\nif (notebookContainer) {{\n    x.observe(notebookContainer, {childList: true});\n}}\n\n// Listen for the clearing of the current output cell\nvar outputEl = gd.closest('.output');\nif (outputEl) {{\n    x.observe(outputEl, {childList: true});\n}}\n\n                        })                };                });            </script>        </div>"
         },
         "metadata": {},
         "output_type": "display_data"
        }
       ]
      }
     },
     "77333462e7f64dc1b28605edd61997d9": {
      "model_module": "@jupyter-widgets/controls",
      "model_module_version": "1.5.0",
      "model_name": "DropdownModel",
      "state": {
       "_options_labels": [
        "ajA",
        "Maj",
        "Ind",
        "Tim",
        "NYT",
        "ail",
        "Dai",
        "CDa",
        "Bus",
        "Tor",
        "Gua"
       ],
       "description": "news",
       "index": 0,
       "layout": "IPY_MODEL_fabf94a0949448f8b5b1bfc92ea77c1f",
       "style": "IPY_MODEL_2a6bbdfca95141b7a46a791579a49bcc"
      }
     },
     "77a00908cf4e47b69dcd705a43488fc2": {
      "model_module": "@jupyter-widgets/controls",
      "model_module_version": "1.5.0",
      "model_name": "DropdownModel",
      "state": {
       "_options_labels": [
        "Topic_0",
        "Topic_1",
        "Topic_2",
        "Topic_3"
       ],
       "description": "y",
       "index": 1,
       "layout": "IPY_MODEL_684aeb5dac4c4ab0ba65f2f85bdafd24",
       "style": "IPY_MODEL_2abdfc49ce93469db53558efac0cbbc5"
      }
     },
     "7bc9bba9fabd4bd8af478b6ec26c321c": {
      "model_module": "@jupyter-widgets/controls",
      "model_module_version": "1.5.0",
      "model_name": "DescriptionStyleModel",
      "state": {
       "description_width": ""
      }
     },
     "7d7b6383dd4b4ea4bb13b840b7be3752": {
      "model_module": "@jupyter-widgets/controls",
      "model_module_version": "1.5.0",
      "model_name": "VBoxModel",
      "state": {
       "_dom_classes": [
        "widget-interact"
       ],
       "children": [
        "IPY_MODEL_5752ef7a26f446708626acc8c839bbe2",
        "IPY_MODEL_b864ff7a6a67470cbcee362face1cd86",
        "IPY_MODEL_2b1fe0596cb44f04886845656fa9cf2f",
        "IPY_MODEL_3c43de8615fa4186bb06b1b3755e1235"
       ],
       "layout": "IPY_MODEL_0090ce9f4ac841edb295371da8c44aa8"
      }
     },
     "7dda70860b334cd3994883b826fa08bf": {
      "model_module": "@jupyter-widgets/controls",
      "model_module_version": "1.5.0",
      "model_name": "DropdownModel",
      "state": {
       "_options_labels": [
        "Year"
       ],
       "description": "year",
       "index": 0,
       "layout": "IPY_MODEL_4ca8838cc18e40edb171ac37f56fce4c",
       "style": "IPY_MODEL_335cbbfb58c1430ab3be5e55a1c9f8ec"
      }
     },
     "80772fd1c0aa4bcca34073c967f495ed": {
      "model_module": "@jupyter-widgets/base",
      "model_module_version": "1.2.0",
      "model_name": "LayoutModel",
      "state": {}
     },
     "81cb7d56a7d248a591b3d78d51d7b51f": {
      "model_module": "@jupyter-widgets/controls",
      "model_module_version": "1.5.0",
      "model_name": "DescriptionStyleModel",
      "state": {
       "description_width": ""
      }
     },
     "83877312e49d4aea92cab6c96bb6f2d2": {
      "model_module": "@jupyter-widgets/controls",
      "model_module_version": "1.5.0",
      "model_name": "DescriptionStyleModel",
      "state": {
       "description_width": ""
      }
     },
     "86c5b96020114d3a8d4852244ef79784": {
      "model_module": "@jupyter-widgets/base",
      "model_module_version": "1.2.0",
      "model_name": "LayoutModel",
      "state": {}
     },
     "8a3e9a9e59df4329bad54c8e97dbf6f3": {
      "model_module": "@jupyter-widgets/base",
      "model_module_version": "1.2.0",
      "model_name": "LayoutModel",
      "state": {}
     },
     "8c36d68cbcfc4a57843489dd8cf11f51": {
      "model_module": "@jupyter-widgets/controls",
      "model_module_version": "1.5.0",
      "model_name": "DescriptionStyleModel",
      "state": {
       "description_width": ""
      }
     },
     "8d3cb3e61a564f55a4607f81e69d7042": {
      "model_module": "@jupyter-widgets/base",
      "model_module_version": "1.2.0",
      "model_name": "LayoutModel",
      "state": {}
     },
     "90d3abf55c9e402cb0d2a11c463962b1": {
      "model_module": "@jupyter-widgets/base",
      "model_module_version": "1.2.0",
      "model_name": "LayoutModel",
      "state": {}
     },
     "94b71e4bfe8446af83528caaffacb757": {
      "model_module": "@jupyter-widgets/controls",
      "model_module_version": "1.5.0",
      "model_name": "VBoxModel",
      "state": {
       "_dom_classes": [
        "widget-interact"
       ],
       "children": [
        "IPY_MODEL_77333462e7f64dc1b28605edd61997d9",
        "IPY_MODEL_9830217255824291807d6cd986bba4eb"
       ],
       "layout": "IPY_MODEL_b15c796af92e45d5aeca825c52d6bc38"
      }
     },
     "96172f1e10bf4e4e8b3d7c0775ef27f9": {
      "model_module": "@jupyter-widgets/base",
      "model_module_version": "1.2.0",
      "model_name": "LayoutModel",
      "state": {}
     },
     "97f1c2ce46674024be6f2687d199bd0d": {
      "model_module": "@jupyter-widgets/controls",
      "model_module_version": "1.5.0",
      "model_name": "VBoxModel",
      "state": {
       "_dom_classes": [
        "widget-interact"
       ],
       "children": [
        "IPY_MODEL_679cef14e59a4726bdc09e4c73a847ce",
        "IPY_MODEL_57649e0ca70e4f2183bf1c8d519036a3"
       ],
       "layout": "IPY_MODEL_96172f1e10bf4e4e8b3d7c0775ef27f9"
      }
     },
     "9830217255824291807d6cd986bba4eb": {
      "model_module": "@jupyter-widgets/output",
      "model_module_version": "1.0.0",
      "model_name": "OutputModel",
      "state": {
       "layout": "IPY_MODEL_19f19dcb7bbf480c97a44a4f5ce1fe53",
       "outputs": [
        {
         "data": {
          "text/html": "<div>\n<style scoped>\n    .dataframe tbody tr th:only-of-type {\n        vertical-align: middle;\n    }\n\n    .dataframe tbody tr th {\n        vertical-align: top;\n    }\n\n    .dataframe thead th {\n        text-align: right;\n    }\n</style>\n<table border=\"1\" class=\"dataframe\">\n  <thead>\n    <tr style=\"text-align: right;\">\n      <th></th>\n      <th>Articles</th>\n      <th>Topic_0</th>\n      <th>Topic_1</th>\n      <th>Topic_2</th>\n      <th>Topic_3</th>\n      <th>Topic_4</th>\n      <th>Year</th>\n      <th>Newspaper</th>\n    </tr>\n  </thead>\n  <tbody>\n    <tr>\n      <th>0</th>\n      <td>2002-03-1-MajAustr-1-67-61.txt</td>\n      <td>0.734406</td>\n      <td>0.031050</td>\n      <td>0.052941</td>\n      <td>0.121928</td>\n      <td>0.059674</td>\n      <td>2002</td>\n      <td>ajA</td>\n    </tr>\n    <tr>\n      <th>4</th>\n      <td>2016-08-7-MajAustr-1-67-26.txt</td>\n      <td>0.374457</td>\n      <td>0.008095</td>\n      <td>0.232753</td>\n      <td>0.181643</td>\n      <td>0.203052</td>\n      <td>2016</td>\n      <td>ajA</td>\n    </tr>\n    <tr>\n      <th>5</th>\n      <td>2016-08-7-MajAustr-1-67-24.txt</td>\n      <td>0.863030</td>\n      <td>0.000000</td>\n      <td>0.000000</td>\n      <td>0.046290</td>\n      <td>0.090680</td>\n      <td>2016</td>\n      <td>ajA</td>\n    </tr>\n    <tr>\n      <th>8</th>\n      <td>2016-01-9-MajAustr-1-67-27.txt</td>\n      <td>0.480450</td>\n      <td>0.075105</td>\n      <td>0.102135</td>\n      <td>0.242668</td>\n      <td>0.099642</td>\n      <td>2016</td>\n      <td>ajA</td>\n    </tr>\n    <tr>\n      <th>12</th>\n      <td>2015-12-7-MajAustr-1-67-47.txt</td>\n      <td>1.000000</td>\n      <td>0.000000</td>\n      <td>0.000000</td>\n      <td>0.000000</td>\n      <td>0.000000</td>\n      <td>2015</td>\n      <td>ajA</td>\n    </tr>\n    <tr>\n      <th>21</th>\n      <td>2014-03-2-MajAustr-1-67-50.txt</td>\n      <td>0.698865</td>\n      <td>0.061950</td>\n      <td>0.109946</td>\n      <td>0.057696</td>\n      <td>0.071543</td>\n      <td>2014</td>\n      <td>ajA</td>\n    </tr>\n    <tr>\n      <th>25</th>\n      <td>2018-04-6-MajAustr-1-67-22.txt</td>\n      <td>0.805187</td>\n      <td>0.000000</td>\n      <td>0.094467</td>\n      <td>0.000000</td>\n      <td>0.100347</td>\n      <td>2018</td>\n      <td>ajA</td>\n    </tr>\n    <tr>\n      <th>33</th>\n      <td>2020-08-8-MajAustr-1-67-4.txt</td>\n      <td>0.613998</td>\n      <td>0.000000</td>\n      <td>0.136745</td>\n      <td>0.048063</td>\n      <td>0.201194</td>\n      <td>2020</td>\n      <td>ajA</td>\n    </tr>\n    <tr>\n      <th>39</th>\n      <td>2020-03-5-MajAustr-1-67-10.txt</td>\n      <td>0.518805</td>\n      <td>0.153521</td>\n      <td>0.054881</td>\n      <td>0.132274</td>\n      <td>0.140518</td>\n      <td>2020</td>\n      <td>ajA</td>\n    </tr>\n    <tr>\n      <th>44</th>\n      <td>2019-03-2-MajAustr-1-67-14.txt</td>\n      <td>0.543228</td>\n      <td>0.168844</td>\n      <td>0.029949</td>\n      <td>0.166373</td>\n      <td>0.091607</td>\n      <td>2019</td>\n      <td>ajA</td>\n    </tr>\n    <tr>\n      <th>45</th>\n      <td>2019-03-1-MajAustr-1-67-15.txt</td>\n      <td>1.000000</td>\n      <td>0.000000</td>\n      <td>0.000000</td>\n      <td>0.000000</td>\n      <td>0.000000</td>\n      <td>2019</td>\n      <td>ajA</td>\n    </tr>\n    <tr>\n      <th>49</th>\n      <td>2020-03-5-MajAustr-1-67-9.txt</td>\n      <td>1.000000</td>\n      <td>0.000000</td>\n      <td>0.000000</td>\n      <td>0.000000</td>\n      <td>0.000000</td>\n      <td>2020</td>\n      <td>ajA</td>\n    </tr>\n    <tr>\n      <th>68</th>\n      <td>2006-11-3-MajAustr-1-67-43.txt</td>\n      <td>0.899489</td>\n      <td>0.023208</td>\n      <td>0.000000</td>\n      <td>0.077303</td>\n      <td>0.000000</td>\n      <td>2006</td>\n      <td>ajA</td>\n    </tr>\n    <tr>\n      <th>86</th>\n      <td>2011-07-1-MajAustr-1-67-37.txt</td>\n      <td>0.802773</td>\n      <td>0.000000</td>\n      <td>0.095377</td>\n      <td>0.000000</td>\n      <td>0.101849</td>\n      <td>2011</td>\n      <td>ajA</td>\n    </tr>\n    <tr>\n      <th>97</th>\n      <td>2016-08-7-MajAustr-1-67-23.txt</td>\n      <td>0.240348</td>\n      <td>0.394570</td>\n      <td>0.045689</td>\n      <td>0.142987</td>\n      <td>0.176405</td>\n      <td>2016</td>\n      <td>ajA</td>\n    </tr>\n    <tr>\n      <th>108</th>\n      <td>2011-08-2-MajAustr-1-67-38.txt</td>\n      <td>0.000000</td>\n      <td>0.000000</td>\n      <td>1.000000</td>\n      <td>0.000000</td>\n      <td>0.000000</td>\n      <td>2011</td>\n      <td>ajA</td>\n    </tr>\n    <tr>\n      <th>115</th>\n      <td>2011-08-2-MajAustr-1-67-60.txt</td>\n      <td>0.376311</td>\n      <td>0.000000</td>\n      <td>0.109846</td>\n      <td>0.453747</td>\n      <td>0.060097</td>\n      <td>2011</td>\n      <td>ajA</td>\n    </tr>\n    <tr>\n      <th>116</th>\n      <td>2020-08-8-MajAustr-1-67-3.txt</td>\n      <td>0.277453</td>\n      <td>0.151180</td>\n      <td>0.070926</td>\n      <td>0.165493</td>\n      <td>0.334948</td>\n      <td>2020</td>\n      <td>ajA</td>\n    </tr>\n  </tbody>\n</table>\n</div>",
          "text/plain": "                           Articles   Topic_0   Topic_1   Topic_2   Topic_3  \\\n0    2002-03-1-MajAustr-1-67-61.txt  0.734406  0.031050  0.052941  0.121928   \n4    2016-08-7-MajAustr-1-67-26.txt  0.374457  0.008095  0.232753  0.181643   \n5    2016-08-7-MajAustr-1-67-24.txt  0.863030  0.000000  0.000000  0.046290   \n8    2016-01-9-MajAustr-1-67-27.txt  0.480450  0.075105  0.102135  0.242668   \n12   2015-12-7-MajAustr-1-67-47.txt  1.000000  0.000000  0.000000  0.000000   \n21   2014-03-2-MajAustr-1-67-50.txt  0.698865  0.061950  0.109946  0.057696   \n25   2018-04-6-MajAustr-1-67-22.txt  0.805187  0.000000  0.094467  0.000000   \n33    2020-08-8-MajAustr-1-67-4.txt  0.613998  0.000000  0.136745  0.048063   \n39   2020-03-5-MajAustr-1-67-10.txt  0.518805  0.153521  0.054881  0.132274   \n44   2019-03-2-MajAustr-1-67-14.txt  0.543228  0.168844  0.029949  0.166373   \n45   2019-03-1-MajAustr-1-67-15.txt  1.000000  0.000000  0.000000  0.000000   \n49    2020-03-5-MajAustr-1-67-9.txt  1.000000  0.000000  0.000000  0.000000   \n68   2006-11-3-MajAustr-1-67-43.txt  0.899489  0.023208  0.000000  0.077303   \n86   2011-07-1-MajAustr-1-67-37.txt  0.802773  0.000000  0.095377  0.000000   \n97   2016-08-7-MajAustr-1-67-23.txt  0.240348  0.394570  0.045689  0.142987   \n108  2011-08-2-MajAustr-1-67-38.txt  0.000000  0.000000  1.000000  0.000000   \n115  2011-08-2-MajAustr-1-67-60.txt  0.376311  0.000000  0.109846  0.453747   \n116   2020-08-8-MajAustr-1-67-3.txt  0.277453  0.151180  0.070926  0.165493   \n\n      Topic_4  Year Newspaper  \n0    0.059674  2002       ajA  \n4    0.203052  2016       ajA  \n5    0.090680  2016       ajA  \n8    0.099642  2016       ajA  \n12   0.000000  2015       ajA  \n21   0.071543  2014       ajA  \n25   0.100347  2018       ajA  \n33   0.201194  2020       ajA  \n39   0.140518  2020       ajA  \n44   0.091607  2019       ajA  \n45   0.000000  2019       ajA  \n49   0.000000  2020       ajA  \n68   0.000000  2006       ajA  \n86   0.101849  2011       ajA  \n97   0.176405  2016       ajA  \n108  0.000000  2011       ajA  \n115  0.060097  2011       ajA  \n116  0.334948  2020       ajA  "
         },
         "metadata": {},
         "output_type": "display_data"
        }
       ]
      }
     },
     "99e2e21be76f477391ce9120f26a83cc": {
      "model_module": "@jupyter-widgets/base",
      "model_module_version": "1.2.0",
      "model_name": "LayoutModel",
      "state": {}
     },
     "9e88a1d775b549b7b345be2e10a549b5": {
      "model_module": "@jupyter-widgets/base",
      "model_module_version": "1.2.0",
      "model_name": "LayoutModel",
      "state": {}
     },
     "a183a0dd0d0e4f929c41ce08792047ad": {
      "model_module": "@jupyter-widgets/controls",
      "model_module_version": "1.5.0",
      "model_name": "DescriptionStyleModel",
      "state": {
       "description_width": ""
      }
     },
     "a3a97e2350de4ac1a535b5f3bd491835": {
      "model_module": "@jupyter-widgets/output",
      "model_module_version": "1.0.0",
      "model_name": "OutputModel",
      "state": {
       "layout": "IPY_MODEL_29b094171e434a00b12e214fc55a7db0",
       "outputs": [
        {
         "data": {
          "text/html": "<div>\n<style scoped>\n    .dataframe tbody tr th:only-of-type {\n        vertical-align: middle;\n    }\n\n    .dataframe tbody tr th {\n        vertical-align: top;\n    }\n\n    .dataframe thead th {\n        text-align: right;\n    }\n</style>\n<table border=\"1\" class=\"dataframe\">\n  <thead>\n    <tr style=\"text-align: right;\">\n      <th></th>\n      <th>Articles</th>\n      <th>Topic_0</th>\n      <th>Topic_1</th>\n      <th>Topic_2</th>\n      <th>Topic_3</th>\n      <th>Topic_4</th>\n      <th>Year</th>\n      <th>Newspaper</th>\n    </tr>\n  </thead>\n  <tbody>\n    <tr>\n      <th>2</th>\n      <td>2017-11-22-Independent-1-9-4.txt</td>\n      <td>0.944391</td>\n      <td>0.000000</td>\n      <td>0.000000</td>\n      <td>0.055609</td>\n      <td>0.000000</td>\n      <td>2017</td>\n      <td>Ind</td>\n    </tr>\n    <tr>\n      <th>3</th>\n      <td>2017-09-27-Times-1-9-4.txt</td>\n      <td>0.874172</td>\n      <td>0.000000</td>\n      <td>0.125828</td>\n      <td>0.000000</td>\n      <td>0.000000</td>\n      <td>2017</td>\n      <td>Tim</td>\n    </tr>\n    <tr>\n      <th>5</th>\n      <td>2016-08-7-MajAustr-1-67-24.txt</td>\n      <td>0.863030</td>\n      <td>0.000000</td>\n      <td>0.000000</td>\n      <td>0.046290</td>\n      <td>0.090680</td>\n      <td>2016</td>\n      <td>ajA</td>\n    </tr>\n    <tr>\n      <th>7</th>\n      <td>2016-03-7-DailyMail-1-5-2.txt</td>\n      <td>0.988507</td>\n      <td>0.000000</td>\n      <td>0.011493</td>\n      <td>0.000000</td>\n      <td>0.000000</td>\n      <td>2016</td>\n      <td>ail</td>\n    </tr>\n    <tr>\n      <th>9</th>\n      <td>2016-01-18-Times-1-9-6.txt</td>\n      <td>0.922332</td>\n      <td>0.000000</td>\n      <td>0.074667</td>\n      <td>0.000000</td>\n      <td>0.003001</td>\n      <td>2016</td>\n      <td>Tim</td>\n    </tr>\n    <tr>\n      <th>...</th>\n      <td>...</td>\n      <td>...</td>\n      <td>...</td>\n      <td>...</td>\n      <td>...</td>\n      <td>...</td>\n      <td>...</td>\n      <td>...</td>\n    </tr>\n    <tr>\n      <th>86</th>\n      <td>2011-07-1-MajAustr-1-67-37.txt</td>\n      <td>0.802773</td>\n      <td>0.000000</td>\n      <td>0.095377</td>\n      <td>0.000000</td>\n      <td>0.101849</td>\n      <td>2011</td>\n      <td>ajA</td>\n    </tr>\n    <tr>\n      <th>87</th>\n      <td>2012-02-13-Guardian-1-10-6.txt</td>\n      <td>0.906517</td>\n      <td>0.000000</td>\n      <td>0.000000</td>\n      <td>0.093483</td>\n      <td>0.000000</td>\n      <td>2012</td>\n      <td>Gua</td>\n    </tr>\n    <tr>\n      <th>90</th>\n      <td>2013-06-06-NYTimes-1-7-6.txt</td>\n      <td>0.849356</td>\n      <td>0.005297</td>\n      <td>0.089771</td>\n      <td>0.050823</td>\n      <td>0.004754</td>\n      <td>2013</td>\n      <td>NYT</td>\n    </tr>\n    <tr>\n      <th>91</th>\n      <td>2013-11-28-Guardian-1-10-3.txt</td>\n      <td>1.000000</td>\n      <td>0.000000</td>\n      <td>0.000000</td>\n      <td>0.000000</td>\n      <td>0.000000</td>\n      <td>2013</td>\n      <td>Gua</td>\n    </tr>\n    <tr>\n      <th>92</th>\n      <td>2011-07-31-MajAustr-1-67-35.txt</td>\n      <td>0.989618</td>\n      <td>0.000000</td>\n      <td>0.010382</td>\n      <td>0.000000</td>\n      <td>0.000000</td>\n      <td>2011</td>\n      <td>Maj</td>\n    </tr>\n  </tbody>\n</table>\n<p>54 rows × 8 columns</p>\n</div>",
          "text/plain": "                            Articles   Topic_0   Topic_1   Topic_2   Topic_3  \\\n2   2017-11-22-Independent-1-9-4.txt  0.944391  0.000000  0.000000  0.055609   \n3         2017-09-27-Times-1-9-4.txt  0.874172  0.000000  0.125828  0.000000   \n5     2016-08-7-MajAustr-1-67-24.txt  0.863030  0.000000  0.000000  0.046290   \n7      2016-03-7-DailyMail-1-5-2.txt  0.988507  0.000000  0.011493  0.000000   \n9         2016-01-18-Times-1-9-6.txt  0.922332  0.000000  0.074667  0.000000   \n..                               ...       ...       ...       ...       ...   \n86    2011-07-1-MajAustr-1-67-37.txt  0.802773  0.000000  0.095377  0.000000   \n87    2012-02-13-Guardian-1-10-6.txt  0.906517  0.000000  0.000000  0.093483   \n90      2013-06-06-NYTimes-1-7-6.txt  0.849356  0.005297  0.089771  0.050823   \n91    2013-11-28-Guardian-1-10-3.txt  1.000000  0.000000  0.000000  0.000000   \n92   2011-07-31-MajAustr-1-67-35.txt  0.989618  0.000000  0.010382  0.000000   \n\n     Topic_4  Year Newspaper  \n2   0.000000  2017       Ind  \n3   0.000000  2017       Tim  \n5   0.090680  2016       ajA  \n7   0.000000  2016       ail  \n9   0.003001  2016       Tim  \n..       ...   ...       ...  \n86  0.101849  2011       ajA  \n87  0.000000  2012       Gua  \n90  0.004754  2013       NYT  \n91  0.000000  2013       Gua  \n92  0.000000  2011       Maj  \n\n[54 rows x 8 columns]"
         },
         "metadata": {},
         "output_type": "display_data"
        }
       ]
      }
     },
     "a926c8f7bef34fb584bc47f16e6b3477": {
      "model_module": "@jupyter-widgets/base",
      "model_module_version": "1.2.0",
      "model_name": "LayoutModel",
      "state": {}
     },
     "a97cd4dedac04d54a605250614ceec79": {
      "model_module": "@jupyter-widgets/base",
      "model_module_version": "1.2.0",
      "model_name": "LayoutModel",
      "state": {}
     },
     "b13ee2c01fe346f3bc471a4f6508ee17": {
      "model_module": "@jupyter-widgets/controls",
      "model_module_version": "1.5.0",
      "model_name": "DescriptionStyleModel",
      "state": {
       "description_width": ""
      }
     },
     "b15c796af92e45d5aeca825c52d6bc38": {
      "model_module": "@jupyter-widgets/base",
      "model_module_version": "1.2.0",
      "model_name": "LayoutModel",
      "state": {}
     },
     "b18b0aee097c42f980973a0159b24e15": {
      "model_module": "@jupyter-widgets/controls",
      "model_module_version": "1.5.0",
      "model_name": "DropdownModel",
      "state": {
       "_options_labels": [
        "Topic_0",
        "Topic_1",
        "Topic_2",
        "Topic_3",
        "Topic_4"
       ],
       "description": "topics",
       "index": 0,
       "layout": "IPY_MODEL_0eb5f42b50794bfd930d49d55608b59c",
       "style": "IPY_MODEL_57617844419f48caa334a0842181fa32"
      }
     },
     "b1e5bbbd0ee549beb08fcbce988e586b": {
      "model_module": "@jupyter-widgets/controls",
      "model_module_version": "1.5.0",
      "model_name": "SliderStyleModel",
      "state": {
       "description_width": ""
      }
     },
     "b5b1c8c9d40747e1b55de7f42d247f0f": {
      "model_module": "@jupyter-widgets/controls",
      "model_module_version": "1.5.0",
      "model_name": "DescriptionStyleModel",
      "state": {
       "description_width": ""
      }
     },
     "b864ff7a6a67470cbcee362face1cd86": {
      "model_module": "@jupyter-widgets/controls",
      "model_module_version": "1.5.0",
      "model_name": "FloatSliderModel",
      "state": {
       "description": "value",
       "layout": "IPY_MODEL_28dfd2810a8c467a88f57465ef6882bf",
       "max": 1,
       "step": 0.05,
       "style": "IPY_MODEL_cbce66f293e94fb68eaf06cbe0f882ce"
      }
     },
     "ba43aa0873ae4b85947208a68aac28b9": {
      "model_module": "@jupyter-widgets/base",
      "model_module_version": "1.2.0",
      "model_name": "LayoutModel",
      "state": {}
     },
     "bf20a43fc138421d89309f01fbc2d1e3": {
      "model_module": "@jupyter-widgets/base",
      "model_module_version": "1.2.0",
      "model_name": "LayoutModel",
      "state": {}
     },
     "c250ef3610a24f1483ab91d154296d39": {
      "model_module": "@jupyter-widgets/controls",
      "model_module_version": "1.5.0",
      "model_name": "FloatSliderModel",
      "state": {
       "description": "value",
       "layout": "IPY_MODEL_c8903a66c7324d06ae13b832c33b3e3b",
       "max": 1,
       "step": 0.05,
       "style": "IPY_MODEL_b1e5bbbd0ee549beb08fcbce988e586b",
       "value": 0.75
      }
     },
     "c8903a66c7324d06ae13b832c33b3e3b": {
      "model_module": "@jupyter-widgets/base",
      "model_module_version": "1.2.0",
      "model_name": "LayoutModel",
      "state": {}
     },
     "ca729aa76f044189aadaecf1589d5866": {
      "model_module": "@jupyter-widgets/base",
      "model_module_version": "1.2.0",
      "model_name": "LayoutModel",
      "state": {}
     },
     "cbce66f293e94fb68eaf06cbe0f882ce": {
      "model_module": "@jupyter-widgets/controls",
      "model_module_version": "1.5.0",
      "model_name": "SliderStyleModel",
      "state": {
       "description_width": ""
      }
     },
     "cee817702164402daacee82d43b63454": {
      "model_module": "@jupyter-widgets/controls",
      "model_module_version": "1.5.0",
      "model_name": "VBoxModel",
      "state": {
       "_dom_classes": [
        "widget-interact"
       ],
       "children": [
        "IPY_MODEL_7dda70860b334cd3994883b826fa08bf",
        "IPY_MODEL_72ce3008faf641d3abeb38d69f5da399",
        "IPY_MODEL_f04743cc20ce4dc9b3852a4a73144c01",
        "IPY_MODEL_4b23ef7fe3e84d019f7775cffa8c70b6",
        "IPY_MODEL_7712218abc364b28b08d688272dac3bd"
       ],
       "layout": "IPY_MODEL_6ec4f2cb3087439499aab1deabf6c55c"
      }
     },
     "d172bf3b0631410e8df2d21d2931ccce": {
      "model_module": "@jupyter-widgets/base",
      "model_module_version": "1.2.0",
      "model_name": "LayoutModel",
      "state": {}
     },
     "d8bcb58c1d4247ad9a3db10e8f8a2398": {
      "model_module": "@jupyter-widgets/base",
      "model_module_version": "1.2.0",
      "model_name": "LayoutModel",
      "state": {}
     },
     "dd06414693e24905a9920c9f7566d39a": {
      "model_module": "@jupyter-widgets/base",
      "model_module_version": "1.2.0",
      "model_name": "LayoutModel",
      "state": {}
     },
     "e0cee61ebca94be2b1b21a28cffbddc0": {
      "model_module": "@jupyter-widgets/controls",
      "model_module_version": "1.5.0",
      "model_name": "VBoxModel",
      "state": {
       "_dom_classes": [
        "widget-interact"
       ],
       "children": [
        "IPY_MODEL_03a63ab9fbfe47a2a0f36554265b9f2b",
        "IPY_MODEL_77a00908cf4e47b69dcd705a43488fc2",
        "IPY_MODEL_3bba7ee8b6514e15b47e5fdf68c57b63"
       ],
       "layout": "IPY_MODEL_ca729aa76f044189aadaecf1589d5866"
      }
     },
     "e3199b9754994cdfbdb5ad76a394422a": {
      "model_module": "@jupyter-widgets/controls",
      "model_module_version": "1.5.0",
      "model_name": "DescriptionStyleModel",
      "state": {
       "description_width": ""
      }
     },
     "e4e8887d613b4765ae4911899c4d8aec": {
      "model_module": "@jupyter-widgets/base",
      "model_module_version": "1.2.0",
      "model_name": "LayoutModel",
      "state": {}
     },
     "e96139ec17d94271841f4f8dd8a9a3ab": {
      "model_module": "@jupyter-widgets/base",
      "model_module_version": "1.2.0",
      "model_name": "LayoutModel",
      "state": {}
     },
     "f04743cc20ce4dc9b3852a4a73144c01": {
      "model_module": "@jupyter-widgets/controls",
      "model_module_version": "1.5.0",
      "model_name": "DropdownModel",
      "state": {
       "_options_labels": [
        "ggplot",
        "pearl",
        "solar",
        "space",
        "white",
        "polar",
        "henanigans"
       ],
       "description": "theme",
       "index": 0,
       "layout": "IPY_MODEL_90d3abf55c9e402cb0d2a11c463962b1",
       "style": "IPY_MODEL_b13ee2c01fe346f3bc471a4f6508ee17"
      }
     },
     "f122b91a58a442fe8e834945b2415162": {
      "model_module": "@jupyter-widgets/output",
      "model_module_version": "1.0.0",
      "model_name": "OutputModel",
      "state": {
       "layout": "IPY_MODEL_e96139ec17d94271841f4f8dd8a9a3ab",
       "outputs": [
        {
         "data": {
          "text/html": "<div>\n<style scoped>\n    .dataframe tbody tr th:only-of-type {\n        vertical-align: middle;\n    }\n\n    .dataframe tbody tr th {\n        vertical-align: top;\n    }\n\n    .dataframe thead th {\n        text-align: right;\n    }\n</style>\n<table border=\"1\" class=\"dataframe\">\n  <thead>\n    <tr style=\"text-align: right;\">\n      <th></th>\n      <th>Articles</th>\n      <th>Topic_0</th>\n      <th>Topic_1</th>\n      <th>Topic_2</th>\n      <th>Topic_3</th>\n      <th>Topic_4</th>\n      <th>Year</th>\n      <th>Newspaper</th>\n    </tr>\n  </thead>\n  <tbody>\n    <tr>\n      <th>0</th>\n      <td>2002-03-1-MajAustr-1-67-61.txt</td>\n      <td>0.734406</td>\n      <td>0.03105</td>\n      <td>0.052941</td>\n      <td>0.121928</td>\n      <td>0.059674</td>\n      <td>2002</td>\n      <td>ajA</td>\n    </tr>\n  </tbody>\n</table>\n</div>",
          "text/plain": "                         Articles   Topic_0  Topic_1   Topic_2   Topic_3  \\\n0  2002-03-1-MajAustr-1-67-61.txt  0.734406  0.03105  0.052941  0.121928   \n\n    Topic_4  Year Newspaper  \n0  0.059674  2002       ajA  "
         },
         "metadata": {},
         "output_type": "display_data"
        }
       ]
      }
     },
     "f319db7dc3544758a14d5104d1778fb9": {
      "model_module": "@jupyter-widgets/controls",
      "model_module_version": "1.5.0",
      "model_name": "DescriptionStyleModel",
      "state": {
       "description_width": ""
      }
     },
     "f6cd189687e144c5ae4b05cb40af6a79": {
      "model_module": "@jupyter-widgets/controls",
      "model_module_version": "1.5.0",
      "model_name": "DescriptionStyleModel",
      "state": {
       "description_width": ""
      }
     },
     "f8f0626cedd64abb8086ee5ef5d1c1c7": {
      "model_module": "@jupyter-widgets/controls",
      "model_module_version": "1.5.0",
      "model_name": "VBoxModel",
      "state": {
       "_dom_classes": [
        "widget-interact"
       ],
       "children": [
        "IPY_MODEL_6fb0014eabca48e2ae63f1c45d788adc",
        "IPY_MODEL_3476c449a8d14beea92df7e73cdb65a9",
        "IPY_MODEL_44c2fc8a5fb74f6c8b6ab7a32d581856"
       ],
       "layout": "IPY_MODEL_bf20a43fc138421d89309f01fbc2d1e3"
      }
     },
     "fabf94a0949448f8b5b1bfc92ea77c1f": {
      "model_module": "@jupyter-widgets/base",
      "model_module_version": "1.2.0",
      "model_name": "LayoutModel",
      "state": {}
     },
     "ff478d1ef25e4b87ad54cb7b699f1b41": {
      "model_module": "@jupyter-widgets/controls",
      "model_module_version": "1.5.0",
      "model_name": "SliderStyleModel",
      "state": {
       "description_width": ""
      }
     }
    },
    "version_major": 2,
    "version_minor": 0
   }
  }
 },
 "nbformat": 4,
 "nbformat_minor": 4
}
