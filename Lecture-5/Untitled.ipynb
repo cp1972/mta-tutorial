{
 "cells": [
  {
   "cell_type": "markdown",
   "id": "86c5a80f-8866-4f57-8ec7-aef0beb02c97",
   "metadata": {},
   "source": [
    "## First steps in topic modelling with MTA\n",
    "\n",
    "In this lecture, we are making our first steps in the topic modelling of qualitative data using MTA. We will cover it at the example of a sample of articles on nanomedicine published in the Times (London) from 2000 until 2021 that we have downloaded from the database Nexis Lexis. \n",
    "\n",
    "In this lecture, we are going through the following steps:\n",
    "\n",
    "  1. first, based on our lectures 3 and 4, we extend our practice of parsing text data using this new dataset;\n",
    "  2. second, we explore MTA in order to understand what this program is doing;\n",
    "  3. third, we perform our first analysis on the Times dataset with MTA\n",
    "  \n",
    "At the end of this lecture, you will have a typical general workflow enabling you to do a topic model analysis with MTA easily. Before, just check out our [second lecture](Lecture-2/Lecture-2.ipynb) to be sure that you have all the needed packages to work with MTA."
   ]
  },
  {
   "cell_type": "markdown",
   "id": "4aa8ec25-a6dd-47ed-af6b-d4c2301f54a3",
   "metadata": {},
   "source": [
    "## Preprocessing and parsing our data\n",
    "\n",
    "The Nexis Lexis database let you query lot of newspapers' articles, and in this example, we are querying newspapers related to the topic of nanomedicine. This is based on our work on nanotechnologies developed for medicine (Papilloud, Schultze 2022), that we have done mainly at the example of the European nanomedicine. As an introduction to this research, we were interested in the reception of nanomedicine in the newspaper worldwide. As you may know, nanotechnologies have been controverse technologies at the beginning of 2000, and they have attracted the attention of the press which was at the same time fascinated by the possible applications of such technologies in several areas of society, while suspecting that such technologies could also present severe risks due to nanoparticles threatening human health.\n",
    "\n",
    "Therefore, we wanted to first question if nanomedicine has really made the headlines of the press in the twenty past years, and we wanted to know which themes have been related to the nanomedicine in the press' coverage of such technology. \n",
    "\n",
    "### The data of the Times\n",
    "\n",
    "The Times (London) is one of the newspaper which has been investigated. Nexis Lexis gives you the possibility to save the results of your research in one RTF file, and to download it to your hard drive. We just did that for the articles of the Times on nanomedicine found on this database. Let us now explore this file in more details. \n",
    "\n",
    "This is a single file with the following elements. \n",
    "\n",
    "  1. a summary of all articles in the file\n",
    "  2. all the articles of your query\n",
    "  3. the separation between articles"
   ]
  }
 ],
 "metadata": {
  "kernelspec": {
   "display_name": "Python 3 (ipykernel)",
   "language": "python",
   "name": "python3"
  },
  "language_info": {
   "codemirror_mode": {
    "name": "ipython",
    "version": 3
   },
   "file_extension": ".py",
   "mimetype": "text/x-python",
   "name": "python",
   "nbconvert_exporter": "python",
   "pygments_lexer": "ipython3",
   "version": "3.8.10"
  },
  "widgets": {
   "application/vnd.jupyter.widget-state+json": {
    "state": {},
    "version_major": 2,
    "version_minor": 0
   }
  }
 },
 "nbformat": 4,
 "nbformat_minor": 5
}
