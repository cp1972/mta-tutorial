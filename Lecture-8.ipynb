{
 "cells": [
  {
   "cell_type": "markdown",
   "metadata": {},
   "source": [
    "## Widget for interactive presentations of topic models\n",
    "\n",
    "In this notebook, we show how to turn your results into interactive presentations with the help of widgets. We use: \n",
    "\n",
    "  - ipywidgets for the widget\n",
    "  - matplotlib and plotly for the plots \n",
    "\n",
    "which provide a good choice of widgets we can add to our results. Let us say some words regarding these widgets. Why are they useful? \n",
    "\n",
    "### Advantages\n",
    "\n",
    "Widgets give to your results some interactivity, enabling other people to use a widget in order to explore your data and your results. This is a very intersting tool which can be an asset in different contexts, as for example in teaching, or if you have to make a presentation of your results for colleagues, or even for layman people. They can use your widget to see your results moving on a table or on a plot. However, widgets have also some disadvantages\n",
    "\n",
    "### Disadvantages\n",
    "\n",
    "The disadvantages of widgets are related to: \n",
    "\n",
    "  - the communication of the results themselves: too much interactivity does not automatically improve the communicative power of your analysis. Even worse, it could give the unwanted impression that you want to oversimplify things;\n",
    "  - to the widgets themselves: if you want to customize widgets, there is a steap learning curve which require to invest time in the understanding of the underlying mechanics of the widgets' libraries in order to get what you want in the end. \n",
    "  - your work on the analysis: one of the main disadvantages of widgets is related to the other frameworks which they are depending on -- to design widgets is not really easy and if you want to incorporate custom controls or layouts, you often have to consider studying html, css styling, jinja and other possible languages that have nothing to do with your analysis, but are related to web design. \n",
    "\n",
    "So, do widgets worth it? They do if you can keep things relatively simple but efficient, and in this notebook, we show one way to do it. "
   ]
  },
  {
   "cell_type": "markdown",
   "metadata": {},
   "source": [
    "## The data\n",
    "\n",
    "We are taking an example of a topic model analysis with a table and a plot, and we are adding some simple interactivity to them. \n",
    "\n",
    "Our data is the result of the topic modelling of articles in newspapers in english covering the progress in the field of nanotechnologies for the medicine. We have tailored these data for processing in MTA, and we have get a best fit result with five topics. Let us load the needed python packages to explore our data and display the results on a plot.\n",
    "\n",
    "First, we import to needed library for plotting and reading one of our csv file produced by MTA into Python. We are reading this file and show a sample of the data in our table."
   ]
  },
  {
   "cell_type": "code",
   "execution_count": 1,
   "metadata": {},
   "outputs": [
    {
     "data": {
      "text/html": [
       "<div>\n",
       "<style scoped>\n",
       "    .dataframe tbody tr th:only-of-type {\n",
       "        vertical-align: middle;\n",
       "    }\n",
       "\n",
       "    .dataframe tbody tr th {\n",
       "        vertical-align: top;\n",
       "    }\n",
       "\n",
       "    .dataframe thead th {\n",
       "        text-align: right;\n",
       "    }\n",
       "</style>\n",
       "<table border=\"1\" class=\"dataframe\">\n",
       "  <thead>\n",
       "    <tr style=\"text-align: right;\">\n",
       "      <th></th>\n",
       "      <th>Unnamed: 0</th>\n",
       "      <th>0</th>\n",
       "      <th>1</th>\n",
       "      <th>2</th>\n",
       "      <th>3</th>\n",
       "      <th>4</th>\n",
       "      <th>Dominant_Topic_NMF</th>\n",
       "    </tr>\n",
       "  </thead>\n",
       "  <tbody>\n",
       "    <tr>\n",
       "      <th>0</th>\n",
       "      <td>2002-03-1-MajAustr-1-67-61.txt</td>\n",
       "      <td>0.734406</td>\n",
       "      <td>0.031050</td>\n",
       "      <td>0.052941</td>\n",
       "      <td>0.121928</td>\n",
       "      <td>0.059674</td>\n",
       "      <td>0</td>\n",
       "    </tr>\n",
       "    <tr>\n",
       "      <th>1</th>\n",
       "      <td>2018-01-24-MajAustr-1-67-2.txt</td>\n",
       "      <td>0.627873</td>\n",
       "      <td>0.004257</td>\n",
       "      <td>0.183715</td>\n",
       "      <td>0.125618</td>\n",
       "      <td>0.058536</td>\n",
       "      <td>0</td>\n",
       "    </tr>\n",
       "    <tr>\n",
       "      <th>2</th>\n",
       "      <td>2017-11-22-Independent-1-9-4.txt</td>\n",
       "      <td>0.944391</td>\n",
       "      <td>0.000000</td>\n",
       "      <td>0.000000</td>\n",
       "      <td>0.055609</td>\n",
       "      <td>0.000000</td>\n",
       "      <td>0</td>\n",
       "    </tr>\n",
       "    <tr>\n",
       "      <th>3</th>\n",
       "      <td>2017-09-27-Times-1-9-4.txt</td>\n",
       "      <td>0.874172</td>\n",
       "      <td>0.000000</td>\n",
       "      <td>0.125828</td>\n",
       "      <td>0.000000</td>\n",
       "      <td>0.000000</td>\n",
       "      <td>0</td>\n",
       "    </tr>\n",
       "    <tr>\n",
       "      <th>4</th>\n",
       "      <td>2016-08-7-MajAustr-1-67-26.txt</td>\n",
       "      <td>0.374457</td>\n",
       "      <td>0.008095</td>\n",
       "      <td>0.232753</td>\n",
       "      <td>0.181643</td>\n",
       "      <td>0.203052</td>\n",
       "      <td>0</td>\n",
       "    </tr>\n",
       "  </tbody>\n",
       "</table>\n",
       "</div>"
      ],
      "text/plain": [
       "                         Unnamed: 0         0         1         2         3  \\\n",
       "0    2002-03-1-MajAustr-1-67-61.txt  0.734406  0.031050  0.052941  0.121928   \n",
       "1    2018-01-24-MajAustr-1-67-2.txt  0.627873  0.004257  0.183715  0.125618   \n",
       "2  2017-11-22-Independent-1-9-4.txt  0.944391  0.000000  0.000000  0.055609   \n",
       "3        2017-09-27-Times-1-9-4.txt  0.874172  0.000000  0.125828  0.000000   \n",
       "4    2016-08-7-MajAustr-1-67-26.txt  0.374457  0.008095  0.232753  0.181643   \n",
       "\n",
       "          4  Dominant_Topic_NMF  \n",
       "0  0.059674                   0  \n",
       "1  0.058536                   0  \n",
       "2  0.000000                   0  \n",
       "3  0.000000                   0  \n",
       "4  0.203052                   0  "
      ]
     },
     "execution_count": 1,
     "metadata": {},
     "output_type": "execute_result"
    }
   ],
   "source": [
    "import matplotlib.pyplot as plt\n",
    "import matplotlib.patches as mpatches\n",
    "import seaborn as sns\n",
    "import numpy as np\n",
    "import pandas as pd\n",
    "import csv\n",
    "%matplotlib inline\n",
    "plt.rcParams['figure.figsize'] = [12, 8]\n",
    "\n",
    "df_eng = pd.read_csv('Dominant_Topics_ENG_2.csv')\n",
    "df_eng.head()"
   ]
  },
  {
   "cell_type": "markdown",
   "metadata": {},
   "source": [
    "We want to do some operation to make our table more explicite: \n",
    "\n",
    "  - first, rename the columns to reflect their content\n",
    "  - second, get rid of 'Dominant_Topic_NMF that we don't need here\n",
    "  - third, create a year column 'Year', a column 'Newspaper'\n",
    "  - fourth, take from the file title of articles in the column Year only the first fourth letters (the years only), and make it a number (integer type)\n",
    "  - fifth, take from the file title of articles in the column Newspaper only the letters from position 11 to 14 (the acronym of newspapers only)\n",
    "  - sixth, sort the dataframe by year and print a head of it"
   ]
  },
  {
   "cell_type": "code",
   "execution_count": 2,
   "metadata": {},
   "outputs": [
    {
     "data": {
      "text/html": [
       "<div>\n",
       "<style scoped>\n",
       "    .dataframe tbody tr th:only-of-type {\n",
       "        vertical-align: middle;\n",
       "    }\n",
       "\n",
       "    .dataframe tbody tr th {\n",
       "        vertical-align: top;\n",
       "    }\n",
       "\n",
       "    .dataframe thead th {\n",
       "        text-align: right;\n",
       "    }\n",
       "</style>\n",
       "<table border=\"1\" class=\"dataframe\">\n",
       "  <thead>\n",
       "    <tr style=\"text-align: right;\">\n",
       "      <th></th>\n",
       "      <th>Articles</th>\n",
       "      <th>Topic_0</th>\n",
       "      <th>Topic_1</th>\n",
       "      <th>Topic_2</th>\n",
       "      <th>Topic_3</th>\n",
       "      <th>Topic_4</th>\n",
       "      <th>Year</th>\n",
       "      <th>Newspaper</th>\n",
       "    </tr>\n",
       "  </thead>\n",
       "  <tbody>\n",
       "    <tr>\n",
       "      <th>0</th>\n",
       "      <td>2002-03-1-MajAustr-1-67-61.txt</td>\n",
       "      <td>0.734406</td>\n",
       "      <td>0.031050</td>\n",
       "      <td>0.052941</td>\n",
       "      <td>0.121928</td>\n",
       "      <td>0.059674</td>\n",
       "      <td>2002</td>\n",
       "      <td>ajA</td>\n",
       "    </tr>\n",
       "    <tr>\n",
       "      <th>76</th>\n",
       "      <td>2003-07-01-NYTimes-1-7-4.txt</td>\n",
       "      <td>0.759704</td>\n",
       "      <td>0.001919</td>\n",
       "      <td>0.067554</td>\n",
       "      <td>0.170823</td>\n",
       "      <td>0.000000</td>\n",
       "      <td>2003</td>\n",
       "      <td>NYT</td>\n",
       "    </tr>\n",
       "    <tr>\n",
       "      <th>75</th>\n",
       "      <td>2004-03-15-MajAustr-1-67-30.txt</td>\n",
       "      <td>0.749237</td>\n",
       "      <td>0.000306</td>\n",
       "      <td>0.125060</td>\n",
       "      <td>0.091593</td>\n",
       "      <td>0.033804</td>\n",
       "      <td>2004</td>\n",
       "      <td>Maj</td>\n",
       "    </tr>\n",
       "    <tr>\n",
       "      <th>74</th>\n",
       "      <td>2004-10-11-TorontoS-1-5-3.txt</td>\n",
       "      <td>0.652717</td>\n",
       "      <td>0.105692</td>\n",
       "      <td>0.149433</td>\n",
       "      <td>0.092158</td>\n",
       "      <td>0.000000</td>\n",
       "      <td>2004</td>\n",
       "      <td>Tor</td>\n",
       "    </tr>\n",
       "    <tr>\n",
       "      <th>73</th>\n",
       "      <td>2004-12-22-Independent-1-9-5.txt</td>\n",
       "      <td>0.344901</td>\n",
       "      <td>0.118249</td>\n",
       "      <td>0.104265</td>\n",
       "      <td>0.128737</td>\n",
       "      <td>0.303847</td>\n",
       "      <td>2004</td>\n",
       "      <td>Ind</td>\n",
       "    </tr>\n",
       "  </tbody>\n",
       "</table>\n",
       "</div>"
      ],
      "text/plain": [
       "                            Articles   Topic_0   Topic_1   Topic_2   Topic_3  \\\n",
       "0     2002-03-1-MajAustr-1-67-61.txt  0.734406  0.031050  0.052941  0.121928   \n",
       "76      2003-07-01-NYTimes-1-7-4.txt  0.759704  0.001919  0.067554  0.170823   \n",
       "75   2004-03-15-MajAustr-1-67-30.txt  0.749237  0.000306  0.125060  0.091593   \n",
       "74     2004-10-11-TorontoS-1-5-3.txt  0.652717  0.105692  0.149433  0.092158   \n",
       "73  2004-12-22-Independent-1-9-5.txt  0.344901  0.118249  0.104265  0.128737   \n",
       "\n",
       "     Topic_4  Year Newspaper  \n",
       "0   0.059674  2002       ajA  \n",
       "76  0.000000  2003       NYT  \n",
       "75  0.033804  2004       Maj  \n",
       "74  0.000000  2004       Tor  \n",
       "73  0.303847  2004       Ind  "
      ]
     },
     "execution_count": 2,
     "metadata": {},
     "output_type": "execute_result"
    }
   ],
   "source": [
    "# First step\n",
    "df_eng.rename(columns={ df_eng.columns[0]: \"Articles\" }, inplace = True)\n",
    "df_eng.rename(columns={ df_eng.columns[1]: \"Topic_0\" }, inplace = True)\n",
    "df_eng.rename(columns={ df_eng.columns[2]: \"Topic_1\" }, inplace = True)\n",
    "df_eng.rename(columns={ df_eng.columns[3]: \"Topic_2\" }, inplace = True)\n",
    "df_eng.rename(columns={ df_eng.columns[4]: \"Topic_3\" }, inplace = True)\n",
    "df_eng.rename(columns={ df_eng.columns[5]: \"Topic_4\" }, inplace = True)\n",
    "# Second step\n",
    "df_eng.drop('Dominant_Topic_NMF', axis=1, inplace=True)\n",
    "# Third step\n",
    "df_eng['Year'] = df_eng['Articles']\n",
    "df_eng['Newspaper'] = df_eng['Articles']\n",
    "# Fourth step\n",
    "df_eng['Year']= df_eng['Year'].map(lambda x: str(x)[0:4])\n",
    "df_eng['Year'].astype(int)\n",
    "# Fifth step\n",
    "df_eng['Newspaper']= df_eng['Newspaper'].map(lambda x: str(x)[11:14])\n",
    "# Sixth step\n",
    "df_eng2 = df_eng.sort_values(by='Year',ascending=True)\n",
    "# Display our reworked table\n",
    "df_eng2.head()"
   ]
  },
  {
   "cell_type": "markdown",
   "metadata": {},
   "source": [
    "## The plot\n",
    "\n",
    "Now, let us make a buble chart for that dataframe. A bubble chart is basically a scatter plot where we are ploting the topics on the y axis and the years on the x axis. Because we have five topics, we have to define five element in the plot to print together the five topic on the same plot. Using matplotlib for that task, we can do it like this: "
   ]
  },
  {
   "cell_type": "code",
   "execution_count": 3,
   "metadata": {},
   "outputs": [
    {
     "data": {
      "text/plain": [
       "([0, 1, 2, 3, 4, 5, 6, 7, 8, 9, 10, 11, 12, 13, 14, 15, 16, 17, 18, 19],\n",
       " [Text(0, 0, ''),\n",
       "  Text(0, 0, ''),\n",
       "  Text(0, 0, ''),\n",
       "  Text(0, 0, ''),\n",
       "  Text(0, 0, ''),\n",
       "  Text(0, 0, ''),\n",
       "  Text(0, 0, ''),\n",
       "  Text(0, 0, ''),\n",
       "  Text(0, 0, ''),\n",
       "  Text(0, 0, ''),\n",
       "  Text(0, 0, ''),\n",
       "  Text(0, 0, ''),\n",
       "  Text(0, 0, ''),\n",
       "  Text(0, 0, ''),\n",
       "  Text(0, 0, ''),\n",
       "  Text(0, 0, ''),\n",
       "  Text(0, 0, ''),\n",
       "  Text(0, 0, ''),\n",
       "  Text(0, 0, ''),\n",
       "  Text(0, 0, '')])"
      ]
     },
     "execution_count": 3,
     "metadata": {},
     "output_type": "execute_result"
    },
    {
     "data": {
      "image/png": "[encoded data removed]",
      "text/plain": [
       "<Figure size 864x576 with 1 Axes>"
      ]
     },
     "metadata": {
      "needs_background": "light"
     },
     "output_type": "display_data"
    }
   ],
   "source": [
    "# Define the results corresponding to each topic\n",
    "\n",
    "ax1 = df_eng2.plot(kind='scatter', x=\"Year\", y=\"Topic_0\", s=df_eng2[\"Topic_0\"] * 400, colormap='Greens', c=\"Topic_0\", colorbar=False, alpha=0.5, label=\"Topic_0\")\n",
    "ax2 = df_eng2.plot(kind='scatter', x=\"Year\", y=\"Topic_1\", s=df_eng2[\"Topic_1\"] * 400, colormap='Blues', c=\"Topic_1\", colorbar=False, alpha=0.5, ax=ax1, label=\"Topic_1\")\n",
    "ax3 = df_eng2.plot(kind='scatter', x=\"Year\", y=\"Topic_2\", s=df_eng2[\"Topic_2\"] * 400, colormap='Reds', c=\"Topic_2\", colorbar=False, alpha=0.5, ax=ax1, label=\"Topic_2\")\n",
    "ax4 = df_eng2.plot(kind='scatter', x=\"Year\", y=\"Topic_3\", s=df_eng2[\"Topic_3\"] * 400, colormap='Oranges', c=\"Topic_3\", colorbar=False, alpha=0.5, label='Topic_3', ax=ax1)\n",
    "ax5 = df_eng2.plot(kind='scatter', x=\"Year\", y=\"Topic_4\", s=df_eng2[\"Topic_4\"] * 400, colormap='Purples', c=\"Topic_4\", colorbar=False, alpha=0.5, label='Topic_4', ax=ax1)\n",
    "\n",
    "# Note that ax2 to ax5 depend on ax1 which insure that we are ploting our five axes -- our five topics -- in reference to ax1, and therefore on the same plot\n",
    "\n",
    "# Now let us add labels for the axis, different colors for each of the topics, as well as a legend with the name of the topics and their corresponding color:\n",
    "\n",
    "plt.ylabel('Topics english newspapers')\n",
    "plt.xlabel('Years')\n",
    "\n",
    "# Our colours identifying the topics are customized like this -- note: alpha is the level of transparency\n",
    "\n",
    "green_patch = mpatches.Patch(color='darkolivegreen', alpha=0.8, label='ENG_Topic_0')\n",
    "blue_patch = mpatches.Patch(color='steelblue', alpha=0.8, label='ENG_Topic_1')\n",
    "red_patch = mpatches.Patch(color='darkred', alpha=0.5, label='ENG_Topic_2')\n",
    "orange_patch = mpatches.Patch(color='darkgoldenrod', alpha=0.8, label='ENG_Topic_3')\n",
    "purple_patch = mpatches.Patch(color='purple', alpha=0.5, label='ENG_Topic_4')\n",
    "\n",
    "# Add a legend to this plot and make the y ticks stay as they are, whereas the x ticks will be turn on 45°\n",
    "\n",
    "ax1.legend(handles=[green_patch, blue_patch, red_patch, orange_patch, purple_patch], loc=2, prop={'size':12}, bbox_to_anchor=(1,1),ncol=1)\n",
    "plt.yticks(rotation=0) \n",
    "plt.xticks(rotation=45, ha=\"right\") "
   ]
  },
  {
   "cell_type": "markdown",
   "metadata": {},
   "source": [
    "This is -- in my view -- a nice plot, and all in all we can be happy with our result. More important bubbles are on the top of the plot, darker and bigger than less important bubbles descending to the bottom of the plot. This gives a nice overview of the importance of our topics and the weight of the articles in the topics, where we can see that our Topic_0 is the most important one. \n",
    "\n",
    "Now, let us create widgets to turn our results into interactive results. In order to do that, we need to import the following packages: IPython to display the widgets, ipywidgets to design the widgets, plotly to plot the results with built-in interactive controls, cufflinks to change the style of our plot."
   ]
  },
  {
   "cell_type": "code",
   "execution_count": 4,
   "metadata": {
    "tags": []
   },
   "outputs": [
    {
     "data": {
      "text/html": [
       "        <script type=\"text/javascript\">\n",
       "        window.PlotlyConfig = {MathJaxConfig: 'local'};\n",
       "        if (window.MathJax) {MathJax.Hub.Config({SVG: {font: \"STIX-Web\"}});}\n",
       "        if (typeof require !== 'undefined') {\n",
       "        require.undef(\"plotly\");\n",
       "        requirejs.config({\n",
       "            paths: {\n",
       "                'plotly': ['https://cdn.plot.ly/plotly-2.8.3.min']\n",
       "            }\n",
       "        });\n",
       "        require(['plotly'], function(Plotly) {\n",
       "            window._Plotly = Plotly;\n",
       "        });\n",
       "        }\n",
       "        </script>\n",
       "        "
      ]
     },
     "metadata": {},
     "output_type": "display_data"
    },
    {
     "data": {
      "text/html": [
       "        <script type=\"text/javascript\">\n",
       "        window.PlotlyConfig = {MathJaxConfig: 'local'};\n",
       "        if (window.MathJax) {MathJax.Hub.Config({SVG: {font: \"STIX-Web\"}});}\n",
       "        if (typeof require !== 'undefined') {\n",
       "        require.undef(\"plotly\");\n",
       "        requirejs.config({\n",
       "            paths: {\n",
       "                'plotly': ['https://cdn.plot.ly/plotly-2.8.3.min']\n",
       "            }\n",
       "        });\n",
       "        require(['plotly'], function(Plotly) {\n",
       "            window._Plotly = Plotly;\n",
       "        });\n",
       "        }\n",
       "        </script>\n",
       "        "
      ]
     },
     "metadata": {},
     "output_type": "display_data"
    }
   ],
   "source": [
    "from IPython.display import display, clear_output\n",
    "import ipywidgets as widgets \n",
    "from ipywidgets import interact, Layout, interactive, fixed, interact_manual, IntSlider\n",
    "\n",
    "import chart_studio.plotly as py\n",
    "import plotly.graph_objs as go\n",
    "from plotly.offline import iplot, init_notebook_mode\n",
    "init_notebook_mode(connected=True)\n",
    "\n",
    "import cufflinks as cf\n",
    "cf.go_offline(connected=True)\n",
    "cf.set_config_file(colorscale='plotly', world_readable=True)\n",
    "\n",
    "# Extra options\n",
    "pd.options.display.max_rows = 30\n",
    "pd.options.display.max_columns = 25"
   ]
  },
  {
   "cell_type": "markdown",
   "metadata": {},
   "source": [
    "## Interactive table\n",
    "\n",
    "One of the things we might want is a widget enabling the filtering of our table with variables of this table. In our case, it could be interesting to filter our table with the value of our topics, to see what are the years related to the highest/lowest values of our topics and/or the related newspapers' categories or the newspapers' articles. Let us do such a widget with the interact decorator (@interact), which implicitly call the funtion show_articles and is a simple and efficient way to build a widget alongside the following steps: \n",
    "\n",
    "  - write the interact decorator\n",
    "  - define your function with following parameters:\n",
    "    - 'column' which is a list of the topic variables\n",
    "    - the values of the topic variables in the table, going from 0 to 1\n",
    "    - a value defining the transition between the values of the topic -- here, we define a transition at 5%\n",
    "\n",
    "This function return the lines of our table based on the selected topic and a give value of this topic between 0 and 1, as below. "
   ]
  },
  {
   "cell_type": "code",
   "execution_count": 5,
   "metadata": {
    "tags": []
   },
   "outputs": [
    {
     "data": {
      "application/vnd.jupyter.widget-view+json": {
       "model_id": "34aea82743534aeb8270553e02fbaa45",
       "version_major": 2,
       "version_minor": 0
      },
      "text/plain": [
       "interactive(children=(Dropdown(description='column', options=('Topic_0', 'Topic_1', 'Topic_2', 'Topic_3', 'Top…"
      ]
     },
     "metadata": {},
     "output_type": "display_data"
    }
   ],
   "source": [
    "# Widget to filter table by topic value\n",
    "\n",
    "@interact\n",
    "def show_articles(column=['Topic_0', 'Topic_1', 'Topic_2', 'Topic_3', 'Topic_4'], value=(0, 1, 0.05)):\n",
    "    return df_eng.loc[df_eng[column] > value]"
   ]
  },
  {
   "cell_type": "markdown",
   "metadata": {},
   "source": [
    "## Sort table with more variables\n",
    "\n",
    "We can also sort our table with more variables than the topic variables only. For this example, we want to sorte the table by our topics, and also we want to sort it by the year. One way to do it is to display two tables with the same interact decorator:"
   ]
  },
  {
   "cell_type": "code",
   "execution_count": 6,
   "metadata": {},
   "outputs": [
    {
     "data": {
      "application/vnd.jupyter.widget-view+json": {
       "model_id": "b187bd0651ff402dafcc2ebab520e9e1",
       "version_major": 2,
       "version_minor": 0
      },
      "text/plain": [
       "interactive(children=(Dropdown(description='topics', options=('Topic_0', 'Topic_1', 'Topic_2', 'Topic_3', 'Top…"
      ]
     },
     "metadata": {},
     "output_type": "display_data"
    }
   ],
   "source": [
    "# Widget to filter table by topic value and years\n",
    "\n",
    "# First transform the years in the column Year to numbers\n",
    "\n",
    "df_eng[\"Year\"] = df_eng[\"Year\"].astype(int)\n",
    "\n",
    "# Then output \n",
    "\n",
    "@interact\n",
    "def filter_topics(topics=['Topic_0', 'Topic_1', 'Topic_2', 'Topic_3', 'Topic_4'], value=(0, 1, 0.05),\n",
    "                 year=df_eng[\"Year\"].unique()):\n",
    "    return df_eng.loc[df_eng[topics] > value], df_eng[df_eng.Year==year]"
   ]
  },
  {
   "cell_type": "markdown",
   "metadata": {},
   "source": [
    "The output of this interact decorator is too verbose. Thus, let us make two decorators out of it, and as we are on this, let us create a third decorator to filter our table by newspapers' categories:"
   ]
  },
  {
   "cell_type": "code",
   "execution_count": 7,
   "metadata": {},
   "outputs": [
    {
     "data": {
      "application/vnd.jupyter.widget-view+json": {
       "model_id": "10f1c8578eea432ea56d99f2469a7524",
       "version_major": 2,
       "version_minor": 0
      },
      "text/plain": [
       "interactive(children=(Dropdown(description='topics', options=('Topic_0', 'Topic_1', 'Topic_2', 'Topic_3', 'Top…"
      ]
     },
     "metadata": {},
     "output_type": "display_data"
    },
    {
     "data": {
      "application/vnd.jupyter.widget-view+json": {
       "model_id": "bf693ee5e7bf4f6a83b06de6a4212222",
       "version_major": 2,
       "version_minor": 0
      },
      "text/plain": [
       "interactive(children=(Dropdown(description='year', options=(2002, 2018, 2017, 2016, 2015, 2014, 2021, 2020, 20…"
      ]
     },
     "metadata": {},
     "output_type": "display_data"
    },
    {
     "data": {
      "application/vnd.jupyter.widget-view+json": {
       "model_id": "a3530322acf2420d8a94a865b76614fe",
       "version_major": 2,
       "version_minor": 0
      },
      "text/plain": [
       "interactive(children=(Dropdown(description='news', options=('ajA', 'Maj', 'Ind', 'Tim', 'NYT', 'ail', 'Dai', '…"
      ]
     },
     "metadata": {},
     "output_type": "display_data"
    }
   ],
   "source": [
    "@interact\n",
    "def filter_topics(topics=df_eng.select_dtypes('number').columns[0:5], value=(0, 1, 0.05)):\n",
    "    return df_eng.loc[df_eng[topics] > value]\n",
    "\n",
    "@interact\n",
    "def filter_years(year=df_eng[\"Year\"].unique()):\n",
    "    return df_eng[df_eng.Year==year]\n",
    "\n",
    "@interact\n",
    "def filter_newspaper(news=df_eng[\"Newspaper\"].unique()):\n",
    "    return df_eng[df_eng.Newspaper==news]"
   ]
  },
  {
   "cell_type": "markdown",
   "metadata": {},
   "source": [
    "We have much pleasant tables, that we can arrange afterwards on a dashboard in order to let others play with the table. We also have the possibility to combine the outputs in one single table with f.ex. here to dropdown boxes for topics and years. Remember, however, that combining widgets is a complicated task and for the presentation of table, such a complexity is not always necessary."
   ]
  },
  {
   "cell_type": "code",
   "execution_count": 8,
   "metadata": {},
   "outputs": [
    {
     "data": {
      "application/vnd.jupyter.widget-view+json": {
       "model_id": "afb1950a12f14e0ab76354af67470909",
       "version_major": 2,
       "version_minor": 0
      },
      "text/plain": [
       "interactive(children=(Dropdown(description='topics', options=('Topic_0', 'Topic_1', 'Topic_2', 'Topic_3', 'Top…"
      ]
     },
     "metadata": {},
     "output_type": "display_data"
    }
   ],
   "source": [
    "@interact\n",
    "def filter_topicsyear(topics=['Topic_0', 'Topic_1', 'Topic_2', 'Topic_3', 'Topic_4'], value=(df_eng[\"Year\"].unique()),\n",
    "                 ):\n",
    "    return df_eng[df_eng.Year==value]"
   ]
  },
  {
   "cell_type": "markdown",
   "metadata": {},
   "source": [
    "## Widgets for plots\n",
    "\n",
    "Widgets for plots are useful in order to give an interctive view of your plotted results. Let us take a first example of a multiselection widget which enables us to select multiple topics to compare their distribution over time in plot displayed with matplotlib:"
   ]
  },
  {
   "cell_type": "code",
   "execution_count": 9,
   "metadata": {},
   "outputs": [
    {
     "data": {
      "application/vnd.jupyter.widget-view+json": {
       "model_id": "bdae45a2471d400ba7523b0d93903fa6",
       "version_major": 2,
       "version_minor": 0
      },
      "text/plain": [
       "interactive(children=(SelectMultiple(description='Variables', index=(1,), options=('Topic_0', 'Topic_1', 'Topi…"
      ]
     },
     "metadata": {},
     "output_type": "display_data"
    }
   ],
   "source": [
    "# Widget to compare topic distribution over time\n",
    "opts = list(df_eng2[[\"Topic_0\", \"Topic_1\", \"Topic_2\", \"Topic_3\", \"Topic_4\"]])\n",
    "\n",
    "sel_mult = widgets.SelectMultiple(description=\"Variables\",options=opts,value=[opts[1]],disabled=False)\n",
    "\n",
    "@interact(variables=sel_mult)\n",
    "def plot_multiple(variables):\n",
    "    df_eng3 = df_eng.set_index(\"Year\").sort_index(axis=0)\n",
    "    df_eng3[list(variables)].plot(style=\".\", ms=20, alpha=0.5)\n",
    "    plt.title(\"Topics in time\")\n",
    "    plt.xlabel(\"Years\")\n",
    "    plt.ylabel(\"Topics' weight\")\n",
    "    plt.legend(loc=2, prop={'size':12}, bbox_to_anchor=(1,1),ncol=1)"
   ]
  },
  {
   "cell_type": "markdown",
   "metadata": {},
   "source": [
    "You see a usual scatter plot enabling to compare several topic distribution from 2002 until 2021. You can achieve a similar result with plotly, which has the advantage to display its own widgets and deliver even more informations -- note, we display also two widget in order to choose the layout that you want for your plot (color of background and dots)."
   ]
  },
  {
   "cell_type": "code",
   "execution_count": 10,
   "metadata": {},
   "outputs": [
    {
     "name": "stdout",
     "output_type": "stream",
     "text": [
      "['Topic_0', 'Topic_1', 'Topic_2', 'Topic_3', 'Topic_4', 'Year']\n"
     ]
    },
    {
     "data": {
      "application/vnd.jupyter.widget-view+json": {
       "model_id": "f30a8868da13477e9d75c8be73351632",
       "version_major": 2,
       "version_minor": 0
      },
      "text/plain": [
       "interactive(children=(Dropdown(description='year', options=('Year',), value='Year'), Dropdown(description='y',…"
      ]
     },
     "metadata": {},
     "output_type": "display_data"
    }
   ],
   "source": [
    "# Widgets to see topic distribution over time and changes styles\n",
    "\n",
    "df_eng2[\"Year\"] = df_eng2[\"Year\"].astype(int)\n",
    "# find index of 'Year' for x axis\n",
    "year_index = list(df_eng2.select_dtypes('number').columns)\n",
    "print(year_index)\n",
    "\n",
    "@interact\n",
    "# with year only -- don't output errors if same columns in x and y boxes\n",
    "def scatter_plot(year=list(df_eng2.select_dtypes('number').columns[5:]), \n",
    "                 y=list(df_eng2.select_dtypes('number').columns[0:4]),\n",
    "                 theme=list(cf.themes.THEMES.keys()), \n",
    "                 colorscale=list(cf.colors._scales_names.keys())):\n",
    "   \n",
    "    df_eng2.iplot(kind='scatter', x=year, y=y, mode='markers', opacity=0.75,\n",
    "             xTitle=year.title(), yTitle=y.title(), \n",
    "             title=f'{y.title()} on {year.title()}',\n",
    "             theme=theme, colorscale=colorscale)"
   ]
  },
  {
   "cell_type": "markdown",
   "metadata": {},
   "source": [
    "Finally, we introduce a plot crossing the topics distribution over time, as well as the newspapers' categories in our dataset. With the plotly widget, you can then select/deselect the newspapers' categories per mouse clic in order to see their contribution to one topic and to the distribution of this topic in time."
   ]
  },
  {
   "cell_type": "code",
   "execution_count": 11,
   "metadata": {},
   "outputs": [
    {
     "name": "stdout",
     "output_type": "stream",
     "text": [
      "['ajA' 'NYT' 'Maj' 'Tor' 'Ind' 'Tim' 'Dai' 'Gua' 'Bus' 'ail' 'CDa']\n"
     ]
    },
    {
     "data": {
      "application/vnd.jupyter.widget-view+json": {
       "model_id": "4c0d9b70448f40dda6af238134edb52f",
       "version_major": 2,
       "version_minor": 0
      },
      "text/plain": [
       "interactive(children=(Dropdown(description='x', options=('Year',), value='Year'), Dropdown(description='y', op…"
      ]
     },
     "metadata": {},
     "output_type": "display_data"
    }
   ],
   "source": [
    "# Widget to filter the topics distribution over time by newspapers' categories\n",
    "import plotly.express as px\n",
    "print(df_eng2[\"Newspaper\"].unique())\n",
    "# Define color discrete map for the newspapers' categories (hex code for colors)\n",
    "color_discrete_map = {'ajA': '#002b36', 'NYT': '#586e75', 'Maj': '#657b83', 'Tor': '#839496', 'Ind': '#93a1a1', 'Tim': '#fdf6e3', 'Dai': '#b58900', 'Gua': '#cb4b16', 'Bus': '#d30102', 'ail': '#d33682', 'CDa': '#268bd2'}\n",
    "\n",
    "@interact\n",
    "# with year only\n",
    "def scatter_plot(x=list(df_eng2.select_dtypes('number').columns[5:]), \n",
    "                 y=list(df_eng2.select_dtypes('number').columns[0:4])):\n",
    "                #theme=list(cf.themes.THEMES.keys()), \n",
    "                 #colorscale=list(cf.colors._scales_names.keys())):\n",
    "\n",
    "# with all integer categories in 'x' and 'y'\n",
    "#def scatter_plot(x=list(df_eng2.select_dtypes('number').columns), \n",
    "#                 y=list(df_eng2.select_dtypes('number').columns),\n",
    "#                 theme=list(cf.themes.THEMES.keys()), \n",
    "#                 colorscale=list(cf.colors._scales_names.keys())):\n",
    "    \n",
    "    \n",
    "    fig=px.scatter(df_eng2, x=x, y=y, color=\"Newspaper\", \n",
    "             opacity=0.5,\n",
    "             #trendline=\"rolling\",\n",
    "             #trendline_options=dict(window=2),\n",
    "             color_discrete_map=color_discrete_map)\n",
    "    fig.update_traces(marker=dict(size=15))\n",
    "    fig.show()"
   ]
  },
  {
   "cell_type": "code",
   "execution_count": null,
   "metadata": {},
   "outputs": [],
   "source": []
  }
 ],
 "metadata": {
  "kernelspec": {
   "display_name": "Python 3",
   "language": "python",
   "name": "python3"
  },
  "language_info": {
   "codemirror_mode": {
    "name": "ipython",
    "version": 3
   },
   "file_extension": ".py",
   "mimetype": "text/x-python",
   "name": "python",
   "nbconvert_exporter": "python",
   "pygments_lexer": "ipython3",
   "version": "3.6.9"
  },
  "widgets": {
   "application/vnd.jupyter.widget-state+json": {
    "state": {},
    "version_major": 2,
    "version_minor": 0
   }
  }
 },
 "nbformat": 4,
 "nbformat_minor": 4
}
