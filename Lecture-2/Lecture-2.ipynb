{
 "cells": [
  {
   "cell_type": "markdown",
   "metadata": {},
   "source": [
    "## Install Linux on a USB external device\n",
    "\n",
    "**Motivation**: You can do all your work from a USB key with a full linux desktop on it. This is especially useful if you don't want to touch the installed system on your computer, and if you have to move from your home/office to other places often. \n",
    "\n",
    "**Disclaimer**: this is a tutorial for beginners with no experience in such installation. Follow it step by step, and do a backup of your sensible data if something goes wrong. We don't take any kind of responsibility if you lose your data -- you have been warned. \n",
    "\n",
    "In this example, we are going to install a Linux mainstream distribution on an external drive, in our case on a USB pendrive/key. You will need: \n",
    "\n",
    " - a USB key with a minimum of 4GB: we will use this key in order to write an * .iso file to it. This * .iso file is the file of the Linux distribution you have downloaded. We will use this key as the one from which we will install Linux\n",
    " - a (second and bigger) USB key -- we will use a 32 GB USB key which will be the key on which we install Linux from the 4GB key. You can use a bigger key, an external drive (as f.ex. a SSD drive)\n",
    " - an * .iso file: in this example, we are using the last Linux Mint distribution (at the time of writing), that you can find here: https://linuxmint.com/download.php -- We are downloading the MATE edition, because the desktop is faster than the cinnamon edition, and it is near to what you have if you are working in Windows. \n",
    "\n",
    "## First step -- Download a Linux mainstream distribution\n",
    "\n",
    "  - go to [this link](https://linuxmint.com/download.php) and click on \"Download\"\n",
    "  - on the page, that has been opened after you have clicked on \"Download\", go to \"Download mirrors\" and chose a mirror in your country\n",
    "  - click on the mirror site and save the * .iso file in one of your folder (f.ex. the Download folder of your desktop)\n",
    "  - wait until the download has completed\n",
    "\n",
    "## Second step -- Write the iso file on your 4GB key\n",
    "\n",
    "  - IF ON MACOS: download the following [free software](https://www.sysgeeker.com/download/wonderiso-for-mac.dmg) to write your file to the USB key. \n",
    "  - IF ON WINDOWS: download the [same software for windows](https://www.sysgeeker.com/download/wonderiso-for-windows.exe)\n",
    "  \n",
    "The software is easy to use. You have to:\n",
    "\n",
    "  - plug your 4GB USB key into a USB port\n",
    "  - then open wonderiso as administrator\n",
    "  - in wonderiso, click on \"Burn\"\n",
    "  - on the next screen, browse to your * .iso file (* .iso image)\n",
    "  - chose below \"Create a bootable USB\"\n",
    "  - chose below \"System File\", scroll to \"Fat 32\"\n",
    "  - below on the right, click on \"Burn\"\n",
    "  - wait some time until the software has burnt the file on your USB drive\n",
    "  - shutdown your computer at the end of the process\n",
    "  \n",
    "## Third step -- Reboot your computer with your 4GB USB inserted in a USB port\n",
    "\n",
    "  - before you reboot your computer, you have to plug your 4GB USB key into a USB port of your computer\n",
    "  - depending on your hardware, follow the correct procedure: \n",
    "    - ON MACOS: \n",
    "      * before booting your computer, hold the the Option/alt (⌥) key pressed\n",
    "      * a menu should come up with the drives that you can boot -- chose your 4GB USB key\n",
    "    - ON Windows: \n",
    "      * before booting your computer, hold the F12 key pressed -- on some system, it is the Esc key (mostly HP), or the F8 (Asus), or the F9, or the F5 key; try them out\n",
    "      * boot/start your computer\n",
    "      * a boot menu should come up with the list of the drives you can boot from -- chose your 4GB USB key\n",
    "\n",
    "Troubleshooting: \n",
    "\n",
    "  - Windows: there is no boot menu showing up:\n",
    "    - if at boot in the first screen you see \"Press Enter to interrupt normal startup\", first press Enter and then hold the F12 key (or another possible one) pressed\n",
    "    - be sure that you have enabled booting from USB in your BIOS; in doubt, do the following:\n",
    "      - boot/start your computer and hold the Del key (for delete) pressed\n",
    "      - you are opening your BIOS -- here is an example of mine:"
   ]
  },
  {
   "cell_type": "markdown",
   "metadata": {},
   "source": [
    "![First screen in Bios Lenovo Thinkpad](Bios-1.png)"
   ]
  },
  {
   "cell_type": "markdown",
   "metadata": {},
   "source": [
    "  - go to \"Startup\" (or similar), and in \"Startup\", go to boot (or similar)"
   ]
  },
  {
   "cell_type": "markdown",
   "metadata": {},
   "source": [
    "![Startup screen in Bios Lenovo Thinkpad](Bios-5.png)"
   ]
  },
  {
   "cell_type": "markdown",
   "metadata": {},
   "source": [
    "  - in the boot section of \"Startup\", be sure that USB FDD or USB HDD is present, as in my BIOS"
   ]
  },
  {
   "cell_type": "markdown",
   "metadata": {},
   "source": [
    "![Bios Lenovo Thinkpad can boot from USB](Bios-6.png)"
   ]
  },
  {
   "cell_type": "markdown",
   "metadata": {},
   "source": [
    "  - you can move USB FDD to the top of the list (first position) in order to insure that your BIOS first look at a system on USB keys before going to the windows boot manager\n",
    "  - once done, hit F10 to save your properties and exit the bios, your computer will reboot"
   ]
  },
  {
   "cell_type": "markdown",
   "metadata": {},
   "source": [
    "## Fourth step -- Install linux on 32GB USB key\n",
    "\n",
    "  - at this point, you should see the Linux Mint desktop\n",
    "  - you can follow [this link](https://forums.linuxmint.com/viewtopic.php?f=42&t=287353) and take the hybrid install which is an easy and secure way to install your complete linux mint on your 32GB USB key\n",
    "  - you can follow my video tutorial based on the upper link which shows you how to do this kind of installation in few steps:"
   ]
  },
  {
   "cell_type": "markdown",
   "metadata": {},
   "source": [
    "  - English: [Install video](https://cp.soziologie.uni-halle.de/MQD/LinuxInstall-EN.webm) and [Post-install video](https://cp.soziologie.uni-halle.de/MQD/LinuxPostinstall-EN.webm)\n",
    "  - German: [Install video](https://cp.soziologie.uni-halle.de/MQD/Linuxinstall-DE.webm) and [Post-install video](https://cp.soziologie.uni-halle.de/MQD/LinuxPostInstall-DE.webm)"
   ]
  },
  {
   "cell_type": "markdown",
   "metadata": {},
   "source": [
    "## Install python packages for the MTA software\n",
    "\n",
    "You can follow the simple steps to install the needed python packages in order to use the MTA software: \n",
    "\n",
    "  - English: [Install video](https://cp.soziologie.uni-halle.de/MQD/LinuxPythonInstall-EN.webm)\n",
    "  - German: [Install video](https://cp.soziologie.uni-halle.de/MQD/LinuxPythonInstall-DE.webm)"
   ]
  }
 ],
 "metadata": {
  "jupytext": {
   "cell_metadata_filter": "-all",
   "main_language": "python",
   "notebook_metadata_filter": "-all"
  },
  "kernelspec": {
   "display_name": "Python 3",
   "language": "python",
   "name": "python3"
  },
  "language_info": {
   "codemirror_mode": {
    "name": "ipython",
    "version": 3
   },
   "file_extension": ".py",
   "mimetype": "text/x-python",
   "name": "python",
   "nbconvert_exporter": "python",
   "pygments_lexer": "ipython3",
   "version": "3.6.9"
  },
  "widgets": {
   "application/vnd.jupyter.widget-state+json": {
    "state": {},
    "version_major": 2,
    "version_minor": 0
   }
  }
 },
 "nbformat": 4,
 "nbformat_minor": 4
}
