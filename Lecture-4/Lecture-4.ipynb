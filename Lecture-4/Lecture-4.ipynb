{
 "cells": [
  {
   "cell_type": "markdown",
   "id": "2136ad33-67b6-457a-ad2a-94da672a9988",
   "metadata": {},
   "source": [
    "## Parse your data the way you want\n",
    "\n",
    "Data parsing is a more advanced topic, and it is a very important step in the pre-processing of your data, because it enables you to clean up your data, i.e. to remove informations that you don't need for you modelling from the content of the data, or that could impoverish the modelling of your data if you keep them. Let us come back to the theory of the modelling of qualitative data. \n",
    "\n",
    "The main difference between the computer-oriented modelling of qualitative data and other non computer-oriented interpretation techniques dealing with qualitative data regards the workflow that you have to organize in order to get instantly meaningful informations out of your model. The focus is not the same. Non computer-oriented techniques are directly related to the content of the data that you have to organize in categories in order to give your data some dimensions. The computer-oriented techniques are directly related to the _structure_ of the data content, as well as to the _name_ of the data in order to organize (not the content but) the data themselves in _databanks_. Let us define these terms more precisely: \n",
    "\n",
    "  - the structure of the data content: you have to pay attention to the different element of the text, and to where they are placed in the text data; these element can be f.ex. the author of the text, the date of the text, the journal/book in which the text has been published, the text itself etc. \n",
    "  - the name of the data: it is the filename of your data -- the goal is here to rename your data with _tags_ in such a way that you save meaningful informations directly in the filename of the data in order to use this information to sort your data afterwards\n",
    "  - databanks: think about your data as databanks, i.e. as a batch of informations with their corresponding tags in the filename of your data that you can store in folders on your computer. \n",
    "  \n",
    "This way to organize your data supposes that you have to parse your data, which means that you have to take content informations from your data, to use it as tags that you will write into the name of the data, and to save your data according to your research question in different folders. In this lecture, we introduce to this way of organizing your workflow in the preprocessing of your qualitative data. "
   ]
  },
  {
   "cell_type": "markdown",
   "id": "65697291-4b49-413b-b0cf-6d6c3f01950f",
   "metadata": {},
   "source": [
    "## Explore the structure of the data\n",
    "\n",
    "Let us take a simple example of a text data -- the data 00001.txt --, which is an article of a newspaper already converted to * .txt looking like this:"
   ]
  },
  {
   "cell_type": "markdown",
   "id": "d8e8e9cd-3c43-4c87-93d3-0c5c706b1f64",
   "metadata": {},
   "source": [
    "```\n",
    "F.A.Z., Politik, Samstag, 27.02.2021, S. 4, Nr. 49\n",
    "\n",
    "Meldungen in Kürze\n",
    "\n",
    "Wichtiges in Kürze\n",
    "\n",
    "Schlagabtausch zwischen Brüssel und Caracas\n",
    "\n",
    "Die Europäische Union hat die bei ihr akkreditierte venezolanische\n",
    "Botschafterin zur unerwünschten Person erklärt. Brüssel reagierte damit auf\n",
    "die vorherige Ausweisung der Leiterin der EU-Delegation in Caracas; dieser\n",
    "Schritt sei \"vollkommen ungerechtfertigt\" gewesen, teilte der Rat der EU\n",
    "mit. Der diplomatische Schlagabtausch ist die Folge weiterer Sanktionen,\n",
    "welche die EU am Montag gegen das Regime Maduros verhängt hatte.\n",
    "\n",
    "T.G.\n",
    "\n",
    "\n",
    "© Alle Rechte vorbehalten. Frankfurter Allgemeine Zeitung GmbH, Frankfurt.\n",
    "```"
   ]
  },
  {
   "cell_type": "markdown",
   "id": "2ce77210-2943-466b-9b3c-be64dca87165",
   "metadata": {},
   "source": [
    "Here are the following element which are important for us: \n",
    "\n",
    "  - on the first line, you have the title of the newspaper (F.A.Z), the rubrique in which the article was published (Politik), the day of the publication (Samstag), the complete date of the publication (27.02.2021), the page (S. 4) and the number of the issue (Nr. 49). \n",
    "  - on the two following lines, you have an information about the type of the article (Meldungen, i.e. short article)\n",
    "  - on the third line, you have the title of the article\n",
    "  - on the following lines, you have the content of the article\n",
    "  - on the line with T.G. you have the initials of the journalist having writen this article\n",
    "  - on the last line, you have the copyright attached to this article\n",
    "  \n",
    "If you have a lot of such articles, one of the iformation you want to have is the date of the publication of the article in order to model your data in time. This would be a tag to attach to the name of the data (which is now 00001). Another useful information ist the title of the newspaper (F.A.Z.), enabling to filter your data by newspapers. Another important information could be the name of the author (T.G.). Let us take this three informations as the tags that we would like to embed in the name of our article. How would you do that? One way to do it is to save these tags and to use them to label the filename of the data. For that task, we need the low level utilities included in your distribution, and especially for that case (as well as in general) three program: bash (your shell), awk and sed."
   ]
  },
  {
   "cell_type": "markdown",
   "id": "e6c52934-97ca-42e4-935d-b6c6ca384aef",
   "metadata": {},
   "source": [
    "## First case -- Title of the newspaper\n",
    "\n",
    "In order to get the title of the newspaper (F.A.Z), you should use awk which is a program enabling to retrieve informations columnwise. How do we define a column here, when we look at the first line of our text? We can use the comma separator to identify columns, and in our case, if we say that columns are part of the text separated by a comma, than in the first line of our data, we have six columns. \n",
    "\n",
    "Now, let us tell awk to print for us the first column of the first line of our text:"
   ]
  },
  {
   "cell_type": "code",
   "execution_count": 32,
   "id": "2b541b5c-0bbd-47aa-bf81-9e1f41dbf43b",
   "metadata": {},
   "outputs": [],
   "source": [
    "#!awk -F, NR==1'{ print $1 }' 00001.txt"
   ]
  },
  {
   "cell_type": "markdown",
   "id": "80ad7b52-a60a-4aad-9dcc-80f8134c62d0",
   "metadata": {},
   "source": [
    "Let us explain our code: \n",
    "\n",
    "  - firt, call the awk program\n",
    "  - indicate with -F that we want to take into account separators; in our case, this is a comma, then -F,\n",
    "  - NR means the number of the row to consider, which is the first row in our case, i.e. the first line in the file; thus NR==1\n",
    "  - '{ print $1 }' is what we want awk to do, i.e. print the first column\n",
    "  - 00001.txt is our data\n",
    "  \n",
    "In printing F.A.Z, we do not modify our data, we just output the name of the file on the terminal, which means that we can not use it afterwards. So, if we want to use this tag in order to label our data with it, we have to save the tag to a file. Let us do it:"
   ]
  },
  {
   "cell_type": "code",
   "execution_count": 33,
   "id": "5e057cb2-5fce-4bc5-b0bf-b8db7685261c",
   "metadata": {},
   "outputs": [],
   "source": [
    "#!awk -F, NR==1'{ print $1 }' 00001.txt > titletag.txt"
   ]
  },
  {
   "cell_type": "markdown",
   "id": "c2ee9570-406d-425d-835c-a568f15ca79b",
   "metadata": {},
   "source": [
    "We are using the '>' (redirect) operator in order to redirect the output to a file, instead of printing it on the terminal. This way, we can save the tag to file in order to use it later."
   ]
  },
  {
   "cell_type": "markdown",
   "id": "35e3324b-6638-4a62-a06f-fab72f33fa2b",
   "metadata": {},
   "source": [
    "## Your turn\n",
    "\n",
    "Use awk to save a tag informing about the rubrique in which the article has been published"
   ]
  },
  {
   "cell_type": "markdown",
   "id": "c2bfda70-e0f3-4a46-9bf4-f895c0216cc8",
   "metadata": {},
   "source": [
    "## Second case -- Multiple tags and multiple files\n",
    "\n",
    "We don't need to pass the tag one after the other to awk, we can create them all together using a script as we have seen in our third lecture. Let us f.ex. take the columns of the title of the newspaper and the date of the newspaper, saving them in their tag-file:"
   ]
  },
  {
   "cell_type": "code",
   "execution_count": 34,
   "id": "3bb53c52-3cee-4888-8b62-120208ba91b4",
   "metadata": {},
   "outputs": [],
   "source": [
    "#!/bin/sh\n",
    "#awk -F, NR==1'{ print $1 }' 00001.txt > titletag.txt\n",
    "#awk -F, NR==1'{ print $4 }' 00001.txt > datetag.txt"
   ]
  },
  {
   "cell_type": "markdown",
   "id": "1eb41b1b-4ec2-4cf6-9bde-92e1ce2feed9",
   "metadata": {},
   "source": [
    "Don't forget to make the script executable, and run it (see our third lecture). Now you have two tag-files, the first one with the title of the newspaper, and the second one with the date of the newspaper. But what if we have several file? In our third lecture, we have seen that you could make a for loop in order to take the appropriate tags from all the files you have in your folder. Let us do it for the title and the date tags for our 00001.txt and our 00002.txt files:"
   ]
  },
  {
   "cell_type": "code",
   "execution_count": 35,
   "id": "6ba6b45e-cb1a-4031-9a17-2afb4b96419c",
   "metadata": {},
   "outputs": [],
   "source": [
    "#!/bin/sh\n",
    "# for i in *.txt; do awk -F, NR==1'{ print $1 }' \"$i\" >> titletag.txt; done\n",
    "# for i in *.txt; do awk -F, NR==1'{ print $4 }' \"$i\" >> datetag.txt; done"
   ]
  },
  {
   "cell_type": "markdown",
   "id": "6c5bca7a-5ff3-4571-85a0-8a0396be8843",
   "metadata": {},
   "source": [
    "If you run this script, you will see that you get the following content: "
   ]
  },
  {
   "cell_type": "markdown",
   "id": "e3e7a0b4-684a-4cc3-973d-ba4da333c889",
   "metadata": {},
   "source": [
    "file titletag.txt: \n",
    "\n",
    "```\n",
    "F.A.Z.\n",
    "F.A.Z.\n",
    "```\n",
    "\n",
    "file datetag.txt:\n",
    "\n",
    "```\n",
    " 27.02.2021\n",
    " 27.02.2021\n",
    "```\n",
    "\n",
    "Your script has saved the tags in a column, the first line corresponding to our first file 00001.txt, the second line corresponding to our second file 00002.txt. You can also observe, that in the titletag.txt, the tags are against the left border of the document, whereas in the datetag.txt, the tags are separated with a blank space from the border of the document. This is an important observation, and we will see below why.\n",
    "\n",
    "## Your turn\n",
    "\n",
    "If you read our script carefully, you will see that instead of using one redirect operator, we are using here two redirect operators (>>). Why do we do so? In order to answer the question, remove one of the operator and see what is happening. Explain why you have this result."
   ]
  },
  {
   "cell_type": "markdown",
   "id": "e1dab18e-1ce1-4837-9560-62ff197572a6",
   "metadata": {},
   "source": [
    "## Use your tags to label the filename of your data\n",
    "\n",
    "A first important observation here is that we have the same tags for different files. Therefore, it is important to keep the original filename in the new filename we want to create with our tags. \n",
    "\n",
    "A second important observation regards the _order_ of the tags in our filename. For example, MTA enables longitudinal modelling of text data, and for that, MTA picks up the date if it is _at the very begining_ of your filename. So, the date-tag has to placed before everything else in order for us later to be able to use our data for the modelling in time. \n",
    "\n",
    "A third important observation regards the _format_ of our tags. For exemple, MTA needs that your date-tag as the following format: Year-Month-Day. Here, the dash ('-') separator is important for MTA in order to recognize your date as it is. \n",
    "\n",
    "Therefore, we have first to rework our datetag.txt file in two ways: \n",
    "\n",
    "  - first, change the order of the date\n",
    "  - second, separate year, month, day with a dash\n",
    "\n",
    "### Rework the datetag.txt file\n",
    "\n",
    "For this operation, we can use awk again which is best at performing operations on columns. We would have three columns in our lines, namely day, month and year separated by a dot. We instruct awk to change this, at the moment only outputing its result on the terminal: "
   ]
  },
  {
   "cell_type": "code",
   "execution_count": 36,
   "id": "e0bc0d1f-a9e1-4b4d-9918-c634574abdc6",
   "metadata": {},
   "outputs": [],
   "source": [
    "#!awk -F. '{ print $3\"-\"$2\"-\"$1 }' datetag.txt"
   ]
  },
  {
   "cell_type": "markdown",
   "id": "ceddb490-216d-4dff-b62d-87b8d80e13fd",
   "metadata": {},
   "source": [
    "If you run this program, you will see this result: \n",
    "\n",
    "```\n",
    "2021-02- 27\n",
    "2021-02- 27\n",
    "```\n",
    "As you can see, the blank space that we had between the left border of the file and our tag remains here. We have to delete it in order to have the date of the files as we wanted it. For this task, sed is a useful program because it acts on lines. With sed, we can use the following expression to get rid of the blank spaces -- at the moment without changing our datetag file:"
   ]
  },
  {
   "cell_type": "code",
   "execution_count": 37,
   "id": "962a0b9b-f80b-47a6-b87a-59de48537125",
   "metadata": {},
   "outputs": [],
   "source": [
    "#!sed 's/ //' datetag.txt"
   ]
  },
  {
   "cell_type": "markdown",
   "id": "11ec5367-bafa-4db9-aa4e-4e60edf35d01",
   "metadata": {},
   "source": [
    "If you run this program, you will see this result:\n",
    "\n",
    "```\n",
    "27.02.2021\n",
    "27.02.2021\n",
    "```\n",
    "\n",
    "There is no space anymore between the left border of the file and the dates. With the expression '/ //', we have told sed to remove the blank spaces in the file, i.e. actually to replace blank spaces (the / /) with 'no spaces at all' (the //) . We can then transform our datetag file using this two programs like this:"
   ]
  },
  {
   "cell_type": "code",
   "execution_count": 38,
   "id": "7542b88f-4c29-43fc-bf64-8d21c9668a27",
   "metadata": {},
   "outputs": [],
   "source": [
    "#!sed 's/ //' datetag.txt > datetag-sed.txt\n",
    "#!awk -F. '{ print $3\"-\"$2\"-\"$1 }' datetag-sed.txt > datetag-2.txt"
   ]
  },
  {
   "cell_type": "markdown",
   "id": "b119801a-a041-40aa-a335-120fd62a6cda",
   "metadata": {},
   "source": [
    "Now, if you look at the content of datetag-2.txt, you will see the following wanted result: \n",
    "\n",
    "```\n",
    "2021-02-27\n",
    "2021-02-27\n",
    "```\n",
    "\n",
    "In Linux, you even don't need to execute to run on the datetag-2.txt, one with awk, and the second run with sed. You can channel the program with a simple pipe ('|') like this:"
   ]
  },
  {
   "cell_type": "code",
   "execution_count": 39,
   "id": "eefdb032-3da0-4db8-a1b8-4d25d718f935",
   "metadata": {},
   "outputs": [],
   "source": [
    "#!sed 's/ //' datetag.txt | awk -F. '{ print $3\"-\"$2\"-\"$1 }' > datetag-2.txt"
   ]
  },
  {
   "cell_type": "markdown",
   "id": "e3db4607-143c-4e35-8ac3-b5badf786e43",
   "metadata": {},
   "source": [
    "With this channel, you avoid to create a datetag-sed.txt file that you don't really need for your further operations.\n",
    "\n",
    "### Tag your filenames\n",
    "\n",
    "We have now three types of files: \n",
    "\n",
    "  - our data in original: 00001.txt and 00002.txt\n",
    "  - our titletag.txt file to tag our original files with the title of the newspapers\n",
    "  - our datetag-2.txt file with our new correct dates to tag our original files with the date of the publication\n",
    "  \n",
    "The first thing to do here is to create a file containing the names of our original data (00001.txt and 00002.txt) that we want to change in order for them to be named like this:\n",
    "\n",
    "  - 00001.txt: changed to 2021-02-27F.A.Z.00001.txt\n",
    "  - 00002.txt: changed to 2021-02-27F.A.Z.00002.txt\n",
    "  \n",
    "With these new names, we can always identify our original file, and we have provided two tags to differenciate them regarding their publication date, and the newspaper in which they have been published. Let us first create a third file containing the names of our original data. For that purpose, we are using the list function of our shell like this: "
   ]
  },
  {
   "cell_type": "code",
   "execution_count": 40,
   "id": "768bb68a-4f8d-4e4b-8c29-2ab201fce7c8",
   "metadata": {},
   "outputs": [],
   "source": [
    "#! ls 0*.txt"
   ]
  },
  {
   "cell_type": "markdown",
   "id": "a28f9b9a-610c-4518-b723-00af55e4aab7",
   "metadata": {},
   "source": [
    "If you run this command, you will get only the txt files beginning with a '0'. As our other files are not beginning with a '0', this is a safe mean to get all original data by their names in one file. You just add a redirect operator to that command and a new file name in order to get your result, like this: "
   ]
  },
  {
   "cell_type": "code",
   "execution_count": 41,
   "id": "8cc355e1-7ca6-4962-853c-55e4e7e0712a",
   "metadata": {},
   "outputs": [],
   "source": [
    "#! ls 0*.txt > names.txt"
   ]
  },
  {
   "cell_type": "markdown",
   "id": "32486d3b-1c95-4059-afa6-82ff805166f5",
   "metadata": {},
   "source": [
    "If you open the new created file 'names.txt', then you will see the following content: "
   ]
  },
  {
   "cell_type": "markdown",
   "id": "1c35d5a5-5f20-4b6d-8f49-85737c0798fe",
   "metadata": {},
   "source": [
    "```\n",
    "00001.txt\n",
    "00002.txt\n",
    "```\n",
    "\n",
    "That is what we want. Now, we can paste into this file the content of your tag-files with: \n",
    "\n",
    "  1. at first the content of the datetag-2 file, \n",
    "  2. second the content of our titletag file,\n",
    "  3. third, again, the list of our original data.\n",
    "  \n",
    "In order to do this, we use the 'paste' program and we redirect its output to a new file namesdate.txt, like this:"
   ]
  },
  {
   "cell_type": "code",
   "execution_count": 42,
   "id": "18a1ab97-2c8b-4161-9677-04c246d612ca",
   "metadata": {},
   "outputs": [],
   "source": [
    "#!paste -d' ' names.txt datetag-2.txt > namesdate.txt"
   ]
  },
  {
   "cell_type": "markdown",
   "id": "e52b54f0-470e-4850-9ff5-6038b0cde42c",
   "metadata": {},
   "source": [
    "After this first paste, you will get this result: \n",
    "\n",
    "```\n",
    "00001.txt 2021-02-27\n",
    "00002.txt 2021-02-27\n",
    "```\n",
    "\n",
    "Now let us add the title of the newspaper:"
   ]
  },
  {
   "cell_type": "code",
   "execution_count": 43,
   "id": "12cf45bb-2dad-47e4-b100-d0d38b1b8203",
   "metadata": {},
   "outputs": [],
   "source": [
    "#!paste -d'-' namesdate.txt titletag.txt > namesdatetitle.txt"
   ]
  },
  {
   "cell_type": "markdown",
   "id": "5b98b85a-1abd-4c99-b71c-1ffe17a0f810",
   "metadata": {},
   "source": [
    "Finally, let us add again the names of our orinal file:"
   ]
  },
  {
   "cell_type": "code",
   "execution_count": 44,
   "id": "f66757c1-5f14-483f-a559-b5cd6925737a",
   "metadata": {},
   "outputs": [],
   "source": [
    "#!paste -d'-' namesdatetitle.txt names.txt > almostfinal.txt"
   ]
  },
  {
   "cell_type": "markdown",
   "id": "5cbdd293-b463-44f1-9a5c-0b870e1f3d5f",
   "metadata": {},
   "source": [
    "We are almost ready with the renaming of our original data with our tags, we only have to actually do the rename of our original data into the taged data. In order to do that, we need the shell 'mv' utility which enable to rename files. 'mv' has to be placed before each lines of your file -- because we are working on lines, we know from this lecture that we have to use the sed program in order to do this. The structure of the program follows these rules: \n",
    "\n",
    "  - sed 's/^/mv /' almostfinal.txt -- or in detail:\n",
    "    1. call sed\n",
    "    2. tell sed to focuse the beginning of each line: /^/\n",
    "    3. tell sed to replace the beginning of each line with the mv command: /^/mv/\n",
    "    4. tell sed to make a blank space after mv: /^/mv /\n",
    "    5. tell sed to operate on our almostfinal.txt file: /^/mv / almostfinal.txt\n",
    "    \n",
    "Now, we run our sed command to perform the renaming of our original files, and we redirect its output to a new file final.txt: "
   ]
  },
  {
   "cell_type": "code",
   "execution_count": 45,
   "id": "88148968-e2cd-4bab-ae13-369dd37c229e",
   "metadata": {},
   "outputs": [],
   "source": [
    "#!sed 's/^/mv /' almostfinal.txt > final.txt"
   ]
  },
  {
   "cell_type": "markdown",
   "id": "344d03f3-97cb-4fc4-9336-38aa66b5c1c7",
   "metadata": {},
   "source": [
    "In you new final.txt file, you have all you need to rename all your original files into tagged files, with useful informations for sorting the results of your modelling. This is also useful if you have f.ex. different newspaper -- you could save the file corredsponding to the newspapers in different directories and model them separately to compare the models that you would get. You can do the same for specific times -- f.ex. for given years. \n",
    "\n",
    "In other words, tags help you to design your methodology, and your methodology in its design directly depend on the way you organise your data into databanks. "
   ]
  },
  {
   "cell_type": "markdown",
   "id": "7903653b-7ca5-4a00-9139-52b885a933e1",
   "metadata": {},
   "source": [
    "## Your turn\n",
    "\n",
    "If you remember our third lecture, at the moment the file final.txt is only a text file, and not a script. In order to perform the renaming of your file, you need to make this text file a script. Look at our third lecture and make it a script. Then, run this script to get the wanted results."
   ]
  }
 ],
 "metadata": {
  "kernelspec": {
   "display_name": "Python 3",
   "language": "python",
   "name": "python3"
  },
  "language_info": {
   "codemirror_mode": {
    "name": "ipython",
    "version": 3
   },
   "file_extension": ".py",
   "mimetype": "text/x-python",
   "name": "python",
   "nbconvert_exporter": "python",
   "pygments_lexer": "ipython3",
   "version": "3.6.9"
  },
  "widgets": {
   "application/vnd.jupyter.widget-state+json": {
    "state": {},
    "version_major": 2,
    "version_minor": 0
   }
  }
 },
 "nbformat": 4,
 "nbformat_minor": 5
}
