{
 "cells": [
  {
   "cell_type": "markdown",
   "id": "2136ad33-67b6-457a-ad2a-94da672a9988",
   "metadata": {},
   "source": [
    "## Parse your data the way you want\n",
    "\n",
    "Data parsing is a more advanced topic, and it is a very important step in the pre-processing of your data, because it enables you to clean up your data, i.e. to remove informations that you don't need for you modelling from the content of the data, or that could impoverish the modelling of your data if you keep them. Let us come back to the theory of the modelling of qualitative data. \n",
    "\n",
    "The main difference with other  "
   ]
  }
 ],
 "metadata": {
  "kernelspec": {
   "display_name": "Python 3 (ipykernel)",
   "language": "python",
   "name": "python3"
  },
  "language_info": {
   "codemirror_mode": {
    "name": "ipython",
    "version": 3
   },
   "file_extension": ".py",
   "mimetype": "text/x-python",
   "name": "python",
   "nbconvert_exporter": "python",
   "pygments_lexer": "ipython3",
   "version": "3.8.10"
  },
  "widgets": {
   "application/vnd.jupyter.widget-state+json": {
    "state": {},
    "version_major": 2,
    "version_minor": 0
   }
  }
 },
 "nbformat": 4,
 "nbformat_minor": 5
}
